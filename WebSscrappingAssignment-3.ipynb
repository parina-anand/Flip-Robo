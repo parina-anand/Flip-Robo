{
 "cells": [
  {
   "cell_type": "markdown",
   "metadata": {},
   "source": [
    "__1. Write a python program which searches all the product under a particular product vertical\n",
    "from www.amazon.in. The product verticals to be searched will be taken as input from user.__\n"
   ]
  },
  {
   "cell_type": "code",
   "execution_count": 9,
   "metadata": {},
   "outputs": [],
   "source": [
    "import pandas as pd\n",
    "import selenium\n",
    "from selenium import webdriver\n",
    "import time\n",
    "from selenium.common.exceptions import StaleElementReferenceException, NoSuchElementException"
   ]
  },
  {
   "cell_type": "code",
   "execution_count": 10,
   "metadata": {},
   "outputs": [],
   "source": [
    "# activating the chrome browser\n",
    "driver = webdriver.Chrome(r\"C:\\Users\\parin\\Downloads\\chromedriver_win32\\chromedriver.exe\")"
   ]
  },
  {
   "cell_type": "code",
   "execution_count": 11,
   "metadata": {},
   "outputs": [],
   "source": [
    "# opening homepage of Amazon\n",
    "url = \"https://www.amazon.in/\"\n",
    "driver.get(url)"
   ]
  },
  {
   "cell_type": "code",
   "execution_count": 12,
   "metadata": {},
   "outputs": [
    {
     "name": "stdout",
     "output_type": "stream",
     "text": [
      "Enter the product to be searched : washing machines\n"
     ]
    }
   ],
   "source": [
    "# locating search_bar by id\n",
    "searchFor = input('Enter the product to be searched : ')\n",
    "search_bar = driver.find_element_by_id(\"twotabsearchtextbox\")\n",
    "search_bar.send_keys(searchFor)"
   ]
  },
  {
   "cell_type": "code",
   "execution_count": 13,
   "metadata": {},
   "outputs": [],
   "source": [
    "# locating search button and click to start search\n",
    "search_button = driver.find_element_by_xpath('//div[@class=\"nav-search-submit nav-sprite\"]/span/input')\n",
    "search_button.click()"
   ]
  },
  {
   "cell_type": "markdown",
   "metadata": {},
   "source": [
    "__2. . In the above question, now scrape the following details of each product listed in first 3 pages\n",
    "of your search results and save it in a data frame and csv. In case if any product vertical has\n",
    "less than 3 pages in search results then scrape all the products available under that product\n",
    "vertical. Details to be scraped are: \"Brand Name\", \"Name of the Product\", \"Rating\", \"No. of\n",
    "Ratings\", \"Price\", \"Return/Exchange\", \"Expected Delivery\", \"Availability\", \"Other Details\"\n",
    "and “Product URL”. In case, if any of the details are missing for any of the product then\n",
    "replace it by “-“.__"
   ]
  },
  {
   "cell_type": "code",
   "execution_count": 14,
   "metadata": {},
   "outputs": [],
   "source": [
    "brandName= []\n",
    "\n",
    "ratings=[]\n",
    "\n",
    "\n",
    "Return=[]\n",
    "\n",
    "Availability=[]\n",
    "otherDetails=[]\n"
   ]
  },
  {
   "cell_type": "code",
   "execution_count": 15,
   "metadata": {},
   "outputs": [
    {
     "data": {
      "text/plain": [
       "['Amazon Basics 6.5 Kg Fully Automatic Top Loading Washing Machine, Grey',\n",
       " 'Samsung 6.5 kg Fully-Automatic Top Loading Washing Machine (WA65A4002VS/TL, Imperial Silver, Center Jet Technology)',\n",
       " 'Samsung 6.5 kg Fully-Automatic Top Loading Washing Machine (WA65A4002VS/TL, Imperial Silver, Center Jet Technology)',\n",
       " 'Whirlpool 7 Kg 5 Star Semi-Automatic Top Loading Washing Machine (SUPERB ATOM 7.0, Grey Dazzle, TurboScrub Technology)',\n",
       " 'Whirlpool 7 Kg 5 Star Royal Fully-Automatic Top Loading Washing Machine (WHITEMAGIC ROYAL 7.0 GENX, Grey, Hard Water Wash)',\n",
       " 'Whirlpool 6.5 Kg 5 Star Fully-Automatic Top Loading Washing Machine with In-Built Heater (STAINWASH PRO H 6.5, Shiny Grey)',\n",
       " 'Samsung 6.5 Kg Inverter Fully-Automatic Top Loading Washing Machine (WA65T4262GG/TL, Light Grey,wobble technology)',\n",
       " 'Samsung 7.2 kg Semi-Automatic Top Loading Washing Machine (WT725QPNDMPXTL, White and Blue, Center Jet Pulsator)',\n",
       " 'LG 7 Kg 4 Star Semi-Automatic Top Loading Washing Machine (P7020NGAY, Dark Gray, Collar scrubber)',\n",
       " 'Intex 6.2 kg Semi-Automatic Top Loading Washing Machine (WMS62TL, White and Maroon)',\n",
       " 'Whirlpool 7.2 Kg Semi-Automatic Top Loading Washing Machine (ACE SUPREME PLUS 7.2, Coral Red, Ace Wash Station)',\n",
       " 'Samsung 7 Kg Inverter Fully-Automatic Top Loading Washing Machine (WA70T4262GS/TL, Imperial Silver,wobble technology)',\n",
       " 'Samsung 6.5 kg Semi-Automatic 5 Star Top Loading Washing Machine (WT667QPNDPGXTL, White and Maroon, Double Storm Pulsator)',\n",
       " 'Panasonic 6.5 kg 5 Star Semi-Automatic Top Loading Washing Machine (NA-W65E5ARB, Blue, Powerful Motor)',\n",
       " 'LG 7 kg Semi-Automatic Top Loading Washing Machine (P7010RRAA, Burgundy)',\n",
       " 'Amazon Basics 7 Kg Fully Automatic Top Loading Washing Machine, Grey',\n",
       " 'Onida 6.5 kg Washer Only (WS65WLPT1LR Liliput, Lava Red)',\n",
       " 'LG 6.5 Kg 4 Star Semi-Automatic Top Loading Washing Machine (P6510NBAY, Dark Blue, Rat Away Technology)',\n",
       " 'Amazon Basics 6 Kg Fully Automatic Top Loading Washing Machine, Grey',\n",
       " 'Oracus 7 Kg Semi-Automatic Top Loading Washing Machine (OSW70RR, Ruby Red)',\n",
       " 'PUJI Anti Vibration Pads with Suction Cup, 4 Pcs Washing Machine Dryer Refrigerator Shock Absorber Leveling Feet Anti Walk Pads, Moistureproof Bathroom Furniture Lifting Base',\n",
       " 'Godrej 6.2 Kg Fully-Automatic Top Loading Washing Machine (WT EON 620 A Gp Gr, Grey)',\n",
       " 'Panasonic 6 Kg 5 Star Fully-Automatic Top Loading Washing Machine (NA-F60LF1HRB, Grey)']"
      ]
     },
     "execution_count": 15,
     "metadata": {},
     "output_type": "execute_result"
    }
   ],
   "source": [
    "# Brand and Productname\n",
    "\n",
    "prod = driver.find_elements_by_xpath('//span[@class=\"a-size-medium a-color-base a-text-normal\"]')\n",
    "nameOfProduct=[]\n",
    "for i in prod:\n",
    "    nameOfProduct.append(i.text.replace(\"\\n\",\"\"))\n",
    "nameOfProduct"
   ]
  },
  {
   "cell_type": "code",
   "execution_count": 18,
   "metadata": {},
   "outputs": [
    {
     "data": {
      "text/plain": [
       "[<selenium.webdriver.remote.webelement.WebElement (session=\"adc9b49e8692b72c520feb185c933dc0\", element=\"191922b5-24d8-4ead-b5d8-c7432fa767fb\")>,\n",
       " <selenium.webdriver.remote.webelement.WebElement (session=\"adc9b49e8692b72c520feb185c933dc0\", element=\"4c496e67-289c-4195-a8c0-5c179d590bef\")>,\n",
       " <selenium.webdriver.remote.webelement.WebElement (session=\"adc9b49e8692b72c520feb185c933dc0\", element=\"e583d671-2511-4b79-b5dc-aade9a9355c0\")>,\n",
       " <selenium.webdriver.remote.webelement.WebElement (session=\"adc9b49e8692b72c520feb185c933dc0\", element=\"1e55ba1c-4dfd-4738-9259-e442b6abd034\")>,\n",
       " <selenium.webdriver.remote.webelement.WebElement (session=\"adc9b49e8692b72c520feb185c933dc0\", element=\"d392a9cd-df8b-4354-b07b-29ada2036102\")>,\n",
       " <selenium.webdriver.remote.webelement.WebElement (session=\"adc9b49e8692b72c520feb185c933dc0\", element=\"8478fa2e-5c73-4cc5-bf64-8e15e1380d2b\")>,\n",
       " <selenium.webdriver.remote.webelement.WebElement (session=\"adc9b49e8692b72c520feb185c933dc0\", element=\"1a7f339c-2b3c-4814-afe8-41c93681eab7\")>,\n",
       " <selenium.webdriver.remote.webelement.WebElement (session=\"adc9b49e8692b72c520feb185c933dc0\", element=\"6eb9e0d9-b212-49f2-a878-e6e933a34153\")>,\n",
       " <selenium.webdriver.remote.webelement.WebElement (session=\"adc9b49e8692b72c520feb185c933dc0\", element=\"c5b014fb-0716-4a7b-9aee-2ad2e487c453\")>,\n",
       " <selenium.webdriver.remote.webelement.WebElement (session=\"adc9b49e8692b72c520feb185c933dc0\", element=\"dd1f3f07-2541-4235-8ad4-34ee657649ca\")>,\n",
       " <selenium.webdriver.remote.webelement.WebElement (session=\"adc9b49e8692b72c520feb185c933dc0\", element=\"47fc449b-31bf-4da5-ac03-f7dd5332182f\")>,\n",
       " <selenium.webdriver.remote.webelement.WebElement (session=\"adc9b49e8692b72c520feb185c933dc0\", element=\"e6b223d0-b3e9-4c2a-bdf2-67858789e9ca\")>,\n",
       " <selenium.webdriver.remote.webelement.WebElement (session=\"adc9b49e8692b72c520feb185c933dc0\", element=\"cf7f3e08-30d4-443e-8fb4-7cc989f6b9ad\")>,\n",
       " <selenium.webdriver.remote.webelement.WebElement (session=\"adc9b49e8692b72c520feb185c933dc0\", element=\"e7c8c446-1a40-40a7-9a5d-5e1afd19a550\")>,\n",
       " <selenium.webdriver.remote.webelement.WebElement (session=\"adc9b49e8692b72c520feb185c933dc0\", element=\"28922163-dc9b-4943-a5e5-0be3a627e777\")>,\n",
       " <selenium.webdriver.remote.webelement.WebElement (session=\"adc9b49e8692b72c520feb185c933dc0\", element=\"1aa3bdba-56ab-40b9-aa5d-10cf4563085a\")>,\n",
       " <selenium.webdriver.remote.webelement.WebElement (session=\"adc9b49e8692b72c520feb185c933dc0\", element=\"36a04122-3e55-4cf3-a091-5f8c620deed4\")>,\n",
       " <selenium.webdriver.remote.webelement.WebElement (session=\"adc9b49e8692b72c520feb185c933dc0\", element=\"74da856b-7275-4ed8-a0b4-9237c8698a80\")>,\n",
       " <selenium.webdriver.remote.webelement.WebElement (session=\"adc9b49e8692b72c520feb185c933dc0\", element=\"fe77d67b-bf97-47a7-b091-352ac9cad504\")>,\n",
       " <selenium.webdriver.remote.webelement.WebElement (session=\"adc9b49e8692b72c520feb185c933dc0\", element=\"4f63885d-2031-4f9f-9878-b244418b36b1\")>,\n",
       " <selenium.webdriver.remote.webelement.WebElement (session=\"adc9b49e8692b72c520feb185c933dc0\", element=\"3c0fabf7-fed4-4fb7-a79d-8f485ca19bd0\")>,\n",
       " <selenium.webdriver.remote.webelement.WebElement (session=\"adc9b49e8692b72c520feb185c933dc0\", element=\"122934e1-e38e-4232-8a9b-b43769f534ac\")>,\n",
       " <selenium.webdriver.remote.webelement.WebElement (session=\"adc9b49e8692b72c520feb185c933dc0\", element=\"ae4c99b1-0589-48d1-8624-18d5c25ea553\")>,\n",
       " <selenium.webdriver.remote.webelement.WebElement (session=\"adc9b49e8692b72c520feb185c933dc0\", element=\"a14f572a-5a74-488c-80e5-798da5da5196\")>,\n",
       " <selenium.webdriver.remote.webelement.WebElement (session=\"adc9b49e8692b72c520feb185c933dc0\", element=\"a79ff116-669f-4a93-9391-ebb4975d4b2a\")>,\n",
       " <selenium.webdriver.remote.webelement.WebElement (session=\"adc9b49e8692b72c520feb185c933dc0\", element=\"d74a1490-a44b-4513-903b-3a4840ae2362\")>,\n",
       " <selenium.webdriver.remote.webelement.WebElement (session=\"adc9b49e8692b72c520feb185c933dc0\", element=\"a7017f97-00cc-4562-adc9-f45453db2793\")>,\n",
       " <selenium.webdriver.remote.webelement.WebElement (session=\"adc9b49e8692b72c520feb185c933dc0\", element=\"07fa1015-ccb4-438a-a6c1-18ab55ee4359\")>,\n",
       " <selenium.webdriver.remote.webelement.WebElement (session=\"adc9b49e8692b72c520feb185c933dc0\", element=\"13aa1408-ae9c-4bb7-858f-d1fe5b1ff106\")>,\n",
       " <selenium.webdriver.remote.webelement.WebElement (session=\"adc9b49e8692b72c520feb185c933dc0\", element=\"79298ad9-2b67-4d90-8126-a4f49f62c973\")>,\n",
       " '10,499',\n",
       " '14,190',\n",
       " '14,190',\n",
       " '10,490',\n",
       " '15,490',\n",
       " '20,240',\n",
       " '12,200',\n",
       " '14,990',\n",
       " '37,990',\n",
       " '18,990',\n",
       " '31,990',\n",
       " '',\n",
       " '',\n",
       " '15,990',\n",
       " '9,990',\n",
       " '11,490',\n",
       " '8,000',\n",
       " '10,606',\n",
       " '18,490',\n",
       " '9,490',\n",
       " '8,990',\n",
       " '11,490',\n",
       " '10,999',\n",
       " '5,399',\n",
       " '10,190',\n",
       " '9,999',\n",
       " '7,399',\n",
       " '379',\n",
       " '12,490',\n",
       " '13,490']"
      ]
     },
     "execution_count": 18,
     "metadata": {},
     "output_type": "execute_result"
    }
   ],
   "source": [
    "# price\n",
    "prices=[]\n",
    "price = driver.find_elements_by_xpath('//span[@class=\"a-price-whole\"]')\n",
    "\n",
    "for i in price:\n",
    "    prices.append(i.text)\n",
    "prices"
   ]
  },
  {
   "cell_type": "code",
   "execution_count": 26,
   "metadata": {},
   "outputs": [
    {
     "data": {
      "text/plain": [
       "['1',\n",
       " '20,289',\n",
       " '20,289',\n",
       " '6,370',\n",
       " '122',\n",
       " '433',\n",
       " '119',\n",
       " '851',\n",
       " '',\n",
       " '540',\n",
       " '791',\n",
       " '396',\n",
       " '',\n",
       " '',\n",
       " '913',\n",
       " '2,375',\n",
       " '1,349',\n",
       " '2,112',\n",
       " '1,692',\n",
       " '913',\n",
       " '1,577',\n",
       " '772',\n",
       " '1,099',\n",
       " '1',\n",
       " '3,128',\n",
       " '1,979',\n",
       " '1',\n",
       " '7',\n",
       " '4',\n",
       " '2,161',\n",
       " '1,356']"
      ]
     },
     "execution_count": 26,
     "metadata": {},
     "output_type": "execute_result"
    }
   ],
   "source": [
    "# Number of rating\n",
    "numberOfRating=[]\n",
    "NoRating = driver.find_elements_by_xpath('//span[@class=\"a-size-base\"]')\n",
    "\n",
    "for i in NoRating:\n",
    "    numberOfRating.append(i.text.replace(\"\\n\",\"\"))\n",
    "\n",
    "numberOfRating"
   ]
  },
  {
   "cell_type": "code",
   "execution_count": 27,
   "metadata": {},
   "outputs": [
    {
     "data": {
      "text/plain": [
       "['Tue, 27 Jul, 7:00 am - 9:00 pm',\n",
       " 'Tue, 27 Jul, 7:00 am - 9:00 pm',\n",
       " 'Tue, 27 Jul, 7:00 am - 9:00 pm',\n",
       " 'Tue, 27 Jul, 7:00 am - 9:00 pm',\n",
       " 'Tue, 27 Jul, 7:00 am - 9:00 pm',\n",
       " 'Tue, 27 Jul, 7:00 am - 9:00 pm',\n",
       " 'Tue, 27 Jul, 7:00 am - 9:00 pm',\n",
       " 'Tue, 27 Jul, 7:00 am - 9:00 pm',\n",
       " 'Tue, 27 Jul, 7:00 am - 9:00 pm',\n",
       " 'Tue, 27 Jul, 7:00 am - 9:00 pm',\n",
       " 'Tue, 27 Jul, 7:00 am - 9:00 pm',\n",
       " 'Tue, 27 Jul, 7:00 am - 9:00 pm',\n",
       " 'Tue, 27 Jul, 7:00 am - 9:00 pm',\n",
       " 'Tue, 27 Jul, 7:00 am - 9:00 pm',\n",
       " 'Tue, 27 Jul, 7:00 am - 9:00 pm',\n",
       " 'Tue, 27 Jul, 7:00 am - 9:00 pm',\n",
       " 'Tue, 27 Jul, 7:00 am - 9:00 pm',\n",
       " 'Tue, 27 Jul, 7:00 am - 9:00 pm',\n",
       " 'Tue, 27 Jul, 7:00 am - 9:00 pm',\n",
       " 'Tue, 27 Jul, 7:00 am - 9:00 pm',\n",
       " 'Friday, July 30',\n",
       " 'Tue, 27 Jul, 7:00 am - 9:00 pm',\n",
       " 'Tue, 27 Jul, 7:00 am - 9:00 pm']"
      ]
     },
     "execution_count": 27,
     "metadata": {},
     "output_type": "execute_result"
    }
   ],
   "source": [
    "\n",
    "# expected delivery\n",
    "expectedDel=[]\n",
    "deli = driver.find_elements_by_xpath('//span[@class=\"a-text-bold\"]')\n",
    "\n",
    "for i in deli:\n",
    "    expectedDel.append(i.text)\n",
    "expectedDel"
   ]
  },
  {
   "cell_type": "code",
   "execution_count": 25,
   "metadata": {},
   "outputs": [
    {
     "data": {
      "text/plain": [
       "['https://m.media-amazon.com/images/I/51rG6Q6C-jS._AC_UY218_.jpg',\n",
       " 'https://m.media-amazon.com/images/I/51QmQjHQASL._AC_UY218_.jpg',\n",
       " 'https://m.media-amazon.com/images/I/51QmQjHQASL._AC_UY218_.jpg',\n",
       " 'https://m.media-amazon.com/images/I/81Qqj2C2RzL._AC_UY218_.jpg',\n",
       " 'https://m.media-amazon.com/images/I/61j25i+2K7L._AC_UY218_.jpg',\n",
       " 'https://images-eu.ssl-images-amazon.com/images/S/amazon-avatars-global/777002fa-4253-41f0-a7e8-30db48825e28._CR0,0,500,500_SX50_._TTW_.jpg',\n",
       " 'https://m.media-amazon.com/images/I/815T7SwcWfL._AC_UL320_.jpg',\n",
       " 'https://m.media-amazon.com/images/I/713Pw4P8qwL._AC_UL320_.jpg',\n",
       " 'https://m.media-amazon.com/images/I/51-aWIcS4iS._AC_UL320_.jpg',\n",
       " 'https://m.media-amazon.com/images/I/81x68FHUBhL._AC_UL320_.jpg',\n",
       " 'https://m.media-amazon.com/images/I/81CKlLPbDIL._AC_UL320_.jpg',\n",
       " 'https://m.media-amazon.com/images/I/810-NkbN1OL._AC_UL320_.jpg',\n",
       " 'https://m.media-amazon.com/images/I/61LswQ5hZAL._AC_UL320_.jpg',\n",
       " 'https://m.media-amazon.com/images/I/71pVSyDJD9L._AC_UL320_.jpg',\n",
       " 'https://m.media-amazon.com/images/I/51sojthPECL._AC_UY218_.jpg',\n",
       " 'https://m.media-amazon.com/images/I/61c0iROGjaL._AC_UY218_.jpg',\n",
       " 'https://m.media-amazon.com/images/I/615I9e-7maL._AC_UY218_.jpg',\n",
       " 'https://m.media-amazon.com/images/I/91mRu98fVjL._AC_UY218_.jpg',\n",
       " 'https://m.media-amazon.com/images/I/61LswQ5hZAL._AC_UY218_.jpg',\n",
       " 'https://m.media-amazon.com/images/I/5118jpXgozL._AC_UY218_.jpg',\n",
       " 'https://m.media-amazon.com/images/I/61wzb+5A65L._AC_UY218_.jpg',\n",
       " 'https://m.media-amazon.com/images/I/61Lt1nXUF2L._AC_UY218_.jpg',\n",
       " 'https://m.media-amazon.com/images/I/61FI1iqZkML._AC_UY218_.jpg',\n",
       " 'https://m.media-amazon.com/images/I/51rG6Q6C-jS._AC_UY218_.jpg',\n",
       " 'https://m.media-amazon.com/images/I/51XrJqjb0QL._AC_UY218_.jpg',\n",
       " 'https://m.media-amazon.com/images/I/61gaA2jAh-L._AC_UY218_.jpg',\n",
       " 'https://m.media-amazon.com/images/I/51rG6Q6C-jS._AC_UY218_.jpg',\n",
       " 'https://m.media-amazon.com/images/I/61cqg+wVs9S._AC_UY218_.jpg',\n",
       " 'https://m.media-amazon.com/images/I/51K8UVZN5pS._AC_UY218_.jpg',\n",
       " 'https://m.media-amazon.com/images/I/71Pw8z5-qUL._AC_UY218_.jpg',\n",
       " 'https://m.media-amazon.com/images/I/71m7U364CDL._AC_UY218_.jpg']"
      ]
     },
     "execution_count": 25,
     "metadata": {},
     "output_type": "execute_result"
    }
   ],
   "source": [
    "# Scrap Image URl\n",
    "img_url =[]\n",
    "url = driver.find_elements_by_xpath('//img[@class=\"s-image\"]')\n",
    "for i in url:\n",
    "    img_url.append(i.get_attribute(\"src\"))\n",
    "    \n",
    "img_url"
   ]
  },
  {
   "cell_type": "code",
   "execution_count": 50,
   "metadata": {},
   "outputs": [
    {
     "name": "stdout",
     "output_type": "stream",
     "text": [
      "23 60 23 31\n"
     ]
    }
   ],
   "source": [
    "# checking the lenghths of each list before creating the dataframe.\n",
    "\n",
    "print(len(nameOfProduct),len(prices),len(expectedDel),len(img_url))"
   ]
  },
  {
   "cell_type": "markdown",
   "metadata": {},
   "source": [
    "__3. Write a python program to access the search bar and search button on images.google.com and\n",
    "scrape 100 images each for keywords ‘fruits’, ‘cars’ and ‘Machine Learning’.__"
   ]
  },
  {
   "cell_type": "code",
   "execution_count": 58,
   "metadata": {},
   "outputs": [],
   "source": [
    "# activating the chrome browser\n",
    "driver = webdriver.Chrome(r\"C:\\Users\\parin\\Downloads\\chromedriver_win32\\chromedriver.exe\")"
   ]
  },
  {
   "cell_type": "code",
   "execution_count": 59,
   "metadata": {},
   "outputs": [],
   "source": [
    "# opening homepage of Google\n",
    "url = \"https://images.google.com/\"\n",
    "driver.get(url)"
   ]
  },
  {
   "cell_type": "code",
   "execution_count": 60,
   "metadata": {},
   "outputs": [],
   "source": [
    "searchBar = driver.find_element_by_xpath('//input[@class=\"gLFyf gsfi\"]')\n",
    "searchBar.send_keys(\"fruits\")"
   ]
  },
  {
   "cell_type": "code",
   "execution_count": 61,
   "metadata": {},
   "outputs": [],
   "source": [
    "# locating search button and click to start search\n",
    "search_button = driver.find_element_by_xpath('//button[@class=\"Tg7LZd\"]')\n",
    "search_button.click()"
   ]
  },
  {
   "cell_type": "code",
   "execution_count": 69,
   "metadata": {},
   "outputs": [
    {
     "data": {
      "text/plain": [
       "['data:image/jpeg;base64,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',\n",
       " 'data:image/jpeg;base64,/9j/4AAQSkZJRgABAQAAAQABAAD/2wCEAAkGBxMTEhUTExIVFhUXGBoZGRgYGRcgGxsgGCIfIBoYGB0ZHSkiGR0nHSAaITEiJSkrLi4uFx8zODMtNygtLisBCgoKDg0OGhAQGy8lICUtLS0tLy01LS0tLy0tLS0tNS0vLy0tLS0tLS0tLS0tLS0tLS0tLS0tLS0tLy0tLS8tLf/AABEIASgAqgMBIgACEQEDEQH/xAAcAAACAwEBAQEAAAAAAAAAAAAFBgAEBwMCAQj/xABEEAACAQIEBAMECAQEBQMFAAABAhEAAwQSITEFBkFREyJhMnGBkQcUI5KhscHRQlKC8BUzYnJzwtLh8RY0QyQ1g6Ky/8QAGgEAAgMBAQAAAAAAAAAAAAAAAAQBAgMFBv/EADMRAAEEAAQDBQgDAAMBAAAAAAEAAgMRBBIhMUFR8AUiYYGhExQycZGx0eFCUsEjYvEV/9oADAMBAAIRAxEAPwDcao8UxFy3aZ7VrxHEQmaJkgHWDsJPwq9UqCLFKWkAgkX4c/pr9CEo8K5ov3rptjBEZXCXD4gOSTBkZRMQ3yqrY55c2/GODbwc2VnDgwdNIIHcbwNd6s8lf+54h/x/+a5SVw+w/wBWR3ZzhfGi4iEAgwsN6zIGvUDYkGuW+eVrAQ465v68DWum3PjyXpY8HhnyvYYwK9mN333mkkDvfEdm3poLWh8b5mSyLYtob1y6AUReoOxOhIB6aawexqvw3mhjdWxibDWHf2CTKt6TAjt1100oXxbEpZxmGxe+HNoIrKJC6MNPgQY3jN2r5xXiNvG4rCJh5fw3zs+VgFEqTuAdl+eUVs6dwee9qCAG6ag1rz4nUaCknFg4zG0FhotcS/XukXp/UVQBBFknTgrl3m67N6MGWSy5V3F0aQSJjJOwn071esczq9/D2Utyt634mcmMuj+UrBkykb9aXuF8HuYm5jAMQ1u347B0VZzeY9ZEfjXbHcPCcQw1i2SAMMygn1W+JPrOtUZLNQcToSBw/tWleGmvFay4bCZnRgd4NcdM+lMsE3xvXu6VvyV+9za9x2TCYZrypozzC/CAdI2k69qK3OMFMIcTctG2wUnw2OszCrMdTHTrtS1ypxy1hLb4bEg2biOSfKxzT/tB7b7ERBqc18T+t+BZwwN0PNxlBymEkBSTGXZ9/T0qW4giMvzW6vh00JNVz0213VZMADOIhFTAfj17zQCSbvJqBY0FaeKY+XuPDFWTdyZWUkMkzEajoNCPTv2rry5xg4qz4vh5PMRGbNt6wPypW4Rfu2ca63rPgriVMIGUjMBoQQepzCO7iuvIPGrCWFstcAuNcICw2ucgLqBGpq8eJ7zQ4/2BvSyKrfmDdLPEYABkj4238BbXeppDswsWCARV2dtwmHmbjRwqIwt+IWfJGbLuCd4PaPjQ/E8zX7dh717Bm3lKBQbgObOSNwvSB75rx9IyzZsiYm+okbiQ2oqjzXwtrGCuBr929me3/mMTlg9JPX9KJpJA59HRovhWxPEX9EYTDwOjhD2gl7q/lZGYbUaGm+n6K8M5md76WL2HNl7i5kOcMDoTrAEaA96t8H42by3mKBfCdk9qc2XrsI/Gljg1s2scgxjszlAMPcJAUgiIjodSB6zvKmpwjjNrC/XLV4kObrlRlY5pkACBp01MCCDUR4ggj2jqFka1e2l1pe5HMUpmwLXhwhZZysIy5iDZIJbZJra72N7Ui2F5vzrh28GPHuG3Gf2YKjN7Gu+2m1cr/N2IW6tk4Bs7SQviiSBOo8noflQDAWitrhsiJxJI9QXSD8aY+Lf/AHfCf8J/yeqNllcwHNXwDh/IDmDzTEmFwzJHARgipSNXfwLq2cOVH86rtxDmO4jWbKYYviLlsOUzABZmRmjeQe21F+DYx7toPcstaaSCjanQxOw0Pupb5qvYN72V7z2b9sDLcUN1khfLqYmentaHcVe5F4hdv4fNdMkOVDRqwAG/eCSJ/Wa3jlJmLC696quFb8Qb8uSRnwwGEEoZl2snMLu6y2S0tqv+wrXmmepUqU2uWq+S5/Mn3D/10O4vxdMMqteuooYwv2bkk+5Sfn60WdoBPak7jWa/dKMRAtsQOxJUAj3DN86TxmMGHbtZOy0hhznwTLhrESyeGufzEi2QTOst5pnXr3qLgAFKBbQQ7qLYg+8TBr3wzFeJbDH2tmHYjf8AerlNMcHNDm7FZkEEgqgMF5MkWsn8vh+X5TFfcNgfDEItpAdwlsL+Rq9VLimKNu2WABOgAPrQSGjMeClrS45RxPM7qWcKUnL4a5jJi3EnuYbU18OElg58MuBAbw/MN9Ac0jc/M0lcY4leuI1q63kaD5YB0MiCOk124bj74w4Ryy+HKqToXA9nSZ2gfCkn9oRt2aT8uaYdg5A/KfrdptxPDxcjxFtPG2e0DHuk19t4HKcyi0GiJFsAx2kHalPlfj1x8SLWYujA76wQCZHyp7pmCVsrc4FfdZzQvidkcfUqjewmcguLTFdi1uY90tpsPlXIcJQEEW7AI1BFkSCNiNaJ0L5gxJt2WI9owo1jff8ACa0eWtBcRsshe1n6lTFuhIW49kkagMkx66toa7XLPiLDG26nXVJB7HVopCv4ltSMpA0IUMSB30GnX3V7wHFSGRjdPh22L5Q5UGQQQ0aMvXt79aUZiwfiCtl4J6vYINGcWmy7Zrcx7pbSueJ4arkM6WHYbFrQJHuJNWOH4xbyB12P4EbirVOaOFqoJGx9T+VRu4TNlzC2cuqzbmPUS2nT5V9bCEsHItlhsxt6j3HNI6/OrF64EVmYwFBJPYDU1nXHuKY3EWc6WcRbtkEhUKqx+J8xjTQZZgnXaqSSBnCyqk1zThjWsOQt25hmI2DqhPwDNV+3bYABWQCNAEMR6Q1fnfH3WDN4mGxTawCb1z2uoYywkan47daZvo545ds3CPtltz5rDEOg7lWgEN1B2Ox7jOObMdlAden+rZclz+ZPuH/rqZLn8yfcP/XXS24YBgZBEgjqDsa6UyrUvFxZBHcUqcQwzh1uJGdZBB2YHdT22Bn0puqpicGr67HuP1rnY/CGdoLdwmIJQw67IFbxxXXKy941/KvacwALnDeIsZoEZiP9O0n30R/whT7TFh22B99fW4HYnMLYU+hI/Db8KSgwWMYLDgK2Fn1rTo7Ld0sJ3HXmr1m6GAZTIPWpiLIdSp2Nc8HhUtrlQQCZO+pPXWrNdpoJbT+WvLxSV0bas3bF2Xxngq2bJPmiASp1UTv1M7aVZxzjboKK3+RcM1wXA11CDmGVgAD6eWfxrvxTlZbvs3Ck7yJ/UVw5uzpt2VXK/wAp6LHOA7+pVPkmzbJuXFUZ5ylupG9N9DeCcJTDW8imdZJO5PeiVdnDxmOMNduk3vL3FxUpd5ySbPWFYEx2On5xTFVXE4ctOo1rR7czSFRZRdxBDLllZM5ere89q+f4kxPtAnv/AMvu/CjnEuR8UzN4VyzlJmGNwEfdXWrPBOSb1tg117TREBc0ae8Vz/dXkq9pl5WUjDrm3Mn5/wBz8aMVXwtorM1YroNblaByVEJ5hZhZYqehn3dR8p+VZ+3HHAIZyV2QBdQRuQANh32rU7iBgQdjSVxTkstcL2zoemn6xFLzMcTmC6eAxEDAWTAeBq/L9pG4ni8xPlDqCBrqTMS2+kCfXSqHG8cli/bSzaPii2pZUAEs58iPA1fYDr5h3p+u8mXwv2Qs59gbpbKv+oKgOc+hIrpyj9G6Ya99axN98XiJLKzDKiMf4lST5uknboBVYonXZ0R2hioZQGRDQak1SdcBZKWraHdUVT8ABVmpUpxcxSlfEcGxX1i9etXkUORAOaQAtoRoIENbY65h9qYCyxZoqjxTHrZUFmyzsfdvUOIAsoQi3wvHBhOKBWVkx5ohM4Hly6sHIMAjPv2vcEw2JQN9YurcMJBWdwIYwRpOh00mdBtXTB4hm0Vs2syR0MafL86IhgdiKhjw7UKSKXqpUqVZQlvjHAbt2+LqXsi/YFkOaCbDl12IgeZp7wAdBVXF8Mx4t+W+bjEMpUNljMwKkORIKqCubU6zDbFl4h/lv5ynlPnH8PrWUJ9I9/DYmLxN3DkmRCh1EiGUjc6+yZmNCKBZQtQ4Vh7qB/FuZyXlfQQBHxILR0zR0ohVfB4tLttbltgyOAysNiDsasUIQvjXDjeFsDKVVyWViwDAqy7rqCCwYb6r0MMBp4Tiz7WJBhkI1cew1o/wxObJcJmf8yBpJLNVXGYkIp180GB/fSoc4NFnZCAf4FimW2t3Ehst21cYaxFq54gA6k6Iuu+WT2PnG4DH5rhS/IPjugBAglVFq35geuZpmBO21X046CZgBQYbWSD1ijKXAwBBkHqKzinZLeQ3SmkD4Twm/aul3v5kaCV6lgqqS2nnkKNdCMnXMaP1KlaqEK4/w1r9oItwoc3tAsDlYFLkFTIbw2fKejBT0oUnBsYAo+srtmaM+txnzlo1lVlgFnUBQdppmuOFBJ0A1JoDiObcOjhH8QToGyEr+Go+VZumYwhrjROysGkgkbLmeFY0r/7wgkjQBTA+zlQSknQXhJ1869RXheD4zMHOJXOGcTH8DeyAMumUhTGubw4kBjBrF8Tt27Yuk5lPs5dc09B/fSh2A5mS42UoVnrM/OspMXDG8Me4Anrq1dkEj2lzW2Ar3CMNetoReu+K0qQYGnkUMNAN3Dt7mAolXwGvtMrJSkjnAi46hbvhwQhYwQddQFIjvJPbanesd53wl61iHzgtbLMyHXQMZg/H8opbFC2VVraDLm7ys4fj2IF5bdoEBCVY3IKkDcsAFyntB69af+A3/Eln/wAwASAIADa6ddSOpO1ZzwPiNmEZmJZf4fNuNonT40/cql28S6x9qAP6Z0/Hf30rBMTKGjx05eP2ATM7GNj8UxVyxLEIxG4BNdaq45Sbbhd8pgdz2rpFIhL3HMerIbLXWJYiSFGkawPlsZrK+J8sXGvNctXkuiYyFSp/2qZIJ23imvFYZmlgzkSCGSWJyEkCOjBtwRpER2EY/itqwAt3NA2TNmdzoYEksknWSABPuFJNllzZR9F2jgsO2PMT530Ew/QtjXNrE4dgQtm4CoO6+JmzJHSGUn3sa0qkr6NeD3bVu/fvqFu4m54hQfwKBCqT1O5Pvpsu3QZX4SO/an1xFyv4jUeYKO50+Jnp/e8UA41dN0kZ8oSQIGuvXX51Mdw3EOz5CwaSSZKgiZAU/L5UP4vw69NvMAz6HIJhidMpM6gfKuRipnyNoNIF7njwHjurAIbw/B+M7MCUCHWd332nYab/ACq/w3jLW7vh21IksNVOVivVdp99VOLrdV0KW3DwQUghmnSABvqNxI0qwreKtkZTbOjeogba/wB70gC+PXYjTl1or7p24ZiTcSWADAwY/vSrtKnLr5LzBmJBGUdidP7+NNddzCTe1iBO/FZkaoVzFPgNG0ifdP7xWdvabEXRZV8seZm3AVTJMTqZgD1NN3P3FcVZshcLYuXGeQXRC+Qf7QDJPqI0rKuS+JNYxZXE5h4s2iCpDqxIy5l75gBETrSGPgPtRM06gfn8/hN4fEMDDE5t3x5dEClpdnDoiBAHZVkgs5LS252yiYGkaa9zQ11Fm5vuMyn0Pf1BBB91F1JywHGUmZzLE++fw9KF4vimHt31TEYPFFUhReyP4fcsV0JUEnWDttXMjglxD74jWyK18vr5JtszIR3tuQ/fWqduEXWa0GYRO3uq9XO2BAiIjSNvhXSvURtLWBpN0N1yXGySFKoX7VnEKyHJcCnK0EEqexjY+lX6XbvLcqqeO6hFZFKgBoYALJ/iYRE9QSOpq5FqF4t8l4cOG8xjppTBZRVAVQAANh0/vWgf/plc2bxrg1tkBdAPDMiB/wDr6KFHSTZ4PwQWGZ/EZ2ZFQlgJ8jXGGo1/+QiPQVRsbW/CFJJKMVKlSrqEnc08m4e8WvDEXcG5/wAy5ZuZFbpNwHyz/q0PrVHlb6NMDh3GIW4+IuTIuOysJ7jKIJ9TJFOXE8GLyZGJAzI0qYPkZXABGokrEjXXShFjhL28UbnigrkcKGkuPEfOYnSAdI1kAbGc02VFIzdMDKo6a/8Ab/ttXTD2co9f70r5Ysxqf/FWKhSpXlmjU7V6qnxPBi9ZuWSSouIyEiJAYESJBE69QRQhdcNfS4odGV1MwykEaaGCPUR8KhwyZi2RcxEEwJjtQO/y4WhjiHzZ1eQAB5Gd8o/lBLZTGpVYJNduBcBNgh2us7eHkIJbKCWzMVBOxPeT66mQ67oV5OF2gwYLBEaDQabGKv1KlVaxrboboUoRheFYO3fZktWRiDLkgL4kMdW/mAJ60XoFiuXle4zl3Aa6l0gfzKLakTvkKWwpX/U2+kWpCLfV0zZsi5v5oE/Peu9Kd/lRwhyYh2ueQeeApAZmeQogZsxkBYORRECuOAx6YO8cOzlwxLM3mkMx0RQWMIolQNyoUalCTBIapAJTlUryDOteqlQpVDHcVs2tLlwA9tSfkNaGc38XawiqhytcnzdgImPXUe6kNjOucTvvJ95rj4/tT3d3s2C3eOw/Ku1lp+bm3D9M59Qo/U1f4fxize0R9f5TofhO/wAKytiBp4o/v411tXCNmFc9vbU4NuDSPMev6U5AtgqUK5cxDXMPbd5zEHU7kAkA/ERr1oTzPzDew7qiWhDEAMZMzoSIiIr0Xt2+zEhBo189Vk5waLKK4njthM/nDMhgqAZnsNNfh69jSi3OzeIciALOxkmfXWqub7QlxIJJPfX+KvmJwiXGknz/AML7E/6bg6+/cfhSuIdM5txnXkOK6M/ZsgbcZvTbn8vwnfgvGheADLlb8D7qMVnXBeItmKFArode+n56azWg2bmZQw6iaMBijKC1+48uqO65bH3oulDcVxNFJVWVmWMwB1Wdpjadd+1euN3HXD3Wt+2EJH7j1ikXhLBbYI0klidSSUEiep1n51fGYgxgNbuU3h4vaPo7b/RPfD8eLkjSdxGxHQivmL4vYttle6obtOo98bfGsy5SxYKmwWLRPXRRAlR1kkkzA1U1aw+IRTBAd1JViSZJBMk6d9aWfjpIu6RZ5nTTr5K0sTQA4bdf5qtMw2JS4JR1Yd1IP5V3rMeEcSe3i0YAhXYIw1ghjH4HWtOp7CzmaPMRRS5FFSq2MxaWkL3GCqASSfSqHMfG1wtsOVLFmyqoMSTJ1PTasp5u402JbxHbw1XLmtHzKxQ5gM2kKQNRruamWcM7o3TWHwjpe8dG89E8Yv6QcOMyIrFyPs4AIMzq0eyB8Z6SdKnKfKLK31rGEviHJYKTpbzCMpiA5jSYA12rPX4li/Fs3ntrlvDKqKy5xoWWZiFyhtj2rTeReMviEdbhlreUNrMFpjXqIFLwYjOWhw18q4/ivmtcRhxG0uZtx3TXUqVKfXPQ3jXCkxFvI+hGqsNwf1HcUgcS5HxIJyIlwd1YD5hiP1rUaVL3OKWzc8RNEN0Hw2Vv8tkVV3gu2cHLMrBBA3pPEYGKc5naHmNFIJCRhyPi51sH7yf9VE+G8hYhmHiRbXrqDp6BSdfeRTNd5wVWYmzc8NQ2o8OSUOIzH/MgLGHeNycy7Vf4Zx9b142lXQZyGJXXILR0AJkfa79IHesR2XFepcfP8AIzIlgMItm2ttAcqiBJk9zPxoPzPwm9fjIVIA0BMEHuDGtMVSnnRNc3JwVSARRWeng2JtrL2c41H2ZVmUdoMZh6dK84fh10+zYvAdfKq7f7mH4Udt822xcZHAEXDbCg+YENcUF8wAGYW84AJMONIgnwedsP4Ru5LuUIX2XUBymnmiSRIBjQg6Vl7sBs4+h+4TMWLniZka7TxAKmA4IzMGYZABBlRmYfyg5tAPUe6mdFAAA2Fe6laRxNYSRudysHOLnFx3KlK3FuCi357SkKWJYCfLO8AahT6be7ZpoZxrGvaQG3b8R2YKqzEkgkCem0TsJnpRNC2VuVyvFK6N2ZqReXuV1tOTaY3CdJ6KOsmIHTfsKtY/knE+M727ltldi3mLKwnpAUggd5+FG25zsBiuW4YZ0JGSAUUsT7WaNlmN2ExvXbC82Wbj20CuDcYKJywCQGEw38jWm915PWMBgmHV5JPNWfO5wAoABc+C8teGy3Lzh3XVVUeUHuSdWPbb3UzVKlMxxtjblYKCyJJ1Ko8UwYvWblvTzoygkTBIgH4Vm2L5AxIHh/Z3LcS0GJk6qEYGT6kgflWr0Ex/H0tXGtsJI8OApXMfEkLoSNDcyWwf5ri7b1WSJr91vBipIQQw6HfrfwWfD6Or5KkQoJOWWn6vG2UT8YE9jAp/5V4EMJaKls91zNx4jMRsAOgA/U9aoNzpbEsbb+EUtsrDITLuyZWGfynQbxENMGKN8J4mmIVmQMArsnmiSV30BMa6awdDpURwMjNhTLipJRlO3giNSpUrZLKVKr4zEpaRrlxgqKJYnoBWc8Z+km9qcNYATo9wEz6gAgD8aq54bursjc/ZadUrLeWvpOuXHyX7SlZgsmhEmJIJgj5U42uZQW1tXFHrlzx/Mbc5o6wAWgjSq+2ZxKsIJDsEw1K52rgYBlIIIBBGoIOxB6iulaLJSpXC7fVdSesfPT86A3eOML7JlyopIBYHzEAEx6QdDWJxEYNF2q1jhdIaamWpQ29xa2pgsoMBiGMGDOv4H5Vaw15bih12NSyeN5ppvr1WZBAshWKlSgvMzXhYZrLKpUFmLMV0XUwdh8dPzGhNC1LRmcBdIt4QzZoGaInrHb3V8t2wJgASZMdTtJ7mAB8KzrhHNl/ErHiBAunlAzk9iZP4CffvRfCcyNYfwsXcSCPKxIFz+tV2HqY/GsmztNLoTdlTxWDWYcBd/aj5ElOdSq4xKnLBnNtHX193rVitlzVK5XLYaJAMEET3Gx94NdapniNqcviLPv/WqucG7mkUrlSqXEMatq3n32CjuTt+/wpTx/EnzLca6y6yAhjbpGoj3zSOL7SiwzgxwJJ5cBzP4F2tooHSC081KA8vcfXE5l2ddY7jv+h94o9TkMrZWB7Nis3NLTRSf9J9tmwWVTANxc2oGgDHUkgRIH4Vk3MXFmfDqg06EDrW+8TwKX7b2rglWEH9CPUHWsn4/9HuIVj4cXF6EQD8Qf+9Vkabtbwvblopf+jSyviuSAWCsyztKZSDr2kt/TT1duqrqsGCTlcs3tEGZ1oFyzybjLVzxAqoRqA2ub0IE6EEg+hpmZNYcLbPRLpyuD2BOjr2ZZmRMHfhdrYaWTLIzUC/0QnoJB8PXXXJH+VcYWDIRAjOvxPmj/AEmVcf8AEPamKlzl2wASV1UAjMB5WY5ZydwMo12knsYY67mFc4wtLt6XPxNe0NdFZ3xewwuP4nikLBhS0EjZoiCNvTvXjiPGcLbVg7l7x8MXCCZ3iQAdANT8Na0ekW/yldOKzgjINFYsZA02AXptvSc2CIrJr6JhuLDvjNVtXXgELfAYZ2OIxhLpICsWIUqdjpGkiPjTTwTjGHICWbiMmbLo0kN231E6elU+K8rCCxJuWx5jaIJ9kdI311ihHA+Ahr6m3bNq0reI3lYAtpAXMPQTrVYsPJE8ZVIdFLF33EUPsKGnOgAtIoBztbZsDiFX2jbO25jUge8Aij9VsdhRcUqa6hFikixxY4OHA39FjP0YBPrN065ltkqN5MjUSQJiY1G9U+ZOXbwxLeJcBzZ7hzAzlEkmEVgPKANDr5e4hm4tya+DufWsMxLqc2U7MOq9tRP961yPGLWLPiC+iOqshw9yFzAqwZZnqWGsaAeppUx5F2m41873PvcURx028uf+IlyVjhda0i338W2hVs8FiCRoRlAgGBI7itFUQN59TH6Vkn0fcNWzd8S5eD3DHktkkLBJhyPKxOmg0EfGtbRpANbRCgufji32tN4IXx/EZLYExmYKfdqT+QHxrP0SCxcw2szqZ7e/pWi8dwYu2ipYKd1J7j9OnxrM8Zxa3bJTESCDEgGT07eb31ye0GSmUGiW1pQJ15Gr+Y/xGHLcum6I/wCJnw1VmlVbv30B+f50Pxl6eteHxeHvWmtW0v3XZRl8JQcrbq1wkx/TruZg7csPwLH5ROH19biAfiZ/CufL2ZO/LIG3wrkt2TxgEWif0e4dvrmadMjT+H6xWpUo8icNu2UY37OS4f4g4YEdgBt+vyFN1d/AwvihDX7pGZ4e+wqfFcZ4Vm5dInw0Z475RMbH8qGLzPa1V1dXXLmUKSRmDMvrJC6KQGOZRlkxRxlBEESD0NcXwltjJtoSdyVE7R27ae6nFkg681YeJkmcsZRmnxGyoARoST1Er67V0PH7fiZGU5CEKvvmzxuI8oGa3qdyx001K/Vbf8i6CNhsDMfMA/CvrYdCIKqREbDbt7tvlQhD+D8ct4gkWwcoRLgbSCtzNl03B8p6RtrRY1yWyoMhQDEaAbdq7UISrgecrVyJQqJUassy8ZYWZIzC+p6//TXNDVvhvNFm8UVVuBmKCCugL2/FClgcsi3DHXqOulGjYQ7qvyHr+5+Zr4thQZCqD3AHr+5+ZoQgS84YcgEZzOWIAIOdyiQQYOZlMGYiCSJFWOB8eTEkqqsCDc6ErCXGRZJAhiAGy9JI1g1bu8JsMSWtISQgOm4tNnQe4OZ/Ora2VBkKAe8Cd5/Mk/GhC60Ex3HltX/BZGIy2yXEkA3mdLYOkaumXfd10jMVN1wu2FaQyqcwgyAZA2Bncan50IQN+asGw1ZmUgEfZvDZmKKFkaksGAH+k0MxKcKOd7mGWEzSzWzELGYg+haI3kHTQ0y46zbCMzW7ZEa5lWN51011M/E0D5exWFuZ7duyolizgjNJnSSxOsBD8RG1ULwDR4oXuxxLA2JFq1DSyhVSGJRc5AzRplmDtoRNHsBjUvKWSSoYrJBEx1E7jXce7cGvhwNpvatIdCNVXZhBG3UaGu9qyqghVCgkkwANTudOpq6F9ayCZqri3to1sFA3iPkG2nlZpM+in51frjesq4hlVhMwQDqNjr1oQga814TKrS2RlVwfDfLldgqNOXYkj51c4fxqxdueHbnPDmCjCPDYI4kiJDGKupgrY0FtBG0Kvee3fX316s4ZFjKirAgQAIHYR00HyoQu9SpUoQpSdzDx5wWt2mKAfxAamN4J0A/enGs+4w/2d1ZIKMEJifazzPyHzpXFOcAAONrodnRtfJbhdV68eufNVLHMt6xBuXwSYJRyzGD3ABy+6Z1GlOvBuP2MSPs3GeJKGQw+BAMT1ism49Za5euXLYJDHNE7HSdDvrO3eqV7E5Loe0GtlYMZjIPfUTHoaXjmdHpuPFdmbs6LEAEd13gNB4Eb1el6lb7UofwbFNds27jLlZlBImRqOhG9EK6QN6ry7mlpIPBVcdiltIWYjQGBIE+gms443z01olrlq5k3zgEovoSui/E1c4nfwj3Xe/fDXB/A7MqqOgiG27+le7lzALaM30RiJhGDH4SBI94pF8znHw+a6EcDWjXf5L1ypzK2OthkZlUh1Ug7Mp0MdZjY/qZZuA8X8WbdyBeQeYCYYdHX0NZjy1h72GvX8Tatl8CWQ5gsFWIlrqpr5Qfa2jNMbmnKzcU3rOJttOsOP9NzcrG6z5hvEkdAKsyQjXqv0qyRXp9uf7TtUqVKcSCE8xXSuGvMNYRvdt1PT30hfRzczYgiSYzMTp0gCRPQQNPl1py5txZSzlBjPIO+0ajTUTI2pY5NiziQluAtyQw39kaH59Rp0EbUjLiGicMPh6rQREtzLRUr3Xla9U8s1R4tjxZtlzqdgPWk7/1DcZvMxj++lMPNtotbXsG1+I0pHv2hIXoxAPxrCVxBWrGik6WONwogZpHUwP1mreG4yD7ax6gzHvG/ymlrGXilssoEzCjp/YFVeEOwcicyqsM2mrT5tR1kR/TXGZ2hMTmvTlXRXQ9zZVcevJaGjAiQZB2Ne6G8EYm2ewYx+B/MmiVd2N+dgdzFrmOblcRyXO7OU5YzRpO0+tJOC5cxOe6L4RkuxmZHOaVJKsAy+pBBP5U9Uo2OJ49bRY4dnuZMxVggh4tA2kCkeTM1zzEtASZYEVWSFryCeGyhpLXBw3GyGJybDed7jD+VEgnsMzHKKvYjlV7hVm8BcigWwQ7ZR66gMdtwdasHimMu5lt2QgJvKtyCSuTyqQraE5pMmFMdY17YjH42Cq4fzZCwbSM0rlUgnWfNMR7O4kVT3Zh3v7fv1T0naU79z0eXD0vxRLgfDzZt5WOZySWYTBPcA7aRpROuVgnKJ3gTpH4dPdXWtmMDGhrdgkAlPm/ku1jRPlR/5gNT74Pm+NIXEfo3vo4t2rql2gjLZYJqY875vKBqSQQfZEHNpqnHLt1VTwswBeHZFDMi5XhlUg5vtBbB0OjHbcB3xvEFj7Ivla6TAUZlBGQER7UTEETABInMDI27IWgleBQKK4Hga27Yt+JcIAj2o+XaqnD+U7dlpW7dyzPhkqV/ESPga7YPiOKa6qvh8qFmBbXQBZn4P5J/i3GlHakgHdVa4t2KlSpVLirXBZuG0JuZTk236bgj8DUqqC86YZ2tqyqXCzKqpZtYghRq2oiB39KE8pcPc3/EZLiKknzoyyTIkBgCdSTMAgabHUs2OxtuVbDi7BjMD08PNKgKJ84ynYkkwBoBwxfMWJtzOEEhHeCWAIt5M0HLt5mYMYMBRlDGKVdhGOl9pZvT0WolIZlTYleqXuG4/FNey3LMW2d4YzCqqLliFmWaTDwRJH8MUw00slyv2VdSrCQdxSZjuUL5uSly2UnTNIYfIQfwpm4898WScOJu5rcAxBGdc8z0yZtelBrHEscFObDFiSXGgkBrjxbhWgutvINwCTqQNRVzQd1IJGyocUwjWvLcPl3DCSvx7fGu3CrRuGLYzDcvsPfPX3CrmHx+OAQNhgSDDMSNRkZswiNSQqnQQzncLLeLXEsf7Rwo8yKck6K2ZsyTvOUg5tVPhAD2xCH/AMyLNYJA5dapr3yTLSZcPZCKFHT+ya7VT4bduMk3UCPmcQOyswVv6lAb+qrldAChQSlqVK+E0FHGfOwNq4EABV9PNvJAmY/HUUE0pDSdkbqVnnHOYst8hXDWyB5S38RG4zqckjTLGkHvoLwvNTouRNEGok7H/cDKnffQ/EiqZzrp++vELpxdkzyszDjVX1v6HmtQxF3KsxJ0AHcnQD516svIBkH1G0jQx8aWsNzJbZLTXGJcLmYIjmWIIAGkTuYneImmDArCwYmSWA6FiWI/GqMlzPIHDr1/y1z5InRktduNFarlduqolmCjuSBS9x3mYWmKW4LDQsdgew7mkviPGXdpdiT6/p2paftBjCWsFn06+X1Wa0n/ABrDzHir+nz2q5buBgGUgg7EGQfcRWM/4iQDJ/sUY5U5nFm8BccLZec2YgBTGjem0H31SDHOc6ntHkotanUqhw/idq/JsuHCwCRMSek9dPzFX66TXBwsKxFKUPPFbObLm1zZSYMA7ZS0QD6TQVuZ7F3EnDeLkCiS2bKWZY8gO8DWdpIjaZp8Ex7YlsZhrV221q28LdMszG75mEAgEKxIzA9hGk1k6bWm69darYQ1q/T9+XonapVDh/EUuyARmUlWWZ1UwfeJq/WoIIsLEgg0VKEcS49ZsnKxJbfKokj37AfE0XrHeM3IvMb2fKLp8XL7UTpFLYqZ0Ybl3JUHa1qHCOL2sQpNsnTdSIInb4e6iVZbyTxO2McUs5xZIb2+ihc2Yk9Mw3PetD/xazMeIB7wQPmRFEOIBb/yEA7cr+SgFX6lSpTSlBOa7JOHuEMRlUkgbMOob0iaDXcSGCOGiRGZiYJOg67kkD/xTdibWdSsxOlJmN5AzAqmKuW0M+RfZ824AYkLPoKjLrYWzCwtDXmqP3q/sCEu808vJdvLfN3wwFCuLYzMSNjJhR1E6nbShfE+VL4up4RPhgCWe4haZMt5dRpGgFO+I5Kusgt/WRkgA5kzOw3Iz5gBPfKY9a6cL5dvG2M19TBIJNtsxgkecZwC3c/pWZ+LKnYe0J4WtySbaUbqvp+aXfgWBsjQ3rr3QoLHMVENIGWIgeU6ST3JpmwqoFhAAB2/GfWqvDeGLZBEliTJJC/oKIRUxwxx/A0D5ABISPL3WTayLjVt0uMrzmBg/v8AHehF5+9a7x3gtvEL5l842YaEek9R6GkLiPImLJ+zW23YkgH9a5TsBI093Uevr91mlK7c6np+XSK7cBwxvY2xbCh1NxSykSCoMtmG2WJkfvRofR/jjulsf1A/hT1yhyyMICSBnYQW6n0noPQVtDhH3Z0ChMdiyqDKqhR2UAD5ChvM150w7sgJOk5d4nWI12nbWi1Qia6Tm2KV2nK4Ffn7GcLz3GuDNnJnIQIAgzm11JkN7x60Mw/EbyyLVx7TiRmQtGm+YwdNP2iti47yMt654tu5kY7yARrvpQl/owUQVuy4ncCNRB0/H31zxDKLDhdfJdT3yKtNM3xeHyPDo7pe5FFwYi1kZy5Y5nE5cv8AEG3nvr1MjrW1UB5V5fGEtZM2YkyT8AAPgABR6nIWZG0ksXOJZLGw0HOvFSlHnOzh5BZT4pE5lMQo6toc3oInTcU3UH45wnxgrLGdZGuxB3B7e/396zxjHuhcGCz9fvpfLxSyScLhBZIUKym5s7pq8agA9F65dPnXpzBUZ80Am4cuUIdIAPXr+FGbfBMQSoKnKgIXOyZVntllvTajWE5fsoQxl2Guu09wo090zFcdmDlk0AobW6/QVZ9FFBWeC2mWxbDHXLPuzagfAGPhRCpUrvsaGNDRw0UqhxdLhtEW5zZk9kgErmXOASRBKZhuPeKCXcRxC0jHw1uBc5ECXgICgYBvtHLkglY/y9jmmmqlTnvmr6jbTKoa5cLZZ2AWMzHvuNPX0oc4NFlQTS92MRxBgCEQAkH7RQGjITEBxB8SFMgQpGkzHXEJjkN5rWVwxJQN3IIWJcBVEISANZY6nfP3+la9aYT4d5eogqfgQf0rReV+abGOt5rTQw9q2faX9x6iqskDtlAcCrXCRfBu+NtnBt7GFyrpMzObMde4jsClSpWisgfG2xQuIcMuYC3ckEqFzFrWQmYnyi5oCNCfSqL2cc7mfIjrZDAMAVK3GN0pDHym2YzaMQU2KmmhhpoY9a4YK9nQE77N6MujD5g1FoS67cTKAFbYfKSWSB5jZ0ChnIMXyw80iMp9aahX2pUoUr4a+1KEJRwC8SRURgjn7PNcYgxIt+JAzA6faRqZJ0AECvSniQYuVtsTbtgqIy5g7ZsoNzQ5GHvybyAC2V4zCYnUdPfQhLficRBKhLceY52ynU3fKAAw0FnvuY7GWKyTlGYQYEgd+tdalCFKlSpQhKHD7PE0tLmNt7oCBizGG8gLaAwpDeWf4oLaZoDDwpbot/bR4kmcsx8JJgelV+KcTNtgqAE7mfyojauBgGGxE1izERvkdG06t36+/JXdG5rQ47FdalSpWyopWefSeuGutZsX7psMAXS4RKkHRkJ2B0UySB860OljnDh+HveCmIVDDMVLGDpEqDOoOkjrArDEuyxEnr66IAs0skb6NjcXPYxltwdpXQ/1W3b8BVfhfL/FcDiEu27WYqR5rbgqROqtmhspG8itK43cvWUAwthWQDZIBHwHT3A0r8K4hjTfFy9bNq2pOZn8qgdR5tT8ornMmyszOeL5af5V+S0MIK2VGBEggg9RXugPKd/xLJur7DsxTSNBpInoSCfUQetF8UWyNk9rKcvvjT8a6cTy9gcRVi6VONLzdxiKcpOv5e+gOB42hxF4IS1uFb2T7QkXIbbQBND1nWd1zFcUxUOFtDOCY8RiuY76jKSNdP2pdwOOfPaW1bZ7xZje8MAFdw86gLqY7nUUn724nUaeqf8AdAButms3lcBlYEHt/e9dqzTAcUuee4qMrWQfaBB2nLB9rT89KL8m8zteX7YmW9mQN9jt0n+xW8eKDtCKWMmFLdQb+6dKocQ4pasR4r5cxgaMf/5Bir9KfFrK4rFnDXCfDtWw5UNlzs5MAkebKANgR1nYUw91DRZQsa53f2GprekTxfHrS2y4bWJUMrCZMCJA60hcU5gxFm4L1sebyMRcuKqXQ+hCDMSoJHlz9zB11M8Q5btWLqeF7N5Ltr6uWcpmNtnz2hPleEZZH8xIiNc94hzdauPZa7Y8S2luUGQHKx2Bk+ypLaRO3alp2vcA4AEg31qPlvxTMXsmk1sRx165evgtK45z4lm2Llq34oJA9oAk9VXTWNvhRnlbmBMbZ8VFZGByujRKmAemhBBBB/WRWAPgsRdxK37Nm4bTGVXSFK6HTZZ122k1tH0cYBrNl84+0uHO0bCIAX1O5+NMNLjuEu9rA3Q636JzqlxPFeHbLDfYe8/3NXaCc1ITaBHQ1jjHuZA9zNwDSiBodI1p2tAzjfiTvRPgvEYbJ/CT8ie1KGdpojw0sXWO4rxmGxUzJWOaf/Cu5LCxzCCtCqVKle9K88pQrmLg6Yuw1l1VgdswmD0I6g+oorQjjHDHvPZZbuQWmzwBqTK9eg8PxU//AC+lQhZDi/oz4vaY/V8QMnQLeuL+ExVzgf0aYx7gbHu1xQZym4xHxkz8orRV4TivLOLLaANuubzSYg+Xy6A7/CuTcCxZYM2KBykEABxEkm4AcxKhlOUHUoBoazEMYOaharlCP4HDeGgUQAAAANgBsB2FWq4YW2yoqs2dgoDNAGYgatA0EnWK71orIJxfgIvksXYN0Omg7bbTJ7+Y6xAADgXKF7Cm6Q63DcaZOh69h600cWwtxzZZGCm3cLmZgg27iRpvBcNB0OTpuAuM4bj1tnJfLtAXKDG7yxzGDOWBO41is3Qsddjdatme2gDsvmG5UuF7xu3xkufwopBXyhdGJ7DtXfhvJ1myyEOxCbKQoBjaYFdsDw7FLcDXMRKC4zZBJGUqAEJYSYIZp7t6CmCgQsGlIM0h4qUA4zwe411cThnCX1UocwlLinXK/UQdQRR+gvMPCHxHh5LnhlC2uuodSj6AjXIzxOzZTBiKuRao1xabCD8O4Bi3xa4rFXk8istu3bHlTPGczuS2UamvPF/o9w964bklCxllWACTudutWF4Ji0twmK1RAEVZglcmnmJAlFZe0uWiumC4TjIUviCvmkpmdtCwOUtM6AORB/8AlCksLYzAAQXkm1Y4Py0lgBVPlGw6CjiWguwpaXgeLCZVxjLCBViTlITKreYEt5pkEnNIOhGp/A2mRMrMWILaneCSVBnchYE9YqVVWqpcTsu6FVjUdau0H4vw65cdWQp5UYDPn8rypS4MpEwRBEiQTruDBF6KRokXG8O4orQmGtOs75o/8Ud5W4biUYPesgN7xA92u9XTwbGECcVJEx6fZhFg5ZBz52Lb+aOlerHBMRnBfEBrYcPlljr4rXD7Un2SqAT5fD/1GEYuzMNE/O1uv1W78VK8USmUV9qVKfS64/Vl9fvN+9T6svr95v3qVKm1Wgp9WX1+8371Pqy+v3m/epUotFBT6svr95v3qfVl9fvN+9SpRaKCn1ZfX7zfvU+rL6/eb96lSi0UFPqy+v3m/elbFYzHC4ypggyC4VVvFbVdYeJ+EV9qUWpoL6mOxhW2Tg4JE3B4jHKc6iFMw3kJOsa9oNVcDiuIgKLmFDMbQctmKgOBrbgNuYOu0t2qVKLRQXe1j8aXM4IhPs4OdpOYrn0zbqM28fhr8xPEMcPEyYEmC+SXPmCtCfxaSmv9X+kzKlFooJjwNotbRrilXKgsuZtDGo371Y+rL6/eb96lSi0UFPqy+v3m/ep9WX1+8371KlFqKCn1ZfX7zfvU+rL6/eb96lSi0UFPqy+v3m/ep9WX1+8371KlFooL/9k=',\n",
       " 'data:image/jpeg;base64,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',\n",
       " 'data:image/jpeg;base64,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',\n",
       " 'data:image/jpeg;base64,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',\n",
       " 'data:image/jpeg;base64,/9j/4AAQSkZJRgABAQAAAQABAAD/2wCEAAkGBxMTEhUTExMWFRUXGB4YGRgYGB4eIBgYHxodHyEdGhodISggGSAmGxgYITEjJikrLi4uHR8zODMtNygtLisBCgoKDg0OGxAQGzIlICYtLTUwMC0uLy0tLS8tLS0vLS8vLy0tLS0vLS0vLS0vLS0tLS0tLS0tLS0tLS0tLS0tLf/AABEIARAAuQMBIgACEQEDEQH/xAAcAAACAgMBAQAAAAAAAAAAAAAFBgQHAAIDAQj/xABHEAACAQIEAwUEBwYFAwEJAAABAhEAAwQSITEFBkETIlFhcQcygZEUQlJTobHRFSOSk8HwFmJy0+EkM4LSNUNFVKKzwsPx/8QAGgEAAgMBAQAAAAAAAAAAAAAAAAQBAgMFBv/EADERAAIDAAEDBAADBwQDAAAAAAECAAMRBBIhMQUTQVFhcfEiMoGRobHwFMHR4SNDov/aAAwDAQACEQMRAD8AvGsrKyiEysrKyiE8oHzlxhsHg7uIRQzWwsK0wZdV1j1o5Sj7Vv8A2VifRP8A7iVepQzgH7EqxxSZx5i5vuYfhdrHLbRndbZKEnKM6yYI10qDx/nnEpiXw+FwyXTZsreuZmbMwOWVtqokkZ18eummq/zjxOxd4BaS1etu1pbAuKrAlDlIhgD3TIO/ga19oGNsLez22bC43DWbdxLsgDEKY7gH1iATvvDAgjZ6uhOwK99P+2b+EyZj9/UP8w8646xew6JhbWXFZRZ7RmD5iEkXF+oQ1yPhTRxnjLYXAtibyDOlsMyKdO0MDKG8M5iY2pC5sxrX7/Abzrke46Oy+BZrBO/mabvalZLcKxQAmFVvgtxWJ+ABNZFF1ARmnv8AzyWDH9r8P+IK5c55xFzE2LGJsW0GJs9tZa2xOkEgOD1IU7eXjp35B5oxmPHatZsJh5ZSVZs+YAEQp0jUazSjwDEpe4jwrsmV+ywQFzKZyEW7gIbwIJGnmPGinsP4YOwbE9pdnO9vs8/7uIQ5sn2vOtLqq1QnMPb+5lUdiQP8+If5q5oxNjG4fB4a1adr6FgbjMoBGY7jpCnpULHc3Y9cX9DtYfDtdXDreeXYCcoLqpjXvGBPxofz5gRf41gLJe5bD2nGa02VxAuHut02j0mg3OPD2PE8Slu7dV7XDyylXIZ8ir3WI1YMJkdTFFVVZC6B+6T/AFySzN3/ADjNb9orva4fcSyo+l3jacMxOSHVSVIifenUVmM9oF5F4kws2z9DuIiat3w1wpLeGgnSlPE37IwXA7ygW7SX4uN0Dh1zsx8yjt6eVcMZdW5huO3kIa29+1lcbN+/J0PXQg/EVoKK98fOf/Wf2lC7ff8AmRx41zrjrLYXLh7DLixbFol2BLsqSGH1QGeJ8KzivPONS++Hs4S3cuWLKXb65mJLMEzLZAEkAuNdeum0jeaP/gH+u1/+muHtLx9lMXcu2mbC43CojLcJAXEIxAygfWIBO+4DAggaUStGKjp8g/3wb3lixG95bGDv9pbS5lZc6hsrCCsiYYHYiYIqRQ7gGMa9hrF51yPctI7L9lmUEjXXc0RrnMMJE3E9rKysohMrKysohIHY3/vrf8o/7lZ2V/763/KP+5XbG4pbVtrjmFUEn0FVDjvaJjbmIdMNbzKoJCKBsOpYgkx4iBVSwHmb08ay7SvxLY7K/wDfW/5R/wBys7K/99b/AJR/3KovhPtIxVoAG9daB7rojDTpMBvHWat7kvmu3j7RdAQVMEHT4xrHzNQrhpa7iWVDT4hbsb/31v8AlH/crliMDddSjvadTurWZB66gvB1opWVeLRWx3DrFhD2n0REYiQcOIYjbuhu8RJ+dDbHFMPjLy22Fl2Uxba5hQR/4y5K/GKh89C6+IysrZAsIQNDpJPrM/IV5yPyy/aC/dBVUMoDoWPjHgPxpI8q1rehfv8AWZHerAI43+GO5VnNhmQyhaxJU6aqS/d2G3gK7th75EG7bIO47I/+uiFZTuzWA8DwPsSTZGHtltymHCz6w+tdsJw17Qy22s21mYSxlE+MB634lxzDYf8A715EPgTr8FGp+VBx7Q+HzHbkeZtvHzy1VrRvcyOwhW5w12dbjNZLrormxLKPJs8jc/OsPDXzm5NjORlL9h3ivgWzzHlUrh3EbV9M9m4lxfFGB+cbGplW2TAn7F/d9lGH7Mmcn0cZZ8cueKwcGIt9kPo4tfY+jjL4+7njcCiWHxSOzqpkocrDXQwD18iKkTU9R+5GQRd4UzZJNg9n7k2JyREZe/3dht4CtMbwXtWVrv0e4y+6Xw4Yj0JfSjU1k0dREO0g9jf++t/yj/66zsb/AN9b/lH/AHKn1o7gAkmANST0FRJkPsb/AN9b/lH/AHKzsb/31v8AlH/crhguP4e6xW3eViNOoBMxoTo3wqZhsbauEi3cRyvvBWBI9QDpUkEQnLsb/wB9b/lH/crOxv8A31v+Uf8AcqfWVEIv88T9DePFZ/iH9Yr52wuKvYd3KMysQVJB3B3r6Z43g+1sXLY3ZTl/1bj8QK+deZcKVy3MpXMSrKfqup1FL3eRO76RYArKYEFurM9hYYYjEAe72akjzmqx7UDero9j1q1h8Kblx1W5iHBVTvkGiz6ks3oRVKR+1GvVbVFPT9yzqH8XxhtppudqIUI5iskoGH1Tr6Vbls4pYp5yedoCmwBvEU8RblwzSWB3k70xcAxTZsrNmBGk6wf7ml6/eG5MUQ4AGuXMygwoifM/lpPz8q4Hp7Wm0fn+s63KC+0djZdvgAxqQJIpF9oXHLllbIztbS8WViojujKe6wPdJzR8DFO2HwYXU6n++nrXHjXCLOKtGzfQOh1jYg9CpGqnzFemYaMnElO2xgoJEk9STP40C4ziLIPdFM3MPskxKEtg7y3U6JcOVx5Boyv6nLSje5D4tMHBXCfJrZHzDxSjU/GTPJ7wPmBsDeXEWmIAI7ROly3OqkdTEwehivpYVTfIXsrvLeTEY/Kqocy2AQxLDY3CO7AOsAmSBJjQ3JTFS9IyXAixirxtY13Huuihl8SJhgfEDSjdjiFthIYD10rlxThi3hvDDY/0PiKXr3BsSuwnzVh/WDStj21sekaDNlCMPoxofHWxu6/OfyodjeY7NsEgM58FG/zoIvBcU2hEDxLAflrRjhPLy22Duc7jbwB8fM1C3chzgXB9mSURR52HFMgH86qz2m80XrbvZt3F7IjKVUAlwV70tBiNREjpVjcVwZu2ygcpO5HUeHiPhSQPZuxYE31XKDlAXMNfEHpPSn1cq47dvuLMTuARCfj1vLb7Rijkd4HTeJOXr5RpU/lvj1yxdF1LZIzFVzORnUjQFVBP+YTTNg/ZjcCntL9tnBJRgh0JIOsmSNIjwJrbA+zzEdnluPYUh83cDNmiYksARv5+tMWuChCnvIIOdo2cr8yDFq37p7bJEyCVM/ZaBPpFMFJXL3Jl2xdFw3wsfVtg6jwJJ2+FOkUnUWK/tjvJQtnee0t8wcn4TF5u1TK7QC6HKxjbxBMTqQdKZKEcc4N9IyHtGRrZLIVjR4gEyJ90suhBhm1rQgHzNVZlOqcitZ9kvDFZSy3HIOge57x31AAzbU2WuBYdSCLYkbSSYj1MULHKZM58VeOsrDnu9wqdyY1ZoiCASJO9Hs4tqqkkkCBOpaB1PidNT1NGZBmLeTJLMAJOgqJexWsLB+PXp6zt6xXFS9yYOnrp6Hx0nT/T51zvX7KTaN9EuEEAllzLPUA9Z19aCQPMoTkB4zlVrtzte0W0hgkBfDcjWACP6eFNGCwiWkVEEKB8/M+JoFh+UQoyDEXhaVSqKrZYBzb5YBgsIgDbWakpy4A6ub95spDBWaQSHzajr4VRa1XuoyXZ2byYfrKysrSVngNe0u3uWA1y7cGIvIbrZnyELMKyrsJ0BTXf92omJB1flkmB9KxECZ73vSAIJ3I028/jRCMKsCJGoNb0M4Nwv6OpUXHcGIzmcoAiAOnh6AeFE6ITK0LiQJ1O3nW9BuNcDXEPbc3HRrYYKVjTNl11BH1R8z1gghDNZS0eVjEfTMTsATn3hSs+R1nSNaIcK4UbLu3bXbgcKArtIQLm93zObUneB4UQhWtS0anQVtUTieDF6zctMSBcRkJG4DCNPnRCd0cHYg+n9+BFbKwOoM0sJygqrkTEX0XuyFbLOVQo1EHYa6ydNdK62eVwrT9IvxmzZO0IX3wxAAPWIPjJ2ohGSsoVwbhZsZgbr3AcoXOxOVVUDckyWbMxP+aOgorRCRsbiltW2uNOVQSY8BVZXfbLaW/2RsdQD3iCN53WJEARO8xNPnN1jPg76yB3Jkx0IPXQbV8+YzDhO0VLi2QCuYpbWQTaA1M5iWBZoAG0wJBqQISz7ftHuXFKpbTOYhtYyn/KdjtvTpwNheti6/vH3h/mGn5dPOvnGyVtG2o7Y5ln6rNlZWLk28+4VARoAATM6S6+zXmxreKt2CzFLmVGQkEKWJyMsElidJbYSQQIrFanVtLaPqUAI8mXd2QgiIneNKUcRyUM5NtwFJmGkn/mnKuOIvrbUu7BVUSWYwAPEk7VZ0V/MlkDeYI4NhbmHYWWuG4hUkSIymRCjUmIDn4Hyo6KEYTH2r+Z7N23c1BTKwMgDy6Elh86G8T53w9m4bbC4csZ2VRCE9DrJInUAGKFxRk1Sp2PSBGmonEMdbsoXuNlUfifAAak11w99XVXQhlYAgjYg7EVXvtYx7WmsHXIVeP9QIn4xH40WN0rokKuthha97RcKpIK3esQo1I6b6US4zzIli1bdR2r3RNtFMAiJLFuiCRJjqNNa+fb/HSXMwB012+FHuEcX/e99/8ApzZ7AP0tO5Lj0B11/wCKwW1/DRhqVzVj5hufcRm1Wy/+RQyk+IDliCfDTXyp54RxK3ibS3bRlTIg6FWBhlYdCCCDVMYXg103hJVUWGNye7AM909Segqx/ZqhOGu3tQl++922D93CoCPJuzLjxDT1q9LMf3pk6geI31leExQ1+M2wJ7xX7QU5f4jAjzrVmC+TMSckvGYtLSl7jhFG5YxSFxv2guTlwiCPvLg39FkR6n5VvxfJii5ds3W3roEOqlR5rBnrSxgeB4nFHLZtwmxdtEHx+t6CdztSr3Mx6VmTs3gSweTePviAyXQudROZdiJjUdD+dNFAeU+XEwVrKDndozvETGwA6ASaic54xkfDBWKguSYMTED/API1qXNdfU3xNq1JwGHsXjAi5ve9P6mo2H4yjaN3J2JOh+PSlvAYsi8Uuk5Gn4z1P99a7cVtxnX6u48RXNfntgtX936jY443pPmOVe0u8n45rlmG1KaT8/6j5EUw11q3DqGHzFWGHIK5owBv4W9aUSzJ3RmKyw1HeG2oFfNnEVIMNbTMJUIECFFDuTlk5s0nLJE6CCNK+qaVcTy9w3Gt2gFu4feLWrm+YkZiUMSSrCd9D51oDInz7Y5evYgp2FsFoOgJ2P1pacrTqfMmrX9mnIN6xeGJxKi3kk27YOxIgkgaARsBT7wfh2FswlhUU97bU91sreejGD50YoJhNaUvabh7z4JjYZlKOGbLuUEg/AEgnyBpurVgCNdqqRoyWRuhgw+J878AN69i8OltocXVZSo1EEZix6jLM+Vd+N8Kx1m9ctXBcuZnZpALB5OjAj8idKuvg2DwQLXcKtkk6M9rKZ6wWWixQHcCs/bEfPqLdWgQDyPw+5YwNi3d98KSR4SSQPgDFSOY+X7GNsmzfUlTqCDDI3RlPQ6nyMkEEUYr2tM7ZEGYsxb7lNL7C0F3P9Md7YM9mbYDERsbgYxr1CfrXvDeUUwyYrA3wRbuEMruyBmHQrB+qRvA6aVbn0lM/Z517TLmyZhmyzGbLvE6TWmKwFq7Ha2kuRtnUNHpI0qCuwDESqeA8Lt4ewuGRXxbIxZ+zTOGk7ONgCvdgmrZwrSinKUlQcpiV02MaabaVtZVV7qhQB0ECPgNq60BcgTsXeZ+MiyVtO6WluqwDuDBOxAMgKQCDrv8KUbnOV4h7NrB9uypJNhu0XLtMKJ6+7v8jVl3bKsMrKGB3BEg/A1HwHYDMlnsxkMOqZe6d4YLsY8axegu2k9pkVJMT+VcM2JydrhHt2rawDeBBJ0AVVJkLufDQCnm3bAAAAAGgA0AHkK6Vys3VdQykMrAEEGQQdiD1Fa11hBksBk60A5w4S2Isdz30OZR4+VMFeVLKGGGWByVBa5gGUJfBDDQOAf6a9RrRThPEVxR7JGZ7mTUqsADbvFo8v0pvxPDMDincMtm66GHAIzKTp38pkHTr4VP4fgLFoEWbaIJ1ygCT5+Jrnj06vSD4PxN/wDUNkj8vcKGHtBJlt2PnRWsArK6CqFGCLk6dntK9rkrDKgQNdgAD3hsAy9Bpo7DSPzloqJisUqEA7n8F6sfLp5kgVJIHmECNyXhjM59c53UauADEL3RAHdEDcRBIPS3yph0dHUQVYMTAk5WdgJEQMz6jYhFHQUUtcTtMzIHGZVzMp0IX7RB1jQ61NoBBkkET2uV22GUqwkMCCPEHSutZUyIuX+VcOSrO7lhlAZisnLGUHugGAunxO+tduG8tWLF1blsZcqxAAEnKqhmI3IVSB4Z3+1UPn69bXDwwlz7mpGXxbTy/Oqu5V54u4K+VYtcwxaHWZybS6eHpsfWpAMJfVZXHD3ldVdCGVgGUjYgiQR8K7VEIG4hwC3eLFmcBipZVIALKIDbSDl00IjQiGAIhLybhtPfMFSNV3XbZR8/U7sxJzF3ygECSTXI45QjMfqjX40s3JRXKHzJyceEcGt4bNkLEtGYtEmCxmQB9o/hRWh+A4gLhjSfKiFaVWrYNWRMoBi+V7VyczXIm4QoKwO1OZ4ldQWkwZ3jbSo/OHNq4Hsc1s3O1YiFOsLlmBBzGGmNBoddpr3jPtWvu4WwgQNcTstCSy9c5kLvoVjxEyJrQnJIEsX/AAdhpBOckMWE5e6T9mF06RG0CvcDyfhrTK6hiViA0Ed1swMRpqAdIkiTJ1pP4d7SrqXL7Yu3FsHLbVAJzC4FjNOoynMSfAx4VY3C8cL9m3eUFQ6hgG3E+NTDJNryvaWOP8WuC52Fk5SAC7xJE7Ks6TGpPmKo7hBpkSRiuWbLtnZ7k5847wESSxUabFiTrJ840rg/JmGOneC5OzCgiAuh0GXQggEeEUu38EGlmGc/aczr6mTXljF3cMc1kkge9aYnKw8vsnzH40sOUN7iaGtgNlk1lROGYxb1pLqe64kTuPEHzBkfCpdOTOL/ADLzAuGXXRiJBOwHj5nyFV7xTmRcQwyXCUMZl1BJE6mdW8vDpFN3NXKj4sZSRKuzoxYgw0SpGojRRt9UedVxjuC9hcNu8ShXwEyPEHwNK63UXO59ZO56YlAHUTrfWb/KS7961bIe2WM+94+e+9GuXubbgxFpO0LWZCwegYQCdJ0aPQTSliEknKZXp6edGeV+W7uJcHIRZkA3Np8cp6wPxjzrTSSDOvyqqPa6rT2z5+z4/iJdFD+KXVWCxIWCdDE7aGN96l4eyFVVEwoAEmToI1PWgXOKfuc5MKshj0UGO80dAQJPSfCau+9JyeQqClwCe0XuN4u1fBFxHgKQCGMhZjz6xSHiuVAgY2XcsQSbV2JPkraa+RHSmfE8OgBymYeOYZImZP2gTr4UDtcb7V+wwoW9ffuqVOZLY2Llo3A+A+MUrU1xbt/1OtdTxkr39ZYPsixDPwy1mM5WdV/0hzA+ExTNjMcEYL/ZqDyZwQYLB2sODmKAlm+07EsxjoJJgeEVy4peZbjSOndPlRz7GSvVOd5xh+M2xHFSxIiIEx12qDiccSRCknLBgHQab/GtMTbLAPbBGXc/hUrCgLlgTA18ydya4DPZY3UxP5w2c7PERoYUEnXSJ00PnR7h+JzrPnA/v1oVZOjKUmdusaeHrXLh2e0BmU7Tsfy8aZovepwTpHzLZsG+0zk18fbtvYIW/bMAs7IGtkGQSs6hsrDQ7EdapHivBb2CxbWbnZM9tYOZmAuSA2ZMwUH3j1gEHwr6itNKgkRI2NKXPXItviIDG49q6q5VIgrvIzKROmo7pU6nfSvRA6NlZQ2DEIjlhafftC5ZXUmCGHQjNE9ADX0ryvjTewli6VCl7YMAzHx9K+d+JYK9gGu2MQt1S5cI2UKLzAgd3UzMrrrGbxqZyrzNisKwNp7j6w9kx3VDjTWQRECQAZJPiamG7PpGkR2PbXyd+1afSYH4RTtYuZlVoKyAYO4kbHzpV5jw5tXjeAPZuBmI+q4ESfAERr4g+NLclSVB+pKHDsj5FHnOs+X9moeIOo8NY/vrWgxU6qQV8fj4mouMxBLBLQa5cbRVG+v5DzOgpDz4jJcAeYz+z9j2N0dFvsFHgCqE/wD1Fj8aaaEcscLOHw623ILklnI2zHoPEAQPhRiupUCFAMUnlC+KcBw+IZWvWbdxlBCllmAenmPKpHE8Kbtm5bDZS6MoaJykgiYBBMT4igt3gWKVCLWLIPfIUqcozA5VHeOVVZjGhMBR0rSSGKnRN7vJOAYR9GRf9MrPkYOo8jRrD4RLYhFCiAPgNtd9KAfsDFNbKvjG7yFSACYJEe9ILQJEwvQwDJrL/Ll8qbYxbKmRlUBTKE+6ysHBXIsARB3M1GCWax37MSfzMaa0dQRBEg6EHrXqCABW1TKRD4t7K8DfcsDetKTJt2rkIT4hCCF+EUa5b5OwmBBFi3BO7MSzH1J6eVS+McIN8oe0yZA+mUMCWAAJDeETpB8956cCw963ay33z3MxJYMSIJ0iQI06VOmEJAVpcthhBAI866VD4nhjds3LaubZdGUOu6FlIzDUaiZ3qpGwne3aVRAAA8BXn0ZJnKJ9KAjgeJEZcWEGacqWoUL9kAudvHrJmRAHJuXcSSD9OfMAQG7MaAhQYBbWSsmZ36HWq9C5mQjRFe0vfsjEDLGLdiGXNm07ndDaDclQ0bQWnWILDVsEJlZWVlTCQ+I8PtX0Nu9bS4hEFXUEa+u1It32R4Nr7XRcu20zKyW7WVAkbrOUkq3zHjTFa4FiFELi8sGZFsy2qmXl+8xymTtqdK7cD4bibbB7+KN393lNuBlDyCWDbt1GsbnpABCHq5PbBBBAIIgg9R511rhi7RdHQMULKVDDdSREjzG9EIKu8q4RjPZZfJWZR/CrAVN4dwqzYBFq2Enc7k+rGSfiaFrwTEiAuLVFH1UtEAd4HSbh6CNZ3bx0mcKwF625a5iDdBUDKUjvTOb3j0MbDpVAig6BCFhXtZWVeE5swAkmAOpoHxLme1b0Tvn5D59aC86cUbtOyBhViR4kiZ89CKTMTiCa5PJ5rhiids+YRvfnC6SYKjyy/wDNEuB82C64tXcqs2isNifAg7E9NdarC9iDuPj6VFbHtbIIPeBBHqD/AMVjTfaG0tsjvPoEioXEeIJZtm5dcIg3JPyA6knwFReBWsXGfE3rbkqIW2sKCesnU/8A9qu/ahiLt3Ei0p7lpQQP85ElvWCAPDXxrrvb0r1ZHeDw/wDU3e3uDyYZue1PCB8pXEBZjPlWPXLmzR8J8qdOH4tL1tblq5nRtQynT/g+VfOuKwTD3zJ/vemv2TY65ZxXZSeyu6FZ0zRowHjpHx8qyrv04Z1+f6KtdXuVfA+Zd6bV7XgoVx/EFUCKYLkyR9kb/mB8a1utFSFz8TzqjTk74vitm2Gm4kqJy5hJ8opYxHMb9oFzMCRmAQCAPjvHxoFxbFQXQDKq5RtuxBMDwgRrS9jeNpbaXeDGgE6f1rh28u2/AO34AxtKlA7y1+EccFyFYgzorDqfAjoaO1UPAeJB4dGkEgny8/WrbQgiR1p/0+93BV/I/n/GY3IF8TjfxiJ7zAVtZxKP7rA+hpH5pu30YrMLJI85P40qWuM3bd1Yc5gw21jXrFQvMtNhHSM/rGhw09rrLgS5bt0KJYxUTD8XtO+QN3jsD19KG3cel6CjwhBAPjrvrqKAHDWbOKt3GuEQw6yD/Ua1Q88m7pXOnc/jMquOGU7u52lgzWV5UHG47Kcq79f79K6buEGtFJIxeKS0he4wVF1JPSl1OfsEWy53H+Y22A/KfwqNzBgfpQVbhYFDmXwzf5l6ikrCYizffKQFIJDCeo00PqDXOu5zD9wfzlHJWXDh763FDIwZTqCDIPxrtSLyXeFq+1gMSlxcyjoHG8eErr8BT3TvHu91OqWU6Ir828vG+O0txnAgg/WA/rVZcRttb0YZSOjaetXmyzQ7EcIsXJzKG+VZW8JHbqBwyZRFzEDUyPnRrlTltsZcXOYtA949WHgv61aNvlrCToikxOkbHY+lFcJhLaDuADppQnDVTpOyJ1UACBsNKRue+BszfSLaltIcDfTYx6afCnusy0zZWHXpMZ4vJbj2Cxf1EoXEWgdhTh7PeXCHF91IUarP1j4jyFPh4fh2bN2dtm3nKpPz+BqaEFL1cUIdJnV5frTXVGtVzfPebChnHMIzqGUSyzp4g7x56CilYa3tqW1CjeDOGDh2VNx3Dw2cbMdR4PET8gBHlS9wPCtZZ2bC9szMSHkaCdNDsPOrrxfDsPcP7y3bZjpqBJ0+e1CTytZDQlwj/KYMenXqPmK5DcG6vejDv8Iyty/MS+EcNy3Hum2trMoGVTOsySQNB4VaHDrZW1bU7hFB9QBUHh3BbdszJdh1aND5AaT660Xprhcayol7PJ+BM7bA3iKntG4s1jCEJ/3LrC2mkkSCWI9FB16SKrLljgl7EtltCY95tgvlP9zV24vA2rhDXLaPlBgsAYB339B8hXWxZVRCBVHgoAH4U61fUe8wMXhy0UtqttySogg7E+I8PSlrHctYm7cAyECdWYgKB476+gqy4rIpY8Grr6x2P4Rqvl2IMEE8F4OcPmAv3biEyFcg5Z6AxIHlOlRuOB0PaBHdTvkGYrpHujUjTcA9aYIr2mLKg69Ji0Q7WLu4huzsW7gJMNddCqoOpGb3mA2HjUNvZYi3C9rFOoJmGUMRPgwK/iKsTMJiRPh/fqPnW9YpxEUEN3kEb5gjgPALWFWFl3PvXG1Y+XkPIUXrKymFUKMUSZlL9zl0m4X7e4oJJNtdEMvmkgakwADr4+JFGMTilQSx32HU1E/a6z7p/CsreVVWel2wy4Rj3AgvD8phFAXEXgyoEzgwSFYFS0aNABXaIY0U4PwoWM/fZy5BJbedf1rXG8ctW1DEkltlUSx+HT1OlL7e0O0jhLti9aU/XIUgebBSSB6A1f369A6h3mica1xqqTHavCK5WbqsoZSGVgCCDIIOxB6isv31RSzsFUakkwB8a1mEW8NyalpQtq9dtwio2Uxmyz3j4HXpt8aNcJ4f2Csud3DNm77FsugEAkkxpPxpc4n7R8Ha0VjdjfIGI+YUivODe0rA33CFmssTA7QQCfDN0+MVT3F3NkaI6VlZWVeTFrF8tq927dW/dttdYMcpggrbyDKdwIMkbTr4zxv8v2kXPcxNxYBBuM+U95AurSPrAPG0gdKH8z86/R73ZWrYcoRnLEjzyrHWOu2tDOecamKw9q9ZdXRGOcKZNvMBGcdNQyzWT2gbnxK9XmN3AsHaV2upie3JGUnMGHTqu2340eBmqG4LjLqXlOHVjdOihZ18mHVfGdKvHBMxRS6hXIGZQZAaNQD1E0V2dYgrbMx+FF21ctEkB0ZCR0DAjT50AwnLysBlxN8IpjJmKkECIaIM7Ek7nvdZotzDxEYfDXbpMZVMf6joo/iIqqbHO13CthYdGFxOzuFpabhdyJAIOZVZZPgw8qiy0IwECwByWEnLFwE/9ZfiABrJ85mQdljykGaKcF4X9HQp2j3JIJZzLEhFWSes5J9SaCcB5xS9c7J8gJ0V1PdY/ZIOqnw3B9dKbauliuNUyQQfE9rK1etKvJgXGcv53uN29xA5LQhywSiL7wIJ/wC2pHxqTwnhXYM57W7cz5dLjlsoURCgmB+Z6k0I5y421hrVtGyl8xJ8ht+P5VnKvFmdsjuWziVk7EbgfD8qWPJUWe3LdPbY21lapW1MysrnmfmFcPxE272YI1lMjdBq86eJO/oKl2uM2JAW4GJ2A3M0U5w5PscQQC4WS4vuXFOq79DoRqf1pV4P7N2wb9u2Ka/knKgTKNQRJOY7T0rjc/glybB/mTpVXVFAG7Edvzhi1g/3zXiYZoUCQYA6nTfXxrlxbC5iWYKwAgyNq7nENqcqHSBlbr8q7qAQoPeEjcbmdiOvpXJSwg9jNVdlOyfydbKYVQRlSTkB6W509J1I8iPSg/FbDYm/dzYhbdpcotqAGzQN9fMtt5a06XUlSKqzmSy1m93lGhlPMxABPQama9LYOlQPiLcbjryrG6jh8wHxvgl8PKYskAlpyartCkLJM+saUFs2MUGFy9ca4gPezW5VJ6wRoOnxphxV933Gza5dA0iR5+H40J47xE4XC9m1wLdusCAx1W2DuRqSTsBWCee035Xp1VFRfqO/Et7kjH9pYy7hIAI+yRoNfCCPSKZaTfZfwy7Zwee+GFy83aZWEFEgBQR0MDNHQsR0pyroDxOVKY9q/Dvo7reVnbtmctPuodDAgT12pW9n3ETaxlgkRLi05kwyvoQwnxMwQZJnpVq+1bg74jB5rYJa02cgb5MpDR6aNHlVCYIw28EEER5GYBkawN/CT0oCgeJZQBPqfD4K1bJKW0QnfKoH5CplrahPLmON/C2LzbvbVj6ka/jRa1tUysrn2ucVdRYwy6JdzO58QmXKPTMc3/iKT8LwwPbT9yhyhwGcZvfjULsCIPe3knyqwPaByw+KuWbqkZbSXM4O591hl8yVI+IoJavr2YUDyrhepWvW/Y52nQ9O4qWMzuNzBFKzy9cs627hIBkI2wE7Ken5VYHInM1xrrYLEAl1XMjQZy6aN5aghvA0MxLLk03pm4TwbOmExI7t61pP27LEgq3jCkMPMDxqvp11llhBPxs09S4taKHrGd8I+41tXC9iEQSzBeupiuGNxRAISC0fj019YHx8qqjidrHOS9p0LHcOO9MiZzGPHwjQdK6913tkD7iVFHuAn6+pp7UuJA4xCrSoRYM76ttUTl3jVxLtszs4PwnX+tFcDhbroLWJs23QmCQMpXoGynSOshpHwqXw3lAW8TbUMWScx2JAB2kbz40gSbLOw7zW2noXQf8AaWolbVqlbV14nMryvaA8V5dW9eF8XXtuFVRl2GUsQSOpAuOB/qPlBCEL3DLLGTbSfGIPzGtdbGDtp7qgeca/Ol69y3ehQuNvHVcxLtMKpErB3JIPgSNZ2J7A4c27aoXLkfWaSTr5kny1JMdTWftJu4N/KT1Hxsl1B4lwq1fEOs1PpYvcvX891kxZTOSUBQnsiXzSO+Mx710eEMoju63IBGGAJB0Tta5VsjxHpGnpM1y4XyPgbF3txZ7S9M9rdY3GB8QWJC/ACtl4FiJP/W3ANYGU6aNGpYk6sDv9WNojR+X8Qd8c5AAgFAYYEHN72uoPpNQqKvgSWdnOsdjPWUL4Vw+7aLG5iGvAhQARGWJmNTvI89NSaKVaVnI2/Sq/4h7JMHcvi8rPbXNma2vukb5Vn3QT66aCKZOLcAe7e7ZMS9pgoCqJKyA4DFcwzEdrc8JlZnKIi/4ZxGZnGNZXeMzLb3gRsXMfmPHeSEYMLg1totu2oVEAVVGwUCAB8KkosUEscLvrcRvpLOskuDIkakBRt7xXXwUiDm0O0QmpFKHE+TczFrLhATOQjQehGw8opwpOu8Ivk3eyxRXtM0QrRqxIZu/qwVik6CBb0gAVhdx67hjjZrTe9R1Dk0wfKYRgbz59dEUbnzJ6dKYVZ2nJosaDpp0+P6edALnLeMYica2U5sx1zCYgRqGAg6SImQdKbrKZVAJkgAT4nxop41dIxBkm6+y0652cbWEVRpv4np/evzPjQLjHK5vEsL5tt9oKD89YPxFM9D+NcOXEWjackKWRjEfVdWjXTXLHxrVlDDCJkrFToORZs8j3R72PuH0tW/6g0x8J4WLCkZ2cndmj+gihjct3ZYLjLyoQcsMZSdAo70EBYiRM6z4y+HcJupc7R8Q7+/3CSVhjpudwAB8/GqrUinQJdrXbsxJhpRW1ZWVpM5wv3ggLMYUCST0FJmM5wdmIsgIo6tBYjxy7Ab0Q58ukWUWYDPr5wJj5/lVZ4zFKjEwp08wSfLygn8a4nP5Vgs9us528x/hcQXaW8COmH5vvIw7QrcB+rAU/+JH/ADTlwziSX7YuWyY2IO6nwI8apvC41SRO42G+niT406cjYr9+ygnK6ExH1lI/U1jwuXatorsJIP3L8zhrUOpfEf6iYzHW7K5rrqg8WMT6eJ9KEc18QvLb7LDAtfcx3dezXqx6L4An16Ug4zl/HMZxLNMGC759BGggn+ldTk8v2gcG58/AnNGs3So0xwx/O9tf+2AwBjU6n4Db1o/wziQugSMrETEzI8jVL27Fy1ckkgQRAMT6+NO/J+OOfKT1BH5GkquVZodm0H4ydNuJ/wCHqK4fzlh1leA17XanMnO44UEkwBqTQbA8RQNdMQr3Jzaa9xRJ1npHoBUPmXiQY9iuwPePn4UPEZI8q5nI5hV+lfiapXo7x4qLisWqAknYSfIeJ8KH8t43tbEEnMkoT102PyiuHMODjC3J7zRv5Tr/AF+dO+4Pb6x9bK9J6umQsTzD2jdxcyabmIPpE9d/+KJ8O4rZIfvFSBmZWI0HiPHX+lKfKfAV7EtcMlzIA0Cjyg66iflRP/DFoNmZ3fSACY/Eb/GuUnJ5HUWBBX6P6R0VUleltB/CFb3MqDLlQmerd0R5bzUzhnFVu933XAkjy8QeoqpuJY9hee0GLdmxUHy3FHuRb1x8UpJMQ3yyn+sVlTzrzcA3g52j9/pSJQbAfjZZ1ZWUC4xxVkbIhAI3JE+egnwrscjkpx063PacNELnBDTuAJJgVDxfFLdu210mQCV06sDED40m8Q45iGtsjxmHVBEaP1zHdfT86U34g5hCzEAQBO07mJgyZ11pCz1Rf/X37SbKmrONLc4Vje2HaAQmy/5j1I8QNp6kHpFEqR+SsReuHMLYZQMvaNd9xfsrbA02Hh0p4rocew2VhjM4H5k4X29koCA4OZCftDofIgkVVHEMGUzrdXvA7RqP1q6zvvvULiPCrN4fvUVuknQ/Ma0rzOF75DKcP94zxuS1J7eJTv0FYPSRvJnxp/5E4awBvuIkZUnqOrfGBHxota5YwiEHswTOmZidfQnWjQA2/DyrHi+nMjh7DueJtyuabhgGCapaC7ACTJgbnxrjxDDB18xqKl1ldN0V1KnwYipKnRK/41g7ca70NwFzKctpSzHdh9UeHrVk3cJbfVkVvMgGt7dhF0VVHoBSNHpy1Nu6N0CN2cx2Tpkfg6sLS599an1leGulE5XXE7LJdcHfMT8zvXOxiGBO2tMPMHC79w5lyTsDMSPA0LwvL2LkZ1QDyaf6Vw7uJZ7n7A7RpLVzvDHJmHKpcY7Mw/AUxOoIg6g1wwFgogUgCPCpJrr1V9KBZg7dTbFbFL2UqBEHujpE6fhUTEY8+6vedvdUf18BTHxLhdrELluLmHkSCD5EGQa4cJ4BYw5PZKZO5Zix+bEmkG9PbqxWxf6x1OUgTSP2v6SouI8vYy3iXK2Ll4OcxZREE9DJg1ZnJXBDZTtLgi4wjL9keHrTPFbU0nErR+vO8i/1G26v2z4kDiePWysnVjsPHz9BNKePvm5mux3t8o6kCPhMCnPE4dHUrcVWWNQwkR8aitwiwxnLtpCsQOnQGPCuf6lweRyTisOn6MwotSvyO8TsNwpL4F0to4ExGkCCNRPl02qXgORsM6hwbizOgPgdGEiZpkHArAMhAPIEhSfEqDBP50SQeFHD9L9pibDo+BC+4WCRcDgFtquxYLlLRqw8yZJ+dTa8rK7AAXsIvAnGOFWsQ6ObuVrauqFSNGYoQ3qptgx166VBXl4xBx106DXNrpk11J1/dzP+Y0wfs+z91b/gH6Vn7Ps/dW/4B+lWhAH+HUJBfE3GghhLnukIy93vSujHUa7aneu+D4OqXVutiWfKRAZugR1g66+/M+I86Mfs+z91b/gH6Vn7Ps/dW/4B+lEJ17ZPtL8xWdsn2l+Yrl+z7P3Vv+AfpWfs+z91b/gH6UQi4nLCICLWKuW5HeyvoWkEtEwCQoXboOsyQ4bw1bTm4b7OSpU5m97vAgnUjMNRPmdhpRP9n2furf8AAP0rP2fZ+6t/wD9KITr2yfaX5is7ZPtL8xQLmDD3kCfRMJYuk5s4fKsQpKxtMsAvlM9KF2P2hlbPw/DZv3eXKykEEfvA0kEFTAB6wT4AkIwcZwNrEqqXGGUNmIBGvdYRPT3txrUHBcFyOjHG3XC7qz+8ZYyxmTq222kRGlB7NzHs5/6GyoQQy5FAZiqmQzGGE5x3Tp1Nb2l4gAJwNgkCDpb7xzRM9oI7onQbn5EI6dsn2l+YrO2T7S/MUkYc8Rgg4DDFpY6hREl8o96GAATUGdYIBkjph14gHh8DYZMy6/u5CllzAQwHdXNE7+exIScnLNpWLJibiZrl244V8oc3LheCFI92SoO8E9Yj3/D4/wDnbs946XCN9phu9EaTNcMO2J7a2tzA2UtvcKkhAxVBnIYlSQsgW9/E+gZv2fZ+6t/wD9KIQA3L+8Y28JA/94TBAOoltCSfTU6bEG8Aq20CdpnidWaTBJIBJMmAY+FdP2fZ+6t/wD9Kz9n2furf8A/SiE4cXspfsXbBcKLttrZIIkBlKyJ00mg93lxIZbeKuWlOWFS4QAAACNCPegEnQ+BFH/2fZ+6t/wAA/Ss/Z9n7q3/AP0ohFy9wG4SYxzwSCJc9Xlh3WGmXbrPWNCR4Pw1bDO3btcDD3WbQHMWJAmJJaSYmZ9AS/Z9n7q3/AAD9Kz9n2furf8A/SiE69sn2l+YrO2T7S/MVy/Z9n7q3/AP0rP2fZ+6t/wAA/SiE/9k=',\n",
       " 'data:image/jpeg;base64,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',\n",
       " 'data:image/jpeg;base64,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',\n",
       " 'data:image/jpeg;base64,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',\n",
       " 'data:image/jpeg;base64,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',\n",
       " 'data:image/jpeg;base64,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',\n",
       " 'data:image/jpeg;base64,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',\n",
       " 'data:image/jpeg;base64,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',\n",
       " 'data:image/jpeg;base64,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',\n",
       " 'data:image/jpeg;base64,/9j/4AAQSkZJRgABAQAAAQABAAD/2wCEAAkGBxMTEhUSExMVFhUXGBgaGBcYGBgbGhgYGBYbGRgYFxgaHSggGh4lGxgXITEhJSorLi4uFx8zODMtNygtLisBCgoKDg0OGxAQGy0mICYtLS8tLS0tLS0tLS0tLS0tLS0tLS0tLS0tLS0tLS0tLS0tLS0tLS0tLS0tLS0tLS0tLf/AABEIAKkBKwMBIgACEQEDEQH/xAAcAAACAwEBAQEAAAAAAAAAAAAFBgMEBwIBAAj/xABAEAABAwIEBAQEBAMHBAIDAAABAgMRACEEBRIxBkFRYRMicYEykaHRQrHB8AdSkhQVI1Ni4fEzcoKTFiRDY7L/xAAbAQACAwEBAQAAAAAAAAAAAAADBAIFBgEAB//EADIRAAEDAwIDBwMEAgMAAAAAAAEAAgMEESESMQVBURMiYXGBkaHB0fAUMrHxI+EGFUL/2gAMAwEAAhEDEQA/AEnHOaVKgQFd7BXOAN+cE3ih5xRNp+R5+v60/ZXkrTinklLa0pUEpUqZskBUcj5gaIo4Iw7whAQFAbaQLwNiByvS7I3HdaGOpe6IPJtfqn7BIS0yhtOyEJSPQCP0rh16LyD/AKaFjFLR5F2UAJ+W/pQjM8frOlsqBBMqTPlGm82NoPvy2kY6KGWaoMTmnBsfDx6e6gylc4EsymYBDohQSSORgx+zS9xjlSSEuoAlsyY6bKn2NBcLmS8OCBJJ6+eASSCCImSSdyd6ss8VF1GlSU2CvEUNjAOnTPI79o35026jlp5A5uwNx1/DsoT0sscd5Bg4xskPMUkL1p/6Z3jkep7belSMza/7tf6f712MOpSlJw69SjJCEokAwbEm0eoja9Gcp/h68QPGdMdEn6WqyqqiKJodIdN+SJw7iEgbpJ1W2KpJxqTZSidrD7cjNC8NwvjlyUsEiSQdSBN+5rRcBwS22ZST7014PB6RAqmk40Gd2Aar9b/ACLWyfqCC87bAeKx/F4BxtRStOlQEwd/ntz5GKjDJ7DfkPxG8e0bRWsZxw6ziP+oDqGxBg/70p4/gZaTLbxI6KAn6b0aDjDHCzzpPr/v2T8XEgQAd0salJEiB1MAc5HyMXoVmWZeKPBSbAjXzkgWAPqB+xRLP+HcW2CZKk9BafQ/pSzlv+E5Ck3VyPcWB9j9auaZzJG9qCDboka/iBktEG2DsElaLkWXLSNQk+WBcn058vam/K8Mst+cCQfiKhPWYHtStw5iNaUiRAibR7H700YtQbRIn9+tCjqLGyaneSA38wrq8UlGHJhSiFbASbTy9orOGsLiBiFKdbdDQKQg7IjSI8xnczTB/8sbS2J1lsrAcDaFFWgJMlKo0yFaSQSLTY2pqbS1i8KlLagUgjSpIsQk2VB6pgxyJp8DtAASqJ00UkgYDi97jPxysgrr8MrLrWmSPCSSFEpiCVAT6zzk2oPk2XAYV55wAKfbXPOEaTF453V6EdK44xy15oCTqSSAFExB+0xQDiriZTiW2GVaUKZHiDnqkBSQeQGmO4UaYa9jcdAiV0T3xRwxG4JyfAZA/NyiGVYlKUIWCkHSOaLWPWNrR/wCVS43FKW5Mg8gNUiI2sbgAknud6XMqxqoDYn5nYfQWB+XzY2GFaQSSfn6nflabHkBVdqIGlahgYLPO5wg3EaU+Gl1cmDeIFjcc/T0ocWm32VLaJ8u6V6dQA3gg3HqBTBjmErQUqm+03k6ki/S6pMbaedBTikMEhllK1iJk7Edt1DmIkehpmn7zLbLG/wDIGsFXZn7iAT4eP+0a4Kz9YQGnJGmyVXuhPQ9UyAe0d60LBrC0nVpKTyInV6jnWIt8RPB0qUry6lEt6RureOczymn/AC7GvNBC1IISoJNoJQT+Ex351CVzWPF+aoZqOUXkYMc7ckdzbg/DvA6E+Go9Nrdvwj0IpfZ4YOG1q/s6HSQAmXDoBEybpJPLlTVgM6SsAFQ9zHzq3i8QNEpgg8+XsK85ztN2u+vwoRVIYLOFx0yPkfngsuzV3HAEpSlsf/pbM/1GT8oqtgmsStvxRijrB8yFIUSlMfEpSQY6QelaLiMUE8wR0P35CusGhCJcagarLFoUJmDH0IpWeukhb/naHN6j6gg/CtqL9NUu0w3Y7oc38iPqFnrOpx5t195paUwFQFp8oJncRzPSqOe4h19ZX4C9Isjw1nQkcoOkSet/pThi322zIYUFalalK0hubHyASTuOVpiaXMzzZThjUuOiUgmPc2+VWUVRdwjiYNNhkHGc4G66+kDQZJXZuQBbPvgIDgcJjCSQFpSkxKpFxuOp9qMZRkj2JV/irCWkkanBvP8AKmRBPrt+Y1eJdbB0OuJvJC9JHy5e1Wspwb+IVqdXoZSZWu4nnpQDuo/Tem78spR7cXuE78W5QBlwGGUFIbIEAzAV5dSuc6iJPcmhOTthIw+HYb8UuBbjkqCfGW2D5ATbTaB2B5maWXihbuhlXhpNlGSSUm2kmbk9PtTPgXmmMc1fWsJSlloTKFLBSSpRiABPXc2oT3EoW316og1mCvHeQoBAnW9An/E8ukc5CRYcvLNMjKSEgJe0pFgDpkRaDqTPzpeybHtDE4tpTaiVOCFhMmLEzvCZj2irL+c4ZKilSUqUCZIcKQTzOnSY9JNKsZkuJvf4VnTNsxc5vh/7OC2hOlI/PqTvfr3ofk/EBS8hEXUVX5jSAb9d61DG5Ew8dTiNR6yU/kaqjgzBBQcDICxsrUudo63tQZZGF123T0tQ1wFsdRySXxPnnmbSRMCVnaUyPKbGxuL0FxmYn4RaBBgCQVbq5nSRpRY7Cjn8ROHi2UPtSQLK5kRdJ22kn5ikbUUwR9LjpHSDUGTtOx8+q0nDxA6BpbuP5urzzaiCqBtMTMWMC+6YBPaqgbQIDk6SYEEDlAmBtty510jFLUYJMbCLb2ttIN/SuQQ8+1hwLE3I6/hG1ue/T3qL5AXi2258gpcUOukc13pbry3Tjw5kCVqS7s0Nk21KIt5osAD03508IQBVbB4dKEhKAEpGwFXmokTtWLqah1ZNvi9gDyF/y6zUcIhbYb8z1KkSgDlUzbJr1CZlJseX6VKhZ579RVrBTN3dt7ed/H+UNzyoXGZqutv5UTIvNVn242odfw5ti8fnj915jzsUKew4NiJFKPE3BDOISSBoXyUORp4VUK0VSQ1EkD9UbrJsOuLO2WKpfewS/CeSOy4ssdu/ajeKzpTqEN6RcFR1SbCTEbfhNzMU4cRZI3iGy24J6HmD1BrOHEBtWgGfDgDefIAmZT8MzvtIO1a7htRHVHWR3hv0PirSjj7U6XC7RnP1RbH5YkhIKylIk6QCEiCAoiSCRpOqYiUxRPKMQrDFKEKJaWQUySTJvqvtMbd6VmsSZAUbGyyPxCfxA7He996uZnmStCGYEIhKHL2T+ISBC4JibWTzq7JYQeSBxWjnJjkhy4Ek4AuLbHrsjXFmdgtlKjN4jcme3PlFITHDWKcIc8LSAPxnST3jePanrhEMYhx15CTIWQCrkAB8IPw3k+/TZ0/u4EczVZ28kbnNaLkcyhOkilY2+B0GDfbdYmcO80oKU3MdL1fHESIsQOwBEc9gO1aTmOThQKSN+X1FIWbcMOpCtKQlRIJKTM6RF7DTO8AEX3qENTHKT23dIPkjmqmjAEI1X65t7IZhcxL6lOBQhJICOZmDI95t2obxCCEoXfc9rnn9PrVnC5W9qUtDVhZaREA7+Tr1jvVjGMh1pSXNSV2KSQdxG49uXKauAWBoI2WQqZpJKovk/dsfDwt4JcyoFboJMwZk9epp0zLMUuBKA4NIgGD0596D8P5HKAtUgEEgblQULEn8Ai435XvRz/4w0U21J6XF5Ep5UtKI3zBxzp6K/gpKzsP8YDdXM7n0+6pM4l0GUYqY6nUR/wCwUx5bisWoAHEEjcDSj9E0tYfhQodHmlrmfxEWt9RenfCsJAsAB+VIV9SI7NYTlEpOGXLjUxt8MDPtiyixOICCEvKEGL3gnoat4d5JLSm40qKkwmIAUNQmOYKQP/KuMwy1t1MKAIt865Xl7aEeUBsp2KQB/wA70l2zHi0hN8jqPP8ArKN+kEeIWNAxysb38EF41ZXCFIClkEpKQCdxIVA9I9xSNi8W98PmTP4YKacXs6CypWooUFwQJIUmTOkkykgRub8udWWWQ+kKUVeGVQCtSlFUDUTATYATvE2HermjbJBCGE38untf5Q6iibLeZxDeVnX3A5WuLHlYHGeSQ8Pg0pUlb6wBMwT+5qxxG4heI8NtJUUhIEq8gGgEqEHnM00//FmMQlRRLbomU8j3APLb0pba4feS8UJSQoC6j8ETHxcuVt7UxDWMkcYxhw3HPzHVU1VTPgce15Kll+JKHQEkBRhJc+HSDuGhvtzo4nMCp8PJQohsaUFIk9CfyuepqDBZGyt8ILuuN9CSUpIsAVz1+XOmxrh9ABCHFt6DpJtBVYBJB3807dKNLKGt9UlHTPqJAGDNic3A9/NAMKstrLrinApSpgNFUjlC40g+lV3XmnCV+a/QK5W/l7U2KxLzSSh5PjNyASmAQOqZvqE9SKR8dhx4ivDWoIJkXKd7m3K5NeE0RHdI/OqegoqptxI0g+YI9LL9Msmp4oY09VtD1VVPVN02K85hUOY4NLiSlQkGkPOOCG7lAKT1H22rRFLqu/FJ1UQLi9hIKPBK5mAvznnOGxDGISyuAFKsoD4kzci+4FOvAOTJQPFuSZkm5nb9+tHP4h5UlxhTgHnalaTzsDqHumfpXnB4hhJ6ifvSVZWukpLDBvZ1ufj7KxY5ziXOJPS/JMTZqy2d6qA1IlUVnGnS66g5t0ZYXIHau1UNw70HsauNvzatXR18csYBNjz/ADxFkg9hBupwoRUThrhSoNfapFenqQ4aea4G2yqzovUShVoiq6xWZqI7d5MtKFZ07obWrokmspIBJjmE8hM9o3FvrWu5nhQ60ps/iEenpWRY/BvXQ2pK1hSgUJklITIlc+VP6Acq0PAbFrgzJxf+FaUvEIKWMmXcn6Ki46E3FjHW+3z3IHvVTE5hpkJV5ogaVEcrGLgiZ5/iorg+GBo8TFKXY3Ski5/kHmEq6xt1r7M8uZUhHgsuBYNpXZIJvKCbqJ6e55Vou5bLhfoh/wDbTTktijdba9sBGP4btKbVBJgp1H/uUZk+ggD/AMu1agnEACkLhhAQgHYnemhp629Zupr3idzm42+EM0Whgbe+/wAm6vunn+96E4xEyTz3qy6/QrG5ynUEJSVKMwAReBPOKBFrqpA0e3ijQRuvgJZ4mybWnWglK0XBTY2vuKXskzlSwAr4JTqC7iNQCtPqN/SaZc6zGW1oQNK4M6vKRAuI3m+29L68tQ2y6T5VICgkGwVpbSuD0kKUeUwPStHw+KVsRZKOeFUce0smjx3j8/fCKjMCHCqE3JUQQIIBkQn+WYMm0RuKtqzUKsUiINx6afi77ahc9qTcFmJjSsCREzzPU9bGAOhq63i5t/yZ587/AJEUZrXR4WvidBO1r29MJladnpB5W5nYiLbRBPLvV7BPHY8rTSq1jri+337/ALuZq7hcfyk/r73+lJ1MLZG2Km5oOxTUHKWuK850pUAbxVTN+IdEtpCtWxO350p4xbr69AiT1Ow5knkAL0rR8PeXB0mwVJV18UQLWnKuN4YhhDklRXcjklNrb3J1Se1XcXnBhKB5TeYJ2MGIi2w/pFW8uUChOHGotp3VAE2MBPPf6CjLLLaWdYAA8xtYBMaYJH49XI/h71diUhxYwBVVNw+auHazOIbezcb3xjIxy3QnKc2GpLkqBFwUpBVsRCSREwSJNhHoKdsZkgx2HSvyoUUCLXvPxH8VtJm25tSS7h0KuB4arwUmRtKiYsRf1+tbJkjATh2kiFAISJmZgbzAn5VV1+vSOyw6+9s26X801xCnnZUF9RlpFhbbHh1/B4Y/gMqXhi406PP1Oyk8iOvMe1XWcSRG5uftA62j5U98aZL4zClIH+K2CpHf+ZHoR9YrKMNmBJhQifUX9qBTyuqAXu35/fy/2FZ0FVE1gjOOSOZ7mH+HH7ubnpJtbtSVGrzSb/vrRvM3wUgTe+3zvFvYdqXVNdzVlCAAvVUgB0t2X6MbxVWP7ckDes9yXNXVODDuHUrk4B8aB+IjkqI7Uw4dwKXpJgDuP2TVPNTSwv09TZVUUDXgu5I0rN1EwlM1wrMXeaR9aqLzBKAUNj3IEmoBmxPkWAY5/f6UOQACxlN/Ad3yv9UZsF8hmPlV+IMS4ph0JQVKKFAJHMlJgChvBbx/s6EmQQIIIggjcEHajHjfKoH1CdQsev3qscQGGO25vf8AP5+EdsecDkiba6k10s4zNSXktJUUiPMR35TBjygmY7VVwvELiDCjrT3seog+kHnOoegMzg08kImbbPLn9kQUj3C4/PonZCqsIXEUJwWKStIUkyDt9qvtrmqdwdG7oUjIzKIB4e1dBVUUqqQKo/615/cljHZWSajUK5C67makHiXC5ayA5xgHVEKaeU2R2kEdCNqR89yl9swlwOOLOpZ06SU/OCPvWnP0o8Q4x9owhLalKB85QqRHwgDVB3NW3CKp5qOzkcALdBc+FwP5wl6qBphLg258zbztfKEYnMyWmgkWbRpmNz+ImOZNVH8apYgmetuZgmNNottvc0BbW60Cy4TqBm9p+UTUrWIAi/L6/u3Oxq6Zquc3utdQdiYmhosQETwuYFtUEyIEidh1H7NM+GxMgXpHU9qTp6bRbp8hb5gGrmT5pukna2/MUlxCla/vN9UWoa24vzTRj8dANKDeOl8KOxhJBidJUNQE2uARBPOrWb40cjypYQpU6pMHcjpznrtzonC4ezOtQZpa7T4JnzZUkEAyUiYSoTCEiYUSdyRYqHlFAM4JcSUqWQnpvsbWB7D2FWMK4CoFyNMjVuJBuRPL/c9KiDKHHvDSoJCiSSDOlO5AP4twPcVoib5QeJMjNG6N/IXBPI8rJafcHjpQFBIhKZMck2Kp2NTN4pWoJSnUTtGxHX0saZsdwy0lRSyVKSBK1rAhR3AFhqi+1pBtarWR5Syy4FxJJGoqVKh0gAQKBUzMjaTa5CpeHUNbpDmus3zF/QZ+bKDAcO4hwaleWeX3NMGV8OKbIJ39KcMG2IBt+7+3P6URUEi9rWjt+/zqhvNO25cAE86q0GwF0vO5WlxGl1CVjoRP/BpUzLgsNkuMyoAK/wAIneRaDz6wd+taC929+21qrqPKq9lRLSvsw4+ChPY2cd8fdZbkCSWFzIUVqKhsbECD6aTXJVflAtYTYH8X8wjmOlMHFuX+GDiGxb/8oHT+f1Fp/wBqWkvJN+x6Rt3Parunm7S8g2PLp4K6o5GxwtjB2H4US1BbYUY1XSRzgEeUJIsI0gHqqK1DgHFa8IgE3TKfkTH0isrwjpSDBEGZkTuEzvIO3P1rQf4dLhK2z+FUiehG/vBo1U8aQfRKcUjJgJ6G6cXm6ynOeG4xDqEi06k+irx7be1a66LUtZ2yA+hXVMf0n/es/I4wPcWrPwnUbFZyjhVazpCb1E5/Dp+TZH9R+1alhVgCbTvXSsQavKfSIw578npySM1S7VZowk/LGA2FLPx6EJHXYavrHyrsg70F4dzAvN6lRIJSY2t0HpFMGHBNhVZXzSSzkP8Aha2CJsEdm/K4DhEHnXrp8xM0UbwiR5VKlRHwoEkepO1eYJkhJWp4yT5dQ1QOQv2AE9u9DbSkizse3LrkZ8EJ1VZwLW3HXP2N1Rafn0qLGOwk9RVpzELUrSpUjtt8qDcSYkNhUbULsA4Xb1t4/wAlHac56XQnL1+K/KgpUQYSCpRCFJ1JSEkKmNoPXvXedslC1XTMqkwtMHUQTCr6bAA7SSKWsFir6pF53MGSkixF9jG+5FG8fjC6mZWVXJBudNikCB8ArZwMaIQzom4gXPa8HFrItw/nfhq0KJhURvMnn8v31dWsSI1TYXPaN5rIlgjzA8xHLczJEbRIttFHE8SKThHCBKkjRPIFXlBJ9DWb4pwvtHh8YyTYhIcSa2MGQrSsLiUrAUhQUDsQZqyDWS8IZ4WHIUo6IhY35WV6z9K0fLc1beTqbVPUbEeoN6ouJcLkpX4uW9bKhpqhszb7HoihVXqV1XC65xD4SkqM26An6Cq2MO1AN3TBarbqqovtiqac/YNi5pPRQKT9RUpxqFDyrSr0IP5UzLTzMddzSPQ/zsvRPbewI90mcd4AFOoWUOY3rPsCnEOrDbKdSpvIsB1UeQrRuKlqWkpQCpW0JufkKn4PyjwWU6kaVqJK+ZmbbduVaOimfFS306jfA/PoiyyMZILyBvXICo5RwYT5n1lfZPlTP5n504YLKG20whtKR2AFXGIG9WtQA9q92RlzK6/hy9tlKWoc7b7/AChWIwCTZSQR3ANK+bcIsnzISU7yEEAHvEb7U6vLqq6KRMjqZ+qI+nJdaXOFrkeW6x3M8pdYGpyNJMJH4lXvCRMH077UZGGQyGSA0rxFAp1BQKUkGTcgyDpuTz7U15/kbbyCCIJ2ULEHcQfWs5AcU4ErWS41KCVEmAk2iZ3sfc1oKWujqWktFiOXglJGSdoz9RJeO+fbY/dM7xKwEJMzeNwkxBuBBvEb+1D31FM2UNtynmRPc3E/Ouk4wtAq1JUVTKklSSSCDN45xQl19bzgSkFaiZMJJNjvG/8AxUnd4WstC2qhihtFbTbFlpmAf8gvyon/AGqRfcc/3egmTYB7QkFsgxsZB+RuKIOYdaRJSR1sfzrN9s9hIakn9k92CPdTlyvFIkWqs25VpagBvRGNbICSuOBaVRxiARBuCKyV3B+GtaP5VED2Nq1fEuSZrJMdjpxTur4FuK0n0MD5xVhwy+uRrdsIFd3WMdzv9Mq9lmJUkkgSNvpFab/D4LJU6rZQAA52Jkm3U86V+EsnC2wo81H6GtMyjBBsJA6UCtrbu7JnUX9F59TIYNDz90cVtS9n4ug9z+VHVG1In8Qc1U0WkoME6iewER9fyNLyMNTM2Ju5+yqe1ELTI7YIkGVH0NfKYWaA5LxsFLYZKPjISpXOTaUp5CSL+tqe9KaXkpamAAONr8lNk0E1y0XWF8F4yFOI5EyL/ivb5flTo09SPkeDhCRJSSoEkbpJJCSRz5+XczRlrNQHPBXZQjcaZJSCbciJ2mr7iNGXHtG+q0sfcY0O5hMyX996+W+pW5/Y5VSaxQr04vpVU1lhYlG0C91fRidAIgH1pW4tflMaoKpvEj86vY7M0IEqVFLTKV450FKgluYBVEHkSqbAVZcNppJ5Wi3dCr+IStiicGnvFCcK/oTEpmCJF9+Qm45/lRvB4lKDJBB5JMjyxfe56ipm8CcG6S06044UlIQG0kwYJKCL6rbid6L4BzDKa1OpBcjzh0KKwrolJ+hFzV9IxzHXCpab/kjoGtjczUALHcH0FkHbyxam1uBPlAgzv2jkLfnVLLX0KTiGZPnA0ibTqCvcxb2q7nfEqA2WmVCLyEiwH+o3Gqa44bwQ0J06SV3kqvEEj8vqKV74Gp252VtPMOK2gjwP3E9B0zzv6eK9znh9SXP8JaFBQTOlUxHxAx06UxcPDwnEw6YMagUgSIiZ5dr/ADo1hmEBAVC9SgTqgJI1glZT5vMhAEKETMGaV8RiylUEabCbyoiAQBbyk2967LE7sizFiLIVPwWne7uuddvPGfSy0RtypdVJeBzo6Rc8t99pH0o5gsepwhISSe369Kws9E+NxBRpYdDiCdkUcg0JxmGTdQSEnqnynvcXo03lrh3IHbeo8VlKyDBB+dQiLojcEjyugh8V7EgpCOILD4WTr1KSgzbyEgR3I3n707YQIICkkRt79COVZ7xtl+IaHiltWlN9SbgQZExttzpgZUVAKFiQDIO45G3KtG2q0tZK7vA359ElUcKiqiezIaR7EeKZ8Q6RXicSTQNnEuCxUVp77j0NXW3LUpWVQe4SMPmFOho5qdpilsRuCPHcK8HK7WLVU1VOlwRelGOa4HUnXNtsq+MrMuLWNOKQ42UpKp1TzgW5G/75VoeYYixNAeG8mTi8SH3AC0yqQDspyLT2SCD6x3pjh8ghe6U7ffYe6FXNH6ex3UPC/AysQEvYtS0o3S0YCiNxqKR5Z6C56itHy3LmWUaWm0tp6JAF+cncnub1O2+EyVC35mKAY/N9BInnypqaqJDXPze/dGAOn9rLyVDnDTqwmtjCgzABqN7Bx/p9J+RpfyrPLappsZeDzYUP+DVhSPpqpmgNs4ciht8N0CxmVpVePcb+9L2MbU2YPsaciNO/1oTmGGSsEG3ccjVbV0zYxqZg8wrWg4o+JwbJlvyEicQZj4TSoPnIhO255+ggn2rM32yBcb7/APNOnEOGUXlIcEKQRHQp7etLuZYUiSNp2M2+1XHD6cRRA9c3WhmYZm6xtyT5/Dd8HDjqlZB7/iB+RFaM05FY5wTmAaUtBIhSUrH/AHIUQqfVMfKtBRxXhgQlTzYJ2E1m+KU07alxjBN84BKQfawaeWEyqfrIOPMwQ/iFAOKTpEJUBIUlJGu3IySQdu1PWbY8qQoNkTESO/TvFZlj8oU46loEAqBEnkAQT9KJwWM9trec7DwSVSAGZ2wfZX8qaTpAbTHVV52tMmbk2I52q4lpw7aj31f71InJHWNASQZMAg2Kt9KhqBTJjnVF3Ekm5IItBO0CI+laYMDB3wtLw2thq2H9MAA2wIIsR7ciqPjFKynYpMEm+kAgE7XBOkAzsKizLCh3zqOk7aUpBIgFQKQSCZJmSetzFDcZjkuOJJhCgYVOy0zyP8wE/sUWddwZb0qSCsmPEK1FWkCAkCYHrTIjN90jNxqIMDZGHVzsNv7Qr+83k/AsKR1Ina1ib979a4wuY4t1ZS2oRMatPONqHreJHgtXiST3MSSfYU7ZKGmWk3BOlJP/AHEbzsbz8xTMFDDIe80eyqxVTSvJaSG8hdAcfw48sS46onvEfIV3kOpA8FIUXJA0jn0jtzn12pzdxCViSai4SS0p110JEphAUd4JJPzgfI1aCCOIjRhDMbyC47oHmWTORqd0z0SCSPU7T6TQHOQvRdSlJJEeYnn3rUc0cC0BEjSTYyJv0pEz/BgJCCTBNjabRsNq5MzF1zsrtzulnx0htSIuVAz7X/IU14RyUyNtI3APQWMSnf270Vy/glgpBKZHMkmT3mbRvS1jQjDuhKFBSDGm+qO0/vnSFXSuDLm2FYcEqWwyuB2dbKPrxxgjy3JPwqEbAxJtMXFzM1AEApJPxTa5lQmbxygG55+lVWlnkTt9d5uTefnFEMMICyLgXPxJIOwE7TJm87UgDf8Actc5oY3u/n58+d7+5dgVPFDDZGtZBJg+VNipXt+o61r+SZOhlsNti3NRuSeZJ5ms84BbAS45crU4hpJAkJSiFOSQITYxfoK1Bl1MTPtWfqiwzhryLb2vnfN/bA391j+ITmSV1uRsrqGQKiciuS8NhXBM1OeaK2mID0Va1p3KrYlsEbUq5nlYaGpsAIH4Rsn06DtTi4KoYpIis9U3ifqG3MdU9TTFjsJLCpqdtVLmJzRLGJcw61RpPlnmlQCkwewMR2oth8Yk8xTMsD2WNsHI8lese2QXaiYNeOORVJeOSm5I+dBc04nZQPjHzFQjpnyftF0N2luXFdcTZiEIN6aeDWg3hGZ5pCj/ANyxqNvf6VjWaZqrEq2hH51t+UJHgt9NCP8A+RT9ZTOghjadybn0HNZ+vqhKSG7BT5o6dExWZ57j1qPwKQuPhPXsdula6XELaKOY2tvQh3hVLgIcNjumBt3O9NRxMDxIO/cDI3BG4N8b9VQC17EXSbwQtbtjOkWvNjz961zLW9DYFUMv4faaSEoGlI5DnRFb8Wp2lgMMz5pAG3wBe58b+aKAAoX25oViNyDf6UcQOdAseqVKiD9prlfGAwP5n5USkjjZlQ8N1FymyrTYyUz6GeY3oICw6hRWFId02CSVIUYtaxT/AMU3cRBJYdnYAR13EfWkZDnLrG0z7etgDzrnCZnGC3IGwW34GO1pck3BI9N0NYw//wBhKYMFCt+d07flR7L8gb8QqLYO1iLesVSQ9OKaQY2XHeNFh2ufWJrRsswQgGKW4rVPicA02uOXmg1EbO2f4H6L3AZYCgwKROIFPNYlCvCUnSpQ1WIKSk8yLTatgy9kBNqV/wCJ7af7EuwmUR6+ImkqIGFzZDm+Pc2uFXTf5rx9VmCcxeWAVurveASADP8AKmBIPOKhUvvPe/3qbJsqQ5BVE+n5U0t8PJgf7VcunBcQM2TEPFDTNDBGB5f0svGEXiHChAG5JJsB3NHkcFqSEBxa0a50kpEGB3NvnVfhuUQY+O/qJIjvsbd6cn+IS8G0LACUqHL4RpgqgXJHIdu9aWGJtruQpGB9n2Bv8JKZyMtL83wyYV1jkb29Kaci4deeEoWhDZuAudRHUAcvXepMWjCOPhpC1OoJAkoKehJSNxt0FOwzdlqEpidNyI9BYduXKmGBtu4giJwyy+yV3+F3ENq0PpVE20kH2kn8qUcvzdWHccBBTBT4gV1MhJPr171oKsWQpSiQQrYg29KSsQk4nEobcjSVKChJTKVL0pJsZIuRt9K7K21i05RJBK1puV0jOlPEoQ24sgj4Ukj0MbHY0MzfDYslJWy4EggkwYAmfW5rWMmbaADbIbDaABY36QB7c6p8VE6NKEg9TExERXez1CziUF8z3O02slrBZiVsjy3NjG+9/wBe1LnEAQqTEJA7cudRYrMFMq1KBgGNKeZMwRex3B9q7ZwysUpI06U843PSSbb1CR/aCw3XgQ0EIazj0p+G42M/pNXXM/MShEKixMb9T15/ejuZcONIRdEHkRz+3vSZiYSoo3Pb6UtNThpzb0TEfEqmOPQ1+NuvstB/hHmBCHWSZ8+v+ob+5Sa1Fldfnvh/M14V4OwY2UOo+4rZclzxDqQtKgRWC4/QOjqDMB3Xfyu09pI9I3CahXaFxVHDY1JtNTLequje1nfBUHRnYhWnMWIiKouLmquKxqU3UoD1oVjs9QlClJlcAwlIJKjyAA3oM0k1W4YvyGEWOntmyz/+I7aF4yABISAv6RPtQ3hXhrE4p0pZWpDST5l7pHYA7mqjLz2IxBSoEOurm42JOxBGw2+Vb3w7lKMMyhpsQAPcnmo9ya1zyaWBkAy63nbqffAQXG13FD8n4GwzQGpJdXzW55ifQGyfYCjJyFiI8JH9I+1E0V6pVCNNHpu7J8UsZnuO6ROIP4e4V0EpQGl8lIAF+6djVrBteG02km6EpSY2sACaaMUbUn5hiw08EKMJc2PLX09/3vVHVPf2giBJAyAc+dl5zNTCeavYRY1fvnRRGIBpfU5pPrVxh7pT1E4hthtuVUyDSUbS/XCXheapJfqN5+L3qwmlLAHg4G6gCrruLIGkRehbpk2vPz+lfFeob146QLk2Av096q6irdKLu25IscZebBKnHeLDeGMmNbiEj/x80/JNICMxQlMkkkTESTeNjuDImnLF5gjFYiQkKQiQgkTc7qE+wHYUaZw1vht6UaGpNNHoc0knJzbf0K2fDgYKfS02WbcNYzxcWHVCEhJCJ6yJPr9q2PLlykUKTlzaj5kJJ6lI/Or7SPDPakeI1balzXMFrDbf7IJjdc6nXJz0TJhLJpN/iHjkaUoUfiM9bJ/3I+VGsZmqW2ysqCUJEqUdgkb+9Y5xHxUMQ6pcGNkDokbT+fvTFGySpLQ0HS3c+PIfVLRARv1PKquZyUL1ISAnvzvf0q+zxXiFJBS2kjl5+lulAMFhVYhfMIG/cnYUwscKOqSFEgE8ulXcraaLElgfMoMkMsx1MF/HZWs44dcwqW/CS4sIF1GJueQEUs47OSDF7dbVoud52UNEqVJIPS8CwHzNB+Ecradh1wBTypUkEWbEkJtzNib9q1sjM6QbKDQ62OSS0Zi42pLiW12M7KAg2N46E3HrTJl2L1KJCjBvBsesH6Uc4xy4kJShcxMk7zFo01nWYYN0LCgF33A6wJUOkzMUB4LHcz6KeuSJuq+DyThic3UgXiL25n0965yjDLhTyv8AqKg+gGwH5Us5M7qd0LnVHl1TJI9e0/KnVC9Kdr2i+/6GmojryUB0pdlF8Djmg2VNeTWrzRuFGZCp2M2+VUswzBSUq8xpVzjHeCouNkpJIBMWPWUz686jwysU55QN7iJk3tANQ7ax0gIocHYshudGCjVzXtzgTc/OmvhjHpJ0jylPO0EfnXWJ4GDiR4mtKgLGet7j1FLuIwT2GWRZRAt1g9Dz/OvNa+M6rYSzzdx1Jy4kzFJaCN1TuJv1/falDKsEVrWsG0m8cgJ39veKhy/GLxD6GVgoSfivJgA7G0TtPetHSw0hICUgBOwGoW3gkAwRJF+R71XV1e1j7NGfFWFHSCUAn9t+W5P0SyzwwknzyrewsJTEjrcGQavoyNDPwakKi5CiACYiQZGxomrHwbD1MTEDzGwGoXgipMG4l1wJVIJSSIMyqAU3AhIAHp+VVEjnzYLt/ZW/ZxwMLzGAGi5xc4+UNyHHugPFw6tMaCLGyZJ/KqeP44xSNIlBSo2Wkbgcj36i0RUua4J1pLhWpIbgzGrUB6GwsIoTwVlrL6XFvKICSlQRqgWm6fxXAHz50X9DC5o7Vjbgc9ljJqvVUSSQuOguFuvL5Hyj2Uode0KfUpTi40ojyg7xBO/L3qxmjISkwpRVBTAn4wLgfzADvH6hFY38SZCSbhUkG5I8wjYQY5mvHsUpRIVe8J1SFAEbJ6C+1BgYy37fbb0X0SGkLdJYe7b1P5+dBKjFFJCkG6TY8wZgW/CBJgCnjhbi1TiksugEn4VARPaJ7b9qR0vI06p81wEqgnbSkifivPPkO1XuGHtWIS4rYWTuIkdNufK1hQq6NjYi/mBy9/5Qa6KKSJ2tu3PndbEh2pAqq7a0lAPOKiLs86qXVOm1yDdZAMupcQqlTirKw8iOe/ypkUuhGcPhLZPM2T6mqmeUuma5m90eNuLLO8g4lWU+E/8AEkkBzkoAwNXQ9/ypowzpBmDp5HcEdZFU8p4TTAkE014fJkoEJ/OnJqiLWXRD229EtJSg7qinFjrevHcYP+aL/wB2JULgmgfEWUQ0stEpVBhW5HztUv1biADgFL/oCTgrhzMkIGta0pA7wKUc5z1eKPhNylr8R2Kx07D86SsmQ7iMTDy1LKJ+I7GYsNhzp9Yy0CI+lNzU7KV/eOp2/gPJWXD6QObqsrGTYICIsKbMNgxo1DcfOhOCagR0owxiYTFIxzsEpMm1j7q1mBDQGqutFfR3qZKZr1TBF6QIc67gMKAfbBQLiDLS6gEEym8TY+o6xtWZ5xl4QokC2/atkcFqzLjJvQtaelx6G/3FaHgVY4XiPLI+qUqog4alf4Ry8JCbd/c04eGO1L3D7tiOkD6Ub8Sq2se58pLlbNZpY0N2ss4xuYI0xr9BJJ+QrvCZotJbU2ClMX9RaY+vvQjCtJDiwpaTCgASQbEkkn5U1YhWHWyka0iBaFAEEe+3pX0mN5lbqBVExzozq6q5isw1NKJgk+8k29jQc4cFSUgzeT8tIH5n3Hah2Y4tTShpcQdPMQTHXfe9EsmxjKRq1pJi0q68970Vr7nKi+QPNlX4lyFSBrSkki5jfsbbRS49nT6fKVSEi2qdt4setOmacQICCCoKJOwI5T3IHtWe4pXiOAJi5iJHXqek/SgzkartOUCZoYMFWcClTrrSnT5PEQOg06xMDp3rVckT5nC2kFKbSmNUxOq+/wA9qRVZYkJ+MeS0AiLd5v7UzZPxW2hOl5aUqiNSRZQA3MbGP1qcVmmxKLEDGCTzRc4ny61rUVSLG40i9LWcPpdkpJGkR6GalzjN8PBKHkEdNQvPMRSbiM0MmJCOQBkk8yTtJoj5Q3C7O9jso/kCEnFpJidKrzYEkR687U7upgTHLn05Tz61leTZsEqWtQlRiLgC0iJPrRzDZysKJS4CmZhSp+syD6VU1VD27u1Y7PRMUFeyJvZvGL3v5+CZ3ESbDoZMW7n13jvNX8vxPhEKEWEQrkCJgnleTQLAZyyr8aQRcpJjnc7+aieHxjE+ZTZANkFY0lX+u9wJ2NuvetMboz0IWgmfHLCQLOaRtffw8PVW84fOKw6obKdUpvHmkEApjcHrFZvjswcRiB4Q/wCmSII+P8KgR/Lv+4rUjmDb0KUtpKQTpGpMk3Go+bpPzpJ4mabGIVpWjzJSZChvcbjslPzFWkI7QXPPr9l88ZGI6sxOA8gbhvhfmbKBoGEwDpIChtKbqBCj2Nrb2qyEEjne8k7/AHM1ClaEtkKcBAJICSmZVA5mItPL1oQnOXCfKUATpFzeNjEzPO81A05ZhoW84fxZkUIjmPeHPqOXwLI284lKSpZIAAnZQsZgD0PznpUHDvEaC4W3RoSqyFTYDkCeR71VYyZTnndeSBylYj038o9qqZ3gUIBhSJHJKgR7H9KFNRB7C1/NJ8QrXTHu4Azbr5/mFs3D+JIRGvXeQT+lHUvWrAMkxC0kBDxR0AWQPlMU64bNHCAFYoE23WBHqR96yVVwl8byWuFj4fZVrZGuGydc94hawySpxfokXUfQfrS7wznhxxU8RpSFFKUc0gde53Pyqg+wwpJ1PJk3upJNupmb0JyDGowWKKCtHhuncEQlfIn12nsK5HRM7B+kEv6m+3MDx/pSLrEHktiwDUAelEA3NBMBnLBAl5v+tP3ogjN2P89r/wBiPvUqWIaACl5DlX0tCKE5sx5CPWrRzlj/AD2v/Yj70MzfPMOEKPjNWB/Gn70StYx0VmjK5CSHgrG8ibCcwxIj8X5k/enxpuABWYZfnKTj1uyAlxRgnoPhn2FaPhszaMf4iP6k/epcUhkD2kj/AMt+BZW3D5GmM2PM/wAoth0GKkRULWZtRHit/wBafvXX94M/5rX9afvVQ+F1r2KKXi6v4ZYm9GlqSGjcH9/SlT+8Gv8ANb/rT966GYtf5rf9afvTNJVvp2ubovfzS0sQeQbq24oXqr/ceHeJU60lZIjzSbdN+5rg49r/ADW/60/eruBzFnm63/Wn70mwSh123BPS4U5CNCiPCrSbtAtnsSR8j+lVlZQ6Oh96Y/7xY5PNf+xH3rn+8GP85r+tH3o7mSg5ufP7oMVa9gtdflrFNRflUKFVdxO1D2630TjpVQ7BXYbKvSuv7PFW8P8ADXit69rJKGqSmjU+EYESf2KlX+ldM8vf86LGblespFIERAqjiAL/AL50QTtVDGfb86IdlJcpwxNWgyALGa7b2P76V0ivAWXfBU3GRPSuNJTUzm4rl3avKNlUUCacE5flKtM4h1BKWpiSkKIV4ogtE20p5xLvRNKP7+tdI51FcsLp7xmUZYhorTi1qJS54YBQSoojQFJ8OUA994kadqpM4LLD8eKdBKQfL/NpEggseW5UNOpXw7+ayur7/majNdsuBoTVm+EysMHwHip4AxKljVGxMtRJEeUAdJ51M3l2UlIP9pWFKSLAqASoFFrtKN5XeTETFopKeqZmuBSAT1hstysq0f2pZ1ONhKlEjykqDmqWdKAAQQTqkpT8AUar4nL8pKbYlwEI5SQtWpW0s7gADYBVvhvSrUa9h6152ApFqacTlOXeIPCxSvDJdmZ2CZaAV4PllViYXa9tqst5XldpxT34duUkaiZY5Akx/p3M2U2qst/v50uSuWTO3l2WlAC31IcTCTo1FK1Cy1yUqhJIJGnkoGDEVA/lOVX/APtugQqSR0jTp/wb7kRaYmU7EDVfG7V7Uu2U2cO4dDunDkqb0i5knVJmSQJtGwAvVMYvsJ71UG9Tc665o3Xg24Vz+0DmAKp4nEarAW/OvsV96pJrjWDdD1HZSaT0/KrTC+oqqvavWt6m4XC8HWRJKhXYAodV1jal3t0orXXUukV9Ar6uHtqgMqdl0kA1MlI6VAxtVhNcO6iV2E17oHSvhXVFCgv/2Q==',\n",
       " 'data:image/jpeg;base64,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',\n",
       " 'data:image/jpeg;base64,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',\n",
       " 'data:image/jpeg;base64,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',\n",
       " 'data:image/jpeg;base64,/9j/4AAQSkZJRgABAQAAAQABAAD/2wCEAAkGBxMSEhUSExMWFhUXGRobFxgYFx0fHRsbGR0bGhodHiIdHSggHh8nGyAeIjIhJSkrLi4uGB8zODMtNygtLi0BCgoKDg0OGxAQGzIlICUtLzUrLTU4Ly8yLTAvLS0tNS8tKy0tLS0vLy0tLS0tLS0tLS0tLS0tLS0vLS0vLS0tLf/AABEIAOEA4QMBIgACEQEDEQH/xAAcAAABBQEBAQAAAAAAAAAAAAAFAAMEBgcCAQj/xABIEAACAQIEAwUDCAcHAwMFAAABAhEAAwQSITEFQVEGEyJhcTKBkQcUM1NyobHBI0JSktHi8BUWQ2KT0uGCsvEkc6IlVWOjwv/EABoBAAIDAQEAAAAAAAAAAAAAAAEDAAIEBQb/xAAwEQACAgEEAAMHBQACAwAAAAABAgADEQQSITEFE0EiUWFxgZHwFDKhweGx0SMzUv/aAAwDAQACEQMRAD8A2TFYghgiAFyJ8lXaT79hz12AJDFy466G6pPRbf8ANp7zTeMvZHusTHgSW6Ad4SfhPxqqcSLXL7G1jURcttAq3DK3Ld0tc8A8LllKqQdQB0aku+DF9y1/Orn7f/6x/vrtMQ53uhfW3+YaKo+DuXlZJxtlyBLzefxhVe22kFVCvOoEsbepBpJavW8pfiCAaOZuEl1F2wCdQAq+F0EDTvNSxJNU3n8zJj85mgdzd+sX/T/mr3uLv1i/ufzVF4Pi1eQjBl8jIBESPvGlFacuGGZYASJ3N36xf3P5qXc3frF/c/mqZSq2IcCQ+5u/WL+5/NS7m79Yv7n81TKVTEm0SCy3BvdUeqfzVyc/1ya7eEf7qy35UrKvxfCK2FOKHzdptAqCfGdZbTSgfE8DaHEsOh4Y7IMET80BQsp766SQSY31018VA4lTj8M3HJc0/Srrt4P5q87u59av7n81YT2bzZ+Cvnm2cRjO7TMx7lSLYFqWAOkH11jSrB8o5/8AquJj/wCzX5+N2jJgTVPH9cn7o/3V2tu4drqn/o/mrCuN8Aw39l8KxHdL3t2/hrdx+bJkYZT5QoHurb+BcGsYS13WHQW0mco2k70BIBmP9zd+sX9z+al3N36xf3P5qmUqOJbbIfc3frF/c/mpdzd+sX9z+aplKpiTaJC7i79Yv7n81D+L8S+b5e8uxmmItztE/reYo5VP7dkTYkwCLoJifaVRt76XadiEiKtOxCwjv96rf1x/0T/upf3qt/Wn/RP+6qmMRakllOXQ5eUqMqiQQYgsS3mNNDLL4/CrsQSAAM7AAnWWPj01jTbTlOmPz3PRH8zF57noj+Zcv71W/rj/AKJ/3Uv71W/rj/on/dVMOMwpYRcLddVkkSZ0bmYEcvEZ1AD3eWZ9nw+IzrJ1OQAZtBETrO+oqG6z3j+ZDdYPUfzLaO1Vv60/6J/3UQ4HxxMSJVgwJZVdQQCye0sGYYdJMgHoQMR7R9pTdIs4aArGAQdgdIB6dW56xzrSfk3FoYRUtMrC3iMpKmfF3a5vf4vvrRW75G6aK3fI3f3NAr2vK9rTNcHtaD3Lqn9m3+L0FXs5ZtlYsxkjKyltIAWRBlSVAUncgAEkUes/TXPs2/xepVLKBhKAZH3lQXs/hBtZQeHLoSNAZjQ6a79ZM7mnG7O4e5M2A86aydJLRJMBcxnLtPKub/FWuuyqxXcLrERselTOF4+4sd4waSBpOk6c9axi1N+M/WVzzCnDsAtlSAAJLExtLMXbfqxJJ86n15XDOBuQPU1u4AjQJ3SqFi+IJbXMTPQDWaEf3rQNDIQOoM/dFUN9YbbnmOr09rjKrLJSpuzdV1DKZBEginabE9QLjeztm7i7WMbN3tpSiwdMpMwR686V3s9ZbGpjjm75bXdDXTJmLRHWSdaItjLYOU3EB6FhP41xxXHLYs3Lz+zbUsfOBsPM7e+hiDErl35PcE1q5ZKvle8b6w5Bt3T+tbI1X0Gle8P7BYW0t8Mbt18Rba3duXbjM5RlKkZiZGlZ+nyi43vO9zDLOtuBlj9nadtJma1vs/xa3irCX7ezDUc1YaMp8wfjvzoDBhKwXiOxeGfDYfCNm7vDOj2vFqGtyFnroTVmApu3dDTBBgkGDzG4p2iMekmMTylVc49jbmfLbYrl10O7RIDf5Y3HnR6xcDAMDINIr1KWOUU8iMaplUMfWPUqVKtEXPKpXykdnzjFshXvoUL/AELAAg5fan0Ee+rrSNAyTCbvyYq3tNiT6m2fxFFcP2By5YzeFVAlU2A05ddTG7E1sGQVwyqNTFHEkyMdgoJIzaxsF3gDn5cjpMnehb/JmuZmzYgEkk5e7GpMnYVteHvWri5kZGXUZlIIkaHUaaGn8oqSYmMN8nrd1kz4gplgz3U7k7kT0EDSBVy7C8AXBYUWl7zxYjO3eZZkqq6ZdIhR75q04zHWLJVbt23bLmEDuqlj0EnX3U5i0Hg+2p/KgeoD1JVKlSoySHa+mufZt/i9Vztl2j+b3LdkEAsMzGY8MwB+NWO19Nc+zb/F6zr5YeDMxTErMZcjeRBJE+sn4VRgSpxH6MoLAX6yYe4ZxRbpzK+mkifCNwN9p/KuHxiPirdvQZmEEcyAW9+xHrFY5g8ReEANAGm/p/CtD7BYRr2IW42ot+Keh5D4/hWIIWIBHrOxqKtOEZs544HxmpXGgEnlWf8AFOOZmJnn/Xuq8Y/D95bdJjMpE+tZLxjB3LTFWBBHL+HlVdcrNtHpFeD11Ozbu4VHGJEHUVEXEDJ3t0FUmBG58/IR+IoB4oo8uFGJwy23lWgTG4ZRGYdQennXNcMoDenqZ072RDtr7lm7OdobYUIjA2xqQfaWTvvqPKuflT4/cw2Ft9y0G8+UuNwsFjB5T19aqXBOAthrhc3g0ggKFIJn1218zV5452aXGYFLDtldAGRomGAP/wAYJFdHSXFiVByAO/6nC1lYXDEYJ/n4zLeAcOxGNcpaMAQXdthP4k9KtWN4HiDhnwP9oo5YqQjpr4TmyKc0wSBprtXXB+HXrGBvWLfhvi5LFTqVJHiU7+yCAfI0NscPacqzrEbzP8all7BiM4gqpDrkyk8Ws3cLcNi8hR+XMMP2lPMVfvkR4gxu4iwT4SquByBByn4gj90VYO1/ZxMXhoYfpbayj8wwGvuPMU78mvZoYSybjEG7diY1CqJhZ5nWSfTpNP01vmDPumWwbYaxZa1eldn1jz5+v/NPvxFiICGfT89qc4tYZ7cIoLAjcxpPijziYoPh8QqgZpRiYysZIMEx6wD8K5mp8zT2EI2Fbn5e/E0V7XUEjkSR3J/W1OpP4f16VN4Ux8M8x+VQ2urBnbmSd/XyqXwsFvHy/VPXzHl586ppFLXArDa/sHMI3ryopZ2CqNyTAHLc+dYl2h7TYi3jGa5dYDMe5ZSQCg5jUQNdFE6A5s2kHflP45et4hLGW4tsoSpEEOcpLkeE5SB4R79pE0DEYi9eLXWAuInieDzbw+Gdm1MSTAAEwIr0OZizLnjflJxFxA1tXQKId7YDKTBJacpA5EDXTUBhuV7E9vHurdOIzOgEq4iZA8SxlXw6TmMe1E1mbcSukglyOhBGntajUADVtFK+3OtNjFXrIXw+0xuKEIIVc5KCSQRMEbzEajYzMhbPpPpPAY1LyC5baQQPdIBg+cGqt8p/GBYwbW4R3ugqEZwJUCW0g5tsuWIJYA1H+Sy1d+bvcuTDsCsqRsDJ1id4mATl1kiaAfKf2Xxd7EjEWLXeDKBmUAsoAKlIP6upbQbsamYMzNsLxJRZex3jd211JzNkRQqwrFVEvBJkFToqzOlFr3aS7dwVqwt1zke9cOhVBBBRA2eWCqHOQSIuruVgQLnB7+HFu3cs3hcfMCrSBEjLlHM7z6ijXGfk7xGHs271yDbi2bqpOa2YGfT2dP2vLWhmHMq78Te+ym7d/SABVcySi5jCyTqgViQPEeVfRvArltsJhxau98iC2nec2NuEMzqGkag6g1gfDOBYjHMEw9piyAy2YDMMwiSxCiBGg6VtnYzs62AwotPcL3Hui455BmyggHc7bnczRPUDdS20qVKjJIdn6a59m3+L1zxeyj2nW4VCEHMWiAOpmurP01z7Nv8AF69x+FW6hRpymJgkbEHlykajYiQZBqo6gXqZl/cVBcYnG4cIIJncAyRPjjUA9NjV57NWMPat91ZYEguG5MTbdrbGN4DqQDt5maZt9kbChQDcAScoDnRChtlAZkAiJO5yjWpvD+BWLNw3bdvK7ZpMz7bZm31EnkNNB0qYl2sZhgmFDQzivDLN0E3YyjUltgOZk7UTbf3UzicOLisjTlYQYJBj1FQgHgwAlTkQFh+GcPtzl7kRBPiXZvZO/OdOsin73zIr4ntARMFgCIXMdDqCF1jcCm8N2Yw1mbgViF8SgsSEAS2hCiddLanWTpTlns5hSihVYpBKrnbLDMLm0/tgN5H4VXavUtvc85j2C4ThvDcRFaQCrTmEHUEaxtRRhIiuMPaCqqiYUASTJgCNTzNOmiqgDgSrMzck5gDiGGVm/R3kS4n+YSJjRhOx00PUc4od86vgZs+BaQTn74rIBgnZtjodd6LXezGGe4110LMzKzEu2pTOVETsDcYxt7P7Kx6OzOHh9H8YUXD3jS4QymbXWNvQwZpb0I5yRCrsOoFCtdvFL+JsrkC5rdtyBNwsFDEkZicreHy21q3YezkUAUHTsrhRMI0EZY7x4ynvCVidibjyOebyEHKutaoMKIGYt3IuNx9uzlN1wgZsoLaCcrNqdhop1P50zibuHfwtctyWKxnAOYbrvMiRp507xHh6X1CvMAkjKxUglWQ6g/ssw99Dh2VwuYnI0nn3jzq1p9DmkQ1q3HTLRKgjBgBI5EVm1glIbvLbGMwzXQwCgwWALRAOk0bUgiRqDtQW12VwqpkCMBmz6O05iXYnfYm48jY5iIjSimCwq2raWkEIiqiCSYVQABJ1Og50FRVHsjELMW7MH9oMPhLgtrigkMxVC2nigsQG0iQvXWBXnDlwSW8lvulTQFSQD4jCyG11O071L4nwu3iAFuglVJiGK+0rIw0OoKMwjz6gVFt9ncOtxbqqwdTKtnbTTLAkwBBIjbxHmatKwQnDeE4hlbu7JLot0Aysq4YgwYE5VMiJAGsUTu4bANlRhhzAAUEpsdgNdiK4tdjsGtsWRbIt5AmTO+XKM8Dfq7n1YmnW7OWFS4qjJnVwWH/5EVHMezOVRy3BPM1JMQtYyx4IyjQRtpppFQ24xYDMhuLmVsjCdVOUtr0GUE5jppUnB2VRERPYVQF1nQCBrz050PxPZ+w7F2DZmLGQ7CC4AaIOkgLP2RUkkh+KWAUU3UJYjLDA7qzKdNgVUwTvyr08Qslc3e28vM51jz1mKHDsvhcqrkMK4uKM7QHVcgYa6HLp00py32dsShhzkyZZuMQO7Mpz1IgCTrAowyVhsZhbYJW5YRfabKyAbxJg9dJNOHG27oU23VwLuQlSCAyEhgY5giIqLb7N4YOj5DKKEXxtooy6b/5V+BPMy8mASwlu3bBC95IBJMFpJ385PvND0gPUK0qVKrQyJa+mufZt/i9SHqPa+mufZt/i9Zj2y+UG/bxFyzYICI2UMFkk6A7zzmKtXWXziU3AD6/3NB7QcXGGtF4ljoq9Tv8AADWpHCcb31m3diM6gx0JGo9xrJ+IdobmNtW2Or2S4eMsyyqRIB0IjeBvrsal9mO2d2yvd5TftAeGFjLzPiI1EzuDpGo2rCbmS1t/CgcfE/CJFp80g9CayKRqt8C7W28S/d93cRuUwVPlKnT3gVZKfXYrjKnMerA8ieqN6h4JciheREjy6j8/jSuYxC3drcXOTEBhI3nTfYH315jsQltRmZVO6gsBJHITvI099Q4zn3S+D1JuXSvN/SvAZqHxTGG0q5VzO7KiDlmbmfICSfIGrkwdycRQ/iXGLNiBccKTsupJ9wqNb8IyXn75z7RIhfRV2A+J6k0B7Vdn07m5icOMroC7JJyuqiWAGytG0QOvUJew49nuMRV3e11LFg+PWLmivB/zAj/iiZYAHXSN6wrCcVznQxNaFZxFy5wq7lJLAMFPMqIn8xVNPeznawjrqFQZUwZxn5R2tsy2hbaGMMQfZ5aTv5/dXvZf5TEu3e5xIW2SDluA6SNYPTSdaya53rOAFzszBUXqSYA+PWr/AIrgWDt4a1av2lv30Bz3LZyaklisrEgEwJ5U26+urG6BaCx2qMmE8b8phZ//AE6rk5FgZPmdRHpRzsj21GKfubiZbkSCDodOh1B8qyzivZ0WUN/DM5QHx23gug0GYEAZlkgbSNN6PfJ9w97mMt3ANE8TkCANP4/jTEdXXcvUj1BBg8ETZq4uXQokmouPxvdxpPPyiqzxPiRuOEW4A2hAPMGdBPpv5Vydd4mtGUTlvrgfOZwPfDeJ4mQ0ddvf1nam1x7/AKyyJEaj+o5+sVX7WKvgujpKlhlbMNoGkRv5+dNrihmPdFm/WcTOX0kxy299ecOt1BfcGP345lxiXxX8IPWoHEeMWbP0jxzjc/AU3wcEW85nUTFZ9xZ2uXrjknRiNegO35++vWUahnpViMEj8+8fptOLWOTwJoPD+OWLxy27gJ/ZOh+Bpvi3GhZORdX5+X/NZ/dtm26lXDNAYMsaSNRrzp3EXyzKzMSzDN6xKkHzkVTUap0Tjuav0SBgw5Hul0TityA+YR00oiuMW6tthv3igjoYNUfC4s5hC+41Y+C2WEOdAbi/HxH7p++l6W92fB5ERqqVVMy1RSpUq60wyJZ+mufZt/i9Zt2y7KPYvtjLJlPE+Uj2Lm4I6iTIBGhArSLP01z7Nv8AF6C/3ptM62mUqSWBnUfS9yh21DOGHKMvmCTW5TqU2hh95imDxd3MPHLE7Anmek8z0q8cC7FYlrwe68WMwY2wokzqQTyE9KN4fiHDVZb9rDLrLG4LMQAjuTtrAUyBr5GRJm12nsNGUXGkqFi2YOYqqkE6QSw15azEGL3OtoAKj/mBa8dw1hsOlsZbaqi9FAA+6vMWSbbhD4srZfWDH31F4ZxG3iE7y2SVmJII1AGYa8wSVI5MrDcU/iLyojOxhVUsx6BRJPwpIUAYEYBMKw1zEh0tWGJuhwbfXPOk+U7zpvRDtXxW/wDPsTnMeLu1UjZANI8j7U/5qvnzvBWr73Ww5t3pADhZZy4tmPCYDHvF93PcV7jsZw68xvXbJY2xrca02gDvbG+utxGUCNx50ryuMTo/rQXDFfSSvk9F4YJBdJOpNud+70y+6ZjyiiPaGzca0HtKGu2nW4gP62XRl/6kLAeZFErIAHTpXW5500LxiYnfc5bHZlKHa7BMxuXLj222NtrbEggCQcqnY761B7TdqO/s3MNgrT3mdcrlVIGU7qAY1I0kwBJ3ovx3C8OuXHe/ZLMhyuwDDUILjTBExbIY6c4EmRUjBcYwWHVUtoUVgrLlT2g4dkO8+JbbkTr4dYJEqFR9ZbcvYEzrsn2Lxj3B39trKfrE5SY6ATp61sGHw62kW2ohVEAeX9c6GHtRYLKozszOEy5YIM2QZkgQDeSSCdzExRvLJk1dK1XkQPYX7lP4v2YtLft4q2gDoSYjTMVIBPoTVRxaNnyMCpzaqBz6a/161rbLIg89+h9arnEcZZs3zauIQqojF5+s73IqiCf8JuYG1Z9XpPPwQY/TakVZyMyvcH4M7OQyHIyspJnxBhG3TX7vSb1wvAWsOmS2oUc4517w422t57YMEka7yjFSOf6wPwqSBTdPQKk25i9Rebm3GV/j2Ys2bMAR4SJ91Qxwy/dIMDLIIZjB0/rerbQzi3HbOGk3SwCoXYhSYUBjOmp9ltBO3pPPbwit7C7sTn0/2JkXDdnjqLlzMpMx08pqXa7P2F9lMvWDE0x/efDyyktKzm0nLBhiYJHhYEEbgqwjSp3CuJpiE7y1my8iVImQGBE7gqQZHmDBBA2V6GhF2hBj7wSWloKABsKp/aDgrKxdYHRo0PkxHskD9bnAq55qg8W4rawyZ7hMHN7Ikwqs7H3KpPu0k056gVAHGOo2m5qmyJQsNwa9dcKoUA7sGDQNeQM/1vVpudlbRtoslXRYDDnz1HPXXlvTzdprAYJ48zeyAu5LrbA30OZ19qNGnaaiv2xsEI9sO6MdXykAL3b3CRIljCEZd9em9F0y49rmOt1dj4xxid4HswQ3iuAjyXX7zp99HMRaCC2qiAHX86EXO1VlGUBXYlkUgASDcvfNxMmNLgM67DSZo3j/APD/APcX86slKV/tEzWWM49oyXSpUqdKSHa+mufZT8Xr1sDbII7tNTJ8I1Om+muw+Ary19Nc+yn4vQPi/ahbfskADTMwJk+QFKe5axlpUHAz8YaPDre+ROR9kfq+zy5culdpglEkKgkyYUanedt550K4T2iS4pLlZAkEbMNtAdQZ5f8AMPHjmui6etL/AFVWAcxqKXGRJ2Fwa21CIIUTp6mSTOpJJJJOpJJp7uaawGNW6sjQjcdK6xGKVN/68vWmm1Au4niTac4jf9nW8uXImXplEcuURyHwry7w9GEFViQYjmpzDbeG1jrrTtnGq21DL/F2zEKBAJE7zWTUeI0UqGY8GXSlmOAIXFo9aXdHrUPA8QzaMIPWpt66FEmnafV1XpvrORKOhQ4MjtgUJzFEJ01KifD7OscuXSkMCgMhEB11yjnqeXM6muPn/wDlqFxvjgsqMglm67KBuT/XXpVjqawCSepQnAyYQ+YpM5UkxJyidDI5ddfWn+6PWqO/ai8vi7wE/s5RH3Cfvq0cA4uuJt5wIYGGHQ+XkaFWqrtOFMotiscCTxbPlTN/CBwQwBzCDyMajcajc7dTT7XlBClgCdgTqag8R4zbtHKZLdBy9aczBRkmOVGY4UR/C4JbaC2gCquwE+p389Zp7ujQ2x2hsMpYuEgwQxggnb1ny6HpUvAcStXwTauK8bwdR6jcVAynowsjr2I93RqLieGW7jK7qGKTlmYEiDpsdOorrjOO7iy92JyjQbSSQFE8tSNayvifHcQ3ivXnUnUKjFVXygH7zNJu1K1cHuaNNo31GSDgCao3DLZYObaZgSQcomTEn10Gu9PWsKF0UKomYAjU7nSqB2Q7T3O8RLl4NbMgl2Ejocx1361oqOCJBBB5ir03CxciJupaptpnJtGouP4al5cl1QyzOUkwfWDqNdjpRCmMTfW2jO5CqoJYkwABqabFSLiOE2rnt20bbdR+qcy+4NrG1OfMEknIkmJOUawIE6dCR6Goz8SIP6npOvx/4rKO23afGXMXcsMxs2k9m2Ggsv6rsR7WbpsIiJElCXoxwDNCaZ2OJsK4O3rKIS2p8I19dNaWP/w//cX86xzsJ2ru2ryo1xrlpyAylpyzpmHSOY5itix3+H9tfzpobIldVp2pODzmTKVKKVWiIOuoWe8o3NtQPU95FZ8117bqyx3lkscrgwZBBB1EGtGs/TXPs2/xeovEuA4fEHNdtgsNJBIMeoIrJfpzbgg4IkHK4+Myq7xS4GvXWCZmZSVQQo0PnueZ5xRHh/FrjqJjXmNqv9/szhWtGyLYVTzG89ZPOgmF7BhG1xLZOgQA/GSPurM2ib5zXVcqptMJdkUJDuZgwPU7n8vjTmMaGM/tN+Mj7iKMYayttAi6AbVziMKj77027Slq1VTyItbRvJMDWpzLGsn+vuqM9nu2KMNufUcjVhw+DRDI3rrFYZLghhP4j0rnanwg3194YHj3fWOXUgN8JXFxAFHcaW7sNBMQWA3iNY8xvHlUVOAWQQSCYIME6SDI0G+tF5FN8L8Os0yMHPfulNRalmNsBWrmdZQhlPNdf69Kq3am24ZXg5SMmYbBgSSPWD9x6Grbi+zGEuObjW/Ed8rMoPqFIBqa3DLJt91kGSIinv4fvBDN8plJJGJjN2yxbc1o/YjBtaw7vHtaqOuUH869sdhsMr5891hM5S2n4T99Wi2qqABoAIA6AUdJompbcx+UVXXtOTMD4vj2u3ZZpuXGABPJmMD3T8BWt4Dg9m0vj/TOQM9y54ixgCYOg22H370xxXsHgr9zvSmVpnwkgT6bfdQ7iHZrG2z/AOlvgpyRyRHlOUj7hWhaygyRmdm3UJfgKduIJ+Uazaw9u3ftKEZrgVgNAQQYMbAg9I3qP2DxJ+eWyp9sMGA6QTr7xPuozZ7EX8QsY68GHJV5eew1qy9nezWHwQItLqdCx3jpPTyoiolg3UB1YSo1E7uO5J7Q4I3sO9sMFJAgkTBUhtgR0rGeOcDxKybi+Bf1gdP4/dW8ZhULimCS7bZCAcwII6zVrqFs59YrSa1qAVHRmJ28GFtgtEHoac4Nxq9hLoeyxCz4rZPhYc5HI+e4opi+wt9HPdPKzorg6e8aH7qJcJ7DXHdWvAZQdQJ1rmrp7hZx95s1esSyvv6S7cW4m6WResobhKhgm2YHLpPIwTQvF8Yt4lvmtxTbZkzd2xEmdpgwSCDprsD6WHF4WUAQqpAhZWR6QCNPfVNw/YW+b7Yi9ilZydCtsjLyEAtyGgrc1dpJGeDMVDVBct2Oj6/9Sk8L7M8Rs40d2sorAly0KyTrPmRpHI0c7V8GGMxRKoGuWrOWCfDmckgPHQawf2qu54NicuX52PtdwM3/AHZZ/wCmhHEOwrsjC3jLys252B9QImkfp7S2eBj+ZqXVoXBY/wDMZ4Rw9jbHzw2LjKRlZIlY5EwNquN9yVtEiCXWR7jVK7O9g71hw9y6j5dtD8auuJMd2syQ6z8DWmipkByfpMmusR29g5+mP4k+lSpVpmORLP01z7Nv8XoC2C4gpfLdtx3jtbzFjCM5IVhGpCnQ7DwgAZSWPWfprn2bf4vUh6A6gXr7yqX+G464Vz3gPYzd2xUeG6rHQjY2gV21La6aj3FYPiTIyC9bBymLgMMHNu2BoEiBc706g6MmhIq0rXgqQyHwu24txcnNmc6kEwXYrqNNo2225U/i0LI4UwxVgDMQSDHprTxFeOwGp2G9TMkrNnCcS0Bv2wAwmFE5e8QGCymT3OfcDxgbqa67niRXW7aDZdSAIzC2Yyzb0HeRmmZB8OXapNntNYd2QE6GCek7SN4PX1o2ppaXI/7TmXetk/cMRDzr2lSpkXInFbDvZupbOV2tuqGSIYqQpkaiDGooGMNxEExdtwG0VtRlmz7RK5tjfOh3FrYZqN4viNq2YdwDvAkmPQAmmBx210uf6bfwobhLBGIyBHeFLeFoC+wa5rJAAG+m2m3PT0qdTFjEpcEowMb9RO0jce+n6MqRjuROJWne0yoYYjQzEajmKADC8QuqM93IC1ojLlVgtu8pct4Dq9pQwUaA3HVpEVaWMUFvcetriPm7NleBGmhJ5T1pVly19y6Vl84kSxZ4n4c92yNUzhUnQL4omDq24OvMEbVZq4ttNd1dWDDIlDFQLG2MdndrVxMuuRDlA2UAE92WGpYzrsvKQTtQruMC3ltllhlOkiQwIj4g/wDxqFgO5AMwK1riCrma4rEGCFUSVm34h+jPjIzzuuo05idwJcXE4orqiyBGj84gaeclpO0DSjNIVaGKonEbdxki0+Riyy2khZ8UZgRMbSKlivKkErlmxxEz3l22J+rAGUwYILK0jaQQDIkGNKZbC8RIZTdQDIAuozZhbcGWVBANzuzIEiGgjSjOO4tbtSXOgEkfrDoY6GInaaD8O7TWzbt52JuXGYIo9p4cjwjpzk7AUNwgyJLs2Mf3lubtvu5m4MoJ3XwiAvhgNrqZYbgRU3F/Sr9pfz+NEbdQMV9Iv2lPPz84/wDNE9QnqE6VKlRhkEOFu3SdgiH/AL6CXOLu97uxI1jQxHWOsedGXTNcur1RP/7qoBSmIkayxiD6ztzH5VxfFLbUKBTgE8/ebdDWjK27vnH3hReMMtwoZ5gSxM+s9fLaouL4ybpaDCgwB6daa4gi580anYydSPuqJhsPbklh4fE7EsdBqx2I9K5R1d2TXuyMzopTVjfj0nlji727gZD4divIgcv+aufFmmw5H7M+7T8qoPZ60MTcypqAdTPsj+uVaS1sFckeEiI8tq6vh1dhpcOeD1M/iBrSxCvY7mA8axVzC8QS8AxS4iB9dCBKnkNjJjXVp8q2vs1jO8sCTqsifSqX2gwdmxmu3LffG0xKkrOSD7XPpMnQEaCYqq3e22IOgsCATLLmKwOQ5nQqdN589DSz7gyryowee4LQrgjPZyPhN0A61xiXyoWA1AJjrAmqj2J48185GDLofC41kbkc49evvNuxCZlZeoI+IiunVb5i5xg/3OfZX5bYMovE8YQFC3Ja5m1WZkbkxynT3VXbfGpYC5cYOu5JIk6rl5Dpt01qwcdZjdDw7EKQVVScrST4gNOnxHrQ3C2jozBGYkkgrsWJJjTfltNeZ1drC1iScek7FSjaOId4Lind1VyM0StwGGJ924P39KuNkkqCegNU3huDdGF10ChfZU7knQQOuv5VcsODkVTocoB9Y1rs+Fva1P8A5O88Z9052sVAw2wV2j4s2HVWVC/iEqBJI5x51WuODB3rqYlrwRlKjK/hDQdN+cnlU/tlfKuoiRl92+p8+VV2yvfKUcAg6iRsy6qw8wYNOvTcSCZs0unHlhxwffLpg+KEgkLPrMQPvmiuDxIuA8iDBHSqvwfGeECNY1o7wS2QrOf1oj3c6rpXcnaepm1VKpnjEk47Grb333A8upquhluvJ3O/WnO16sIYbER79dKquExLg7x/XpXB8Xtte0r0B0P7i6lG3Il/xvFBaw5ukSRAjqx0/wCarlnjTky7HXz9n0qNxrF5cD3jAkNeQL7gZb7iJ99DzdVkEQNN5oa269krBJHA+/vhrAGTL5wnH5/DM6SD8J/GiLNVd7JYAohuHdth5dffR6vQeHizyF8zv+pmsA3cSq9u8IBbXEgkG0ZYggeE6NM+Xu0WZihnYS0bt3vGCk27cM49pi7Fm1jwgtyBHsAmRFH+2lprmFZETOWIlRrI1+6Yqn/J7hb637x7vuu78Jzo3ikaCNJHMGTMnUmpbcqWfD1lfLzzNVSh2LH6VftJ+f8AXv5c38NeJMNBnaAR8dT560zircXA2urp6aA1qrsWxdyyrDAhOlSpUyGCcdgu+N62WZQyWxK77vQzBdj7NpQpd29uDIEFwokQNxGnLU0es/TXPs2/xeo3FuEpfNsuWGQyIjXVTzBgyo8Sww1giTSWorflhmBSRyPzmDeG9lrVnNF24Q0SCVK6eWWJ86ljgVudWJHNYSD6gLrQ9OxWGACy5UIqBCUywtvuxpk3glvtEnyrzC9kbS3O8a45hwyAQNFZnGfTxnM3tHxab71X9LTndt5jVtdRgGWDC4K3bEIir6ACn65z1B4vhO/tG3OWWQzAPsOr7HTXLGsjXY7U8CLOT3GuIcCs3mzNKtzKkCfXTeoLdkLJ/wAW7HPxj06VGv8AYqy0RcuRoGByN4VtXLQVQUhfbnYgawBpDh7JW85bvLkMbhbUZs1xVUEGIhQsjMCZgzoQVmhGOSojVusUYBMNcL4Xaw65baxO55n1NTpqHw3CCzbSyhJVBAmJgegAqJxfg4xDWy7kBM2gCknNl5kHLtuIbXQimBABgRbEscscmTMTgbdzVh4uTKSG08wZieR0qInCw0MMTfKkbZlgg7ahJ++htvsbZGneXiYiSySfErg+xuGEj7Tda6PYzDnQl2EEQShGqd2Z8Hi0AIzTlI0gSKBrBhDMBjMKYLCWEdgviuJElmZmXMJiWJiRyHKOoqct9SxUMCw3E6jbl7xQTE9mLL3DdOYXDBDDLIYdzlYSp1HdLvPtONjFOcK7PWsNcNxC5YoEJbKZAVFGoUHZBoCBLHTaCFxAcnuS+LcNF4RpPnULhnZ5LZzMQY2HL3zUzjeAOIw9+xmyd7auW82+XOpWYkTEzE0KudjbBn9Jd8QIMMoGrlzAyZRJYggACDtOtV8sZzGrfYqbAeIVXA4dXChVDkEhZOoESYmN2HxFEQIquJ2TsAoczk22zqSVkHvbd465MxlrYGp9lmG0RYM9WxFEsezI3EuHi8pUkgGq3/cjWWxLEdMoHxI1q256G8b4aMSqIzZQr5j4VaRkdIhwV/WnUHb3hFmlqsOWXJhDMOBB2L7H2blo2mdt/aMEiNYXNIUeQFOcN7J4eyBvdI5vH4AAU03Y6wdM98CWb6QHVjO7KSY1iTPiMzR/D2FRVRQAqgAACAANAIGlX8ivOcSbjjGZ0qAbaV6T1rphQrjvBFxQtq7FVRmYwFJOa29sgFgcvtzIE6aRTQIJQ+1vBuItiGuYVrxtNqvdXso5aEZgBzEweVWDsl2dv4dDdu3C967AuI7zAScsHXxwTIkgkjXSTNvdjcMSxm4CxJJDCTItLB8Ooi0NDPtN1EM3Oxlo3Rc725vcYhspJZ2sMpByyAO5A08Rn2hGqG0yMCD6y28w/g2GfKSAVGbLOsGVB+IYe6pGP/w/tr+dVzBdirChQXukjISQVUEohT2VXKAQdhz13JJseP8A8P7a/nVq6lqXavUoxyJLpUqVNkkOz9Nc+zb/ABenrx2qNnyvebeEQx6Z6pN3jlwm2TmdrmoCkhVHQRtHU61m1GpWkAkZzNGl0zXZx6SF8qHaXFWLtrD4Z+7lM9xhvBJAEkaARy11FA+w3brE/PreGvXTdtXjlljJViDlKneCYEHrUL5UMK73bJN4u+QqdBJAObWBsJiSNo3O9f7PYmzgrtrEspuqjgkK2oPIiRuDrGm1XrtFg3Ca2o214In0hSrzAX7d60l622ZLihlPUMJFPsgGpMCnzmxmop4lZmO9SftCofaLH20tMO9CsR1E5ZAYjrvEjaRVOvX7LDKhIB2b8/Ssl+p8sgDmdDS6E3DcczSbZBEiD76QqrdkTbszaa7rcOZQW0zGSQoOg9KtV4BVJnamLeDWXPp3Ml1RrcpFm5865ZoHKOev41TcbxVTDIxYTEg/rcx6g0b4if0YVjJ0k+dcgeOptYlSMdfGMOlORz3GMd2os2ouklrMlc6KXBccgRoMsGd9QRyNG8LeV1W4jBlYSCDoaqV/hqPZ/wAsksseY19ec0U7H2e7svbJBRGbLG4BJJB9+x860aPxRdRYEIxkZEXZSyc9iHR8a9291Z3xztDfLnu2ZBrAXTSOsSTPSoPBu3D23/SMXtiM4OrqNdf410PPXOJuTwm96964PwmpE6VxWT8Y7TviXkFlTXIo0EbjNrBPOfKrH2F489x/m90lgQTbYmTpqVJ5iJInpQW9S2IbvCbqqfNJ67Hul2rxjAmql8oGKNgW2FxxJzAbJ4CDuIhtjDGDHIxIXD9tzdXurhZLjZu7dWygsNgYB8E/dzNVfUqrFTOdVVZbnYOhky82OMWHUMLqwTAkwZ6Qdf8AxU+ss4ZcNu4l5la68q1xSUJEGGK8tJJ35e+nL/a13uNcUvbVioKBzyI2n2WOgJEUhdbtXLjn4R66K5lZlwQveP6Hc1Amm7+KRBLsqj/MQPxqudkO07Yx2U2wgUGYLGDMQSRE/wAKqPaXFv8AOWuXO9KhmA7swVA0jXYCOWsn3U6zUqqbl5mRSGGRNRt3VYSpBB2IMiuqonZ/HKpRkt3lMqrqz5ieujHbX7qk8b7R3VuMiFUCmNxNVr1asuZp0+lsvbasu1nem8f/AIf21/OqdwftNdLhWKtJE1bsU8939sfnT0tVxxBqtK9HDydSpUqbM8h2vprn2bf4vVQxPZK7aLfNrzBCSVRhmCTyU75egMx6RVvtfTXPs2/xencTfW2jXHYKiKWZiYCqokknkANaW1auMMMy9Vr152nEwvtt2QxtkHE5mukyLgA1C6EEeQI19aqOGt3L4S2qAIBpG5J3JPPXrX0ieMYZyUNxZHUxPiFsgc5DsqkHYsBUHh3DcBdctZ7tmGpygc+f9dR1FTywOpqXWOFIMXZPA3cPw6zZTIbiLpnJCiWLQYBOgMe6qR23xfECgN1QEh1e2ilQR1klpXQH0kHStTv30tJLEKsge9iAoHUkkADmTQ7GcZwTJ+kvWihiCWEHws0g8wFViSNgrTsaFlZbo/T0iqbvLfcRMVa9daypKEI7ossonM1sFQAIZSyENmXmDEyQbRY7E45bx0BtEypLiQOQM6zyNX2xisCjCHt5vaAJlgRoYBkgiYMaidamf27h9D3yQSwBnQldWAPMgcvI9KUNMD+6bh4pYn/rGPfn1ldfsObgXvL0RuqrIn1J/KrVg8HktC2XZ4EZm3PwqNd4/hlKg3VGaI32IYydNFAUyToI1ipmCxSXUD22DqSRIOkqSrD1DAgjkQRTF06LnA77+M59lr2NuY8yncd4JdtwMPZBWZ8OUeLq2sk+es1MxZOmbT186sOM4jZtQLlxVnaT5hf+4gepAqHieI4Vm7t2tn2fagjxFlH3qdTp99cfVeBVWD2GIOfn9I1NSR+4QTg7Vy5bItQQ0DMTpE6kQDOlWPAYIW1P7RjMepAj8NKYwXEcOxW3buJJXMirzXWCOoIBII3AJGlEq2aLw2rTAHth6xdlxf5TNe2HBWtMWQHIZy9BOsHlyjUdOlCOyfZZ717O1ohJJZ2/WMEKo8gY+FaliOK2UJR7igghTJ2LCVBOwJG09RUe52gwyxFwEkqIXfx5I032dDG8OvUVsNK5zNieKWpUax95k+P7PYjDErdTQaB1nKfP/irB8nvD2e/3oBCWwZMEAuQVA1GuhJ/oVd37QYSCTiLUASTmERlLT6ZVYzsMp6GpuDxtq5ItuGK7gctWXUcvErD1U1UacBsx1vjFtlJrI5Pr/kz/ALddmsXdZ74IugARbBc7wpCqWy7Ek6Ez8Kz88PxHfIbli6QDEd2+nLYCt/4jxC1ZXNdbKIY7Ek5VLNAAJMKCdOlMDjGHlR3qjM2VZ0lgJK6/rRrG+/SqPpFc5zEaHxA6VSgXOTmZhj+JPdtG2iyCFCCACHkIFEfrZhp9qnMB2Nxq3YdFPW4XBXXc/tH4TVwtvgDifnAur7IuBsw7qWWQ8/tZNdTHinc0Z/t/DHXv0gTOu2WS09IgzO0GdqQmgyCLD8vlNdni+wYpUDI5z7zOOA8AtYQeAalVUmNTlH8ZPv8AIVxxXs8l5u8VmRjvlOhjXUbH30Ys3lcZlMjXUeRg/fUW5xWwrFDdUOJlZ8WgUnTfZlP/AFCtppQrsxxOJnnMEcS4feWyEW4SRs35H8jVPOBxMwUYnz8Snzg/xq+W+0uEMxfTQgSTAJKo+hOhGW4mo0lwNzFdHjOEnW7aBiTMDQAtufIE+6kNpf8A5M36bxBqV27QYN4DwdxbXNE/tHUj0nf30bxSBRbA5Ov51Ft9ocMc/wClUBDBYnT2FcmekMBrGoI3FP3MSlxUdGDL3kSOqllYeoIII8qclQQTFfc1pLNCNKlSp0VIBvBLlxm2CW5+L0O4njbd+zdsPbuZLqOjQVByupUxroYNTOJ4Nnlk3ICsOoBzKR5qZ02MkGNCBi4W8CD3Zken5SKz2NYDhRK5I4nJs4SQfm5kGZnUnMHJJzS3jAYzPiAO4FSsLi7NsylhlMRpG2nn0A+FNNaxBBGQ677dIPLnv610Ev5sxtk/Afl6fAVXdb+CDeZ3xDF27yBHt3IzI3hYKZRgy6gyNRyqKMPhAMowsKAQF0hQVZCFGaFBV2BAicx5073eI18B1j7gAPw/HrXWTEb5D/RzfjU3W/gh3GRcXZw7hotXLbPqXQqDJM5tZGY6jNEwYmK7FnCrk/8ATHwjw6jq+vtamWfU/tt1NOCzf08B0iP+mY/E1wcJeP8AhnTQfEn86Be70EG8zlrGDJYnDasSW21kAGfFGoAB6jQyKIYbidu2oRLbhRtJB89yxNQfmd36s12LV8QMh02+8dOh+4dKAe71Em8z3iVyxfym5aclSpBBA9l1uQdYK5lGhri0mFWYw59mCSZJEsdSWk6s2/U12bV/XwHXf7h06CPeetLu7/7B/qD06ifUnrVt9v4P9k3me4Q2LTBreHdSq5RB2QSQIzRABMDkDAgVO/tpfq3+7+NQTbv/ALB/qf4mvQmImcmunTkZHL+oFTfb+D/Yd5nmJOHdu8fDsWzZs0gHMuTXRuWS370XmKjYfBYZS2WxclmBHj9kwgGU5pUnIpzbkjepHc34jIdo+4D8AK6y3tf0ZmZnp4gx5dQKgaz8Em4xq3awoVguFhSCCBGWCuQwA0CVMGOutPYPFWrRuutp811y7nw6mFQbGICqq+7WSSTx3V/bIf61rzub/wBXyj8fyJHvqb7YN5j2Nxdm8At2yzAGQCRE+YzQff61EvW8I4AbDFoDDUzo4ZWmW1JDMJOviPWnLli+26E7/fH8K5+Z3fqzVC92eBJvMT2sIQQcN4TmldMpzFi0rmg6sTqNJrpvm+VkFlxmDCZBbxKEOrEycsDWdhXXd35nIZ93OCeXOBXhtXoAyHTX39dv6gdKtvt/BJvMl4Xidu2i20tMEUBVAiAFAAA16RUXFDDXGNx8NmZhBaBPssu8z7LEe+ve7v8A1f8A4109BJr0JiNPBtEe4zR32/g/2TeZH+a4Tf5sdZ1B3BCoZ8WsqqAzvkT9kQ9fOHeQ2GLZpkGNZkHn5n416tu+NrfQe4CPwrnub8Ad2dJ3/wA0zU3Ww7zOLlnCmQ2GJkQ0mcwKhRm8Xi8IETMRI1okj2yts2xAN2SOeZszNPmSSffQ1sJeOvdn+tKn8LwLiC4gKSwXnmIyyYkCF0ABO5J5AGtrS2GHEG4niGaVe0q0xk8pUqVSSKlSpUZIqVe0qEk8pUqVGSKlSpUJIqVKlUkipUqVSSKlSpVJIqVKlQkipUqVGSKlSpVJIqVKlUkipUqVCSKkK9pVaSKlSpUIZ//Z',\n",
       " 'data:image/jpeg;base64,/9j/4AAQSkZJRgABAQAAAQABAAD/2wCEAAkGBxMTEhUTExMVFRUWFx4aGBgYGSAYGxoaGyAdHxohHR0bICggIB8lHRsaIjEhJiorLjAuHiAzODMtNygtLisBCgoKDg0OGxAQGy0lICYvLTIvLTUvLS0vLS0tLTUtLS0tLS0vLS0vLy0tLS0tLS0tLS0tLS8tLS0tLS0tLS0tLf/AABEIAQMAwgMBIgACEQEDEQH/xAAcAAACAwEBAQEAAAAAAAAAAAAFBgAEBwMCAQj/xABIEAABAwIDBAQIDAYCAQQDAAABAgMRACEEEjEFBkFREyJhcQcyU4GCkaGxFBYjMzRCkqKywdHTFRdS0uHwYnLxJENUY2Sjwv/EABoBAAIDAQEAAAAAAAAAAAAAAAMEAAECBQb/xABEEQABAwEEBQcJBgUDBQAAAAABAAIRAwQSITETQVFhcSJSkZKhsvAFFDJicoGxs8EzQtHS0+EjQ1OT8RU0woKio8Pi/9oADAMBAAIRAxEAPwAPhcMpxYQgSo6CQNBJ1toDRD4t4ryX30f3VN1fpTXpfgVWx7e2ynDJBKSoqMAD20jUqVdK5rXNa1rWkktLvSLhqe3mo1OmHAYEkkjAjYDrB2+NWOfFvFeS++j+6p8W8V5L76P7q1Fe9KwQDhHwVGACkgk62kXtyrynexRRnGGdKInMASmBqc0RArOkq5aRn9t36iN5o7O47rN/Ksw+LeK8l99H91T4t4ryX30f3Vph3zuE/B3JMQOJnSBEmeEa19xG95QQF4ZxBOgUMs+sVWlqZ6VnUd+qr8zfMXHdZv5VmXxbxXkvvo/uqfFvFeS++j+6tPw+9xcno8M6uNcozR3wK8fHHj0C4nL6XLTW4trVipVInSs/tu/VU8zfMXHdZv5VmfxbxXkvvo/uqfFvFeS++j+6tNG95n6M5OYoiL5xqnTxh/TrUc3tUlQSrDOpUrRJBBPCwIk35VDUqjOqz+279VTzN/Md1m/lWZfFvFeS++j+6p8W8V5L76P7q07Eb3lEZ8M6idM4yz3SBXH49o8kftCsmtUBg1WD/od+qrFieRIY6Pab+VZv8W8V5L76P7qnxbxXkvvo/urTmN7yuQjDOrI1yjNHfAtXpG9azJGFeISSFEJJykag2sRxBrQqVTiKrP7bvpUVGyOH3D1m/lWX/FvFeS++j+6p8W8V5L76P7q0xG+M5Yw7hzeLF80a5bX0OnKvTO9xXGTDOqkEjKCqQDBIgXANp51BVqn+azqO/V3qGyOGbHdZv5VmPxbxXkvvo/uqfFvFeS++j+6tMe30yGF4dxJ5K6p9RE17e3tUhIUvDOpSdCoQD3Eiq01TH+KzDP8Ahuw/8inmbsOQ7HLlNx/7VmHxbxXkvvo/uqfFvFeS++j+6tPxG9pbALmGdQDoVDKD6xXj45wvIcOsKmMv1p5REz2VDVqAwarOo79VQWN5xDHdZv5VmfxbxXkvvo/uqfFvFeS++j+6tPd3sUhQSrCupUrxQRBV3CL+aove1QUEHCvBSvFSQQo9wIk1ZqVRnVZ/bd0faKeaO5h6zen0VmHxbxXkvvo/uqrj9nOs5elRlzTFwZiJ0J5itk2XvCHXSytpbS40Vrz0i1veKSfCt8836Xubq21aweyXNcHOIMNc0iGudre7m5RrQX0g0EEEEAHEg5kDUBt2pFqVKlOpZFt1fpTXpfgVWk+ENJyNmLAmTy0rNt1fpTXpfgVWx7Zx6W+jCkhQWqLkCIEk3GgEybRSL2h1WqCYllPvVE7ZXOa5haJIc7DL7rfoktW2GjjQ71UthxRzjOSoGQCUkmPMBXAYto4VtvO2FoSsEKS4VSVKICSnqXBHjTTaNqNkj5NoyVCAsFXVUE2GW5MyBxq2raGFBIOUEKKSMnFJg8L8NOdU2zueXG+DM/dOuPWHNEHEp2paNDdvUyIiOWPuz6p5xnLgkv4Uz0uGd6VPUDIWnKqU5AAozEGI4VXx2LQGS0l3pCXc8woJQACIGeDJm9otT+jGYUqCBkzGIGXmAocOIINeBtHCf8PsH9JrRsbyCLwx9U6xBzec0IeUGgg3CY9YasRkwJIwOLZLTSFrSjollSkqC8qwqIMt3zJiB5r6iveHxOHIKM4bSjElxMpUr5MwABEnMAkWPPWnP+I4SJ6uW18nMEjhOiTUdx+ESSk5ZESMhkSAb25H/TVtsj2xyh1TsjnbhlGInWVHeUGknknH1htJ5m0nPVhshQw212syVKVl/wDWLeIgmEKAjTjMiBXhrGtN9CjpekCcQh0qhQCEpsQArrGdTAiw406fxDCRMojnkMeuIr43tHCEgAok6dXkCTw5A+qr81qc8dU7vX3fhCo26mT6B6w3+pOvbxWfbYebUoFCkEX8QOJi9p6U691qq9KkeKlWqTc8hfja8wa0xrH4RXi5DabI4SE8uahXkbTwdrovH1Dx04UtV8l6V14v7MNXrblv/Um3Q24cPW/+UhbOx6UIfzBKisJypJVBhcm6SCIF9RVzZW1mkJSDlCulcWk9chslCQgwD1hmEEGTHtcF7VwYEyj7Hd2dtdHcdhEmCUTb6s6iRoOV6PTsb6cBrxh6u+ed4G/FZqW+m8OmmcfX3RzfBzSVszHspDC1LhTAXKMpJXmKlJykDLfNBmIiq2HxyE/A+t8yflNbDpc3n6t7TWg4TE4Z1WVsIUYKvF4AxxHOrS8O0ASUIAFySBaqFidAAeOqdV31tjQFf+otkm4cZ+8Nd71Nr3FZQnEpD2eAoBzNB4gKmL8xaiTuMbS+H+m6QF4LyBKgoCZvm6sp0ABPmFNZ3hwPSJbCmypRgQnlM8Oz2ivB3gwocKFJSBmypOXW0yRl6ozSm54A6GaG2ywJ0gznLX1+wyEV1vJdd0RkCCJ1bxckcRH4KmLfbS0+kP8ATKeIiyhEKzZlZo60WtOvKrL+OZGLU8l6Q5nEpSoKbzJKQrrASQTw7aeVKYCOkhBQdCkAg90Vw+GYb+gfY/xWzZiCDfbqIwOqfX9Y5zuiFgWsuBim45g4jWAP6eHojKNc5pJw+NaaDKOlz5cSl1SgFZUJFiBmAUSdTA4c6+q2ogqZKFIbCQ5mSpK1pClSCTqopWIsDKb06/DMN/QPsf4qfDcN/SPsf4qxRIECoIw1bI1351bfpENoLjJpOnHXtkHC5GvZ9ZVt3A2caC1dATciSArLeM3WyyDE3tQrwrfPN+l7m60TB4tkqyoACiP6Yn2VnfhW+eb9L3N1RphjqIBB5ZyED7N+QxSteq6oXEgjkgY4nBwzMCT7ki1KlSn0ii26v0pr0vwKrbcYy4opyOdGBM9UKJNo18/+axLdT6W16X4FU97U2liH+swvMgiR0ZIVB5jxh3UmamjtD8M2s71T8U5Qo6YBl4DE58GpqODfg/8AqTcH6ibecRX34HiP/k//AK08+/urM1uYgG5fzGBEmiuycVi21AqUUpn66iB97jRBapPop6r5INNt7SD34J1+BPwoHEagxDYEGQRx4AEcNZ1qOMupSSrEhN5koSABBtcxxBns76t7PxAcQFi4M35wYrP/AAhb3Lw7ow7PUdTCs5I8WAbA2I4H/rpFHLwG3lzbPQdXeGNTn0LqoAxIjLB+TScyuNjwjlXtWBf4Ygg3vkHGItMWj21gzu92JdLbxxLo6JSspgKkq0SALlQAm5vpX6B2biFOMtuKQUKWhKig6pJAJB7QbVGPvSi2my6ANN4GZ8eIxnCIJHYzDP5lEYlSZnLDAXlBzQLJ4dXjeO2rDaHFOSHyB1SUFuJA1jNcSZv291Ku3tsq+FlKHCFMqHycxIgHSbhRm/m4TVfcj4Y9jHMQ70iGjJ60gL1yJgiCEhViOWt6w2sC66AtPsLm0hVLhET+w24eNabWdnYkBIOLmIn5JMkDtnU8zNTE4DFEAoxUEJAu2IJEyrlJnSCLV025thvDNLWpaApKCpKFLCSsgSAJ1J0q5g8a06MzTiHBzQoKHrBos4wk4MShy8BiRB+Fm3AMpOoA0HbJ89e2mnilKfhBzdaVFiM0mRINhFx2j10H302ytshps5SRKjxjhHt7opcwW18SysKUpZGuVRmR2EzFLOtIa6I8eN66FHybUq0w8ECchtT65gHzAGJItf5MXPWvMyNU6H6vbXLGYF44Vxrps7hT1VZQnS4BueUSed67bU2o20x0zjhbTa4Ekk6ACCb9l6WsTvrhkOBKUuuILaV50kzJuLEgCRzKbjQ8DOc0jE5pWlTq3g5jZg+6R4CzrFIdk4fLD5XaeqpJJuSeA7a74hbiHuuvrJMayDFpHMHnWr4veTDoZbeXmIdMJ6okzzvFuUz7aJpwjS4cy3MEGSnha1uFKeaNc2A7HguyfLFVjr7qeBwzjEZ4wduUIHu5hVjCjOIK3CsDSARy4TE+el87PJCoUxGaVfKlMXPtBIEafaNaM6mY7/yNLkKJ8ZX2l3i9/kYg8eXbamG0roAGpcl9pL3lx1mUrnY6vFlqYII6cyIEEczabm9qs4HBOpUnKWSoZgB0hVOYgrtIuMosZIuJAphbBFyTPDrLM8p+StcQeya+ZSBqqOBzuTa1/krWJ58K1cWRVhXsFhsriT2n3GkLwrfPN+l7m60XZyOogyT3km8EHxgDw5VnXhW+eb9L3N0vVbdfRHrn5b1C++HHcO8Ei1KlSm0qi26v0pr0vwKq/vds1WGxaECwJ6iiLZVG3qmPNVDdX6U16X4FVsO8ew28W1kWBIMoVopCuYP5aGk7l60v9hneqK61O/RA3n4NWS7d2WtlyfhTigtMgdYQD2ZiKDNICQlPSKOVRMxczGvW7KdN9NkOJCCRJSkJUR2aHuNKLOCcWrKlBnsFLOe4EtJXqLB5OsL7MypowTGPHfjgnnd7fVz5Nno0QISIsT26+eru/m5ScclLzaU9MI8Y2ULRe+UiBcC4tyqjujuuptQdd4EQkczoO/3a1ptOWcOe3l+5c631aFKsPNYEDGMjOrHPDt4LA8F4O8Y5iFNLT0WUR031chMQmOquwJyiDe8TWlI3gbwaEYVx1TzraYWuwvrpfQcL2FE9v7eVhj4gUDpePbSCMRh1uqc6JwqUSTLk+MTMAJHPt0rNR9zBmevNHo0qlqBfWHJjACMTlJxnwJyTZht4MM+tLSkh0kdUOJSc0gGAYAzRwIE86PbTxoawzjqAOo0pSRwkCwt22rKtkYJxePQlAJyOiVC8JQRcnuFa5tHBpeacaVOVxBSY1AUIt20ShUc8GUnbrNTs72AZESR424rEt7NuNltLaeu4es6s6lXG/wDsCrm52120pQpKcryFDrDRaSRKVdh7eN647y7qKZXlW2SCeqpIJCvVx0ojuVuy646kltaGkkKUpaSnNF4TmAmeY094w06l13VaNw3ncjE5jHdHYBH4p33v2IXsrrfjDWeI/I6Us4Pd/EOLCViBoTmCiB2BJPttT7tPbDTCkJcJBWQlMJJuSANO0ikzbe/IRPRhSyArMVylI/pIShV0m5uZ00qVaVO8ST7khYqts0YaxojGHHCM9ZgbuKbtr7FD+G6DOpuMpCkxIKSDx4cKB4rcvCtsLJ6TMkZ1KSqCrJmMQqUQZUMsReu25m9RxfSZw2gSOjhRlViSIVclIAJjnQbwn7WVnbw1wggLVH1rmB3CJ7+6jOexrL0aktTp2htUUL0Yz++/htThhm2UsoaSlLjSQMplCgqONzczeedc17xNfCRhhOaAVE2CcwlIveTbhaax7HbXUpxwt5sqciMuonKJMdun/mjWFKFuJeQQHcozBRkrgRN/rCBHYKEbSTgBsTLfJc8ouOvVr7deC2BWo7/yNVv4e2LwfOtX618wClFpoqEKKUlXflrN/Cri3ysthQ6NITDYN15gZJGXQaSFWiYNqZc8ASubSoGo8snL6J22w8ww2FKzEkEIQHFDNAJIuqAO06W7BS9sPfrDOustOoUy64YSC4VpCzYJN/rWjW5ixNZwdsDoAhK8Qp+IhbgcbaSnxSmyf+IywbCJoe3hFrV8IzK6ZDgV1k5RmTCsyYtCbSD2c4oelMynm2OmGQ6b23V0Yr9KK4d/61lvhW+eb9L3N1o2zFrUyyXPHKElX/YpvwHHsrOfCt8836Xubodo+0o+2flvXPb6L+H/ACCRalSpTKAi26v0pr0vwKreDWD7q/SmvS/Aqtj2042AjOsJkmJSVg2vYcQDY0q0kWipAnkU+9URwAWAExifg1WMdgUu+NI9X51WY2E2n+o/ZHuFDXCyek+UsogKJbJ5kcbnqGTHLSvj+LYSrMt26khVmllJmFAkAHUNKkTdPKL6JeTJp9o3/t07lq7TH3+w+NqPs4YJM3PLSEjsA9+tWc3YaXOnbCUuB0dZK0hXRHqlJXJAERBXERJA7Sa8ubWCHAlWL8XKSOgJlJAUbjTMJjiJ48T03EjER75Q3hoMNM+6EV2vsxGIQUKSOwkT7AR76EbP3QaaObU84IjulZjv1rwjbSYUFY3rEGIZNrgz4sk5bR2niK7HawQpSVYokglMBhVlAnjEaIWO3XlUNNpMkLbbRVa241xA2IzgsAhoHImJ1PH161bzdhpcwu0wsqjFzCCtQ6Ep6uXUTykGB+teWNrjpEo+Fk8LswCZyRJv43HTtrQAAgIRJJko+pBJkKUOyxHtvX1lKhMqUrvCRHqoIcYrPk+F9bMEwGeM5TJNtf8AbiuP8SOUn4WYEA/IwRmOQGx5mezXTS1SP4jDIXGdAVFxIBg9nKlfGbhYVU5c7ZUesQZkcutIGp9dW8PtULKEIxkqI8gRMkEEzZPVWgX4jvFFW8K8FAl+UiJT0YvAAN5m5E+eKyWg5hFpV6tL7NxHv+iHYHdLCsrbW02UdF4oTZMwRJHE391dNvbsM4sguZwoaKQQDHK82o4pUCTwr424FCUkEcxepcblCmnqSDeMjAY5BI7Pg0wyCS24+kq1kpVPeCK7MbgICgrp3IHAJSPbemzGYlLSCtRsPWewVQwW3m3IuE5hIvNjpStZ1mYQKkA+M9g3nBM0q9ruEscYVnC4To7JUvKAISo54j/kolVwdJ4Wr5jtmtvAB1tC40lOnnmu2OTKQOZpJVtpQJB6CAYJGcwMyRJt/SoW5kCeNHe8tMRKWY2cZhNOD2Fh2gUtsNJCvGhAv3yb18OwMOVBRZQSkymQSEnmATAPdS0rbB0SpgqsL5xcjlE6+yDxq8kYpQzJbZKTJRdXWTEoJmIJtIgx20PS+r2j8Fu6ecfHvTUAbdnZ/msv8K3zzfpe5un7AMkKQTYxeNNL+aaQfCt8836XubodV959Ex98/Lequ3WvG4d4JFqVKlNpZFt1fpTXpfgVW7FAtYSNOysJ3V+lNel+BVbXtZ0pRb6ygnzHX2TSl+5XqO2MZ8aiYa28xoHOPwavTm0WkmCtPrH5mvTboUqCLi6TqCOYPsI7e0UiolapJEmSZsOdG9jYgwpFyUjOgC5t4wHeLeelrL5SNSoGOEA5JqvYhTYXA5Zo9jnw2grKkpA1KhI5DiOMUqt78NF4t/LWJvlTl9Wsec0b3pwhcw5CRJSQqBxjX2Gs9xLSACQIte/Gt2y3uoVAyM8t+3oWrHYmV2Xpxkz9NYxWo4DFpdQFpUFA8QCLjUQbgjkapbS2h0eZQixCB2mMxnnANhOpNVNxsCprCgKBBWorg6gGAPYJ89E9q4EOtKQDlJulUaK5/l3U47SPocjBxGHFKFtNle6TLQexANg72Nul0KXm6ISVZYAiZvYf6aZXMWhLfSKMIiZ7Dp/4pCa3NxCnAhTzIYSoFbbcgq49fjTjtjZnStZU2UnxeA7vVxpWn5xToGBJAwBMnfJ17h7p1piu2zGo267AnGMgPEzsQXEb+sJUUgac1gH1Xr63vsyuyTlPHxV98jMk1nmJ8HygsklwX/ovrz48KI7N3E4Btav+0gDXlHPny5Uqba8ei8k7Ln0zTAszCOUwAbb/APn4LUNm7TbdHVWCoCSACPYa+7YxvQtFQ8YmEzzP6XNC9hbFGFGdSohMZRoB+dcd4sSh4IDawSkyRf8ATvph1pqNsxNWGvgwJA4GJPxwSoo0zXAZJbhJ/fYhSttOTJeVP/aB6haiuydpkrAcMEkdcQCeQVwI7dRQNLXWOZAHbce6vaFpkgJIvrw/3zVyKVoq0nXw4ncTM+OldSpRp1G3YHu1Ji3wKwyFJuEqk+o61ljD7pxEmbmtlwvyjKekg5kgmOR088a0Nwu6zKHukAsDIBm3tjWuzXselqF4jlAA8NySsflAUKZYRt8FE8KhXRtBXjACe/LQQujg4AM0AhbRvrElHvPCmVX1e/8AI1VVhkJglax3uGLd5p64ANwC5t4koKp68hSdMwGdrSMwtlmIv3Xr63iFE5Q9NonpGSZ0TbJFzbzi16uF5i4LzgyglUrUIsNTzgWHfV3CbQZXCUOJUY0m59etYDqZwDh0hbLKgEwegrzgXg4ErGXUiygrgeI49lZ14Vvnm/S9zdakvh3/AJGst8K3zzfpe5uhVxFSj7Z+W9Rplr+A7wSLUqVKZQEW3V+lNel+BVbXtVKVNqSpWWRY8jw9orFN1fpTXpfgVW3Y7CpcEExyIMH/AD3G1JOaXVqrRGLGZ5Z1Ewww1p9Y/BqT8RhkBRKlgZrjL4pVxhRgRx9nf0we0UtEx1XMsDPYd4PbyNW3d07kpfWJ1EJA9QSBXBO56xb4QSk/VgR6tK5/mFoa682J8bdfZuXU86s7hD3GOHj99quMb1pTZ9BQecGKv4d7COnMnoVHnlBNCcJuhkt8IWBySY/xV/CbssIHW655nX2U3Sbbm4Egjf8AslqpsebC4Hd+/wCKtbdwi3WFIaeLPNaRJyjUAzaeYpZwrvwVIAdK9ACskquReTrrPspweYBbyJOWBAjhH5UBxmxisBCkhRGihpxHZzrVuZUdEA+7HHpHw6EOxmk0kv14e74dGKBYnbaWlKcaCFKRKlJMwqVAE5pJJkz33iYp+wmIDjaHBYLSFDuImkvA7lEZi6QoFOWEmFEd9OGHYARlJFxEA2SBYBPcPXTFlbVa2KmfHPoQLSKelOiPJgaulAcXvYlQUGBKkkyVi0DiIN/ZRDZeMcdBuJTBsIBmeqf1pawm6LjZdiFBUwZFwZ4cNe3lRDZmxnc4zJyJtPWBFuQHGufpbaKrXEEjZkDhBmJgTjJ1DPWXn07KaZDSJ25nds/ZMuMSVNkQQSNOPOkjHYYoMnTgRwPL9Oyn/MOdD9obODn1gm3IX7+dOW2yacYHEJay2nQnck1ChqZJ7a77NwinlxcIm5IPs5+6jbO67QVmU4pX/GwHsE0cZZQgQkAUnQ8lmf43QPqma3lD+n2pZ2xjsQy9DakhlCR1cnZqVHgOyuGI3jWhQWCFpKkpUmIyzbML3E0wY/ZjbhzLJGgIBABvb9KqfwFsnxEa8VKUI/62E0WpZ7W6rea+GzgMcsdnwOBz2INOpZmshzTMGT0az9MtmckcHjUupCkaZoPfH+aUt9sQtLw1y9GI15nN+XspwYw6G0hLaQkAzA7a4bSwDb6QlxJMaEEAjuM0zXoPq0AxxF7DaBI7eCxZ69OlWvxLceMHx4lIAx6lphd590i3mI9pqbNX0ZBBMiLjgabW91sODMOHsKhHsq+7stlQSC3ZBkQQNO43rnf6bXdLnPE6sz2nHhvXRd5Sot5LGmDmryJITOtp74vWYeFb55v0vc3WoZpIt7qy/wAK3zzfpe5uunaPtKPtn5b1x2eg/gO8Ei1KlSmEFFt1fpTXpfgVW5YjNbLzvppzvyrDd1fpTXpfgVW0bVwiF5VLCjlNgkxJVYD1xxHvpQNvWioPVp5e1URwYpjifg1e0LckSDqbdXS+X8q+SuBaDF/Fvpr2XOn/AJquYLDJJSQQbT1lmIzRebeMr114GzcK6sR1lJQBAcVZMECQFakKNzc68KjGsc4021SSMxeBIyz16vGKhcYm6Ogq4VupCjlzkaCQM1wPNoT568qxbuaPg6ov1syeAJGvAm3nqvjtl4dDQK8wbauOuowJSojW8lIF5sSBE1Q2a3hnUZEJztr62UOrKhAySQoyBAjWCRIk3pljQzkySd+J8eM0JzwTqRdONdgk4dQuIBUm8z28wB5xXz4c7P0ZX2k+bjXNW7+HJnIqZmzixe3JX/EHvnma4nYeFRCcq7cnHCRcGSQrWQDJ5URRWU4x6LsQcs+MIzZQcv2urPnr0nGu8cOoD/ujWD284Hnr0vZLRUVkKKiQSc6tREWmPqj1VSewmHQVJKYm13coPikWzSLpF44CoTGasCVaONe/+Or7afZ/mPNX1ONdvOHWIFusm9wI15SfNVPDbCwqxIbWOHzqj6sqyONWBsJgAjKqFQT8os6Ekaq5qNtDN6ipehjXf/jq4CMyeIVJ7gQB56u4dZUkFSCgnVJgkecWpZab2erEqwozF4JGYZ3IsCYJBiRc+uj63G2EAXCQIAkk+2sGo0AuJwC1cdMRiuq8SASBKiNQnh3k2HnNfWXCdUQO8H1xQTEY0LgJGVMzAIEk8TauL2OLayniIvobib9o0rl2nysKJkNlu2YM8I+vGJBLDbI93FB9/NuYjDFaYzNrHVVEKTBB7lAEajQHrcDRLdbbfSNqdeX868Q0ADKxACUoTqYCVKMdqjAmqfhFUr4L0gSnKQlRza55ABTyIBMm1rGeAbcZqcSM5KVNICG0iSAkpSpQiDFzBOnUTOiaeL4eBOaXIWmYlRAEWJNL6dvLJSOhxF1ZZ6NMC8Sb2FpnlTE8LDv/ACNKbmzGTqyJSFQcr83Klcr9dRMTxPdVVmuLsCRwK0wiFdRttZBPRYiQQIyJkyFG0GI6sd5FXMFi1uJJIcReIWEgmwM2m147waE4fZzSCkpZSAkpVZL0hWoIGW8d3KdKv/DHbdUXj/23e0H6gjTjQiypqcek/ity3YiTLiswkyD2DlWceFb55v0vc3WkYdKurnCQqb5ZI0POs38K3zzfpe5uskEOogmeWflvUkFr42DvBItSpUp9LItur9Ka9L8Cq23HOQUmJyhS/siP/wCqxLdX6U16X4FVuOIQSU8RcK7iP1Apan/uX+xT71RG/ljifg1JmDx1oUJmc08Z1q/s1aWsiWk5RMwJ4m+tD3WAlak8jFGdh4YFQPBN/PwrxlmpVHWptJhIN6SJyIOJ459q6ta4GF25FtqfNm0jjS9sRwF+G0BHWKl5RAMi5Mdw88Ubc2q0ZT4w0Nv11rngFtIlQCEg6kKJM8iCK9NVZRtFqbUbVHJiROwzhj0/ukWF1OmQWnFE3YgzYdlBdu44NMEIbsrqcAE5puY/29EsSQoJIIidRQLFbOHRLZkvuqK1JClTkzzFzOVImB7OVO2io+6QzZgfw+mCxRY0kFyt7B2yp4lKwkHhlmLd5PCh21MOjOS59RecdqrwTz1n1cqtbu7CWyekdKc0WSLweJJMUUVi2VqKUltxY1SClSgOcE0n5tWtFANrGHA4cN4EYxs1IrqlOnUNwSI8ZoXuotay6uCEGAmeJEyR2aX/AEqxtPaCiS2glOozDXtImiaXwRAlKoMJIg+bgfNShiXSClfAyD2GZE+2s24ustBlJhOvHXhj2lSnFaoXEe7sXzdHZ4axTjqiDnQUpPIJVJknsAPmNHN4sQEJDmUKQBJvGUc+0UMwS4XY3PWQfePXR/BKQpOQwYNkkaDkOwcOQ7qBYLQ20UjZ6hg6jt+kg6texVUY6m6+MUr7N2sh4wypBnig5iPPoO+i2E2G7nla2yidAk5o4CSfyq7tTFpw6CpKEJA1UrqIHnAKieQSD5qr7A3pYxKAZCFHVJNgeQVoaaZ5PoMP8Y3jqnIcOOzIqjaajvQEbUF33xKX3mdmgJlwZ1qMy2lIJSUgESrqq1sJEgzQbZGLKMQp+c3XKYIHOJAAsTA05eu2pebbr/8A9eGgW7EHXX6/nnsodhUZW1H/AJns+tz4d9K2+0PbXEGIMDpTNlptLCCNi1BtwLShQ0Vf1g0GcwqySro9DPzQMm5BADvIAd/sJ7M+ZZ/6J/DVfF7VykhImK61e1UqDA+qc0g2m5zi1qrjBk5iQlFwSVotOhiHOZJjtiuw2XJzJW3MgjqExHp0Df2uXJMiB1omR1TCxHq85r6/troFNmZQsTbhz99c4eV2F8BuHbxjZuzTPmT4zxTPhcPkSBaZJMAgceBJ4RxrNvCt8836XubrTWnQtKFDQ39hrMvCt8836Xubp+sQ59AjIu/9b0s30Xzs/wCQSLUqVKaQEW3V+lNel+BVbzWDbq/SmvS/Aqtsx2LDcds8YFhJvGsDSlWuDbRUJyuU+9URSYpDifg1fMTstpw5lNgq56H1i9elYNIbUhHUBBuPfVU7WEqEaEDXmY5domJj3/FbV1tYGDCgeBJOlwBymiGpRxOGw4e7MCdqHpN6WU4oNSlZAI7R7K7sPHIOlGTMSUTYEfkewxamMY9r6xCVACQRpmGYXi9uXI15cx+GIBUtBESCQI1ItI4FJ9Vc2n5HY2YeYOWGX49idNrvDEePHFc9htylUwUHhqDz7KJsYdCLIQlP/UAe6qf8SYSBDgg6ZR38hbQ+qvp2sz5Uf7flyv5q6lCiKVMMGpKvfeJKq7xh0t5W2ytOqoNyOUakd1I2ytkvnEF4srAQlUHKQEkiBE62JFprRGtptKmHJhJUbaARM25EW1ryNsMRPS+znF9NLi+l6HVsjari4k4iEVlctEAIVus85KkqIUOYIMG2sAAHX2V627u447n6F4NBYvKc0HWRccaKL2qyCQXYIJBHEEEjSNJBvXN/bmGR476UiM0qIAIkiZIjUGqZY6YpCm7lAGf8D6LJrOvXhgk3FdKwnI+kpP1VC6c3ApPGf6dfZRnZ2BxLmRSvkxE5wbxFpSRe8cuPnMr21h8hV0qSkaxf+o6AXPUVbsr4Nu4aY+EI9Y7dPV7uYpZvkmgHEmSNiI61PIhXlMBSMi4WCIVmA60iDI0uJt20h7xNqw7q1OA9GpRUHI6tybKI8UjttERyDanb2GIkPpIiba6E6RM2NtaJqROt/V+lOWizMrtuuQqVQ0zIWW4LbSS6ktFKyeoVAAnKRJTMTExbuqxs5lxxu7TrfXM50FNp1k25HnwrSUsJGgA7gP0rgX0GD1jBschgTxBjzW50mPJVMxeJMeN/03QmfPSPRaPj+CmFshEjKBoDqEwQme2Ipb23uuXFrWypCSslRn+ogAm2tgPVTRiXsiZMnhFqo/xdPI+sfpTdoZRfDaiUbVNMyDCVWN1nGQ2lEKKScxkXzSTqRxvTNszZSEoR0oSpaRaYOWdQPUPVXT+Lp5e0fpX0bVB0SfWP0pZlmszaulmT2Y+7ec5RHWtzmXCUQkWAjXh3Vl/hW+eb9L3N1ouGx4UoJgie79KzrwrfPN+l7m6NXcHVKJB++flvWaZ5D42DvBItSpUppBRbdX6U16X4FVt2MbcVl6NaU85TmnlF7ViO6v0pr0vwKrZ9prKS0sKPVX1kg+MkggyNOqSFeaONKhwbaKjiYFyn3qiN/LHE/Bq8nDPgfOIUcqtURKiSRe8CIGh0m9fPgz4up5AAuSGwPaSba+zkc11jEpWjOggi+trjWeVL+2XvhDK2gQoLBSZlKSDqLHNHeeJkHSjvrMYJJ4b0MmF62bjxikq+D4plxSSJV0ea0EC0ibwZFrR2mwnA4uPnmQbx8lMXXHEcCkxwINzM0ieDbeQJfThEMpCHCq6QJBSCbkeMLEXnW1azWqbrwlZY68JQrFYR9R6rraRa3Ryf+UEniez9T8GDeKUgraKkqJKuj15QJsQLTxjhQTfHeVeGcQ2EkJUJKhqeYBNrW7aEYLfdCXAo5lAkAgiFd4KbK7jPmobrQ1rrplQuEpvTs58EEPN6XloG+ZRkQRHVITx0rg7g8UB8+yVcczcDXhcxAmAZ/Orm0sfBShBuoZieSeztNDlARncMd591DrWq4660SegBbARwNtrGiVXnQG+s+uuikpAkgAUCSAnrtm6Tfh6wat7XxcNpVwIJ8/D86ELaQxxcMRjgZBGU9OauIMFdE4pJUpICD1rCIzCOZtOYn/TVxsIUJAHq5fpekXZ2OV0hnnTvhEnxuCgk+eL/AJVdjtbqxc14xCyCCJVPaG0mm1ZCE5u0WHL2e+qbG8CUgJUoLgAFQtPbfjS5vwyoYkqvCkgj1QfdQBgnNF7mlq1prNe6DEFYLsU777bzqwqWg3EugnObgARpwkzxpf2bvcvEhaJUlSOsFj/lYR3ZT6xThtTd1vE4dDL0gpAhSYzJIEGCQRVbBbnMNMhpClyFFXSHKV3ieAEQBaOFN2ihVqA3TBj3ajHZnmmWvYAMMV12DjlvtQ7BWhcFQsFCJBjgefdS+NidZMIQlQKlCWXTC8yik3EEXQDe8HzN+zdnJYQEBRUSokqVEkweQih5wSgFfJqkadRJJgHk5c/47aNTY64L5kxigugmQqGG2QwG4caKibnI24AbKSLRIsVCO3z1fwrbTacqG3EjWOjXqe0i5vXVjZ5USCnII+sgX0mIcPbw48a7DZBkEqQbknqG86/X7T663o1UL3goUUqAULx1klJ0PBQB89Z94Vvnm/S9zdaa0wlASlIgA6eusy8K3zzfpe5ul6zYqUfbPy3orByH8B3gkWpUqU0govur9Ka9L8Cq1TFYgrSXSYPBPIfrWVbq/S2vS/AqtI260psEEW4K4R+Vef8AKgqGs66CRdZMbb1S6cMcMd0xKYb9mOJ+DVU2DtUpxXRG7bxII5Kix8+h83KiWM3WccUUnEZGTqlCIWRyKyTHmAoFuvhwt8PJGYpnINMytJJ/pEyT3a1o9dOx0Jot0gyynZ/lBcASlPd7cvC4BRdQpZOkuKBgHgLDX10H3kf2op4nCBIQmOtCOkVI6xCXJyJ4REmJJMgBg2m64pDq03cTmS2OCSJAMHjxn8qRtzBjGcRmfISgkyFQpbhINkgEqUSYNCq2vlFrIEH3ngPB4I7KILSSYRzZe1k4sJw2MhSjZDmXIpK+KVDQKsYIgGwiYm/gNwWUOBanFOZTISUpGnOKz7a27m1XtoPqZZU0h1YUlS1AJRAAzE34jNABNbg2DAkyYue2nmNvAF4xQCAg20m/lp5oHsN654xsHKSJSm59ljVjH4ZczrVRnEkcDbmL+elbQwMdeOR8YrbHlplTBaLlJTFglQgxwvxFEHMAl5hKFkgRMix7KpttyJIhJN4F1HkOZNF8K2QnrakyY0HIDsAgVdlp3wXOGERxxnduHSpUdeKXTumy3LinncqbkEpi3OE1b2NvAl0lC09GqJSCRdIF5IsCL27J7q2/WJUhtsyQ2VwuLnTq+bX2Vne1tpdVKk5iEL8Y8Emxns0rFSoaVYMpsEa9/wDhAkNN0LTdq4NvGJKEuJVBkKQoZkHiNCCD20O2VumGXA5K3FA2DhSEg2gwhMk6+r1AtwcUtzEjJGQAlZTEaQJjjMVo+IeCElR0Ao9ItqN0j2gEa+GtEjFDtubTDSCAqF283+8qVsPvQ42sBUqCrwAScoj+oCOPq7K4YrEqxDqlJGY/VBEgkFJTbhGkm1eV7vYhaitTjKEkeKFcTxMfWiY58a55fWtDzUYDAy1fXXr6EUgDBPmCxKXEpKVBV5MHQmfzmvWPxiWUFazYesngBVLYOzwy2BmKipRUVFOXgdAbx+tcN8sA49h4bBUpJzBIgE2I48b11AauikjlRlvWWht4TklzePbzqljKpKGgLyogAzBmwzXtyseNdtzsW4p8Q62psgg5DYkdnP8AKaAqwWMJBVh8QEpSCDlCsriVEyEpJKgomT2i2tmLdfZzq3+ndkEf/UWQYmLEXN9T3UgwVTUDjMzs6cdXw3LWkcBdw8a06r4d/wCRrLfCt8836XubrUl8O/8AI1lvhW+eb9L3N05aPtKPtn5b1TPQfwHeCRalSpTCCi26v0pr0vwKrbMbjm2svSKCc0gSCRYSbjSBJv28qxPdX6U16X4FVse2UIKmiplTpSoqSBcJUEm6hpoTE+a8UvS/3T55jO9URv5Y4n4NXxG1cODIWAVkCShQnQC5FtR667M7WaWoJSuVGYGVU9W5oSrZzZj/ANK7CF5kysyFGTKbkdUoRF+Nu36vBIRkCcK/aVShQBzLIKs5zCSIGs8hTvI3rGCsubOwuMTngrB+skrbzSAQeqU5hBEG9csHs/A4NyEIQ24pJMwpSikTPWMngbTwrhhmAltLacLiEpRJSOk0AAgeN2ac5OpNfX8GjMg/BX15W5SQuCkrK86SCoXE6iZnsqmtYHHZ2rL5+6iru1mU+M4B1AvxVeKQpQJ5CEKPomrbD4WnMk2vqkg2JBsb6il9GBbUCFYZ8fJFPWXOYBKgE2Ub5VrAJjU8Yr30f/4z9uoDm+rmkEGZgZtOAkCwq3XI5MrLb04wmK/Mer/NSD2er/NLTQOnwTEAa/OaKJSDFxaEgzrra5ruMMkZFBnESoAkZvFI4G+o5i2l4rC2jXQDNmtPMyY7pNvNXS/Mer/NL7eFBUMzD18pzdITlKrquYICSYtfsFcmkSE5sLiUkwD1wQDxvmkpvxGgFhUUR/GYRLqChxKVpOoIt76rYPY7LSShttKAbmAQfXM1ywuzUFAUQ4kqR1klapEwT5wUgT+tdRsduCOveJ6x+rMebrG2lVCis4fChE5Trw4e+u0Hs9X+aH4HFtBOVo9IhP1kr6UiSdblXvq+lwESCI592tWoqmNx7OHTmdcbaToCqEyeQvc9gqvsvb2FfUUsvtqVxSDCrf8AEwY7axvwkbSLm03Uuk9G2EpbjgMoJPnUSZ7uVKPw9TbqXGlKzIWCgjWR/ulRMCgbt5fqJ9wJTKyABzFVP4mx5RPqNTF/KMoJEZspjlImkb+GYjNYYiOZcEQTPBM9UGPNxrbWgjFACef4mz5RPqNT+Js+UT6jSQ5s/EXARiD1U36QahKCeGsgg2EmeYq7hNguEAqeeBiIKp046C/+9lXdarwTdhsa0tUJWknlBHqms48K3zzfpe5unLYuzuiUgFSlkE9ZVyZCte6Y81JvhW+eb9L3N0nahFWj7Z+W9bb6L+A7wSLUqVKMgItur9Ka9L8Cq3Z1wJBJ0FYTur9Ka9L8Cq1rfDbXwNg4gpKwg2SDGZRskEwYTcknsFqXpCbU8Dm0+9URj9kOJ+DUsb3+EAMGMOtta0LCX0eP0YGfSCBnkAETAiJpW3f3+faxq14tbjqH05220KBQEqJyhIUoBOXKUkCSTzmaz3aG0A446soAW4paiJIutZUL8UiR1bacDVnZmBQ6tqQ4tSXAkhCuspq9r8QbCL9Y8q6VNgktz/Dx8UuSc1+mxic7SXEdUKSFEqEFKYk25jlWaYLwqp6VU4dxTYByKzkqJ+rnB6oniALdsVqGHwyUIS2kQhKQkDWEgQBfsrGsZ4NsUcUsFTTOGLhyrCglOVRJASjmBaPfQMEQJ73e38ZxD6cMpJQ8sFSADmSQBJE2M2UdNBTc44EgkkAASSbACkPB7Lw2zHUOPYplsrBSMwCVOARIkmwEi88Rzr1v1tH4ZgXRgHg8ppaS6lo51ZYJiEyTeDA/pPKh0bxADvp9FTA67JCZ2duNKCoMKE5U8Vco7+XC/Kh20dv5MMtQUnpMpSHEDM2FkQDEmwP1TrWRbn7QddYfQlS1vhwJUm+dLWWIjUDPINtQmeFGdnN4ltXifJzDpIhOQzmC5MAATQqlYMq3QMB2ro0bCKlG+XAHs9/Fapu5txvFtZ0HrJstP9Ko9x1BpT234Sm2sUtgtLyNKIWsLCTIzCAmDIkDiPyNHwK7LcQMQ+Sro1kIbCrFQQTCiDca8dZNNu8m5WExt3EZFkglxuErVHBRIIUOFxbhFN1A0O5OS5zThilnYfhOYWUpdS4wpSwkSS6ggkXJMLGsSBHHSre/uF2gjpl4dTr7b6AjoUWUyQB1kkH60RpbMZm0DdleCyMUV4laVspUFNhJMqINs4KYAixAPnrTnFQCYJjgNT3TWQSFpwGpfmnZ2IxLS4w6lJUSUgNZlqUSIJQddYlPLSto8G+13sRh1dMAchCM8EKWpIhefNqoWk9p5UUZxmG6ZKQGEuCYEDOBMKggRyBg60cAjStF8iIWQIKzjfjcYYlXSJIQ4EwSqyFpTYHN9VYSACDY8ONCt1vBeelDj62yhJulCsxJ5EiwFPm9u9bOBQCsFS1eKgann3Cl3Y/hHQ84GnGlMFRAQodcSTYKtabfqKFfHjxKYa2q5kDJPzyLAdv5GldTCINkEzyZ0tP/ALnd9mmVl3MO0GDFxMTbsgg1yxrrTSCtYSALaCTOgHaa1eAEoIlAQwLdVPZZnsFuvewjzHsry3hm72TEixSzB7bOcj39aq2J3ubazLcZCkpBPyaQSmBYkm0cJtEcbxV3a8IGHxDgadaDJWYbPjJJmADIBBNhOh7LVinWbUbeYcFt9NzDBCbNmZiApcyTYnLcZeGQkEa3rP8AwrfPN+l7m61DKBAAgT+RrL/Ct8836XuboFp+0o+2flvUZ6D+A7wSLUqVKYQUW3V+lNel+BVaV4S8FiXsH0eGAJKxnSSElSBMgE2F8vKwNZrur9Ka9L8Cq3dXdNL0sLU8+rT71RFImkOJ+DV+Tcfshxp8ocGVYVGWJGms8ddRXnZ2NLC23oMhcJCVQTPO3fccxX6a2ru809coBI0kAx3HhWXbW8DbhdT0C5RMK6Vd0pm2QgXgcDfS9dFrxqwKAQj3gs3qfxK1pff6TPOQEAFKheLAWyye2OFJvhTxjnw5xC1rHQZSzFoC0pUpYjipea45AcBWnbjbkDAZytaXlk9VQbCMo48Tc/7xoztvdvC4spOIYS4UWSTYgcpBBjsoVWHHkpmy1NE+84Tn2rCN2W/hyVO4t113ogUNtlUawVX1gkRAPM8aet1tpJafZSw0lkuLS2psAXRJ5f0iVDz9tOOL3Lwi0BCGuhy+KWoSR+R84r1u/uhh8KsuoDi3CIzuKkgdgEAeYUqabi+ZwTTLRRFIgtxx4eNe3ei+KwKXCCoJIHApSod9xIPnqunYzceK1OshpAMjjcETNE57Kk9lMb0hCCba202wrK6VNpy5gtMdaJlMRI4acxWanwsSQDhEJsfnMyikgmDJueUWudeFaft3YDGMQUPpWpJ4BZAt2AxPmpWf8FWDIhLmJQCAkgLSrq8uskxM61TJxlRA9yNqYjHY1BdecW2gFUCchjxAQmw5ydYg60W8Je+WIwT7TbbZLakZlKGslRFrHQCY4zTPuruuzgUKQ0VrUqMy3CCogTlFgBAkxbjVnbmwcPi0hGIaCwkykyUkc4UkgieU1TWhswqaIWBYjarjbxxGGS+cPASpC1HKFqmbEmB4p88cYrQvBlvTiMQ+WSl1TYCiVuG8fVJ7Z6tot7HvCbvYVtksJw6OiOqSAoGdZmSfPVjZuy2cOkpYZS2DchIAnv51oLbnXjKzTwu4JxL7eJyqU0EZVEXyEGZPIEGCewcxSirHfD3W2sKyEKgAhFwL3UTwA5+a5Nb7i8IlwQpJ8xj3Gq2C2O00ZSFT2qn2TFCuEZePHFMMrgNgqxhcPkAuSTEz2Jj3Cgm92FUoJXmGQWgiYUSIIMiJE+oQRxY1ecequa0hQIVcHUHKRUqUg+mWHIiEBlQtfeWN7QeQ2FI6ZDzjilKLUjMUlJBSlKQTBIAntOlCNw92cTiH20rYfaZQoKWtbZRZNwBnAuTa06zwrc8Ls9lu7bbaCdShKEz6hVqe0+ysWezCi26DK3UrF+Qhe18O/wDI1lvhW+eb9L3N1p4NxJ7rj8qzDwrfPN+l7m6zaftKPtn5b1lnoP4DvBItSpUphBRbdX6U16X4FVsG3FN9VK23VkpXAbTmiwBn1iOE1i+xcYll5DigSEzIGt0kcSOdP/8AM5vyS/sp/cpN5uV3FzSQWsGAJxBfPeCYpnkiHQQTrjMAfRGkYhCDmTh8V9YSGgDaBpGhyiPNzNeugaCU/IPm5IGS6cgygHhoqRzjzUD/AJmt+SX9lP7lT+Zrfkl/ZT+5V6Wn/Td1SiXqn9QdKYejQhWZLb5KcpskXgEQLcAog9+upHNGHQQohOLSJkgSmZIFh7Y5UC/ma35Jf2U/uVP5mt+SX9lP7labXa3JjuqVh4LzLnDpR5w5iTlxl1TFwBJvHmOlRJAIMYwmM0STAJIAUDe+WYoD/M1vyS/sp/cqfzNb8kv7Kf3K150OY7qlZ0Y5w6Ue+rITi5ByXkKyklWYWvGnngcK+tJSZTlxg8Zd8wHigRbusnmTQD+Zrfkl/ZT+5U/ma35Jf2U/uVXnQ5juqVNGOcOlHHcOnKkRjOcAnioE5gLEgp5ce2ubOESjRON6yOBNs4XbqxBSVHuMEUH/AJmt+SX9lP7lT+Zrfkl/ZT+5V+dDmO6pU0Y5w6UcYZCIcT8Msq6DyVKiSniBmV3EWi1emgEhCoxhyqEBck2HHUwRI75oD/M1vyS/sp/cqfzNb8kv7Kf3Krzocx3VKmjHOHSji8PKAArHDKocTmIhJjXSERPAqPOvmGwgQqJxxUmSVSYWU2nkqcggGbEcDQT+Zrfkl/ZT+5U/ma35Jf2U/uVPOhzHdUqaMc4dKN/BZE5sbKlkeMpIE5uF4SM+v/EHhX0udUdXGyhJte88CfrX0Oseqgf8zW/JL+yn9yp/M1vyS/sp/cq/OhzHdUqaMc4dKcncOOhCBJACYzAkwCNQBMx2UNZ2eoBQPFMWSrmDxR2Uv/zNb8kv7Kf3Kn8zW/JL+yn9yl6uiqvD3MfIBHonI5/FFpucxpaHN6UwnYqzoURJ5gwdJEVxxmAKVTzH1ULULk/0pP8Asd9BP5mt+SX9lP7lT+Zrfkl/ZT+5QdBZ/wCm/ociaerz2pnwDQDkgGOtqhY1NrqSBpHH9aRfCt8836Xubon/ADNb8kv7Kf3KU979vpxakLQlSSM0yANcoEQT/TRWtbfpNpscAHEmRAAuOGveQhPcSHFzgSQBn6wKXqlSpXQSilSpUqKKVKlSoopUqVKiilSpUqKKVKlSoopUqVKiilSpUqKKVKlSoopUqVKiilSpUqKKVKlSoopUqVKiilSpUqKL/9k=',\n",
       " 'https://encrypted-tbn0.gstatic.com/images?q=tbn:ANd9GcSt0K1iLAfz0W2NeZk0OW_Orah2AlvzURw8Tw&usqp=CAU',\n",
       " 'https://encrypted-tbn0.gstatic.com/images?q=tbn:ANd9GcTYRn-Emn3lR4WiglVrDx69oghAW7W8Al-26g&usqp=CAU',\n",
       " None,\n",
       " None,\n",
       " None,\n",
       " None,\n",
       " None,\n",
       " None,\n",
       " None,\n",
       " None,\n",
       " None,\n",
       " None,\n",
       " None,\n",
       " None,\n",
       " None,\n",
       " None,\n",
       " None,\n",
       " None,\n",
       " None,\n",
       " None,\n",
       " None,\n",
       " None,\n",
       " None,\n",
       " None,\n",
       " None,\n",
       " None,\n",
       " None,\n",
       " None]"
      ]
     },
     "execution_count": 69,
     "metadata": {},
     "output_type": "execute_result"
    }
   ],
   "source": [
    "img_url =[]\n",
    "url = driver.find_elements_by_xpath('//img[@class=\"rg_i Q4LuWd\"]')\n",
    "for i in url:\n",
    "    img_url.append(i.get_attribute(\"src\"))\n",
    "    \n",
    "img_url"
   ]
  },
  {
   "cell_type": "markdown",
   "metadata": {},
   "source": [
    "__4. Write a python program to search for a smartphone(e.g.: Oneplus Nord, pixel 4A, etc.) on www.flipkart.com and scrape following details for all the search results displayed on 1st page. Details to be scraped: “Brand Name”, “Smartphone name”, “Colour”, “RAM”, “Storage(ROM)”, “Primary Camera”, “Secondary Camera”, “Display Size”, “Display Resolution”, “Processor”, “Processor Cores”, “Battery Capacity”, “Price”, “Product URL”. Incase if any of the details is missing then replace it by “- “. Save your results in a dataframe and CSV.__"
   ]
  },
  {
   "cell_type": "code",
   "execution_count": 75,
   "metadata": {},
   "outputs": [],
   "source": [
    "# activating the chrome browser\n",
    "driver = webdriver.Chrome(r\"C:\\Users\\parin\\Downloads\\chromedriver_win32\\chromedriver.exe\")"
   ]
  },
  {
   "cell_type": "code",
   "execution_count": 76,
   "metadata": {},
   "outputs": [],
   "source": [
    "# opening homepage of Google\n",
    "url = \"https://www.flipkart.com/\"\n",
    "driver.get(url)"
   ]
  },
  {
   "cell_type": "code",
   "execution_count": 87,
   "metadata": {},
   "outputs": [
    {
     "name": "stdout",
     "output_type": "stream",
     "text": [
      "Enter which mobile phone you would like to see : POCO X3 Pro\n"
     ]
    }
   ],
   "source": [
    "# fetching input from user\n",
    "mob = input(\"Enter which mobile phone you would like to see : \")"
   ]
  },
  {
   "cell_type": "code",
   "execution_count": 83,
   "metadata": {},
   "outputs": [
    {
     "data": {
      "text/plain": [
       "<selenium.webdriver.remote.webelement.WebElement (session=\"6a0425d6ac008169fbe561ee6cc8ce29\", element=\"37ec0c63-7966-49c3-810b-d63fcc32f19a\")>"
      ]
     },
     "execution_count": 83,
     "metadata": {},
     "output_type": "execute_result"
    }
   ],
   "source": [
    "searchBar = driver.find_element_by_class_name(\"_3704LK\")\n",
    "searchBar"
   ]
  },
  {
   "cell_type": "code",
   "execution_count": 84,
   "metadata": {},
   "outputs": [],
   "source": [
    "searchBar.send_keys(mob)"
   ]
  },
  {
   "cell_type": "code",
   "execution_count": 85,
   "metadata": {},
   "outputs": [],
   "source": [
    "searchButton = driver.find_element_by_class_name(\"L0Z3Pu\")"
   ]
  },
  {
   "cell_type": "code",
   "execution_count": 86,
   "metadata": {},
   "outputs": [],
   "source": [
    "searchButton.click()"
   ]
  },
  {
   "cell_type": "code",
   "execution_count": 88,
   "metadata": {},
   "outputs": [
    {
     "data": {
      "text/plain": [
       "[<selenium.webdriver.remote.webelement.WebElement (session=\"6a0425d6ac008169fbe561ee6cc8ce29\", element=\"c91d0d46-3686-42e0-b14c-6fe210ba7668\")>,\n",
       " <selenium.webdriver.remote.webelement.WebElement (session=\"6a0425d6ac008169fbe561ee6cc8ce29\", element=\"2acee73e-aec5-407f-84f6-df1b3758f0e1\")>,\n",
       " <selenium.webdriver.remote.webelement.WebElement (session=\"6a0425d6ac008169fbe561ee6cc8ce29\", element=\"5b130c71-e233-4499-83af-ce82cbfd7c26\")>,\n",
       " <selenium.webdriver.remote.webelement.WebElement (session=\"6a0425d6ac008169fbe561ee6cc8ce29\", element=\"3e5a8c93-2df4-4c84-a3c4-87ea2a456202\")>,\n",
       " <selenium.webdriver.remote.webelement.WebElement (session=\"6a0425d6ac008169fbe561ee6cc8ce29\", element=\"25c8ba2b-b239-406a-9357-6b9e0633cfbb\")>,\n",
       " <selenium.webdriver.remote.webelement.WebElement (session=\"6a0425d6ac008169fbe561ee6cc8ce29\", element=\"4bdee2e0-a65c-484f-aad2-a0b7988a6eae\")>]"
      ]
     },
     "execution_count": 88,
     "metadata": {},
     "output_type": "execute_result"
    }
   ],
   "source": [
    "prod = driver.find_elements_by_xpath('//div[@class=\"_4rR01T\"]')\n",
    "prod"
   ]
  },
  {
   "cell_type": "markdown",
   "metadata": {},
   "source": [
    "”, “Primary Camera”, “Secondary Camera”, “Display Size”, “Display Resolution”, “Processor”, “Processor Cores”, “Battery Capacity”, “Price”, “Product URL”"
   ]
  },
  {
   "cell_type": "code",
   "execution_count": 132,
   "metadata": {},
   "outputs": [
    {
     "data": {
      "text/plain": [
       "['POCO X3 Pro ',\n",
       " 'POCO X3 Pro ',\n",
       " 'POCO X3 Pro ',\n",
       " 'POCO X3 Pro ',\n",
       " 'POCO X3 Pro ',\n",
       " 'POCO X3 Pro ']"
      ]
     },
     "execution_count": 132,
     "metadata": {},
     "output_type": "execute_result"
    }
   ],
   "source": [
    "name =[]\n",
    "for i in prod:\n",
    "    name.append(i.text.split(\"(\")[0])\n",
    "name"
   ]
  },
  {
   "cell_type": "code",
   "execution_count": 93,
   "metadata": {},
   "outputs": [
    {
     "data": {
      "text/plain": [
       "['POCO']"
      ]
     },
     "execution_count": 93,
     "metadata": {},
     "output_type": "execute_result"
    }
   ],
   "source": [
    "# Brand name\n",
    "bname = driver.find_elements_by_xpath('//div[@class=\"_3879cV\"]')\n",
    "\n",
    "Brandname =[]\n",
    "for i in bname[2:3]:\n",
    "    Brandname.append(i.text)\n",
    "Brandname"
   ]
  },
  {
   "cell_type": "code",
   "execution_count": 101,
   "metadata": {},
   "outputs": [
    {
     "data": {
      "text/plain": [
       "['Golden Bronze',\n",
       " 'Graphite Black',\n",
       " 'Steel Blue',\n",
       " 'Steel Blue',\n",
       " 'Graphite Black',\n",
       " 'Golden Bronze']"
      ]
     },
     "execution_count": 101,
     "metadata": {},
     "output_type": "execute_result"
    }
   ],
   "source": [
    "# color by making use of Regular Expression, as theya re in the bracket only.\n",
    "import re\n",
    "\n",
    "color = []\n",
    "ram=[]\n",
    "for i in name:\n",
    "    try:\n",
    "        found = re.search('\\((.+?)\\)', i).group(1)\n",
    "        color.append(found.split(',')[0])\n",
    "        rom.append(found.split(',')[1])\n",
    "        \n",
    "    except AttributeError:\n",
    "        found = '-' \n",
    "color\n",
    "    "
   ]
  },
  {
   "cell_type": "code",
   "execution_count": 102,
   "metadata": {},
   "outputs": [
    {
     "data": {
      "text/plain": [
       "[' 128 GB', ' 128 GB', ' 128 GB', ' 128 GB', ' 128 GB', ' 128 GB']"
      ]
     },
     "execution_count": 102,
     "metadata": {},
     "output_type": "execute_result"
    }
   ],
   "source": [
    "rom"
   ]
  },
  {
   "cell_type": "code",
   "execution_count": 112,
   "metadata": {},
   "outputs": [
    {
     "data": {
      "text/plain": [
       "[' 128 GB ROM ',\n",
       " ' 128 GB ROM ',\n",
       " ' 128 GB ROM ',\n",
       " ' 128 GB ROM ',\n",
       " ' 128 GB ROM ',\n",
       " ' 128 GB ROM ']"
      ]
     },
     "execution_count": 112,
     "metadata": {},
     "output_type": "execute_result"
    }
   ],
   "source": [
    "RAM=[]\n",
    "ROM=[]\n",
    "ram = driver.find_elements_by_xpath('//li[@class=\"rgWa7D\"]')\n",
    "for i in ram[0::7]:\n",
    "    RAM.append(i.text.split('|')[0])\n",
    "    ROM.append(i.text.split('|')[1])\n",
    "    \n",
    "ROM"
   ]
  },
  {
   "cell_type": "code",
   "execution_count": 113,
   "metadata": {},
   "outputs": [
    {
     "data": {
      "text/plain": [
       "['6 GB RAM ', '6 GB RAM ', '6 GB RAM ', '8 GB RAM ', '8 GB RAM ', '8 GB RAM ']"
      ]
     },
     "execution_count": 113,
     "metadata": {},
     "output_type": "execute_result"
    }
   ],
   "source": [
    "RAM"
   ]
  },
  {
   "cell_type": "code",
   "execution_count": 116,
   "metadata": {},
   "outputs": [
    {
     "data": {
      "text/plain": [
       "['16.94 cm (6.67 inch) Full HD+ Display',\n",
       " '16.94 cm (6.67 inch) Full HD+ Display',\n",
       " '16.94 cm (6.67 inch) Full HD+ Display',\n",
       " '16.94 cm (6.67 inch) Full HD+ Display',\n",
       " '16.94 cm (6.67 inch) Full HD+ Display',\n",
       " '16.94 cm (6.67 inch) Full HD+ Display']"
      ]
     },
     "execution_count": 116,
     "metadata": {},
     "output_type": "execute_result"
    }
   ],
   "source": [
    "#display size\n",
    "display=[]\n",
    "for i in ram[1::7]:\n",
    "    display.append(i.text)\n",
    "display"
   ]
  },
  {
   "cell_type": "code",
   "execution_count": 119,
   "metadata": {},
   "outputs": [
    {
     "data": {
      "text/plain": [
       "['48MP + 8MP + 2MP + 2MP | 20MP Front Camera',\n",
       " '48MP + 8MP + 2MP + 2MP | 20MP Front Camera',\n",
       " '48MP + 8MP + 2MP + 2MP | 20MP Front Camera',\n",
       " '48MP + 8MP + 2MP + 2MP | 20MP Front Camera',\n",
       " '48MP + 8MP + 2MP + 2MP | 20MP Front Camera',\n",
       " '48MP + 8MP + 2MP + 2MP | 20MP Front Camera']"
      ]
     },
     "execution_count": 119,
     "metadata": {},
     "output_type": "execute_result"
    }
   ],
   "source": [
    "#camera\n",
    "camera=[]\n",
    "for i in ram[2::7]:\n",
    "    camera.append(i.text)\n",
    "camera"
   ]
  },
  {
   "cell_type": "code",
   "execution_count": 120,
   "metadata": {},
   "outputs": [
    {
     "data": {
      "text/plain": [
       "['5160 mAh Lithium-ion Polymer Battery',\n",
       " '5160 mAh Lithium-ion Polymer Battery',\n",
       " '5160 mAh Lithium-ion Polymer Battery',\n",
       " '5160 mAh Lithium-ion Polymer Battery',\n",
       " '5160 mAh Lithium-ion Polymer Battery',\n",
       " '5160 mAh Lithium-ion Polymer Battery']"
      ]
     },
     "execution_count": 120,
     "metadata": {},
     "output_type": "execute_result"
    }
   ],
   "source": [
    "# battery\n",
    "battery=[]\n",
    "\n",
    "for i in ram[3::7]:\n",
    "    battery.append(i.text)\n",
    "battery"
   ]
  },
  {
   "cell_type": "code",
   "execution_count": 121,
   "metadata": {},
   "outputs": [
    {
     "data": {
      "text/plain": [
       "['Qualcomm Snapdragon 860 Processor',\n",
       " 'Qualcomm Snapdragon 860 Processor',\n",
       " 'Qualcomm Snapdragon 860 Processor',\n",
       " 'Qualcomm Snapdragon 860 Processor',\n",
       " 'Qualcomm Snapdragon 860 Processor',\n",
       " 'Qualcomm Snapdragon 860 Processor']"
      ]
     },
     "execution_count": 121,
     "metadata": {},
     "output_type": "execute_result"
    }
   ],
   "source": [
    "#processor\n",
    "processor=[]\n",
    "for i in ram[4::7]:\n",
    "    processor.append(i.text)\n",
    "processor"
   ]
  },
  {
   "cell_type": "code",
   "execution_count": 134,
   "metadata": {},
   "outputs": [
    {
     "data": {
      "text/html": [
       "<div>\n",
       "<style scoped>\n",
       "    .dataframe tbody tr th:only-of-type {\n",
       "        vertical-align: middle;\n",
       "    }\n",
       "\n",
       "    .dataframe tbody tr th {\n",
       "        vertical-align: top;\n",
       "    }\n",
       "\n",
       "    .dataframe thead th {\n",
       "        text-align: right;\n",
       "    }\n",
       "</style>\n",
       "<table border=\"1\" class=\"dataframe\">\n",
       "  <thead>\n",
       "    <tr style=\"text-align: right;\">\n",
       "      <th></th>\n",
       "      <th>product name</th>\n",
       "      <th>color</th>\n",
       "      <th>RAM</th>\n",
       "      <th>ROM</th>\n",
       "      <th>camera</th>\n",
       "      <th>battery</th>\n",
       "      <th>display size</th>\n",
       "      <th>processor</th>\n",
       "    </tr>\n",
       "  </thead>\n",
       "  <tbody>\n",
       "    <tr>\n",
       "      <th>0</th>\n",
       "      <td>POCO X3 Pro</td>\n",
       "      <td>Golden Bronze</td>\n",
       "      <td>6 GB RAM</td>\n",
       "      <td>128 GB ROM</td>\n",
       "      <td>48MP + 8MP + 2MP + 2MP | 20MP Front Camera</td>\n",
       "      <td>5160 mAh Lithium-ion Polymer Battery</td>\n",
       "      <td>16.94 cm (6.67 inch) Full HD+ Display</td>\n",
       "      <td>Qualcomm Snapdragon 860 Processor</td>\n",
       "    </tr>\n",
       "    <tr>\n",
       "      <th>1</th>\n",
       "      <td>POCO X3 Pro</td>\n",
       "      <td>Graphite Black</td>\n",
       "      <td>6 GB RAM</td>\n",
       "      <td>128 GB ROM</td>\n",
       "      <td>48MP + 8MP + 2MP + 2MP | 20MP Front Camera</td>\n",
       "      <td>5160 mAh Lithium-ion Polymer Battery</td>\n",
       "      <td>16.94 cm (6.67 inch) Full HD+ Display</td>\n",
       "      <td>Qualcomm Snapdragon 860 Processor</td>\n",
       "    </tr>\n",
       "    <tr>\n",
       "      <th>2</th>\n",
       "      <td>POCO X3 Pro</td>\n",
       "      <td>Steel Blue</td>\n",
       "      <td>6 GB RAM</td>\n",
       "      <td>128 GB ROM</td>\n",
       "      <td>48MP + 8MP + 2MP + 2MP | 20MP Front Camera</td>\n",
       "      <td>5160 mAh Lithium-ion Polymer Battery</td>\n",
       "      <td>16.94 cm (6.67 inch) Full HD+ Display</td>\n",
       "      <td>Qualcomm Snapdragon 860 Processor</td>\n",
       "    </tr>\n",
       "    <tr>\n",
       "      <th>3</th>\n",
       "      <td>POCO X3 Pro</td>\n",
       "      <td>Steel Blue</td>\n",
       "      <td>8 GB RAM</td>\n",
       "      <td>128 GB ROM</td>\n",
       "      <td>48MP + 8MP + 2MP + 2MP | 20MP Front Camera</td>\n",
       "      <td>5160 mAh Lithium-ion Polymer Battery</td>\n",
       "      <td>16.94 cm (6.67 inch) Full HD+ Display</td>\n",
       "      <td>Qualcomm Snapdragon 860 Processor</td>\n",
       "    </tr>\n",
       "    <tr>\n",
       "      <th>4</th>\n",
       "      <td>POCO X3 Pro</td>\n",
       "      <td>Graphite Black</td>\n",
       "      <td>8 GB RAM</td>\n",
       "      <td>128 GB ROM</td>\n",
       "      <td>48MP + 8MP + 2MP + 2MP | 20MP Front Camera</td>\n",
       "      <td>5160 mAh Lithium-ion Polymer Battery</td>\n",
       "      <td>16.94 cm (6.67 inch) Full HD+ Display</td>\n",
       "      <td>Qualcomm Snapdragon 860 Processor</td>\n",
       "    </tr>\n",
       "    <tr>\n",
       "      <th>5</th>\n",
       "      <td>POCO X3 Pro</td>\n",
       "      <td>Golden Bronze</td>\n",
       "      <td>8 GB RAM</td>\n",
       "      <td>128 GB ROM</td>\n",
       "      <td>48MP + 8MP + 2MP + 2MP | 20MP Front Camera</td>\n",
       "      <td>5160 mAh Lithium-ion Polymer Battery</td>\n",
       "      <td>16.94 cm (6.67 inch) Full HD+ Display</td>\n",
       "      <td>Qualcomm Snapdragon 860 Processor</td>\n",
       "    </tr>\n",
       "  </tbody>\n",
       "</table>\n",
       "</div>"
      ],
      "text/plain": [
       "   product name           color        RAM           ROM  \\\n",
       "0  POCO X3 Pro    Golden Bronze  6 GB RAM    128 GB ROM    \n",
       "1  POCO X3 Pro   Graphite Black  6 GB RAM    128 GB ROM    \n",
       "2  POCO X3 Pro       Steel Blue  6 GB RAM    128 GB ROM    \n",
       "3  POCO X3 Pro       Steel Blue  8 GB RAM    128 GB ROM    \n",
       "4  POCO X3 Pro   Graphite Black  8 GB RAM    128 GB ROM    \n",
       "5  POCO X3 Pro    Golden Bronze  8 GB RAM    128 GB ROM    \n",
       "\n",
       "                                       camera  \\\n",
       "0  48MP + 8MP + 2MP + 2MP | 20MP Front Camera   \n",
       "1  48MP + 8MP + 2MP + 2MP | 20MP Front Camera   \n",
       "2  48MP + 8MP + 2MP + 2MP | 20MP Front Camera   \n",
       "3  48MP + 8MP + 2MP + 2MP | 20MP Front Camera   \n",
       "4  48MP + 8MP + 2MP + 2MP | 20MP Front Camera   \n",
       "5  48MP + 8MP + 2MP + 2MP | 20MP Front Camera   \n",
       "\n",
       "                                battery  \\\n",
       "0  5160 mAh Lithium-ion Polymer Battery   \n",
       "1  5160 mAh Lithium-ion Polymer Battery   \n",
       "2  5160 mAh Lithium-ion Polymer Battery   \n",
       "3  5160 mAh Lithium-ion Polymer Battery   \n",
       "4  5160 mAh Lithium-ion Polymer Battery   \n",
       "5  5160 mAh Lithium-ion Polymer Battery   \n",
       "\n",
       "                            display size                          processor  \n",
       "0  16.94 cm (6.67 inch) Full HD+ Display  Qualcomm Snapdragon 860 Processor  \n",
       "1  16.94 cm (6.67 inch) Full HD+ Display  Qualcomm Snapdragon 860 Processor  \n",
       "2  16.94 cm (6.67 inch) Full HD+ Display  Qualcomm Snapdragon 860 Processor  \n",
       "3  16.94 cm (6.67 inch) Full HD+ Display  Qualcomm Snapdragon 860 Processor  \n",
       "4  16.94 cm (6.67 inch) Full HD+ Display  Qualcomm Snapdragon 860 Processor  \n",
       "5  16.94 cm (6.67 inch) Full HD+ Display  Qualcomm Snapdragon 860 Processor  "
      ]
     },
     "execution_count": 134,
     "metadata": {},
     "output_type": "execute_result"
    }
   ],
   "source": [
    "import pandas as pd\n",
    " # creating the dataframe from the scraped data \n",
    "df=pd.DataFrame({\"product name\":name,\"color\":color,\"RAM\":RAM,\"ROM\":ROM,\"camera\":camera,\"battery\":battery,\"display size\":display,\n",
    "                 \"processor\":processor})\n",
    "df"
   ]
  },
  {
   "cell_type": "code",
   "execution_count": 135,
   "metadata": {},
   "outputs": [
    {
     "name": "stdout",
     "output_type": "stream",
     "text": [
      "DataFrame is written to CSV File successfully.\n"
     ]
    }
   ],
   "source": [
    "# determining the name of the file to save in CSV\n",
    "file_name = 'PhoneData.csv'\n",
    "  \n",
    "# saving the excel\n",
    "df.to_csv(file_name)\n",
    "print('DataFrame is written to CSV File successfully.')"
   ]
  },
  {
   "cell_type": "markdown",
   "metadata": {},
   "source": [
    "__5. Write a program to scrap geospatial coordinates (latitude, longitude) of a city searched on\n",
    "google maps.__"
   ]
  },
  {
   "cell_type": "code",
   "execution_count": 154,
   "metadata": {},
   "outputs": [
    {
     "name": "stdout",
     "output_type": "stream",
     "text": [
      "Enter the city you would like to see : new Delhi\n"
     ]
    }
   ],
   "source": [
    "# activating the chrome browser\n",
    "driver = webdriver.Chrome(r\"C:\\Users\\parin\\Downloads\\chromedriver_win32\\chromedriver.exe\")\n",
    "# opening homepage of Google\n",
    "url = \"https://www.google.co.in/maps\"\n",
    "driver.get(url)\n",
    "\n",
    "# fetching input from user\n",
    "city = input(\"Enter the city you would like to see : \")"
   ]
  },
  {
   "cell_type": "code",
   "execution_count": 155,
   "metadata": {},
   "outputs": [
    {
     "data": {
      "text/plain": [
       "<selenium.webdriver.remote.webelement.WebElement (session=\"f33a4ba9c6f6d37008c7f2f74a091c1a\", element=\"7aa28f4f-62b5-47d1-be3f-5d18323ad671\")>"
      ]
     },
     "execution_count": 155,
     "metadata": {},
     "output_type": "execute_result"
    }
   ],
   "source": [
    "searchBar = driver.find_element_by_id(\"searchboxinput\")\n",
    "searchBar"
   ]
  },
  {
   "cell_type": "code",
   "execution_count": 156,
   "metadata": {},
   "outputs": [],
   "source": [
    "searchBar.send_keys(city)"
   ]
  },
  {
   "cell_type": "code",
   "execution_count": 157,
   "metadata": {},
   "outputs": [],
   "source": [
    "searchButton = driver.find_element_by_id(\"searchbox-searchbutton\")\n",
    "searchButton.click()"
   ]
  },
  {
   "cell_type": "code",
   "execution_count": 162,
   "metadata": {},
   "outputs": [
    {
     "data": {
      "text/plain": [
       "['28.62979, 77.23301']"
      ]
     },
     "execution_count": 162,
     "metadata": {},
     "output_type": "execute_result"
    }
   ],
   "source": [
    "\n",
    "LAT=[]\n",
    "ll = driver.find_elements_by_xpath('//li[@class=\"nbpPqf-menu-x3Eknd\"]')\n",
    "for i in ll[0:1]:\n",
    "    LAT.append(i.text)\n",
    "    \n",
    "LAT"
   ]
  },
  {
   "cell_type": "code",
   "execution_count": 164,
   "metadata": {},
   "outputs": [
    {
     "name": "stdout",
     "output_type": "stream",
     "text": [
      "LATITUDE and LONGITUDE of  new Delhi  are  ['28.62979, 77.23301']\n"
     ]
    }
   ],
   "source": [
    "print(\"LATITUDE and LONGITUDE of \", city,\" are \", LAT)"
   ]
  },
  {
   "cell_type": "markdown",
   "metadata": {},
   "source": [
    "__7. Write a program to scrap all the available details of best gaming laptops from digit.in.__"
   ]
  },
  {
   "cell_type": "code",
   "execution_count": 165,
   "metadata": {},
   "outputs": [],
   "source": [
    "# activating the chrome browser\n",
    "driver = webdriver.Chrome(r\"C:\\Users\\parin\\Downloads\\chromedriver_win32\\chromedriver.exe\")\n",
    "# opening homepage of Google\n",
    "url = \"https://www.digit.in/\"\n",
    "driver.get(url)\n"
   ]
  },
  {
   "cell_type": "code",
   "execution_count": 182,
   "metadata": {},
   "outputs": [],
   "source": [
    "tab = driver.find_elements_by_xpath('/html/body/div[1]/div[2]/div[4]/ul/li[3]/a')\n",
    "laptop = tab[0].get_attribute('href')\n",
    "\n",
    "driver.get(laptop)"
   ]
  },
  {
   "cell_type": "code",
   "execution_count": 187,
   "metadata": {},
   "outputs": [],
   "source": [
    "# list-unstyled sidebar-list\n",
    "\n",
    "lptp = driver.find_elements_by_xpath('/html/body/div[6]/div/div[2]/div[2]/ul/li[10]/a')\n",
    "i = lptp[0].get_attribute('href')\n",
    "driver.get(i)"
   ]
  },
  {
   "cell_type": "code",
   "execution_count": 213,
   "metadata": {},
   "outputs": [
    {
     "data": {
      "text/plain": [
       "['Alienware Area 51M R2',\n",
       " 'Alienware m15 R3',\n",
       " 'ASUS ROG Strix Scar 15',\n",
       " 'Asus ROG Zephyrus G14',\n",
       " 'Lenovo Legion 5i',\n",
       " 'ASUS ROG ZEPHYRUS DUO 15',\n",
       " 'Acer Aspire 7 gaming']"
      ]
     },
     "execution_count": 213,
     "metadata": {},
     "output_type": "execute_result"
    }
   ],
   "source": [
    "list=[]\n",
    "tab = driver.find_elements_by_xpath('//div[@class=\"Top10-Seller\"]/table/tbody/tr/td')\n",
    "for i in tab[0::3]:\n",
    "    list.append(i.text)\n",
    "list"
   ]
  },
  {
   "cell_type": "code",
   "execution_count": 197,
   "metadata": {},
   "outputs": [
    {
     "data": {
      "text/plain": [
       "['N/A', 'N/A', 'N/A', 'amazon', 'amazon', 'amazon', 'amazon']"
      ]
     },
     "execution_count": 197,
     "metadata": {},
     "output_type": "execute_result"
    }
   ],
   "source": [
    "sellers=[]\n",
    "seller = driver.find_elements_by_xpath('//td[@class=\"smmerchant\"]')\n",
    "for i in seller:\n",
    "    sellers.append(i.text)\n",
    "sellers"
   ]
  },
  {
   "cell_type": "code",
   "execution_count": 198,
   "metadata": {},
   "outputs": [
    {
     "data": {
      "text/plain": [
       "['N/A', '₹341990', 'N/A', '₹164990', '₹76988', '₹185000', '₹79400']"
      ]
     },
     "execution_count": 198,
     "metadata": {},
     "output_type": "execute_result"
    }
   ],
   "source": [
    "price=[]\n",
    "pr = driver.find_elements_by_xpath('//td[@class=\"smprice\"]')\n",
    "for i in pr:\n",
    "    price.append(i.text)\n",
    "price"
   ]
  },
  {
   "cell_type": "code",
   "execution_count": 214,
   "metadata": {},
   "outputs": [
    {
     "data": {
      "text/html": [
       "<div>\n",
       "<style scoped>\n",
       "    .dataframe tbody tr th:only-of-type {\n",
       "        vertical-align: middle;\n",
       "    }\n",
       "\n",
       "    .dataframe tbody tr th {\n",
       "        vertical-align: top;\n",
       "    }\n",
       "\n",
       "    .dataframe thead th {\n",
       "        text-align: right;\n",
       "    }\n",
       "</style>\n",
       "<table border=\"1\" class=\"dataframe\">\n",
       "  <thead>\n",
       "    <tr style=\"text-align: right;\">\n",
       "      <th></th>\n",
       "      <th>product name</th>\n",
       "      <th>seller</th>\n",
       "      <th>price</th>\n",
       "    </tr>\n",
       "  </thead>\n",
       "  <tbody>\n",
       "    <tr>\n",
       "      <th>0</th>\n",
       "      <td>Alienware Area 51M R2</td>\n",
       "      <td>N/A</td>\n",
       "      <td>N/A</td>\n",
       "    </tr>\n",
       "    <tr>\n",
       "      <th>1</th>\n",
       "      <td>Alienware m15 R3</td>\n",
       "      <td>N/A</td>\n",
       "      <td>₹341990</td>\n",
       "    </tr>\n",
       "    <tr>\n",
       "      <th>2</th>\n",
       "      <td>ASUS ROG Strix Scar 15</td>\n",
       "      <td>N/A</td>\n",
       "      <td>N/A</td>\n",
       "    </tr>\n",
       "    <tr>\n",
       "      <th>3</th>\n",
       "      <td>Asus ROG Zephyrus G14</td>\n",
       "      <td>amazon</td>\n",
       "      <td>₹164990</td>\n",
       "    </tr>\n",
       "    <tr>\n",
       "      <th>4</th>\n",
       "      <td>Lenovo Legion 5i</td>\n",
       "      <td>amazon</td>\n",
       "      <td>₹76988</td>\n",
       "    </tr>\n",
       "    <tr>\n",
       "      <th>5</th>\n",
       "      <td>ASUS ROG ZEPHYRUS DUO 15</td>\n",
       "      <td>amazon</td>\n",
       "      <td>₹185000</td>\n",
       "    </tr>\n",
       "    <tr>\n",
       "      <th>6</th>\n",
       "      <td>Acer Aspire 7 gaming</td>\n",
       "      <td>amazon</td>\n",
       "      <td>₹79400</td>\n",
       "    </tr>\n",
       "  </tbody>\n",
       "</table>\n",
       "</div>"
      ],
      "text/plain": [
       "               product name  seller    price\n",
       "0     Alienware Area 51M R2     N/A      N/A\n",
       "1          Alienware m15 R3     N/A  ₹341990\n",
       "2    ASUS ROG Strix Scar 15     N/A      N/A\n",
       "3     Asus ROG Zephyrus G14  amazon  ₹164990\n",
       "4          Lenovo Legion 5i  amazon   ₹76988\n",
       "5  ASUS ROG ZEPHYRUS DUO 15  amazon  ₹185000\n",
       "6      Acer Aspire 7 gaming  amazon   ₹79400"
      ]
     },
     "execution_count": 214,
     "metadata": {},
     "output_type": "execute_result"
    }
   ],
   "source": [
    "import pandas as pd\n",
    " # creating the dataframe from the scraped data \n",
    "df=pd.DataFrame({\"product name\":list,\"seller\":sellers,\"price\":price})\n",
    "df"
   ]
  },
  {
   "cell_type": "markdown",
   "metadata": {},
   "source": [
    "__8. Write a python program to scrape the details for all billionaires from www.forbes.com.\n",
    "Details to be scrapped: “Rank”, “Name”, “Net worth”, “Age”, “Citizenship”, “Source”,\n",
    "“Industry”.__"
   ]
  },
  {
   "cell_type": "code",
   "execution_count": 215,
   "metadata": {},
   "outputs": [],
   "source": [
    "# activating the chrome browser\n",
    "driver = webdriver.Chrome(r\"C:\\Users\\parin\\Downloads\\chromedriver_win32\\chromedriver.exe\")\n",
    "# opening homepage of Google\n",
    "url = \"https://www.forbes.com/billionaires/\"\n",
    "driver.get(url)"
   ]
  },
  {
   "cell_type": "code",
   "execution_count": 218,
   "metadata": {},
   "outputs": [
    {
     "data": {
      "text/plain": [
       "['Jeff Bezos',\n",
       " 'Elon Musk',\n",
       " 'Bernard Arnault & family',\n",
       " 'Bill Gates',\n",
       " 'Mark Zuckerberg',\n",
       " 'Warren Buffett',\n",
       " 'Larry Ellison',\n",
       " 'Larry Page',\n",
       " 'Sergey Brin',\n",
       " 'Mukesh Ambani',\n",
       " 'Amancio Ortega',\n",
       " 'Francoise Bettencourt Meyers & family',\n",
       " 'Zhong Shanshan',\n",
       " 'Steve Ballmer',\n",
       " 'Ma Huateng',\n",
       " 'Carlos Slim Helu & family',\n",
       " 'Alice Walton',\n",
       " 'Jim Walton',\n",
       " 'Rob Walton',\n",
       " 'Michael Bloomberg',\n",
       " 'Colin Zheng Huang',\n",
       " 'MacKenzie Scott',\n",
       " 'Daniel Gilbert',\n",
       " 'Gautam Adani & family',\n",
       " 'Phil Knight & family',\n",
       " 'Jack Ma',\n",
       " 'Charles Koch',\n",
       " 'Julia Koch & family',\n",
       " 'Masayoshi Son',\n",
       " 'Michael Dell',\n",
       " 'Tadashi Yanai & family',\n",
       " 'François Pinault & family',\n",
       " 'David Thomson & family',\n",
       " 'Beate Heister & Karl Albrecht Jr.',\n",
       " 'Wang Wei',\n",
       " 'Miriam Adelson',\n",
       " 'He Xiangjian',\n",
       " 'Dieter Schwarz',\n",
       " 'Zhang Yiming',\n",
       " 'Giovanni Ferrero',\n",
       " 'Alain Wertheimer',\n",
       " 'Gerard Wertheimer',\n",
       " 'Li Ka-shing',\n",
       " 'Qin Yinglin & family',\n",
       " 'William Lei Ding',\n",
       " 'Len Blavatnik',\n",
       " 'Lee Shau Kee',\n",
       " 'Jacqueline Mars',\n",
       " 'John Mars',\n",
       " 'Yang Huiyan & family',\n",
       " 'Alexey Mordashov & family',\n",
       " 'Robin Zeng',\n",
       " 'Hui Ka Yan',\n",
       " 'Susanne Klatten',\n",
       " 'Vladimir Potanin',\n",
       " 'Dietrich Mateschitz',\n",
       " 'Pang Kang',\n",
       " 'Klaus-Michael Kuehne',\n",
       " 'Vladimir Lisin',\n",
       " 'Wang Xing',\n",
       " 'German Larrea Mota Velasco & family',\n",
       " 'Leonardo Del Vecchio & family',\n",
       " 'Takemitsu Takizaki',\n",
       " 'Leonard Lauder',\n",
       " 'Thomas Peterffy',\n",
       " 'Vagit Alekperov',\n",
       " 'Leonid Mikhelson',\n",
       " 'Jim Simons',\n",
       " 'Jiang Rensheng & family',\n",
       " 'Gina Rinehart',\n",
       " 'Rupert Murdoch & family',\n",
       " 'Shiv Nadar',\n",
       " 'Zhang Zhidong',\n",
       " 'Iris Fontbona & family',\n",
       " 'Lei Jun',\n",
       " 'Zhang Yong',\n",
       " 'Richard Qiangdong Liu',\n",
       " 'Gennady Timchenko',\n",
       " 'Stephen Schwarzman',\n",
       " 'Goh Cheng Liang',\n",
       " 'Stefan Quandt',\n",
       " 'Li Xiting',\n",
       " 'Pierre Omidyar',\n",
       " 'Stefan Persson',\n",
       " 'Abigail Johnson',\n",
       " 'R. Budi Hartono',\n",
       " 'Andrew Forrest',\n",
       " 'Ray Dalio',\n",
       " 'Michael Hartono',\n",
       " 'Li Shufu',\n",
       " 'Zhong Huijuan',\n",
       " 'Xu Hang',\n",
       " 'Lui Che Woo & family',\n",
       " 'Emmanuel Besnier',\n",
       " 'Laurene Powell Jobs & family',\n",
       " 'Eric Schmidt',\n",
       " 'Sun Piaoyang',\n",
       " 'Theo Albrecht, Jr. & family',\n",
       " 'Alisher Usmanov',\n",
       " 'Robert Pera',\n",
       " 'Wu Yajun',\n",
       " 'Fan Hongwei & family',\n",
       " 'Dhanin Chearavanont',\n",
       " 'Peter Woo',\n",
       " 'Chen Bang',\n",
       " 'Andrey Melnichenko',\n",
       " 'Dustin Moskovitz',\n",
       " 'Su Hua',\n",
       " 'Donald Newhouse',\n",
       " 'Petr Kellner',\n",
       " 'Lee Man Tat',\n",
       " 'Pavel Durov',\n",
       " 'James Ratcliffe',\n",
       " 'Jorge Paulo Lemann & family',\n",
       " 'Reinhold Wuerth & family',\n",
       " 'Charlene de Carvalho-Heineken & family',\n",
       " 'Radhakishan Damani',\n",
       " 'Wang Chuanfu',\n",
       " 'Steve Cohen',\n",
       " 'Ken Griffin',\n",
       " 'Chen Zhiping',\n",
       " 'Ernest Garcia, II.',\n",
       " 'Uday Kotak',\n",
       " 'Carl Icahn',\n",
       " 'Suleiman Kerimov & family',\n",
       " 'Thomas Frist, Jr. & family',\n",
       " 'Lukas Walton',\n",
       " 'Mikhail Fridman',\n",
       " 'Wei Jianjun & family',\n",
       " 'Zuo Hui',\n",
       " 'Zhou Qunfei & family',\n",
       " 'Donald Bren',\n",
       " 'Hinduja brothers',\n",
       " 'Lakshmi Mittal',\n",
       " 'Georg Schaeffler',\n",
       " 'Eric Yuan & family',\n",
       " 'Wang Jianlin',\n",
       " 'Kwong Siu-hing',\n",
       " 'Robin Li',\n",
       " 'Pallonji Mistry',\n",
       " 'Eduardo Saverin',\n",
       " 'Roman Abramovich',\n",
       " 'David Tepper',\n",
       " 'Gong Hongjia & family',\n",
       " 'Mike Cannon-Brookes',\n",
       " 'John Menard, Jr.',\n",
       " 'Seo Jung-jin',\n",
       " 'Cheng Yixiao',\n",
       " 'Liang Wengen',\n",
       " 'Scott Farquhar',\n",
       " 'Finn Rausing',\n",
       " 'Jorn Rausing',\n",
       " 'Kirsten Rausing',\n",
       " 'Brian Chesky',\n",
       " 'Joseph Lau',\n",
       " 'David Duffield',\n",
       " 'Charoen Sirivadhanabhakdi',\n",
       " 'Kim Jung-ju',\n",
       " 'Robert & Philip Ng',\n",
       " 'Zhang Bangxin',\n",
       " 'Anders Holch Povlsen',\n",
       " 'Wang Wenyin',\n",
       " 'Wang Liping & family',\n",
       " 'Tatyana Bakalchuk',\n",
       " 'Michael Platt',\n",
       " 'Huang Shilin',\n",
       " 'Ricardo Salinas Pliego & family',\n",
       " 'Kumar Birla',\n",
       " 'Dang Yanbao',\n",
       " 'Cyrus Poonawalla',\n",
       " 'Robert Kuok',\n",
       " 'Hank & Doug Meijer',\n",
       " 'Jack Dorsey',\n",
       " 'Lu Zhongfang',\n",
       " 'Ma Jianrong & family',\n",
       " 'Zhang Tao',\n",
       " 'Nathan Blecharczyk',\n",
       " 'John Doerr',\n",
       " 'Joe Gebbia',\n",
       " 'Forrest Li',\n",
       " 'Yu Renrong',\n",
       " 'Liu Yonghao & family',\n",
       " 'Gordon Moore',\n",
       " 'Jeff Yass',\n",
       " 'Bobby Murphy',\n",
       " 'Patrick Drahi',\n",
       " 'Jensen Huang',\n",
       " 'Alexander Otto',\n",
       " 'Cen Junda',\n",
       " 'Joseph Tsai',\n",
       " 'Aliko Dangote',\n",
       " 'Marcel Herrmann Telles',\n",
       " 'Mikhail Prokhorov',\n",
       " 'Jorge Moll Filho & family',\n",
       " 'Viktor Rashnikov',\n",
       " 'Harry Triguboff',\n",
       " 'Leonid Fedun & family',\n",
       " 'Eyal Ofer',\n",
       " 'Evan Spiegel',\n",
       " 'Luis Carlos Sarmiento']"
      ]
     },
     "execution_count": 218,
     "metadata": {},
     "output_type": "execute_result"
    }
   ],
   "source": [
    "person=[]\n",
    "pr = driver.find_elements_by_xpath('//div[@class=\"personName\"]')\n",
    "for i in pr:\n",
    "    person.append(i.text)\n",
    "person\n"
   ]
  },
  {
   "cell_type": "code",
   "execution_count": 224,
   "metadata": {
    "collapsed": true
   },
   "outputs": [
    {
     "data": {
      "text/plain": [
       "[1,\n",
       " 2,\n",
       " 3,\n",
       " 4,\n",
       " 5,\n",
       " 6,\n",
       " 7,\n",
       " 8,\n",
       " 9,\n",
       " 10,\n",
       " 11,\n",
       " 12,\n",
       " 13,\n",
       " 14,\n",
       " 15,\n",
       " 16,\n",
       " 17,\n",
       " 18,\n",
       " 19,\n",
       " 20,\n",
       " 21,\n",
       " 22,\n",
       " 23,\n",
       " 24,\n",
       " 25,\n",
       " 26,\n",
       " 27,\n",
       " 28,\n",
       " 29,\n",
       " 30,\n",
       " 31,\n",
       " 32,\n",
       " 33,\n",
       " 34,\n",
       " 35,\n",
       " 36,\n",
       " 37,\n",
       " 38,\n",
       " 39,\n",
       " 40,\n",
       " 41,\n",
       " 42,\n",
       " 43,\n",
       " 44,\n",
       " 45,\n",
       " 46,\n",
       " 47,\n",
       " 48,\n",
       " 49,\n",
       " 50,\n",
       " 51,\n",
       " 52,\n",
       " 53,\n",
       " 54,\n",
       " 55,\n",
       " 56,\n",
       " 57,\n",
       " 58,\n",
       " 59,\n",
       " 60,\n",
       " 61,\n",
       " 62,\n",
       " 63,\n",
       " 64,\n",
       " 65,\n",
       " 66,\n",
       " 67,\n",
       " 68,\n",
       " 69,\n",
       " 70,\n",
       " 71,\n",
       " 72,\n",
       " 73,\n",
       " 74,\n",
       " 75,\n",
       " 76,\n",
       " 77,\n",
       " 78,\n",
       " 79,\n",
       " 80,\n",
       " 81,\n",
       " 82,\n",
       " 83,\n",
       " 84,\n",
       " 85,\n",
       " 86,\n",
       " 87,\n",
       " 88,\n",
       " 89,\n",
       " 90,\n",
       " 91,\n",
       " 92,\n",
       " 93,\n",
       " 94,\n",
       " 95,\n",
       " 96,\n",
       " 97,\n",
       " 98,\n",
       " 99,\n",
       " 100,\n",
       " 101,\n",
       " 102,\n",
       " 103,\n",
       " 104,\n",
       " 105,\n",
       " 106,\n",
       " 107,\n",
       " 108,\n",
       " 109,\n",
       " 110,\n",
       " 111,\n",
       " 112,\n",
       " 113,\n",
       " 114,\n",
       " 115,\n",
       " 116,\n",
       " 117,\n",
       " 118,\n",
       " 119,\n",
       " 120,\n",
       " 121,\n",
       " 122,\n",
       " 123,\n",
       " 124,\n",
       " 125,\n",
       " 126,\n",
       " 127,\n",
       " 128,\n",
       " 129,\n",
       " 130,\n",
       " 131,\n",
       " 132,\n",
       " 133,\n",
       " 134,\n",
       " 135,\n",
       " 136,\n",
       " 137,\n",
       " 138,\n",
       " 139,\n",
       " 140,\n",
       " 141,\n",
       " 142,\n",
       " 143,\n",
       " 144,\n",
       " 145,\n",
       " 146,\n",
       " 147,\n",
       " 148,\n",
       " 149,\n",
       " 150,\n",
       " 151,\n",
       " 152,\n",
       " 153,\n",
       " 154,\n",
       " 155,\n",
       " 156,\n",
       " 157,\n",
       " 158,\n",
       " 159,\n",
       " 160,\n",
       " 161,\n",
       " 162,\n",
       " 163,\n",
       " 164,\n",
       " 165,\n",
       " 166,\n",
       " 167,\n",
       " 168,\n",
       " 169,\n",
       " 170,\n",
       " 171,\n",
       " 172,\n",
       " 173,\n",
       " 174,\n",
       " 175,\n",
       " 176,\n",
       " 177,\n",
       " 178,\n",
       " 179,\n",
       " 180,\n",
       " 181,\n",
       " 182,\n",
       " 183,\n",
       " 184,\n",
       " 185,\n",
       " 186,\n",
       " 187,\n",
       " 188,\n",
       " 189,\n",
       " 190,\n",
       " 191,\n",
       " 192,\n",
       " 193,\n",
       " 194,\n",
       " 195,\n",
       " 196,\n",
       " 197,\n",
       " 198,\n",
       " 199,\n",
       " 200]"
      ]
     },
     "execution_count": 224,
     "metadata": {},
     "output_type": "execute_result"
    }
   ],
   "source": [
    "rank=[]\n",
    "for i in range(len(person)+1)[1:]:\n",
    "    rank.append(i)\n",
    "rank"
   ]
  },
  {
   "cell_type": "code",
   "execution_count": 225,
   "metadata": {},
   "outputs": [
    {
     "data": {
      "text/plain": [
       "['$177 B',\n",
       " '$151 B',\n",
       " '$150 B',\n",
       " '$124 B',\n",
       " '$97 B',\n",
       " '$96 B',\n",
       " '$93 B',\n",
       " '$91.5 B',\n",
       " '$89 B',\n",
       " '$84.5 B',\n",
       " '$77 B',\n",
       " '$73.6 B',\n",
       " '$68.9 B',\n",
       " '$68.7 B',\n",
       " '$65.8 B',\n",
       " '$62.8 B',\n",
       " '$61.8 B',\n",
       " '$60.2 B',\n",
       " '$59.5 B',\n",
       " '$59 B',\n",
       " '$55.3 B',\n",
       " '$53 B',\n",
       " '$51.9 B',\n",
       " '$50.5 B',\n",
       " '$49.9 B',\n",
       " '$48.4 B',\n",
       " '$46.4 B',\n",
       " '$46.4 B',\n",
       " '$45.4 B',\n",
       " '$45.1 B',\n",
       " '$44.1 B',\n",
       " '$42.3 B',\n",
       " '$41.8 B',\n",
       " '$39.2 B',\n",
       " '$39 B',\n",
       " '$38.2 B',\n",
       " '$37.7 B',\n",
       " '$36.9 B',\n",
       " '$35.6 B',\n",
       " '$35.1 B',\n",
       " '$34.5 B',\n",
       " '$34.5 B',\n",
       " '$33.7 B',\n",
       " '$33.5 B',\n",
       " '$33 B',\n",
       " '$32 B',\n",
       " '$31.7 B',\n",
       " '$31.3 B',\n",
       " '$31.3 B',\n",
       " '$29.6 B',\n",
       " '$29.1 B',\n",
       " '$28.4 B',\n",
       " '$27.7 B',\n",
       " '$27.7 B',\n",
       " '$27 B',\n",
       " '$26.9 B',\n",
       " '$26.4 B',\n",
       " '$26.3 B',\n",
       " '$26.2 B',\n",
       " '$26.1 B',\n",
       " '$25.9 B',\n",
       " '$25.8 B',\n",
       " '$25.8 B',\n",
       " '$25.5 B',\n",
       " '$25 B',\n",
       " '$24.9 B',\n",
       " '$24.9 B',\n",
       " '$24.6 B',\n",
       " '$24.4 B',\n",
       " '$23.6 B',\n",
       " '$23.5 B',\n",
       " '$23.5 B',\n",
       " '$23.4 B',\n",
       " '$23.3 B',\n",
       " '$23 B',\n",
       " '$23 B',\n",
       " '$22.4 B',\n",
       " '$22 B',\n",
       " '$21.9 B',\n",
       " '$21.7 B',\n",
       " '$21.6 B',\n",
       " '$21.5 B',\n",
       " '$21.4 B',\n",
       " '$21.3 B',\n",
       " '$20.9 B',\n",
       " '$20.5 B',\n",
       " '$20.4 B',\n",
       " '$20.3 B',\n",
       " '$19.7 B',\n",
       " '$19.7 B',\n",
       " '$19.7 B',\n",
       " '$19.5 B',\n",
       " '$19.4 B',\n",
       " '$19.1 B',\n",
       " '$19 B',\n",
       " '$18.9 B',\n",
       " '$18.9 B',\n",
       " '$18.8 B',\n",
       " '$18.4 B',\n",
       " '$18.3 B',\n",
       " '$18.3 B',\n",
       " '$18.2 B',\n",
       " '$18.1 B',\n",
       " '$18 B',\n",
       " '$17.9 B',\n",
       " '$17.9 B',\n",
       " '$17.8 B',\n",
       " '$17.8 B',\n",
       " '$17.6 B',\n",
       " '$17.5 B',\n",
       " '$17.4 B',\n",
       " '$17.2 B',\n",
       " '$17 B',\n",
       " '$16.9 B',\n",
       " '$16.8 B',\n",
       " '$16.7 B',\n",
       " '$16.5 B',\n",
       " '$16.3 B',\n",
       " '$16 B',\n",
       " '$16 B',\n",
       " '$15.9 B',\n",
       " '$15.9 B',\n",
       " '$15.9 B',\n",
       " '$15.8 B',\n",
       " '$15.8 B',\n",
       " '$15.7 B',\n",
       " '$15.6 B',\n",
       " '$15.5 B',\n",
       " '$15.5 B',\n",
       " '$15.5 B',\n",
       " '$15.4 B',\n",
       " '$15.3 B',\n",
       " '$14.9 B',\n",
       " '$14.9 B',\n",
       " '$14.9 B',\n",
       " '$14.9 B',\n",
       " '$14.8 B',\n",
       " '$14.7 B',\n",
       " '$14.7 B',\n",
       " '$14.6 B',\n",
       " '$14.6 B',\n",
       " '$14.5 B',\n",
       " '$14.5 B',\n",
       " '$14.4 B',\n",
       " '$14.2 B',\n",
       " '$14.2 B',\n",
       " '$14.2 B',\n",
       " '$14.1 B',\n",
       " '$14.1 B',\n",
       " '$14 B',\n",
       " '$13.9 B',\n",
       " '$13.9 B',\n",
       " '$13.9 B',\n",
       " '$13.7 B',\n",
       " '$13.6 B',\n",
       " '$13.5 B',\n",
       " '$13.5 B',\n",
       " '$13.3 B',\n",
       " '$13.3 B',\n",
       " '$13.3 B',\n",
       " '$13.2 B',\n",
       " '$13.2 B',\n",
       " '$13.1 B',\n",
       " '$13 B',\n",
       " '$13 B',\n",
       " '$12.9 B',\n",
       " '$12.9 B',\n",
       " '$12.8 B',\n",
       " '$12.7 B',\n",
       " '$12.7 B',\n",
       " '$12.6 B',\n",
       " '$12.6 B',\n",
       " '$12.5 B',\n",
       " '$12.5 B',\n",
       " '$12.5 B',\n",
       " '$12.5 B',\n",
       " '$12.4 B',\n",
       " '$12.4 B',\n",
       " '$12.4 B',\n",
       " '$12.4 B',\n",
       " '$12.3 B',\n",
       " '$12.1 B',\n",
       " '$12.1 B',\n",
       " '$12 B',\n",
       " '$11.9 B',\n",
       " '$11.8 B',\n",
       " '$11.8 B',\n",
       " '$11.8 B',\n",
       " '$11.6 B',\n",
       " '$11.6 B',\n",
       " '$11.5 B',\n",
       " '$11.5 B',\n",
       " '$11.4 B',\n",
       " '$11.3 B',\n",
       " '$11.2 B',\n",
       " '$11.2 B',\n",
       " '$11.1 B',\n",
       " '$11.1 B',\n",
       " '$11.1 B',\n",
       " '$11 B']"
      ]
     },
     "execution_count": 225,
     "metadata": {},
     "output_type": "execute_result"
    }
   ],
   "source": [
    "Networth=[]\n",
    "\n",
    "\n",
    "pr = driver.find_elements_by_xpath('//div[@class=\"netWorth\"]')\n",
    "for i in pr:\n",
    "    Networth.append(i.text)\n",
    "Networth\n",
    "\n",
    "\n"
   ]
  },
  {
   "cell_type": "code",
   "execution_count": 242,
   "metadata": {},
   "outputs": [
    {
     "data": {
      "text/plain": [
       "['Technology',\n",
       " 'Automotive',\n",
       " 'Fashion & Retail',\n",
       " 'Technology',\n",
       " 'Technology',\n",
       " 'Finance & Investments',\n",
       " 'Technology',\n",
       " 'Technology',\n",
       " 'Technology',\n",
       " 'Diversified',\n",
       " 'Fashion & Retail',\n",
       " 'Fashion & Retail',\n",
       " 'Food & Beverage',\n",
       " 'Technology',\n",
       " 'Technology',\n",
       " 'Telecom',\n",
       " 'Fashion & Retail',\n",
       " 'Fashion & Retail',\n",
       " 'Fashion & Retail',\n",
       " 'Media & Entertainment',\n",
       " 'Technology',\n",
       " 'Technology',\n",
       " 'Finance & Investments',\n",
       " 'Diversified',\n",
       " 'Fashion & Retail',\n",
       " 'Technology',\n",
       " 'Diversified',\n",
       " 'Diversified',\n",
       " 'Telecom',\n",
       " 'Technology',\n",
       " 'Fashion & Retail',\n",
       " 'Fashion & Retail',\n",
       " 'Media & Entertainment',\n",
       " 'Fashion & Retail',\n",
       " 'Service',\n",
       " 'Gambling & Casinos',\n",
       " 'Manufacturing',\n",
       " 'Fashion & Retail',\n",
       " 'Technology',\n",
       " 'Food & Beverage',\n",
       " 'Fashion & Retail',\n",
       " 'Fashion & Retail',\n",
       " 'Diversified',\n",
       " 'Food & Beverage',\n",
       " 'Technology',\n",
       " 'Diversified',\n",
       " 'Real Estate',\n",
       " 'Food & Beverage',\n",
       " 'Food & Beverage',\n",
       " 'Real Estate',\n",
       " 'Metals & Mining',\n",
       " 'Energy',\n",
       " 'Real Estate',\n",
       " 'Automotive',\n",
       " 'Metals & Mining',\n",
       " 'Food & Beverage',\n",
       " 'Food & Beverage',\n",
       " 'Logistics',\n",
       " 'Metals & Mining',\n",
       " 'Technology',\n",
       " 'Metals & Mining',\n",
       " 'Fashion & Retail',\n",
       " 'Manufacturing',\n",
       " 'Fashion & Retail',\n",
       " 'Finance & Investments',\n",
       " 'Energy',\n",
       " 'Energy',\n",
       " 'Finance & Investments',\n",
       " 'Healthcare',\n",
       " 'Metals & Mining',\n",
       " 'Media & Entertainment',\n",
       " 'Technology',\n",
       " 'Technology',\n",
       " 'Metals & Mining',\n",
       " 'Technology',\n",
       " 'Food & Beverage',\n",
       " 'Technology',\n",
       " 'Energy',\n",
       " 'Finance & Investments',\n",
       " 'Manufacturing',\n",
       " 'Automotive',\n",
       " 'Healthcare',\n",
       " 'Technology',\n",
       " 'Fashion & Retail',\n",
       " 'Finance & Investments',\n",
       " 'Finance & Investments',\n",
       " 'Metals & Mining',\n",
       " 'Finance & Investments',\n",
       " 'Manufacturing',\n",
       " 'Automotive',\n",
       " 'Healthcare',\n",
       " 'Healthcare',\n",
       " 'Gambling & Casinos',\n",
       " 'Food & Beverage',\n",
       " 'Technology',\n",
       " 'Technology',\n",
       " 'Healthcare',\n",
       " 'Fashion & Retail',\n",
       " 'Metals & Mining',\n",
       " 'Technology',\n",
       " 'Real Estate',\n",
       " 'Energy',\n",
       " 'Diversified',\n",
       " 'Real Estate',\n",
       " 'Healthcare',\n",
       " 'Energy',\n",
       " 'Technology',\n",
       " 'Media & Entertainment',\n",
       " 'Media & Entertainment',\n",
       " 'Finance & Investments',\n",
       " 'Food & Beverage',\n",
       " 'Technology',\n",
       " 'Manufacturing',\n",
       " 'Food & Beverage',\n",
       " 'Manufacturing',\n",
       " 'Food & Beverage',\n",
       " 'Fashion & Retail',\n",
       " 'Automotive',\n",
       " 'Finance & Investments',\n",
       " 'Finance & Investments',\n",
       " 'Manufacturing',\n",
       " 'Automotive',\n",
       " 'Finance & Investments',\n",
       " 'Finance & Investments',\n",
       " 'Finance & Investments',\n",
       " 'Healthcare',\n",
       " 'Fashion & Retail',\n",
       " 'Energy',\n",
       " 'Automotive',\n",
       " 'Real Estate',\n",
       " 'Technology',\n",
       " 'Real Estate',\n",
       " 'Diversified',\n",
       " 'Metals & Mining',\n",
       " 'Automotive',\n",
       " 'Technology',\n",
       " 'Real Estate',\n",
       " 'Real Estate',\n",
       " 'Technology',\n",
       " 'Construction & Engineering',\n",
       " 'Technology',\n",
       " 'Diversified',\n",
       " 'Finance & Investments',\n",
       " 'Finance & Investments',\n",
       " 'Technology',\n",
       " 'Fashion & Retail',\n",
       " 'Healthcare',\n",
       " 'Media & Entertainment',\n",
       " 'Manufacturing',\n",
       " 'Technology',\n",
       " 'Food & Beverage',\n",
       " 'Food & Beverage',\n",
       " 'Food & Beverage',\n",
       " 'Technology',\n",
       " 'Real Estate',\n",
       " 'Technology',\n",
       " 'Food & Beverage',\n",
       " 'Technology',\n",
       " 'Real Estate',\n",
       " 'Service',\n",
       " 'Fashion & Retail',\n",
       " 'Metals & Mining',\n",
       " 'Manufacturing',\n",
       " 'Fashion & Retail',\n",
       " 'Finance & Investments',\n",
       " 'Energy',\n",
       " 'Fashion & Retail',\n",
       " 'Diversified',\n",
       " 'Metals & Mining',\n",
       " 'Healthcare',\n",
       " 'Diversified',\n",
       " 'Fashion & Retail',\n",
       " 'Technology',\n",
       " 'Automotive',\n",
       " 'Fashion & Retail',\n",
       " 'Fashion & Retail',\n",
       " 'Technology',\n",
       " 'Technology',\n",
       " 'Technology',\n",
       " 'Media & Entertainment',\n",
       " 'Manufacturing',\n",
       " 'Service',\n",
       " 'Technology',\n",
       " 'Finance & Investments',\n",
       " 'Technology',\n",
       " 'Telecom',\n",
       " 'Technology',\n",
       " 'Real Estate',\n",
       " 'Healthcare',\n",
       " 'Technology',\n",
       " 'Manufacturing',\n",
       " 'Food & Beverage',\n",
       " 'Finance & Investments',\n",
       " 'Healthcare',\n",
       " 'Manufacturing',\n",
       " 'Real Estate',\n",
       " 'Energy',\n",
       " 'Diversified',\n",
       " 'Technology',\n",
       " 'Finance & Investments']"
      ]
     },
     "execution_count": 242,
     "metadata": {},
     "output_type": "execute_result"
    }
   ],
   "source": [
    "Age=[]\n",
    "Citizenship=[]\n",
    "Source=[]\n",
    "Industry=[]\n",
    "# age\n",
    "ag = driver.find_elements_by_xpath('//div[@class=\"age\"]/div')\n",
    "for i in ag:\n",
    "    Age.append(i.text)\n",
    "    \n",
    "#source\n",
    "ss = driver.find_elements_by_xpath('//div[@class=\"source-column\"]')\n",
    "for i in ss:\n",
    "    Source.append(i.text)\n",
    "#Citizenship\n",
    "cc = driver.find_elements_by_xpath('//div[@class=\"countryOfCitizenship\"]')\n",
    "for j in cc:\n",
    "    Citizenship.append(j.text)\n",
    "    \n",
    "# Industry\n",
    "ids = driver.find_elements_by_xpath('//div[@class=\"category\"]')\n",
    "for k in ids:\n",
    "    Industry.append(k.text)\n",
    "Industry"
   ]
  },
  {
   "cell_type": "code",
   "execution_count": 243,
   "metadata": {},
   "outputs": [
    {
     "name": "stdout",
     "output_type": "stream",
     "text": [
      "200 200 200 200 200 200 200\n"
     ]
    }
   ],
   "source": [
    "print(len(rank),len(person),len(Networth),len(Age),len(Citizenship), len(Source), len(Industry))"
   ]
  },
  {
   "cell_type": "code",
   "execution_count": 244,
   "metadata": {},
   "outputs": [
    {
     "data": {
      "text/html": [
       "<div>\n",
       "<style scoped>\n",
       "    .dataframe tbody tr th:only-of-type {\n",
       "        vertical-align: middle;\n",
       "    }\n",
       "\n",
       "    .dataframe tbody tr th {\n",
       "        vertical-align: top;\n",
       "    }\n",
       "\n",
       "    .dataframe thead th {\n",
       "        text-align: right;\n",
       "    }\n",
       "</style>\n",
       "<table border=\"1\" class=\"dataframe\">\n",
       "  <thead>\n",
       "    <tr style=\"text-align: right;\">\n",
       "      <th></th>\n",
       "      <th>Rank</th>\n",
       "      <th>Billionaire's name</th>\n",
       "      <th>Net worth</th>\n",
       "      <th>Age</th>\n",
       "      <th>Citizenship</th>\n",
       "      <th>Source</th>\n",
       "      <th>Industry</th>\n",
       "    </tr>\n",
       "  </thead>\n",
       "  <tbody>\n",
       "    <tr>\n",
       "      <th>0</th>\n",
       "      <td>1</td>\n",
       "      <td>Jeff Bezos</td>\n",
       "      <td>$177 B</td>\n",
       "      <td>57</td>\n",
       "      <td>United States</td>\n",
       "      <td>Amazon</td>\n",
       "      <td>Technology</td>\n",
       "    </tr>\n",
       "    <tr>\n",
       "      <th>1</th>\n",
       "      <td>2</td>\n",
       "      <td>Elon Musk</td>\n",
       "      <td>$151 B</td>\n",
       "      <td>49</td>\n",
       "      <td>United States</td>\n",
       "      <td>Tesla, SpaceX</td>\n",
       "      <td>Automotive</td>\n",
       "    </tr>\n",
       "    <tr>\n",
       "      <th>2</th>\n",
       "      <td>3</td>\n",
       "      <td>Bernard Arnault &amp; family</td>\n",
       "      <td>$150 B</td>\n",
       "      <td>72</td>\n",
       "      <td>France</td>\n",
       "      <td>LVMH</td>\n",
       "      <td>Fashion &amp; Retail</td>\n",
       "    </tr>\n",
       "    <tr>\n",
       "      <th>3</th>\n",
       "      <td>4</td>\n",
       "      <td>Bill Gates</td>\n",
       "      <td>$124 B</td>\n",
       "      <td>65</td>\n",
       "      <td>United States</td>\n",
       "      <td>Microsoft</td>\n",
       "      <td>Technology</td>\n",
       "    </tr>\n",
       "    <tr>\n",
       "      <th>4</th>\n",
       "      <td>5</td>\n",
       "      <td>Mark Zuckerberg</td>\n",
       "      <td>$97 B</td>\n",
       "      <td>36</td>\n",
       "      <td>United States</td>\n",
       "      <td>Facebook</td>\n",
       "      <td>Technology</td>\n",
       "    </tr>\n",
       "    <tr>\n",
       "      <th>...</th>\n",
       "      <td>...</td>\n",
       "      <td>...</td>\n",
       "      <td>...</td>\n",
       "      <td>...</td>\n",
       "      <td>...</td>\n",
       "      <td>...</td>\n",
       "      <td>...</td>\n",
       "    </tr>\n",
       "    <tr>\n",
       "      <th>195</th>\n",
       "      <td>196</td>\n",
       "      <td>Harry Triguboff</td>\n",
       "      <td>$11.2 B</td>\n",
       "      <td>88</td>\n",
       "      <td>Australia</td>\n",
       "      <td>real estate</td>\n",
       "      <td>Real Estate</td>\n",
       "    </tr>\n",
       "    <tr>\n",
       "      <th>196</th>\n",
       "      <td>197</td>\n",
       "      <td>Leonid Fedun &amp; family</td>\n",
       "      <td>$11.1 B</td>\n",
       "      <td>65</td>\n",
       "      <td>Russia</td>\n",
       "      <td>oil</td>\n",
       "      <td>Energy</td>\n",
       "    </tr>\n",
       "    <tr>\n",
       "      <th>197</th>\n",
       "      <td>198</td>\n",
       "      <td>Eyal Ofer</td>\n",
       "      <td>$11.1 B</td>\n",
       "      <td>70</td>\n",
       "      <td>Israel</td>\n",
       "      <td>real estate, shipping</td>\n",
       "      <td>Diversified</td>\n",
       "    </tr>\n",
       "    <tr>\n",
       "      <th>198</th>\n",
       "      <td>199</td>\n",
       "      <td>Evan Spiegel</td>\n",
       "      <td>$11.1 B</td>\n",
       "      <td>30</td>\n",
       "      <td>United States</td>\n",
       "      <td>Snapchat</td>\n",
       "      <td>Technology</td>\n",
       "    </tr>\n",
       "    <tr>\n",
       "      <th>199</th>\n",
       "      <td>200</td>\n",
       "      <td>Luis Carlos Sarmiento</td>\n",
       "      <td>$11 B</td>\n",
       "      <td>88</td>\n",
       "      <td>Colombia</td>\n",
       "      <td>banking</td>\n",
       "      <td>Finance &amp; Investments</td>\n",
       "    </tr>\n",
       "  </tbody>\n",
       "</table>\n",
       "<p>200 rows × 7 columns</p>\n",
       "</div>"
      ],
      "text/plain": [
       "     Rank        Billionaire's name Net worth Age    Citizenship  \\\n",
       "0       1                Jeff Bezos    $177 B  57  United States   \n",
       "1       2                 Elon Musk    $151 B  49  United States   \n",
       "2       3  Bernard Arnault & family    $150 B  72         France   \n",
       "3       4                Bill Gates    $124 B  65  United States   \n",
       "4       5           Mark Zuckerberg     $97 B  36  United States   \n",
       "..    ...                       ...       ...  ..            ...   \n",
       "195   196           Harry Triguboff   $11.2 B  88      Australia   \n",
       "196   197     Leonid Fedun & family   $11.1 B  65         Russia   \n",
       "197   198                 Eyal Ofer   $11.1 B  70         Israel   \n",
       "198   199              Evan Spiegel   $11.1 B  30  United States   \n",
       "199   200     Luis Carlos Sarmiento     $11 B  88       Colombia   \n",
       "\n",
       "                    Source               Industry  \n",
       "0                   Amazon             Technology  \n",
       "1            Tesla, SpaceX             Automotive  \n",
       "2                     LVMH       Fashion & Retail  \n",
       "3                Microsoft             Technology  \n",
       "4                 Facebook             Technology  \n",
       "..                     ...                    ...  \n",
       "195            real estate            Real Estate  \n",
       "196                    oil                 Energy  \n",
       "197  real estate, shipping            Diversified  \n",
       "198               Snapchat             Technology  \n",
       "199                banking  Finance & Investments  \n",
       "\n",
       "[200 rows x 7 columns]"
      ]
     },
     "execution_count": 244,
     "metadata": {},
     "output_type": "execute_result"
    }
   ],
   "source": [
    "import pandas as pd\n",
    " # creating the dataframe from the scraped data \n",
    "df=pd.DataFrame({ \"Rank\":rank,\"Billionaire's name\":person,\"Net worth\":Networth,\"Age\":Age\n",
    "                 ,\"Citizenship\":Citizenship, \"Source\":Source, \"Industry\":Industry})\n",
    "df"
   ]
  },
  {
   "cell_type": "markdown",
   "metadata": {},
   "source": [
    "__10. Write a python program to scrape a data for all available Hostels from\n",
    "https://www.hostelworld.com/ in “London” location. You have to scrape hostel name,\n",
    "distance from city centre, ratings, total reviews, overall reviews, privates from price, dorms\n",
    "from price, facilities and property description.__"
   ]
  },
  {
   "cell_type": "code",
   "execution_count": 250,
   "metadata": {},
   "outputs": [],
   "source": [
    "# activating the chrome browser\n",
    "driver = webdriver.Chrome(r\"C:\\Users\\parin\\Downloads\\chromedriver_win32\\chromedriver.exe\")\n",
    "# opening homepage of Google\n",
    "url = \"https://www.hostelworld.com/\"\n",
    "driver.get(url)\n"
   ]
  },
  {
   "cell_type": "code",
   "execution_count": null,
   "metadata": {},
   "outputs": [],
   "source": [
    "searchBar= driver.find_element_by_id('location-text-input-field')\n",
    "searchBar.send_keys('London')\n",
    "search = driver.find_elements_by_xpath('//div[@class=\"search\"]')\n",
    "search[0].click()"
   ]
  },
  {
   "cell_type": "code",
   "execution_count": 259,
   "metadata": {},
   "outputs": [
    {
     "data": {
      "text/plain": [
       "[\"St Christopher's Village\",\n",
       " 'Generator London',\n",
       " 'Safestay London Kensington Holland Park',\n",
       " 'PubLove @ The Crown, Battersea',\n",
       " '247london Hostel and Private Rooms',\n",
       " 'PubLove @ The Steam Engine, Waterloo',\n",
       " 'The London Home Hostel',\n",
       " \"Wombat's The City Hostel London\",\n",
       " 'Safestay London Elephant & Castle',\n",
       " 'PubLove @ The Green Man, Paddington',\n",
       " 'Astor Museum Inn',\n",
       " 'Well Street Hall',\n",
       " 'PubLove @ The White Ferry, Victoria',\n",
       " 'Prime Backpackers Angel',\n",
       " 'Atlas Hostels',\n",
       " 'No.8 Willesden Hostel London',\n",
       " 'YHA London St Pancras',\n",
       " 'SoHostel',\n",
       " 'Keystone House Kings Cross',\n",
       " 'Clink261',\n",
       " 'Burlington Residence',\n",
       " 'London Waterloo Hostel',\n",
       " 'Jaeger Acton Hostel',\n",
       " 'Astor Hyde Park',\n",
       " 'Abercorn House',\n",
       " \"St Christopher's Oasis-Female Only\",\n",
       " 'Astor Kensington',\n",
       " 'New Cross Inn Hostel',\n",
       " 'Mapesbury Hostel',\n",
       " 'Hootananny Hostel']"
      ]
     },
     "execution_count": 259,
     "metadata": {},
     "output_type": "execute_result"
    }
   ],
   "source": [
    "Name=[]\n",
    "name = driver.find_elements_by_xpath('//h2[@class=\"title title-6\"]/a')\n",
    "for i in name:\n",
    "    Name.append(i.text)\n",
    "Name"
   ]
  },
  {
   "cell_type": "code",
   "execution_count": 263,
   "metadata": {},
   "outputs": [
    {
     "data": {
      "text/plain": [
       "[' 1.8km from city centre',\n",
       " ' 3km from city centre',\n",
       " ' 5.9km from city centre',\n",
       " ' 4.7km from city centre',\n",
       " ' 8.2km from city centre',\n",
       " ' 0.5km from city centre',\n",
       " ' 3.6km from city centre',\n",
       " ' 3.6km from city centre',\n",
       " ' 1.7km from city centre',\n",
       " ' 4.3km from city centre',\n",
       " ' 2.2km from city centre',\n",
       " ' 6.7km from city centre',\n",
       " ' 2.4km from city centre',\n",
       " ' 3.6km from city centre',\n",
       " ' 4.3km from city centre',\n",
       " ' 10km from city centre',\n",
       " ' 3.3km from city centre',\n",
       " ' 2km from city centre',\n",
       " ' 3.5km from city centre',\n",
       " ' 3.2km from city centre',\n",
       " ' 7.1km from city centre',\n",
       " ' 0.7km from city centre',\n",
       " ' 10.4km from city centre',\n",
       " ' 4.3km from city centre',\n",
       " ' 7.3km from city centre',\n",
       " ' 1.8km from city centre',\n",
       " ' 4.9km from city centre',\n",
       " ' 6.1km from city centre',\n",
       " ' 8.2km from city centre',\n",
       " ' 5km from city centre']"
      ]
     },
     "execution_count": 263,
     "metadata": {},
     "output_type": "execute_result"
    }
   ],
   "source": [
    "dist=[]\n",
    "d = driver.find_elements_by_xpath('//span[@class=\"description\"]')\n",
    "for i in d:\n",
    "    dist.append(i.text.split('-')[1])\n",
    "dist\n"
   ]
  },
  {
   "cell_type": "code",
   "execution_count": 267,
   "metadata": {},
   "outputs": [
    {
     "data": {
      "text/plain": [
       "['Rs1510',\n",
       " 'Rs1948',\n",
       " 'Rs1476',\n",
       " 'Rs1538',\n",
       " 'Rs1538',\n",
       " 'Rs1620',\n",
       " 'Rs2047',\n",
       " 'Rs1046',\n",
       " 'Rs1538',\n",
       " 'Rs4306',\n",
       " 'Rs1538',\n",
       " 'Rs2426',\n",
       " 'Rs1738',\n",
       " 'Rs6047',\n",
       " 'Rs4269',\n",
       " 'Rs1243',\n",
       " 'Rs2091',\n",
       " 'Rs4101',\n",
       " 'Rs1538',\n",
       " 'Rs1572',\n",
       " 'Rs1613',\n",
       " 'Rs2923',\n",
       " 'Rs4613']"
      ]
     },
     "execution_count": 267,
     "metadata": {},
     "output_type": "execute_result"
    }
   ],
   "source": [
    "private=[]\n",
    "dorm=[]\n",
    "\n",
    "p = driver.find_elements_by_xpath('//div[@class=\"price title-5\"]')\n",
    "for i in p[0::2]:\n",
    "    private.append(i.text)\n",
    "    \n",
    "for j in p[1::2]:\n",
    "    dorm.append(j.text)\n",
    "dorm"
   ]
  },
  {
   "cell_type": "code",
   "execution_count": 273,
   "metadata": {},
   "outputs": [
    {
     "data": {
      "text/plain": [
       "['10820 Total Reviews',\n",
       " '6733 Total Reviews',\n",
       " '1074 Total Reviews',\n",
       " '207 Total Reviews',\n",
       " '443 Total Reviews',\n",
       " '186 Total Reviews',\n",
       " '248 Total Reviews',\n",
       " '13130 Total Reviews',\n",
       " '3947 Total Reviews',\n",
       " '391 Total Reviews',\n",
       " '8707 Total Reviews',\n",
       " '0 Total Reviews',\n",
       " '130 Total Reviews',\n",
       " '513 Total Reviews',\n",
       " '194 Total Reviews',\n",
       " '4563 Total Reviews',\n",
       " '2775 Total Reviews',\n",
       " '3952 Total Reviews',\n",
       " '8109 Total Reviews',\n",
       " '3167 Total Reviews',\n",
       " '26 Total Reviews',\n",
       " '2400 Total Reviews',\n",
       " '879 Total Reviews',\n",
       " '11321 Total Reviews',\n",
       " '3654 Total Reviews',\n",
       " '593 Total Reviews',\n",
       " '6324 Total Reviews',\n",
       " '999 Total Reviews',\n",
       " '357 Total Reviews',\n",
       " '1406 Total Reviews']"
      ]
     },
     "execution_count": 273,
     "metadata": {},
     "output_type": "execute_result"
    }
   ],
   "source": [
    "ratings=[]\n",
    "reviews=[]\n",
    "r = driver.find_elements_by_xpath('//div[@class=\"score orange big\"]')\n",
    "try:\n",
    "    for i in r:\n",
    "        ratings.append(i.text)\n",
    "except:\n",
    "    ratings.append('-')\n",
    "\n",
    "tr = driver.find_elements_by_xpath('//div[@class=\"reviews\"]')\n",
    "for j in tr:\n",
    "    reviews.append(j.text)\n",
    "reviews"
   ]
  },
  {
   "cell_type": "code",
   "execution_count": 280,
   "metadata": {},
   "outputs": [
    {
     "name": "stdout",
     "output_type": "stream",
     "text": [
      "30 30 26 23 24 30\n"
     ]
    },
    {
     "data": {
      "text/plain": [
       "23"
      ]
     },
     "execution_count": 280,
     "metadata": {},
     "output_type": "execute_result"
    }
   ],
   "source": [
    "print(len(Name),len(reviews), len(ratings), len(dorm),len(private),len(dist))\n",
    "min"
   ]
  },
  {
   "cell_type": "code",
   "execution_count": 281,
   "metadata": {},
   "outputs": [
    {
     "data": {
      "text/html": [
       "<div>\n",
       "<style scoped>\n",
       "    .dataframe tbody tr th:only-of-type {\n",
       "        vertical-align: middle;\n",
       "    }\n",
       "\n",
       "    .dataframe tbody tr th {\n",
       "        vertical-align: top;\n",
       "    }\n",
       "\n",
       "    .dataframe thead th {\n",
       "        text-align: right;\n",
       "    }\n",
       "</style>\n",
       "<table border=\"1\" class=\"dataframe\">\n",
       "  <thead>\n",
       "    <tr style=\"text-align: right;\">\n",
       "      <th></th>\n",
       "      <th>Name</th>\n",
       "      <th>Distance from City</th>\n",
       "      <th>Private price</th>\n",
       "      <th>Dorm Price</th>\n",
       "      <th>reviews</th>\n",
       "      <th>ratings</th>\n",
       "    </tr>\n",
       "  </thead>\n",
       "  <tbody>\n",
       "    <tr>\n",
       "      <th>0</th>\n",
       "      <td>St Christopher's Village</td>\n",
       "      <td>1.8km from city centre</td>\n",
       "      <td>Rs3930</td>\n",
       "      <td>Rs1510</td>\n",
       "      <td>10820 Total Reviews</td>\n",
       "      <td>8.9</td>\n",
       "    </tr>\n",
       "    <tr>\n",
       "      <th>1</th>\n",
       "      <td>Generator London</td>\n",
       "      <td>3km from city centre</td>\n",
       "      <td>Rs8099</td>\n",
       "      <td>Rs1948</td>\n",
       "      <td>6733 Total Reviews</td>\n",
       "      <td>7.6</td>\n",
       "    </tr>\n",
       "    <tr>\n",
       "      <th>2</th>\n",
       "      <td>Safestay London Kensington Holland Park</td>\n",
       "      <td>5.9km from city centre</td>\n",
       "      <td>Rs4152</td>\n",
       "      <td>Rs1476</td>\n",
       "      <td>1074 Total Reviews</td>\n",
       "      <td>9.8</td>\n",
       "    </tr>\n",
       "    <tr>\n",
       "      <th>3</th>\n",
       "      <td>PubLove @ The Crown, Battersea</td>\n",
       "      <td>4.7km from city centre</td>\n",
       "      <td>Rs8203</td>\n",
       "      <td>Rs1538</td>\n",
       "      <td>207 Total Reviews</td>\n",
       "      <td>6.8</td>\n",
       "    </tr>\n",
       "    <tr>\n",
       "      <th>4</th>\n",
       "      <td>247london Hostel and Private Rooms</td>\n",
       "      <td>8.2km from city centre</td>\n",
       "      <td>Rs5229</td>\n",
       "      <td>Rs1538</td>\n",
       "      <td>443 Total Reviews</td>\n",
       "      <td>8.9</td>\n",
       "    </tr>\n",
       "    <tr>\n",
       "      <th>5</th>\n",
       "      <td>PubLove @ The Steam Engine, Waterloo</td>\n",
       "      <td>0.5km from city centre</td>\n",
       "      <td>Rs4101</td>\n",
       "      <td>Rs1620</td>\n",
       "      <td>186 Total Reviews</td>\n",
       "      <td>7.7</td>\n",
       "    </tr>\n",
       "    <tr>\n",
       "      <th>6</th>\n",
       "      <td>The London Home Hostel</td>\n",
       "      <td>3.6km from city centre</td>\n",
       "      <td>Rs9329</td>\n",
       "      <td>Rs2047</td>\n",
       "      <td>248 Total Reviews</td>\n",
       "      <td>9.3</td>\n",
       "    </tr>\n",
       "    <tr>\n",
       "      <th>7</th>\n",
       "      <td>Wombat's The City Hostel London</td>\n",
       "      <td>3.6km from city centre</td>\n",
       "      <td>Rs6151</td>\n",
       "      <td>Rs1046</td>\n",
       "      <td>13130 Total Reviews</td>\n",
       "      <td>8.1</td>\n",
       "    </tr>\n",
       "    <tr>\n",
       "      <th>8</th>\n",
       "      <td>Safestay London Elephant &amp; Castle</td>\n",
       "      <td>1.7km from city centre</td>\n",
       "      <td>Rs8200</td>\n",
       "      <td>Rs1538</td>\n",
       "      <td>3947 Total Reviews</td>\n",
       "      <td>6.9</td>\n",
       "    </tr>\n",
       "    <tr>\n",
       "      <th>9</th>\n",
       "      <td>PubLove @ The Green Man, Paddington</td>\n",
       "      <td>4.3km from city centre</td>\n",
       "      <td>Rs1845</td>\n",
       "      <td>Rs4306</td>\n",
       "      <td>391 Total Reviews</td>\n",
       "      <td>9.5</td>\n",
       "    </tr>\n",
       "    <tr>\n",
       "      <th>10</th>\n",
       "      <td>Astor Museum Inn</td>\n",
       "      <td>2.2km from city centre</td>\n",
       "      <td>Rs18454</td>\n",
       "      <td>Rs1538</td>\n",
       "      <td>8707 Total Reviews</td>\n",
       "      <td>8.9</td>\n",
       "    </tr>\n",
       "    <tr>\n",
       "      <th>11</th>\n",
       "      <td>Well Street Hall</td>\n",
       "      <td>6.7km from city centre</td>\n",
       "      <td>Rs6297</td>\n",
       "      <td>Rs2426</td>\n",
       "      <td>0 Total Reviews</td>\n",
       "      <td>10</td>\n",
       "    </tr>\n",
       "    <tr>\n",
       "      <th>12</th>\n",
       "      <td>PubLove @ The White Ferry, Victoria</td>\n",
       "      <td>2.4km from city centre</td>\n",
       "      <td>Rs10047</td>\n",
       "      <td>Rs1738</td>\n",
       "      <td>130 Total Reviews</td>\n",
       "      <td>8.9</td>\n",
       "    </tr>\n",
       "    <tr>\n",
       "      <th>13</th>\n",
       "      <td>Prime Backpackers Angel</td>\n",
       "      <td>3.6km from city centre</td>\n",
       "      <td>Rs866</td>\n",
       "      <td>Rs6047</td>\n",
       "      <td>513 Total Reviews</td>\n",
       "      <td>9.5</td>\n",
       "    </tr>\n",
       "    <tr>\n",
       "      <th>14</th>\n",
       "      <td>Atlas Hostels</td>\n",
       "      <td>4.3km from city centre</td>\n",
       "      <td>Rs2050</td>\n",
       "      <td>Rs4269</td>\n",
       "      <td>194 Total Reviews</td>\n",
       "      <td>8.9</td>\n",
       "    </tr>\n",
       "    <tr>\n",
       "      <th>15</th>\n",
       "      <td>No.8 Willesden Hostel London</td>\n",
       "      <td>10km from city centre</td>\n",
       "      <td>Rs5124</td>\n",
       "      <td>Rs1243</td>\n",
       "      <td>4563 Total Reviews</td>\n",
       "      <td>9.7</td>\n",
       "    </tr>\n",
       "    <tr>\n",
       "      <th>16</th>\n",
       "      <td>YHA London St Pancras</td>\n",
       "      <td>3.3km from city centre</td>\n",
       "      <td>Rs6810</td>\n",
       "      <td>Rs2091</td>\n",
       "      <td>2775 Total Reviews</td>\n",
       "      <td>8.2</td>\n",
       "    </tr>\n",
       "    <tr>\n",
       "      <th>17</th>\n",
       "      <td>SoHostel</td>\n",
       "      <td>2km from city centre</td>\n",
       "      <td>Rs1276</td>\n",
       "      <td>Rs4101</td>\n",
       "      <td>3952 Total Reviews</td>\n",
       "      <td>9.7</td>\n",
       "    </tr>\n",
       "    <tr>\n",
       "      <th>18</th>\n",
       "      <td>Keystone House Kings Cross</td>\n",
       "      <td>3.5km from city centre</td>\n",
       "      <td>Rs4101</td>\n",
       "      <td>Rs1538</td>\n",
       "      <td>8109 Total Reviews</td>\n",
       "      <td>8.0</td>\n",
       "    </tr>\n",
       "    <tr>\n",
       "      <th>19</th>\n",
       "      <td>Clink261</td>\n",
       "      <td>3.2km from city centre</td>\n",
       "      <td>Rs2597</td>\n",
       "      <td>Rs1572</td>\n",
       "      <td>3167 Total Reviews</td>\n",
       "      <td>9.4</td>\n",
       "    </tr>\n",
       "    <tr>\n",
       "      <th>20</th>\n",
       "      <td>Burlington Residence</td>\n",
       "      <td>7.1km from city centre</td>\n",
       "      <td>Rs4306</td>\n",
       "      <td>Rs1613</td>\n",
       "      <td>26 Total Reviews</td>\n",
       "      <td>9.1</td>\n",
       "    </tr>\n",
       "    <tr>\n",
       "      <th>21</th>\n",
       "      <td>London Waterloo Hostel</td>\n",
       "      <td>0.7km from city centre</td>\n",
       "      <td>Rs1538</td>\n",
       "      <td>Rs2923</td>\n",
       "      <td>2400 Total Reviews</td>\n",
       "      <td>7.3</td>\n",
       "    </tr>\n",
       "    <tr>\n",
       "      <th>22</th>\n",
       "      <td>Jaeger Acton Hostel</td>\n",
       "      <td>10.4km from city centre</td>\n",
       "      <td>Rs1183</td>\n",
       "      <td>Rs4613</td>\n",
       "      <td>879 Total Reviews</td>\n",
       "      <td>8.6</td>\n",
       "    </tr>\n",
       "  </tbody>\n",
       "</table>\n",
       "</div>"
      ],
      "text/plain": [
       "                                       Name        Distance from City  \\\n",
       "0                  St Christopher's Village    1.8km from city centre   \n",
       "1                          Generator London      3km from city centre   \n",
       "2   Safestay London Kensington Holland Park    5.9km from city centre   \n",
       "3            PubLove @ The Crown, Battersea    4.7km from city centre   \n",
       "4        247london Hostel and Private Rooms    8.2km from city centre   \n",
       "5      PubLove @ The Steam Engine, Waterloo    0.5km from city centre   \n",
       "6                    The London Home Hostel    3.6km from city centre   \n",
       "7           Wombat's The City Hostel London    3.6km from city centre   \n",
       "8         Safestay London Elephant & Castle    1.7km from city centre   \n",
       "9       PubLove @ The Green Man, Paddington    4.3km from city centre   \n",
       "10                         Astor Museum Inn    2.2km from city centre   \n",
       "11                         Well Street Hall    6.7km from city centre   \n",
       "12      PubLove @ The White Ferry, Victoria    2.4km from city centre   \n",
       "13                  Prime Backpackers Angel    3.6km from city centre   \n",
       "14                            Atlas Hostels    4.3km from city centre   \n",
       "15             No.8 Willesden Hostel London     10km from city centre   \n",
       "16                    YHA London St Pancras    3.3km from city centre   \n",
       "17                                 SoHostel      2km from city centre   \n",
       "18               Keystone House Kings Cross    3.5km from city centre   \n",
       "19                                 Clink261    3.2km from city centre   \n",
       "20                     Burlington Residence    7.1km from city centre   \n",
       "21                   London Waterloo Hostel    0.7km from city centre   \n",
       "22                      Jaeger Acton Hostel   10.4km from city centre   \n",
       "\n",
       "   Private price Dorm Price              reviews ratings  \n",
       "0         Rs3930     Rs1510  10820 Total Reviews     8.9  \n",
       "1         Rs8099     Rs1948   6733 Total Reviews     7.6  \n",
       "2         Rs4152     Rs1476   1074 Total Reviews     9.8  \n",
       "3         Rs8203     Rs1538    207 Total Reviews     6.8  \n",
       "4         Rs5229     Rs1538    443 Total Reviews     8.9  \n",
       "5         Rs4101     Rs1620    186 Total Reviews     7.7  \n",
       "6         Rs9329     Rs2047    248 Total Reviews     9.3  \n",
       "7         Rs6151     Rs1046  13130 Total Reviews     8.1  \n",
       "8         Rs8200     Rs1538   3947 Total Reviews     6.9  \n",
       "9         Rs1845     Rs4306    391 Total Reviews     9.5  \n",
       "10       Rs18454     Rs1538   8707 Total Reviews     8.9  \n",
       "11        Rs6297     Rs2426      0 Total Reviews      10  \n",
       "12       Rs10047     Rs1738    130 Total Reviews     8.9  \n",
       "13         Rs866     Rs6047    513 Total Reviews     9.5  \n",
       "14        Rs2050     Rs4269    194 Total Reviews     8.9  \n",
       "15        Rs5124     Rs1243   4563 Total Reviews     9.7  \n",
       "16        Rs6810     Rs2091   2775 Total Reviews     8.2  \n",
       "17        Rs1276     Rs4101   3952 Total Reviews     9.7  \n",
       "18        Rs4101     Rs1538   8109 Total Reviews     8.0  \n",
       "19        Rs2597     Rs1572   3167 Total Reviews     9.4  \n",
       "20        Rs4306     Rs1613     26 Total Reviews     9.1  \n",
       "21        Rs1538     Rs2923   2400 Total Reviews     7.3  \n",
       "22        Rs1183     Rs4613    879 Total Reviews     8.6  "
      ]
     },
     "execution_count": 281,
     "metadata": {},
     "output_type": "execute_result"
    }
   ],
   "source": [
    "import pandas as pd\n",
    " # creating the dataframe from the scraped data \n",
    "df=pd.DataFrame({ \"Name\":Name[:min],\"Distance from City\":dist[:min],\"Private price\":private[:min], \"Dorm Price\":dorm[:min], \"reviews\":reviews[:min], \"ratings\":ratings[:min]})\n",
    "df"
   ]
  },
  {
   "cell_type": "code",
   "execution_count": null,
   "metadata": {},
   "outputs": [],
   "source": []
  }
 ],
 "metadata": {
  "kernelspec": {
   "display_name": "Python 3",
   "language": "python",
   "name": "python3"
  },
  "language_info": {
   "codemirror_mode": {
    "name": "ipython",
    "version": 3
   },
   "file_extension": ".py",
   "mimetype": "text/x-python",
   "name": "python",
   "nbconvert_exporter": "python",
   "pygments_lexer": "ipython3",
   "version": "3.8.5"
  }
 },
 "nbformat": 4,
 "nbformat_minor": 4
}
