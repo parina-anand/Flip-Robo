{
 "cells": [
  {
   "cell_type": "code",
   "execution_count": 1,
   "metadata": {
    "id": "-mNSqmJp9Z4Q"
   },
   "outputs": [],
   "source": [
    "from bs4 import BeautifulSoup\n",
    "import requests\n",
    "from selenium import webdriver\n",
    "from selenium.webdriver.common.keys import Keys\n",
    "from time import sleep\n",
    "import pandas as pd"
   ]
  },
  {
   "cell_type": "markdown",
   "metadata": {
    "id": "TumWikUs9Z4a"
   },
   "source": [
    "__Task 1__"
   ]
  },
  {
   "cell_type": "code",
   "execution_count": 2,
   "metadata": {
    "id": "WyfyO-lp9Z4c"
   },
   "outputs": [],
   "source": [
    "# lets connect to the web driver\n",
    "driver = webdriver.Chrome(r\"C:\\Users\\parin\\Downloads\\chromedriver_win32\\chromedriver.exe\")\n",
    "url = 'https://www.naukri.com/'\n",
    "driver.get(url)"
   ]
  },
  {
   "cell_type": "code",
   "execution_count": 3,
   "metadata": {
    "id": "rqgLwTSy9Z4e"
   },
   "outputs": [],
   "source": [
    "skill=driver.find_element_by_css_selector(\"#qsb-keyword-sugg\")\n",
    "skill.send_keys(\"Data Analyst\")\n",
    "location=driver.find_element_by_css_selector(\"#qsb-location-sugg\")\n",
    "location.send_keys(\"Bangalore\")\n",
    "search=driver.find_element_by_css_selector(\"#root > div.naukriHomePageContainer > div.topSection > section > div > form > div.search-btn > button\")\n",
    "search.click()"
   ]
  },
  {
   "cell_type": "code",
   "execution_count": 4,
   "metadata": {
    "id": "Jdz6HzME9Z4f"
   },
   "outputs": [
    {
     "data": {
      "text/plain": [
       "[<selenium.webdriver.remote.webelement.WebElement (session=\"7a057cc04fe1fea77eab8e193562dffa\", element=\"20c21d83-7f1f-4f25-ba76-e30c5b707e58\")>,\n",
       " <selenium.webdriver.remote.webelement.WebElement (session=\"7a057cc04fe1fea77eab8e193562dffa\", element=\"95d8d2ec-33c2-45e2-8380-44d4036b2e78\")>,\n",
       " <selenium.webdriver.remote.webelement.WebElement (session=\"7a057cc04fe1fea77eab8e193562dffa\", element=\"3c298211-9851-4ca8-9992-e54417a62ca1\")>,\n",
       " <selenium.webdriver.remote.webelement.WebElement (session=\"7a057cc04fe1fea77eab8e193562dffa\", element=\"e94b801c-639b-4c5e-aece-bd188d88221e\")>,\n",
       " <selenium.webdriver.remote.webelement.WebElement (session=\"7a057cc04fe1fea77eab8e193562dffa\", element=\"bbf3e0da-6511-4ba0-b9ec-95d8b1e48073\")>,\n",
       " <selenium.webdriver.remote.webelement.WebElement (session=\"7a057cc04fe1fea77eab8e193562dffa\", element=\"e7d19e09-3f9a-4c0b-8b3f-5c50d287f26c\")>,\n",
       " <selenium.webdriver.remote.webelement.WebElement (session=\"7a057cc04fe1fea77eab8e193562dffa\", element=\"77d3597d-f49e-4fc9-b2a0-b352a3f58089\")>,\n",
       " <selenium.webdriver.remote.webelement.WebElement (session=\"7a057cc04fe1fea77eab8e193562dffa\", element=\"040d9dd2-641d-473c-943c-c24e09c805ed\")>,\n",
       " <selenium.webdriver.remote.webelement.WebElement (session=\"7a057cc04fe1fea77eab8e193562dffa\", element=\"a02a69a7-ac0d-431c-9933-bb03f088d9b4\")>,\n",
       " <selenium.webdriver.remote.webelement.WebElement (session=\"7a057cc04fe1fea77eab8e193562dffa\", element=\"4b90841e-0795-41cc-9feb-0d09ff73c972\")>]"
      ]
     },
     "execution_count": 4,
     "metadata": {},
     "output_type": "execute_result"
    }
   ],
   "source": [
    "job_title=[]\n",
    "job_location=[]\n",
    "company_name=[]\n",
    "exp_req=[]\n",
    "\n",
    "job_tags=driver.find_elements_by_xpath(\"//a[@class='title fw500 ellipsis']\")\n",
    "job_tags[0:10]\n",
    "company_tags=driver.find_elements_by_xpath(\"//a[@class='subTitle ellipsis fleft']\")\n",
    "company_tags[0:10]\n",
    "location_tags=driver.find_elements_by_xpath(\"//li[@class='fleft grey-text br2 placeHolderLi location']\")\n",
    "location_tags[0:10]\n",
    "exp_tags=driver.find_elements_by_xpath(\"//li[@class='fleft grey-text br2 placeHolderLi experience']\")\n",
    "exp_tags[0:10]"
   ]
  },
  {
   "cell_type": "code",
   "execution_count": 5,
   "metadata": {
    "id": "n-jlEZdt9Z4i"
   },
   "outputs": [],
   "source": [
    "for i in range(0,10):\n",
    "    job_tag=job_tags[i].text\n",
    "    job_title.append(job_tag)\n",
    "    company_tag=company_tags[i].text\n",
    "    company_name.append(company_tag)\n",
    "    location_tag=location_tags[i].text\n",
    "    job_location.append(location_tag)\n",
    "    exp_tag=exp_tags[i].text\n",
    "    exp_req.append(exp_tag)"
   ]
  },
  {
   "cell_type": "code",
   "execution_count": 6,
   "metadata": {
    "id": "F8dnh7qZ9Z4j"
   },
   "outputs": [],
   "source": [
    "Job_details=pd.DataFrame({})\n",
    "Job_details[\"Job Title\"]=job_title\n",
    "Job_details[\"Company Name\"]=company_name\n",
    "Job_details[\"Job Location\"]=job_location\n",
    "Job_details[\"Experience Required\"]=exp_req"
   ]
  },
  {
   "cell_type": "code",
   "execution_count": 7,
   "metadata": {
    "id": "QOLGXAKx9Z4k"
   },
   "outputs": [
    {
     "data": {
      "text/html": [
       "<div>\n",
       "<style scoped>\n",
       "    .dataframe tbody tr th:only-of-type {\n",
       "        vertical-align: middle;\n",
       "    }\n",
       "\n",
       "    .dataframe tbody tr th {\n",
       "        vertical-align: top;\n",
       "    }\n",
       "\n",
       "    .dataframe thead th {\n",
       "        text-align: right;\n",
       "    }\n",
       "</style>\n",
       "<table border=\"1\" class=\"dataframe\">\n",
       "  <thead>\n",
       "    <tr style=\"text-align: right;\">\n",
       "      <th></th>\n",
       "      <th>Job Title</th>\n",
       "      <th>Company Name</th>\n",
       "      <th>Job Location</th>\n",
       "      <th>Experience Required</th>\n",
       "    </tr>\n",
       "  </thead>\n",
       "  <tbody>\n",
       "    <tr>\n",
       "      <th>0</th>\n",
       "      <td>Data Scientist / Data Analyst -Business Analyst</td>\n",
       "      <td>Inflexion Analytix Private Limited</td>\n",
       "      <td>Hyderabad/Secunderabad, Chennai, Bangalore/Ben...</td>\n",
       "      <td>0-3 Yrs</td>\n",
       "    </tr>\n",
       "    <tr>\n",
       "      <th>1</th>\n",
       "      <td>Network Design &amp; Data Analyst</td>\n",
       "      <td>Dell International Services India Private Limited</td>\n",
       "      <td>Bangalore/Bengaluru</td>\n",
       "      <td>0-2 Yrs</td>\n",
       "    </tr>\n",
       "    <tr>\n",
       "      <th>2</th>\n",
       "      <td>Consultant - Data Analyst</td>\n",
       "      <td>Flipkart Internet Private Limited</td>\n",
       "      <td>Bangalore/Bengaluru</td>\n",
       "      <td>0-2 Yrs</td>\n",
       "    </tr>\n",
       "    <tr>\n",
       "      <th>3</th>\n",
       "      <td>Junior Data Analyst</td>\n",
       "      <td>Simplilearn</td>\n",
       "      <td>Bangalore/Bengaluru(Sector 2 HSR Layout)\\n(WFH...</td>\n",
       "      <td>0-2 Yrs</td>\n",
       "    </tr>\n",
       "    <tr>\n",
       "      <th>4</th>\n",
       "      <td>Assistant Vice President - MIS &amp; Reporting ( B...</td>\n",
       "      <td>INTERTRUSTVITEOS CORPORATE AND FUND SERVICES P...</td>\n",
       "      <td>Mumbai, Bangalore/Bengaluru</td>\n",
       "      <td>10-15 Yrs</td>\n",
       "    </tr>\n",
       "    <tr>\n",
       "      <th>5</th>\n",
       "      <td>Data Analyst</td>\n",
       "      <td>IBM India Pvt. Limited</td>\n",
       "      <td>Bangalore/Bengaluru</td>\n",
       "      <td>3-7 Yrs</td>\n",
       "    </tr>\n",
       "    <tr>\n",
       "      <th>6</th>\n",
       "      <td>PDM - Data Analyst</td>\n",
       "      <td>Schneider Electric India Pvt. Ltd.</td>\n",
       "      <td>Davangere, Bangalore/Bengaluru</td>\n",
       "      <td>3-4 Yrs</td>\n",
       "    </tr>\n",
       "    <tr>\n",
       "      <th>7</th>\n",
       "      <td>Hot Vacancies - Senior Data Analyst, Bengaluru</td>\n",
       "      <td>WSP CONSULTANTS INDIA PRIVATE LIMITED</td>\n",
       "      <td>Bangalore/Bengaluru</td>\n",
       "      <td>5-10 Yrs</td>\n",
       "    </tr>\n",
       "    <tr>\n",
       "      <th>8</th>\n",
       "      <td>Business Data Analyst - MIS &amp; Reporting</td>\n",
       "      <td>INTERTRUST GROUP</td>\n",
       "      <td>Mumbai, Bangalore/Bengaluru</td>\n",
       "      <td>3-8 Yrs</td>\n",
       "    </tr>\n",
       "    <tr>\n",
       "      <th>9</th>\n",
       "      <td>Openings For Data Analyst For Bangalore with C...</td>\n",
       "      <td>JoulestoWatts Business Solutions Pvt Ltd</td>\n",
       "      <td>Bangalore/Bengaluru\\n(WFH during Covid)</td>\n",
       "      <td>5-10 Yrs</td>\n",
       "    </tr>\n",
       "  </tbody>\n",
       "</table>\n",
       "</div>"
      ],
      "text/plain": [
       "                                           Job Title  \\\n",
       "0    Data Scientist / Data Analyst -Business Analyst   \n",
       "1                      Network Design & Data Analyst   \n",
       "2                          Consultant - Data Analyst   \n",
       "3                                Junior Data Analyst   \n",
       "4  Assistant Vice President - MIS & Reporting ( B...   \n",
       "5                                       Data Analyst   \n",
       "6                                 PDM - Data Analyst   \n",
       "7     Hot Vacancies - Senior Data Analyst, Bengaluru   \n",
       "8            Business Data Analyst - MIS & Reporting   \n",
       "9  Openings For Data Analyst For Bangalore with C...   \n",
       "\n",
       "                                        Company Name  \\\n",
       "0                 Inflexion Analytix Private Limited   \n",
       "1  Dell International Services India Private Limited   \n",
       "2                  Flipkart Internet Private Limited   \n",
       "3                                        Simplilearn   \n",
       "4  INTERTRUSTVITEOS CORPORATE AND FUND SERVICES P...   \n",
       "5                             IBM India Pvt. Limited   \n",
       "6                 Schneider Electric India Pvt. Ltd.   \n",
       "7              WSP CONSULTANTS INDIA PRIVATE LIMITED   \n",
       "8                                   INTERTRUST GROUP   \n",
       "9           JoulestoWatts Business Solutions Pvt Ltd   \n",
       "\n",
       "                                        Job Location Experience Required  \n",
       "0  Hyderabad/Secunderabad, Chennai, Bangalore/Ben...             0-3 Yrs  \n",
       "1                                Bangalore/Bengaluru             0-2 Yrs  \n",
       "2                                Bangalore/Bengaluru             0-2 Yrs  \n",
       "3  Bangalore/Bengaluru(Sector 2 HSR Layout)\\n(WFH...             0-2 Yrs  \n",
       "4                        Mumbai, Bangalore/Bengaluru           10-15 Yrs  \n",
       "5                                Bangalore/Bengaluru             3-7 Yrs  \n",
       "6                     Davangere, Bangalore/Bengaluru             3-4 Yrs  \n",
       "7                                Bangalore/Bengaluru            5-10 Yrs  \n",
       "8                        Mumbai, Bangalore/Bengaluru             3-8 Yrs  \n",
       "9            Bangalore/Bengaluru\\n(WFH during Covid)            5-10 Yrs  "
      ]
     },
     "execution_count": 7,
     "metadata": {},
     "output_type": "execute_result"
    }
   ],
   "source": [
    "Job_details"
   ]
  },
  {
   "cell_type": "markdown",
   "metadata": {
    "id": "KvXD11oT9Z4l"
   },
   "source": [
    "__Task 2__"
   ]
  },
  {
   "cell_type": "code",
   "execution_count": 8,
   "metadata": {
    "id": "-mX4-v759Z4m"
   },
   "outputs": [],
   "source": [
    "driver.get(\"https://www.naukri.com/\")\n",
    "\n",
    "\n",
    "skill=driver.find_element_by_css_selector(\"#qsb-keyword-sugg\")\n",
    "skill.send_keys(\"Data Scientist\")\n",
    "location=driver.find_element_by_css_selector(\"#qsb-location-sugg\")\n",
    "location.send_keys(\"Bangalore\")\n",
    "search=driver.find_element_by_css_selector(\"#root > div.naukriHomePageContainer > div.topSection > section > div > form > div.search-btn > button\")\n",
    "search.click()"
   ]
  },
  {
   "cell_type": "code",
   "execution_count": 9,
   "metadata": {
    "id": "ibgke6Kx9Z4n"
   },
   "outputs": [
    {
     "data": {
      "text/plain": [
       "[<selenium.webdriver.remote.webelement.WebElement (session=\"7a057cc04fe1fea77eab8e193562dffa\", element=\"c51702bf-d3e7-4a0b-81b7-314dcc3d82dd\")>,\n",
       " <selenium.webdriver.remote.webelement.WebElement (session=\"7a057cc04fe1fea77eab8e193562dffa\", element=\"bb68f4f6-7da1-44dd-ad04-a72811360f2e\")>,\n",
       " <selenium.webdriver.remote.webelement.WebElement (session=\"7a057cc04fe1fea77eab8e193562dffa\", element=\"9fef7c6f-90a8-4f44-a428-dffecb19c844\")>,\n",
       " <selenium.webdriver.remote.webelement.WebElement (session=\"7a057cc04fe1fea77eab8e193562dffa\", element=\"ef4a8f19-919c-4d12-b97f-195a51fe3f77\")>,\n",
       " <selenium.webdriver.remote.webelement.WebElement (session=\"7a057cc04fe1fea77eab8e193562dffa\", element=\"75aef346-8a12-4806-8f97-6e8567b14fcf\")>,\n",
       " <selenium.webdriver.remote.webelement.WebElement (session=\"7a057cc04fe1fea77eab8e193562dffa\", element=\"712b2dfc-f886-463f-a674-c483558fb6b6\")>,\n",
       " <selenium.webdriver.remote.webelement.WebElement (session=\"7a057cc04fe1fea77eab8e193562dffa\", element=\"8434c439-419b-45c9-956b-9fc0041ab96d\")>,\n",
       " <selenium.webdriver.remote.webelement.WebElement (session=\"7a057cc04fe1fea77eab8e193562dffa\", element=\"41cb507f-a264-4d57-8519-75e8d57ffdf4\")>,\n",
       " <selenium.webdriver.remote.webelement.WebElement (session=\"7a057cc04fe1fea77eab8e193562dffa\", element=\"6586e883-9c09-42a6-8ac7-aec3b5611c59\")>,\n",
       " <selenium.webdriver.remote.webelement.WebElement (session=\"7a057cc04fe1fea77eab8e193562dffa\", element=\"fc0e24da-c476-4094-9b3e-8d47eeeb6699\")>]"
      ]
     },
     "execution_count": 9,
     "metadata": {},
     "output_type": "execute_result"
    }
   ],
   "source": [
    "job_title=[]\n",
    "job_location=[]\n",
    "company_name=[]\n",
    "exp_req=[]\n",
    "\n",
    "job_tags=driver.find_elements_by_xpath(\"//a[@class='title fw500 ellipsis']\")\n",
    "job_tags[0:10]\n",
    "company_tags=driver.find_elements_by_xpath(\"//a[@class='subTitle ellipsis fleft']\")\n",
    "company_tags[0:10]\n",
    "location_tags=driver.find_elements_by_xpath(\"//li[@class='fleft grey-text br2 placeHolderLi location']\")\n",
    "location_tags[0:10]\n",
    "exp_tags=driver.find_elements_by_xpath(\"//li[@class='fleft grey-text br2 placeHolderLi experience']\")\n",
    "exp_tags[0:10]"
   ]
  },
  {
   "cell_type": "code",
   "execution_count": 10,
   "metadata": {
    "id": "jAWBw3pS9Z4o"
   },
   "outputs": [],
   "source": [
    "for i in range(0,10):\n",
    "    \n",
    "    job_tag=job_tags[i].text\n",
    "    job_title.append(job_tag)\n",
    "    company_tag=company_tags[i].text\n",
    "    company_name.append(company_tag)\n",
    "    location_tag=location_tags[i].text\n",
    "    job_location.append(location_tag)\n",
    "    exp_tag=exp_tags[i].text\n",
    "    exp_req.append(exp_tag)"
   ]
  },
  {
   "cell_type": "code",
   "execution_count": 11,
   "metadata": {
    "id": "ABlcXru99Z4o"
   },
   "outputs": [],
   "source": [
    "Job_details=pd.DataFrame({})\n",
    "Job_details[\"Job Title\"]=job_title\n",
    "Job_details[\"Company Name\"]=company_name\n",
    "Job_details[\"Job Location\"]=job_location\n",
    "Job_details[\"Experience Required\"]=exp_req"
   ]
  },
  {
   "cell_type": "code",
   "execution_count": 12,
   "metadata": {
    "id": "InguqkY19Z4p"
   },
   "outputs": [
    {
     "data": {
      "text/html": [
       "<div>\n",
       "<style scoped>\n",
       "    .dataframe tbody tr th:only-of-type {\n",
       "        vertical-align: middle;\n",
       "    }\n",
       "\n",
       "    .dataframe tbody tr th {\n",
       "        vertical-align: top;\n",
       "    }\n",
       "\n",
       "    .dataframe thead th {\n",
       "        text-align: right;\n",
       "    }\n",
       "</style>\n",
       "<table border=\"1\" class=\"dataframe\">\n",
       "  <thead>\n",
       "    <tr style=\"text-align: right;\">\n",
       "      <th></th>\n",
       "      <th>Job Title</th>\n",
       "      <th>Company Name</th>\n",
       "      <th>Job Location</th>\n",
       "      <th>Experience Required</th>\n",
       "    </tr>\n",
       "  </thead>\n",
       "  <tbody>\n",
       "    <tr>\n",
       "      <th>0</th>\n",
       "      <td>Data Scientist / Data Analyst -Business Analyst</td>\n",
       "      <td>Inflexion Analytix Private Limited</td>\n",
       "      <td>Hyderabad/Secunderabad, Chennai, Bangalore/Ben...</td>\n",
       "      <td>0-3 Yrs</td>\n",
       "    </tr>\n",
       "    <tr>\n",
       "      <th>1</th>\n",
       "      <td>Data Scientist</td>\n",
       "      <td>Flipkart Internet Private Limited</td>\n",
       "      <td>Bangalore/Bengaluru</td>\n",
       "      <td>0-5 Yrs</td>\n",
       "    </tr>\n",
       "    <tr>\n",
       "      <th>2</th>\n",
       "      <td>Senior Data Scientist</td>\n",
       "      <td>Flipkart Internet Private Limited</td>\n",
       "      <td>Bangalore/Bengaluru</td>\n",
       "      <td>5-10 Yrs</td>\n",
       "    </tr>\n",
       "    <tr>\n",
       "      <th>3</th>\n",
       "      <td>Senior/Lead Data Scientist - Machine Learning/...</td>\n",
       "      <td>Squareroot Consulting Pvt Ltd.</td>\n",
       "      <td>Bangalore/Bengaluru</td>\n",
       "      <td>1-6 Yrs</td>\n",
       "    </tr>\n",
       "    <tr>\n",
       "      <th>4</th>\n",
       "      <td>Associate Data Scientist</td>\n",
       "      <td>Atonarp</td>\n",
       "      <td>Bangalore/Bengaluru</td>\n",
       "      <td>1-4 Yrs</td>\n",
       "    </tr>\n",
       "    <tr>\n",
       "      <th>5</th>\n",
       "      <td>Lead Data Scientist</td>\n",
       "      <td>bd</td>\n",
       "      <td>Bangalore/Bengaluru</td>\n",
       "      <td>2-7 Yrs</td>\n",
       "    </tr>\n",
       "    <tr>\n",
       "      <th>6</th>\n",
       "      <td>Job Opening For the Position Data Scientist</td>\n",
       "      <td>Pluto seven business solutions (p) limited</td>\n",
       "      <td>Bangalore/Bengaluru</td>\n",
       "      <td>2-6 Yrs</td>\n",
       "    </tr>\n",
       "    <tr>\n",
       "      <th>7</th>\n",
       "      <td>Data Scientist - Chubb - Bangalore</td>\n",
       "      <td>CHUBB BUSINESS SERVICES INDIA LLP</td>\n",
       "      <td>Bangalore/Bengaluru\\n(WFH during Covid)</td>\n",
       "      <td>5-10 Yrs</td>\n",
       "    </tr>\n",
       "    <tr>\n",
       "      <th>8</th>\n",
       "      <td>Data Scientist</td>\n",
       "      <td>Atonarp</td>\n",
       "      <td>Bangalore/Bengaluru</td>\n",
       "      <td>3-7 Yrs</td>\n",
       "    </tr>\n",
       "    <tr>\n",
       "      <th>9</th>\n",
       "      <td>Data Scientist</td>\n",
       "      <td>Siemens Limited</td>\n",
       "      <td>Bangalore/Bengaluru</td>\n",
       "      <td>2-6 Yrs</td>\n",
       "    </tr>\n",
       "  </tbody>\n",
       "</table>\n",
       "</div>"
      ],
      "text/plain": [
       "                                           Job Title  \\\n",
       "0    Data Scientist / Data Analyst -Business Analyst   \n",
       "1                                     Data Scientist   \n",
       "2                              Senior Data Scientist   \n",
       "3  Senior/Lead Data Scientist - Machine Learning/...   \n",
       "4                           Associate Data Scientist   \n",
       "5                                Lead Data Scientist   \n",
       "6        Job Opening For the Position Data Scientist   \n",
       "7                 Data Scientist - Chubb - Bangalore   \n",
       "8                                     Data Scientist   \n",
       "9                                     Data Scientist   \n",
       "\n",
       "                                 Company Name  \\\n",
       "0          Inflexion Analytix Private Limited   \n",
       "1           Flipkart Internet Private Limited   \n",
       "2           Flipkart Internet Private Limited   \n",
       "3              Squareroot Consulting Pvt Ltd.   \n",
       "4                                     Atonarp   \n",
       "5                                          bd   \n",
       "6  Pluto seven business solutions (p) limited   \n",
       "7           CHUBB BUSINESS SERVICES INDIA LLP   \n",
       "8                                     Atonarp   \n",
       "9                             Siemens Limited   \n",
       "\n",
       "                                        Job Location Experience Required  \n",
       "0  Hyderabad/Secunderabad, Chennai, Bangalore/Ben...             0-3 Yrs  \n",
       "1                                Bangalore/Bengaluru             0-5 Yrs  \n",
       "2                                Bangalore/Bengaluru            5-10 Yrs  \n",
       "3                                Bangalore/Bengaluru             1-6 Yrs  \n",
       "4                                Bangalore/Bengaluru             1-4 Yrs  \n",
       "5                                Bangalore/Bengaluru             2-7 Yrs  \n",
       "6                                Bangalore/Bengaluru             2-6 Yrs  \n",
       "7            Bangalore/Bengaluru\\n(WFH during Covid)            5-10 Yrs  \n",
       "8                                Bangalore/Bengaluru             3-7 Yrs  \n",
       "9                                Bangalore/Bengaluru             2-6 Yrs  "
      ]
     },
     "execution_count": 12,
     "metadata": {},
     "output_type": "execute_result"
    }
   ],
   "source": [
    "Job_details"
   ]
  },
  {
   "cell_type": "code",
   "execution_count": 13,
   "metadata": {
    "id": "QjvJWlAp9Z4p"
   },
   "outputs": [],
   "source": [
    "## Clicking on the Job to get discription\n",
    "\n",
    "to_click=driver.find_element_by_xpath(\"//a[@class='title fw500 ellipsis']\")\n",
    "to_click.click()\n",
    "\n"
   ]
  },
  {
   "cell_type": "code",
   "execution_count": 35,
   "metadata": {
    "id": "o-LubJve9Z4q"
   },
   "outputs": [
    {
     "ename": "NoSuchElementException",
     "evalue": "Message: no such element: Unable to locate element: {\"method\":\"xpath\",\"selector\":\"//section[@class='job-desc']\"}\n  (Session info: chrome=91.0.4472.124)\n",
     "output_type": "error",
     "traceback": [
      "\u001b[1;31m---------------------------------------------------------------------------\u001b[0m",
      "\u001b[1;31mNoSuchElementException\u001b[0m                    Traceback (most recent call last)",
      "\u001b[1;32m<ipython-input-35-93a377f79a8a>\u001b[0m in \u001b[0;36m<module>\u001b[1;34m\u001b[0m\n\u001b[0;32m      1\u001b[0m \u001b[1;31m#data4=driver.find_element_by_xpath(\"/html/body/div[1]/main/div[2]/div[2]/section[2]\")\u001b[0m\u001b[1;33m\u001b[0m\u001b[1;33m\u001b[0m\u001b[1;33m\u001b[0m\u001b[0m\n\u001b[1;32m----> 2\u001b[1;33m \u001b[0mdata5\u001b[0m\u001b[1;33m=\u001b[0m\u001b[0mdriver\u001b[0m\u001b[1;33m.\u001b[0m\u001b[0mfind_element_by_xpath\u001b[0m\u001b[1;33m(\u001b[0m\u001b[1;34m\"//section[@class='job-desc']\"\u001b[0m\u001b[1;33m)\u001b[0m\u001b[1;33m\u001b[0m\u001b[1;33m\u001b[0m\u001b[0m\n\u001b[0m\u001b[0;32m      3\u001b[0m \u001b[0mdata5\u001b[0m\u001b[1;33m=\u001b[0m\u001b[0mdriver\u001b[0m\u001b[1;33m.\u001b[0m\u001b[0mfind_elements_by_class_name\u001b[0m\u001b[1;33m(\u001b[0m\u001b[1;34m\"job-desc\"\u001b[0m\u001b[1;33m)\u001b[0m\u001b[1;33m\u001b[0m\u001b[1;33m\u001b[0m\u001b[0m\n",
      "\u001b[1;32m~\\anaconda3\\lib\\site-packages\\selenium\\webdriver\\remote\\webdriver.py\u001b[0m in \u001b[0;36mfind_element_by_xpath\u001b[1;34m(self, xpath)\u001b[0m\n\u001b[0;32m    392\u001b[0m             \u001b[0melement\u001b[0m \u001b[1;33m=\u001b[0m \u001b[0mdriver\u001b[0m\u001b[1;33m.\u001b[0m\u001b[0mfind_element_by_xpath\u001b[0m\u001b[1;33m(\u001b[0m\u001b[1;34m'//div/td[1]'\u001b[0m\u001b[1;33m)\u001b[0m\u001b[1;33m\u001b[0m\u001b[1;33m\u001b[0m\u001b[0m\n\u001b[0;32m    393\u001b[0m         \"\"\"\n\u001b[1;32m--> 394\u001b[1;33m         \u001b[1;32mreturn\u001b[0m \u001b[0mself\u001b[0m\u001b[1;33m.\u001b[0m\u001b[0mfind_element\u001b[0m\u001b[1;33m(\u001b[0m\u001b[0mby\u001b[0m\u001b[1;33m=\u001b[0m\u001b[0mBy\u001b[0m\u001b[1;33m.\u001b[0m\u001b[0mXPATH\u001b[0m\u001b[1;33m,\u001b[0m \u001b[0mvalue\u001b[0m\u001b[1;33m=\u001b[0m\u001b[0mxpath\u001b[0m\u001b[1;33m)\u001b[0m\u001b[1;33m\u001b[0m\u001b[1;33m\u001b[0m\u001b[0m\n\u001b[0m\u001b[0;32m    395\u001b[0m \u001b[1;33m\u001b[0m\u001b[0m\n\u001b[0;32m    396\u001b[0m     \u001b[1;32mdef\u001b[0m \u001b[0mfind_elements_by_xpath\u001b[0m\u001b[1;33m(\u001b[0m\u001b[0mself\u001b[0m\u001b[1;33m,\u001b[0m \u001b[0mxpath\u001b[0m\u001b[1;33m)\u001b[0m\u001b[1;33m:\u001b[0m\u001b[1;33m\u001b[0m\u001b[1;33m\u001b[0m\u001b[0m\n",
      "\u001b[1;32m~\\anaconda3\\lib\\site-packages\\selenium\\webdriver\\remote\\webdriver.py\u001b[0m in \u001b[0;36mfind_element\u001b[1;34m(self, by, value)\u001b[0m\n\u001b[0;32m    974\u001b[0m                 \u001b[0mby\u001b[0m \u001b[1;33m=\u001b[0m \u001b[0mBy\u001b[0m\u001b[1;33m.\u001b[0m\u001b[0mCSS_SELECTOR\u001b[0m\u001b[1;33m\u001b[0m\u001b[1;33m\u001b[0m\u001b[0m\n\u001b[0;32m    975\u001b[0m                 \u001b[0mvalue\u001b[0m \u001b[1;33m=\u001b[0m \u001b[1;34m'[name=\"%s\"]'\u001b[0m \u001b[1;33m%\u001b[0m \u001b[0mvalue\u001b[0m\u001b[1;33m\u001b[0m\u001b[1;33m\u001b[0m\u001b[0m\n\u001b[1;32m--> 976\u001b[1;33m         return self.execute(Command.FIND_ELEMENT, {\n\u001b[0m\u001b[0;32m    977\u001b[0m             \u001b[1;34m'using'\u001b[0m\u001b[1;33m:\u001b[0m \u001b[0mby\u001b[0m\u001b[1;33m,\u001b[0m\u001b[1;33m\u001b[0m\u001b[1;33m\u001b[0m\u001b[0m\n\u001b[0;32m    978\u001b[0m             'value': value})['value']\n",
      "\u001b[1;32m~\\anaconda3\\lib\\site-packages\\selenium\\webdriver\\remote\\webdriver.py\u001b[0m in \u001b[0;36mexecute\u001b[1;34m(self, driver_command, params)\u001b[0m\n\u001b[0;32m    319\u001b[0m         \u001b[0mresponse\u001b[0m \u001b[1;33m=\u001b[0m \u001b[0mself\u001b[0m\u001b[1;33m.\u001b[0m\u001b[0mcommand_executor\u001b[0m\u001b[1;33m.\u001b[0m\u001b[0mexecute\u001b[0m\u001b[1;33m(\u001b[0m\u001b[0mdriver_command\u001b[0m\u001b[1;33m,\u001b[0m \u001b[0mparams\u001b[0m\u001b[1;33m)\u001b[0m\u001b[1;33m\u001b[0m\u001b[1;33m\u001b[0m\u001b[0m\n\u001b[0;32m    320\u001b[0m         \u001b[1;32mif\u001b[0m \u001b[0mresponse\u001b[0m\u001b[1;33m:\u001b[0m\u001b[1;33m\u001b[0m\u001b[1;33m\u001b[0m\u001b[0m\n\u001b[1;32m--> 321\u001b[1;33m             \u001b[0mself\u001b[0m\u001b[1;33m.\u001b[0m\u001b[0merror_handler\u001b[0m\u001b[1;33m.\u001b[0m\u001b[0mcheck_response\u001b[0m\u001b[1;33m(\u001b[0m\u001b[0mresponse\u001b[0m\u001b[1;33m)\u001b[0m\u001b[1;33m\u001b[0m\u001b[1;33m\u001b[0m\u001b[0m\n\u001b[0m\u001b[0;32m    322\u001b[0m             response['value'] = self._unwrap_value(\n\u001b[0;32m    323\u001b[0m                 response.get('value', None))\n",
      "\u001b[1;32m~\\anaconda3\\lib\\site-packages\\selenium\\webdriver\\remote\\errorhandler.py\u001b[0m in \u001b[0;36mcheck_response\u001b[1;34m(self, response)\u001b[0m\n\u001b[0;32m    240\u001b[0m                 \u001b[0malert_text\u001b[0m \u001b[1;33m=\u001b[0m \u001b[0mvalue\u001b[0m\u001b[1;33m[\u001b[0m\u001b[1;34m'alert'\u001b[0m\u001b[1;33m]\u001b[0m\u001b[1;33m.\u001b[0m\u001b[0mget\u001b[0m\u001b[1;33m(\u001b[0m\u001b[1;34m'text'\u001b[0m\u001b[1;33m)\u001b[0m\u001b[1;33m\u001b[0m\u001b[1;33m\u001b[0m\u001b[0m\n\u001b[0;32m    241\u001b[0m             \u001b[1;32mraise\u001b[0m \u001b[0mexception_class\u001b[0m\u001b[1;33m(\u001b[0m\u001b[0mmessage\u001b[0m\u001b[1;33m,\u001b[0m \u001b[0mscreen\u001b[0m\u001b[1;33m,\u001b[0m \u001b[0mstacktrace\u001b[0m\u001b[1;33m,\u001b[0m \u001b[0malert_text\u001b[0m\u001b[1;33m)\u001b[0m\u001b[1;33m\u001b[0m\u001b[1;33m\u001b[0m\u001b[0m\n\u001b[1;32m--> 242\u001b[1;33m         \u001b[1;32mraise\u001b[0m \u001b[0mexception_class\u001b[0m\u001b[1;33m(\u001b[0m\u001b[0mmessage\u001b[0m\u001b[1;33m,\u001b[0m \u001b[0mscreen\u001b[0m\u001b[1;33m,\u001b[0m \u001b[0mstacktrace\u001b[0m\u001b[1;33m)\u001b[0m\u001b[1;33m\u001b[0m\u001b[1;33m\u001b[0m\u001b[0m\n\u001b[0m\u001b[0;32m    243\u001b[0m \u001b[1;33m\u001b[0m\u001b[0m\n\u001b[0;32m    244\u001b[0m     \u001b[1;32mdef\u001b[0m \u001b[0m_value_or_default\u001b[0m\u001b[1;33m(\u001b[0m\u001b[0mself\u001b[0m\u001b[1;33m,\u001b[0m \u001b[0mobj\u001b[0m\u001b[1;33m,\u001b[0m \u001b[0mkey\u001b[0m\u001b[1;33m,\u001b[0m \u001b[0mdefault\u001b[0m\u001b[1;33m)\u001b[0m\u001b[1;33m:\u001b[0m\u001b[1;33m\u001b[0m\u001b[1;33m\u001b[0m\u001b[0m\n",
      "\u001b[1;31mNoSuchElementException\u001b[0m: Message: no such element: Unable to locate element: {\"method\":\"xpath\",\"selector\":\"//section[@class='job-desc']\"}\n  (Session info: chrome=91.0.4472.124)\n"
     ]
    }
   ],
   "source": [
    "#data4=driver.find_element_by_xpath(\"/html/body/div[1]/main/div[2]/div[2]/section[2]\")\n",
    "data5=driver.find_element_by_xpath(\"//section[@class='job-desc']\")\n",
    "data5=driver.find_elements_by_class_name(\"job-desc\")\n",
    "\n",
    "\n",
    "# EVEN THOUGH MY X_PATH IS CORRECT< STILL UNABLE TO GET THE DATA"
   ]
  },
  {
   "cell_type": "markdown",
   "metadata": {
    "id": "_Z3TkfGz9Z4r"
   },
   "source": [
    "__Task 3__"
   ]
  },
  {
   "cell_type": "code",
   "execution_count": 37,
   "metadata": {
    "id": "cK1StwBr9Z4r"
   },
   "outputs": [],
   "source": [
    "chromedriver_path = r\"C:\\Users\\parin\\Downloads\\chromedriver_win32\\chromedriver.exe\"\n",
    "webdrivers = webdriver.Chrome(executable_path=chromedriver_path)\n",
    "sleep(2)\n",
    "webdrivers.get(\"https://www.naukri.com/\")"
   ]
  },
  {
   "cell_type": "code",
   "execution_count": 38,
   "metadata": {
    "id": "_WZbG_1F9Z4r"
   },
   "outputs": [],
   "source": [
    "skill=webdrivers.find_element_by_css_selector(\"#qsb-keyword-sugg\")\n",
    "skill.send_keys(\"Data Scientist\")\n",
    "#location=webdrivers.find_element_by_css_selector(\"#qsb-location-sugg\")\n",
    "#location.send_keys(\"Bangalore\")\n",
    "search=webdrivers.find_element_by_css_selector(\"#root > div.naukriHomePageContainer > div.topSection > section > div > form > div.search-btn > button\")\n",
    "search.click()\n",
    "sleep(3)"
   ]
  },
  {
   "cell_type": "code",
   "execution_count": 40,
   "metadata": {
    "id": "oC0yoBIg9Z4s"
   },
   "outputs": [],
   "source": [
    "# selecting filter for location\n",
    "loc_filter=webdrivers.find_elements_by_xpath(\"//span[@class='ellipsis fleft']\")\n",
    "for i in loc_filter:\n",
    "    if i.text==\"Delhi / NCR\":\n",
    "        i.click()\n",
    "        break\n",
    "sleep(3)\n",
    "# Salary filter \n",
    "\n",
    "sal_filter=webdrivers.find_elements_by_xpath(\"//span[@class='ellipsis fleft']\")\n",
    "for i in sal_filter:\n",
    "    if i.text==\"3-6 Lakhs\":\n",
    "        i.click()\n",
    "        break"
   ]
  },
  {
   "cell_type": "code",
   "execution_count": 41,
   "metadata": {
    "id": "SmP5SvRe9Z4s"
   },
   "outputs": [
    {
     "data": {
      "text/plain": [
       "[<selenium.webdriver.remote.webelement.WebElement (session=\"e6b57ac39176e3461ec9c28e5e04a65e\", element=\"b6b0e457-ec5a-40d9-904c-ed93818d1001\")>,\n",
       " <selenium.webdriver.remote.webelement.WebElement (session=\"e6b57ac39176e3461ec9c28e5e04a65e\", element=\"ea6c53a0-9a1a-4062-bd28-43cf9ec3db4d\")>,\n",
       " <selenium.webdriver.remote.webelement.WebElement (session=\"e6b57ac39176e3461ec9c28e5e04a65e\", element=\"66501296-219a-4555-b454-677cd92cd659\")>,\n",
       " <selenium.webdriver.remote.webelement.WebElement (session=\"e6b57ac39176e3461ec9c28e5e04a65e\", element=\"52bc592e-fc4c-495a-80c9-7db1be47b45f\")>,\n",
       " <selenium.webdriver.remote.webelement.WebElement (session=\"e6b57ac39176e3461ec9c28e5e04a65e\", element=\"120d100b-21c4-4532-b99d-a78de68bd2c5\")>,\n",
       " <selenium.webdriver.remote.webelement.WebElement (session=\"e6b57ac39176e3461ec9c28e5e04a65e\", element=\"a9056a3d-4b65-4f09-ae31-5ff709c7d33e\")>,\n",
       " <selenium.webdriver.remote.webelement.WebElement (session=\"e6b57ac39176e3461ec9c28e5e04a65e\", element=\"eb7f5c1b-c677-4629-9401-89948acdcd83\")>,\n",
       " <selenium.webdriver.remote.webelement.WebElement (session=\"e6b57ac39176e3461ec9c28e5e04a65e\", element=\"417f335e-ed6c-4cb8-97fa-3f8f7032d93c\")>,\n",
       " <selenium.webdriver.remote.webelement.WebElement (session=\"e6b57ac39176e3461ec9c28e5e04a65e\", element=\"fab05867-0797-4329-97c4-30a8d8d93fe5\")>,\n",
       " <selenium.webdriver.remote.webelement.WebElement (session=\"e6b57ac39176e3461ec9c28e5e04a65e\", element=\"2b5c33f5-dc4a-4b04-b7c8-b76c1306ad93\")>]"
      ]
     },
     "execution_count": 41,
     "metadata": {},
     "output_type": "execute_result"
    }
   ],
   "source": [
    "# Scraping data for the first 10 jobs.\n",
    "\n",
    "job_title=[]\n",
    "job_location=[]\n",
    "company_name=[]\n",
    "exp_req=[]\n",
    "\n",
    "job_tags=webdrivers.find_elements_by_xpath(\"//a[@class='title fw500 ellipsis']\")\n",
    "job_tags[0:10]\n",
    "company_tags=webdrivers.find_elements_by_xpath(\"//a[@class='subTitle ellipsis fleft']\")\n",
    "company_tags[0:10]\n",
    "location_tags=webdrivers.find_elements_by_xpath(\"//li[@class='fleft grey-text br2 placeHolderLi location']\")\n",
    "location_tags[0:10]\n",
    "exp_tags=webdrivers.find_elements_by_xpath(\"//li[@class='fleft grey-text br2 placeHolderLi experience']\")\n",
    "exp_tags[0:10]"
   ]
  },
  {
   "cell_type": "code",
   "execution_count": 42,
   "metadata": {
    "id": "d9Pndiar1Oj9"
   },
   "outputs": [],
   "source": [
    "for i in range(0,10):\n",
    "    \n",
    "    job_tag=job_tags[i].text\n",
    "    job_title.append(job_tag)\n",
    "    company_tag=company_tags[i].text\n",
    "    company_name.append(company_tag)\n",
    "    location_tag=location_tags[i].text\n",
    "    job_location.append(location_tag)\n",
    "    exp_tag=exp_tags[i].text\n",
    "    exp_req.append(exp_tag)"
   ]
  },
  {
   "cell_type": "code",
   "execution_count": 43,
   "metadata": {
    "id": "yDLiSOlG1Ou3"
   },
   "outputs": [],
   "source": [
    "Job_details=pd.DataFrame({})\n",
    "Job_details[\"Job Title\"]=job_title\n",
    "Job_details[\"Company Name\"]=company_name\n",
    "Job_details[\"Job Location\"]=job_location\n",
    "Job_details[\"Experience Required\"]=exp_req"
   ]
  },
  {
   "cell_type": "code",
   "execution_count": 44,
   "metadata": {
    "id": "fgX3gzqN1OyX"
   },
   "outputs": [
    {
     "data": {
      "text/html": [
       "<div>\n",
       "<style scoped>\n",
       "    .dataframe tbody tr th:only-of-type {\n",
       "        vertical-align: middle;\n",
       "    }\n",
       "\n",
       "    .dataframe tbody tr th {\n",
       "        vertical-align: top;\n",
       "    }\n",
       "\n",
       "    .dataframe thead th {\n",
       "        text-align: right;\n",
       "    }\n",
       "</style>\n",
       "<table border=\"1\" class=\"dataframe\">\n",
       "  <thead>\n",
       "    <tr style=\"text-align: right;\">\n",
       "      <th></th>\n",
       "      <th>Job Title</th>\n",
       "      <th>Company Name</th>\n",
       "      <th>Job Location</th>\n",
       "      <th>Experience Required</th>\n",
       "    </tr>\n",
       "  </thead>\n",
       "  <tbody>\n",
       "    <tr>\n",
       "      <th>0</th>\n",
       "      <td>Data Scientist/Data Analyst /Business Analyst</td>\n",
       "      <td>Inflexion Analytix Private Limited</td>\n",
       "      <td>Pune, Delhi / NCR, Mumbai (All Areas)</td>\n",
       "      <td>0-3 Yrs</td>\n",
       "    </tr>\n",
       "    <tr>\n",
       "      <th>1</th>\n",
       "      <td>Team Leader Operations/Data Scientist</td>\n",
       "      <td>Optimint Solutions Pvt. Ltd.</td>\n",
       "      <td>Gurgaon/Gurugram, Delhi / NCR</td>\n",
       "      <td>2-5 Yrs</td>\n",
       "    </tr>\n",
       "    <tr>\n",
       "      <th>2</th>\n",
       "      <td>Senior Data Scientist</td>\n",
       "      <td>inVentiv International Pharma Services Pvt. Ltd.</td>\n",
       "      <td>Hyderabad/Secunderabad, Gurgaon/Gurugram, Bang...</td>\n",
       "      <td>3-6 Yrs</td>\n",
       "    </tr>\n",
       "    <tr>\n",
       "      <th>3</th>\n",
       "      <td>Only Fresher / Data Scientist / Data Analyst /...</td>\n",
       "      <td>GABA Consultancy services</td>\n",
       "      <td>Noida, Greater Noida, Delhi / NCR</td>\n",
       "      <td>0-0 Yrs</td>\n",
       "    </tr>\n",
       "    <tr>\n",
       "      <th>4</th>\n",
       "      <td>Data Scientist (Early Joiner)</td>\n",
       "      <td>R Systems International Ltd.</td>\n",
       "      <td>Noida(Sector-59 Noida)</td>\n",
       "      <td>4-8 Yrs</td>\n",
       "    </tr>\n",
       "    <tr>\n",
       "      <th>5</th>\n",
       "      <td>Data Scientist - Machine Learning/ NLP</td>\n",
       "      <td>TalPro</td>\n",
       "      <td>Gurgaon/Gurugram</td>\n",
       "      <td>2-6 Yrs</td>\n",
       "    </tr>\n",
       "    <tr>\n",
       "      <th>6</th>\n",
       "      <td>Data Scientist</td>\n",
       "      <td>recruitment advisory line</td>\n",
       "      <td>Hyderabad/Secunderabad, Gurgaon/Gurugram, Bang...</td>\n",
       "      <td>3-6 Yrs</td>\n",
       "    </tr>\n",
       "    <tr>\n",
       "      <th>7</th>\n",
       "      <td>Data Scientist || Python || C2H</td>\n",
       "      <td>Growel Softech Pvt. Ltd.</td>\n",
       "      <td>Noida, Kolkata, Gurgaon/Gurugram, Bangalore/Be...</td>\n",
       "      <td>4-6 Yrs</td>\n",
       "    </tr>\n",
       "    <tr>\n",
       "      <th>8</th>\n",
       "      <td>Data Scientist || Python || C2H</td>\n",
       "      <td>Growel Softech Pvt. Ltd.</td>\n",
       "      <td>Noida, Kolkata, Gurgaon/Gurugram, Bangalore/Be...</td>\n",
       "      <td>4-6 Yrs</td>\n",
       "    </tr>\n",
       "    <tr>\n",
       "      <th>9</th>\n",
       "      <td>Advanced Analytics -Data Scientist</td>\n",
       "      <td>ERM Placement Services (P) Ltd.</td>\n",
       "      <td>New Delhi, Hyderabad/Secunderabad</td>\n",
       "      <td>3-7 Yrs</td>\n",
       "    </tr>\n",
       "  </tbody>\n",
       "</table>\n",
       "</div>"
      ],
      "text/plain": [
       "                                           Job Title  \\\n",
       "0      Data Scientist/Data Analyst /Business Analyst   \n",
       "1              Team Leader Operations/Data Scientist   \n",
       "2                              Senior Data Scientist   \n",
       "3  Only Fresher / Data Scientist / Data Analyst /...   \n",
       "4                      Data Scientist (Early Joiner)   \n",
       "5             Data Scientist - Machine Learning/ NLP   \n",
       "6                                     Data Scientist   \n",
       "7                    Data Scientist || Python || C2H   \n",
       "8                    Data Scientist || Python || C2H   \n",
       "9                 Advanced Analytics -Data Scientist   \n",
       "\n",
       "                                       Company Name  \\\n",
       "0                Inflexion Analytix Private Limited   \n",
       "1                      Optimint Solutions Pvt. Ltd.   \n",
       "2  inVentiv International Pharma Services Pvt. Ltd.   \n",
       "3                         GABA Consultancy services   \n",
       "4                      R Systems International Ltd.   \n",
       "5                                            TalPro   \n",
       "6                         recruitment advisory line   \n",
       "7                          Growel Softech Pvt. Ltd.   \n",
       "8                          Growel Softech Pvt. Ltd.   \n",
       "9                   ERM Placement Services (P) Ltd.   \n",
       "\n",
       "                                        Job Location Experience Required  \n",
       "0              Pune, Delhi / NCR, Mumbai (All Areas)             0-3 Yrs  \n",
       "1                      Gurgaon/Gurugram, Delhi / NCR             2-5 Yrs  \n",
       "2  Hyderabad/Secunderabad, Gurgaon/Gurugram, Bang...             3-6 Yrs  \n",
       "3                  Noida, Greater Noida, Delhi / NCR             0-0 Yrs  \n",
       "4                             Noida(Sector-59 Noida)             4-8 Yrs  \n",
       "5                                   Gurgaon/Gurugram             2-6 Yrs  \n",
       "6  Hyderabad/Secunderabad, Gurgaon/Gurugram, Bang...             3-6 Yrs  \n",
       "7  Noida, Kolkata, Gurgaon/Gurugram, Bangalore/Be...             4-6 Yrs  \n",
       "8  Noida, Kolkata, Gurgaon/Gurugram, Bangalore/Be...             4-6 Yrs  \n",
       "9                  New Delhi, Hyderabad/Secunderabad             3-7 Yrs  "
      ]
     },
     "execution_count": 44,
     "metadata": {},
     "output_type": "execute_result"
    }
   ],
   "source": [
    "Job_details"
   ]
  },
  {
   "cell_type": "markdown",
   "metadata": {},
   "source": [
    "__Task 4__"
   ]
  },
  {
   "cell_type": "code",
   "execution_count": 48,
   "metadata": {
    "id": "madQjmZo1O1I"
   },
   "outputs": [],
   "source": [
    "chromedriver_path = r\"C:\\Users\\parin\\Downloads\\chromedriver_win32\\chromedriver.exe\"\n",
    "webdrivers = webdriver.Chrome(executable_path=chromedriver_path)\n",
    "sleep(2)\n",
    "webdrivers.get(\"https://www.glassdoor.co.in/index.htm\")"
   ]
  },
  {
   "cell_type": "code",
   "execution_count": 54,
   "metadata": {
    "id": "Zd1_9-hB1O4W"
   },
   "outputs": [],
   "source": [
    "# go_sign_in=webdrivers.find_element_by_class_name(\"locked-home-sign-in\")\n",
    "go_sign_in=webdrivers.find_element_by_xpath(\"//button[@class='google gd-btn short']\")\n",
    "go_sign_in.click()"
   ]
  },
  {
   "cell_type": "code",
   "execution_count": 69,
   "metadata": {
    "id": "ov_g8DJM1O6-"
   },
   "outputs": [],
   "source": [
    "# Signing in to Glassdoor\n"
   ]
  },
  {
   "cell_type": "markdown",
   "metadata": {
    "id": "M0DWOybH1kfG"
   },
   "source": [
    "__Task 5___"
   ]
  },
  {
   "cell_type": "code",
   "execution_count": 72,
   "metadata": {
    "id": "OHV7TecL1xLR"
   },
   "outputs": [],
   "source": [
    "chromedriver_path = r\"C:\\Users\\parin\\Downloads\\chromedriver_win32\\chromedriver.exe\"\n",
    "webdrivers = webdriver.Chrome(executable_path=chromedriver_path)\n",
    "sleep(2)\n",
    "webdrivers.get(\"https://www.glassdoor.co.in/Salaries/index.htm\")\n",
    "sleep(5)"
   ]
  },
  {
   "cell_type": "code",
   "execution_count": null,
   "metadata": {
    "id": "I4nNdM7r1xaY"
   },
   "outputs": [],
   "source": [
    "job=webdrivers.find_element_by_xpath(\"/html/body/div[3]/div/div[1]/div[1]/div/div/form/input[5]\")\n",
    "job.send_keys(\"Data Scientist\")\n",
    "\n",
    "location=webdrivers.find_element_by_xpath(\"/html/body/div[3]/div/div[1]/div[1]/div/div/form/input[6]\")\n",
    "location.send_keys(\"Noida\")\n",
    "\n",
    "search=webdrivers.find_element_by_xpath(\"/html/body/div[3]/div/div[1]/div[1]/div/div/form/button\")\n",
    "search.click()\n",
    "sleep(3)"
   ]
  },
  {
   "cell_type": "markdown",
   "metadata": {
    "id": "Cr6kMNTU2KEp"
   },
   "source": [
    "__Task 6__"
   ]
  },
  {
   "cell_type": "code",
   "execution_count": 95,
   "metadata": {
    "id": "pVU3m46u2TgE"
   },
   "outputs": [],
   "source": [
    "chromedriver_path = r\"C:\\Users\\parin\\Downloads\\chromedriver_win32\\chromedriver.exe\"\n",
    "webdrivers= webdriver.Chrome(executable_path=chromedriver_path)\n",
    "sleep(2)\n",
    "webdrivers.get(\"https://www.flipkart.com/\")"
   ]
  },
  {
   "cell_type": "code",
   "execution_count": 97,
   "metadata": {
    "id": "3-celNcU2TlE"
   },
   "outputs": [],
   "source": [
    "search_field=webdrivers.find_element_by_xpath(\"/html/body/div[1]/div/div[1]/div[1]/div[2]/div[2]/form/div/div/input\")\n",
    "search_field.send_keys(\"sunglasses\")\n",
    "\n",
    "search_btn=webdrivers.find_element_by_xpath(\"//button[@class='L0Z3Pu']\")\n",
    "search_btn.click()"
   ]
  },
  {
   "cell_type": "code",
   "execution_count": 98,
   "metadata": {
    "id": "szB5ibDb2TpE"
   },
   "outputs": [],
   "source": [
    "brand=webdrivers.find_elements_by_xpath(\"//div[@class='_2WkVRV']\")\n",
    "brand_list=[]"
   ]
  },
  {
   "cell_type": "code",
   "execution_count": 99,
   "metadata": {
    "id": "sipFIuVI2TrM"
   },
   "outputs": [
    {
     "name": "stdout",
     "output_type": "stream",
     "text": [
      "kingsunglasses\n",
      "Fastrack\n",
      "Fastrack\n",
      "PIRASO\n",
      "GANSTA\n",
      "Fastrack\n",
      "Fastrack\n",
      "kingsunglasses\n",
      "kingsunglasses\n",
      "Fastrack\n",
      "PHENOMENAL\n",
      "kingsunglasses\n",
      "Fastrack\n",
      "PHENOMENAL\n",
      "Silver Kartz\n",
      "kingsunglasses\n",
      "Fastrack\n",
      "Fastrack\n",
      "PIRASO\n",
      "PIRASO\n",
      "ROZZETTA CRAFT\n",
      "HIPPON\n",
      "DEIXELS\n",
      "PHENOMENAL\n",
      "hipe\n",
      "ROZZETTA CRAFT\n",
      "Fastrack\n",
      "Flizz\n",
      "PIRASO\n",
      "kingsunglasses\n",
      "Singco\n",
      "Poland\n",
      "Fastrack\n",
      "ROZZETTA CRAFT\n",
      "NuVew\n",
      "ROZZETTA CRAFT\n",
      "kingsunglasses\n",
      "Fastrack\n",
      "kingsunglasses\n",
      "hipe\n"
     ]
    }
   ],
   "source": [
    "for i in range(len(brand)):\n",
    "    print(brand[i].text)\n",
    "    brand_list.append(brand[i].text)\n",
    "description=webdrivers.find_elements_by_xpath(\"//a[@class='IRpwTa']\")"
   ]
  },
  {
   "cell_type": "code",
   "execution_count": 100,
   "metadata": {
    "id": "q5iIgRy32TuK"
   },
   "outputs": [
    {
     "name": "stdout",
     "output_type": "stream",
     "text": [
      "Mirrored, UV Protection Wayfarer Sunglasses (Free Size)\n",
      "UV Protection Rectangular Sunglasses (Free Size)\n",
      "UV Protection Wayfarer Sunglasses (Free Size)\n",
      "UV Protection Aviator Sunglasses (54)\n",
      "UV Protection Aviator Sunglasses (57)\n",
      "Gradient, UV Protection Wayfarer Sunglasses (Free Size)\n",
      "UV Protection Wayfarer Sunglasses (Free Size)\n",
      "Mirrored, UV Protection Wayfarer Sunglasses (Free Size)\n",
      "UV Protection Round Sunglasses (Free Size)\n",
      "UV Protection Shield Sunglasses (Free Size)\n",
      "UV Protection Round Sunglasses (53)\n",
      "UV Protection Round Sunglasses (54)\n",
      "UV Protection Wayfarer Sunglasses (56)\n",
      "UV Protection Retro Square Sunglasses (Free Size)\n",
      "UV Protection Wayfarer Sunglasses (Free Size)\n",
      "UV Protection Rectangular Sunglasses (55)\n",
      "UV Protection Aviator Sunglasses (Free Size)\n",
      "UV Protection Aviator Sunglasses (58)\n",
      "UV Protection Aviator Sunglasses (Free Size)\n",
      "UV Protection Aviator Sunglasses (58)\n",
      "UV Protection, Gradient Rectangular Sunglasses (Free Si...\n",
      "UV Protection Wayfarer Sunglasses (55)\n",
      "UV Protection Aviator, Wayfarer Sunglasses (Free Size)\n",
      "UV Protection, Mirrored Retro Square Sunglasses (53)\n",
      "Mirrored, UV Protection, Gradient Round Sunglasses (55)\n",
      "UV Protection Retro Square Sunglasses (Free Size)\n",
      "UV Protection, Polarized Wayfarer Sunglasses (56)\n",
      "UV Protection Retro Square Sunglasses (Free Size)\n",
      "UV Protection Aviator Sunglasses (54)\n",
      "UV Protection Rectangular Sunglasses (Free Size)\n",
      "UV Protection, Others Aviator Sunglasses (32)\n",
      "UV Protection Wayfarer Sunglasses (Free Size)\n",
      "UV Protection Wrap-around Sunglasses (Free Size)\n",
      "UV Protection, Riding Glasses Rectangular Sunglasses (F...\n",
      "UV Protection Aviator Sunglasses (58)\n",
      "UV Protection, Gradient Rectangular Sunglasses (Free Si...\n",
      "Mirrored, UV Protection Wayfarer, Wayfarer, Wayfarer, W...\n",
      "UV Protection Aviator Sunglasses (58)\n",
      "UV Protection Rectangular Sunglasses (Free Size)\n",
      "UV Protection Sports Sunglasses (Free Size)\n"
     ]
    }
   ],
   "source": [
    "for i in range(len(description)):\n",
    "    print(description[i].text)\n",
    "price=webdrivers.find_elements_by_xpath(\"//div[@class='_30jeq3']\")"
   ]
  },
  {
   "cell_type": "code",
   "execution_count": 101,
   "metadata": {
    "id": "eOtoISwP2lwK"
   },
   "outputs": [
    {
     "name": "stdout",
     "output_type": "stream",
     "text": [
      "₹299\n",
      "₹513\n",
      "₹758\n",
      "₹237\n",
      "₹281\n",
      "₹509\n",
      "₹647\n",
      "₹299\n",
      "₹349\n",
      "₹781\n",
      "₹297\n",
      "₹225\n",
      "₹655\n",
      "₹399\n",
      "₹259\n",
      "₹349\n",
      "₹592\n",
      "₹1,010\n",
      "₹331\n",
      "₹331\n",
      "₹499\n",
      "₹251\n",
      "₹200\n",
      "₹399\n",
      "₹197\n",
      "₹499\n",
      "₹612\n",
      "₹399\n",
      "₹237\n",
      "₹210\n",
      "₹328\n",
      "₹162\n",
      "₹522\n",
      "₹449\n",
      "₹215\n",
      "₹404\n",
      "₹299\n",
      "₹1,085\n",
      "₹210\n",
      "₹299\n"
     ]
    }
   ],
   "source": [
    "for i in range(len(price)):\n",
    "    print(price[i].text)"
   ]
  },
  {
   "cell_type": "code",
   "execution_count": 102,
   "metadata": {
    "id": "wMEfDBcU2lzD"
   },
   "outputs": [],
   "source": [
    "discount=webdrivers.find_elements_by_xpath(\"//div[@class='_3Ay6Sb']\")"
   ]
  },
  {
   "cell_type": "code",
   "execution_count": 103,
   "metadata": {
    "id": "PDnI_1rm2l1h"
   },
   "outputs": [
    {
     "name": "stdout",
     "output_type": "stream",
     "text": [
      "88% off\n",
      "₹286 off\n",
      "₹141 off\n",
      "85% off\n",
      "85% off\n",
      "₹290 off\n",
      "₹252 off\n",
      "88% off\n",
      "78% off\n",
      "₹118 off\n",
      "87% off\n",
      "79% off\n",
      "₹244 off\n",
      "80% off\n",
      "82% off\n",
      "76% off\n",
      "₹307 off\n",
      "₹289 off\n",
      "79% off\n",
      "87% off\n",
      "77% off\n",
      "79% off\n",
      "83% off\n",
      "80% off\n",
      "86% off\n",
      "77% off\n",
      "₹287 off\n",
      "81% off\n",
      "85% off\n",
      "82% off\n",
      "83% off\n",
      "67% off\n",
      "41% off\n",
      "79% off\n",
      "72% off\n",
      "79% off\n",
      "80% off\n",
      "₹214 off\n",
      "83% off\n",
      "84% off\n"
     ]
    }
   ],
   "source": [
    "for i in range(len(discount)):\n",
    "    print(discount[i].text)"
   ]
  },
  {
   "cell_type": "code",
   "execution_count": 104,
   "metadata": {
    "id": "_k9MSdx32l4v"
   },
   "outputs": [],
   "source": [
    "next_page=webdrivers.find_element_by_xpath(\"//a[@class='_1LKTO3']\")\n",
    "#n_p=next_page.get_attribute('href')\n",
    "for i in range(1,5):\n",
    "    N_p='https://www.flipkart.com/search?q=sunglassessunglasses&otracker=search&otracker1=search&marketplace=FLIPKART&as-show=on&as=off&page='+str(i)\n",
    "    sleep(2)\n",
    "    webdrivers.get(N_p)"
   ]
  },
  {
   "cell_type": "code",
   "execution_count": 105,
   "metadata": {
    "id": "M1wW36EV2rdU"
   },
   "outputs": [
    {
     "data": {
      "text/plain": [
       "'https://www.flipkart.com/search?q=sunglassessunglasses&otracker=search&otracker1=search&marketplace=FLIPKART&as-show=on&as=off&page=3'"
      ]
     },
     "execution_count": 105,
     "metadata": {},
     "output_type": "execute_result"
    }
   ],
   "source": [
    "next_page=webdrivers.find_element_by_xpath(\"//a[@class='_1LKTO3']\")\n",
    "n_p=next_page.get_attribute('href')\n",
    "#webdrivers.get(n_p)\n",
    "n_p"
   ]
  },
  {
   "cell_type": "code",
   "execution_count": 106,
   "metadata": {
    "id": "LRxW3eBW2rgb"
   },
   "outputs": [],
   "source": [
    "N_p='https://www.flipkart.com/search?q=sunglassessunglasses&otracker=search&otracker1=search&marketplace=FLIPKART&as-show=on&as=off&page='+'5'\n"
   ]
  },
  {
   "cell_type": "code",
   "execution_count": 107,
   "metadata": {
    "id": "yJOo4iH32rjx"
   },
   "outputs": [],
   "source": [
    "webdrivers.get(N_p)"
   ]
  },
  {
   "cell_type": "code",
   "execution_count": null,
   "metadata": {
    "id": "tBFf5CNp2y7l"
   },
   "outputs": [],
   "source": [
    "brand_name=[]\n",
    "\n",
    "for i in range(len(brand)):\n",
    "    brand_name.append(brand)\n",
    "    if len(brand_name)<100:\n",
    "        next_page.click()"
   ]
  },
  {
   "cell_type": "code",
   "execution_count": 111,
   "metadata": {
    "id": "vOjNebH62y_N"
   },
   "outputs": [
    {
     "data": {
      "text/plain": [
       "40"
      ]
     },
     "execution_count": 111,
     "metadata": {},
     "output_type": "execute_result"
    }
   ],
   "source": [
    "len(brand_list)"
   ]
  },
  {
   "cell_type": "code",
   "execution_count": 109,
   "metadata": {
    "id": "M2Qd80CV2zCV"
   },
   "outputs": [],
   "source": [
    "def flipkart(url):\n",
    "    name=[]\n",
    "    chromedriver_path=r\"C:\\Users\\91987\\Desktop\\New Web diver/chromedriver.exe\"\n",
    "    webdrivers= webdriver.Chrome(executable_path=chromedriver_path)\n",
    "    sleep(2)\n",
    "    webdrivers.get(url)\n",
    "    sleep(2)\n",
    "    \n",
    "    search_field=webdrivers.find_element_by_xpath(\"/html/body/div[1]/div/div[1]/div[1]/div[2]/div[2]/form/div/div/input\")\n",
    "    search_field.send_keys(\"sunglasses\")\n",
    "    \n",
    "    search_btn=webdrivers.find_element_by_xpath(\"//button[@class='L0Z3Pu']\")\n",
    "    search_btn.click()\n",
    "    \n",
    "    #next_page=webdrivers.find_element_by_xpath(\"//a[@class='_1LKTO3']\")\n",
    "    #n_p=next_page.get_attribute('href')\n",
    "    brand=webdrivers.find_elements_by_xpath(\"//div[@class='_2WkVRV']\")\n",
    "    for j in range(len(brand)):\n",
    "        name.append(brand[j].text)\n",
    "        \n",
    "    next_p(\"https://www.flipkart.com/search?q=sunglassessunglasses&otracker=search&otracker1=search&marketplace=FLIPKART&as-show=on&as=off&page=\")"
   ]
  },
  {
   "cell_type": "code",
   "execution_count": 112,
   "metadata": {
    "id": "Tpl4f_bs2zFq"
   },
   "outputs": [],
   "source": [
    "def next_p(link):\n",
    "    for k in range(2,5):\n",
    "        N_p=link+str(i)\n",
    "        webdrivers.get(N_p)\n",
    "        if len(name)<100:\n",
    "            for m in range(len(brand)):\n",
    "                name.append(brand)"
   ]
  },
  {
   "cell_type": "markdown",
   "metadata": {
    "id": "NPVJlKLq2rmR"
   },
   "source": [
    "__Task 10__"
   ]
  },
  {
   "cell_type": "code",
   "execution_count": 113,
   "metadata": {
    "id": "xtW1P8Bd29Eq"
   },
   "outputs": [],
   "source": [
    "from selenium.common.exceptions import NoSuchElementException"
   ]
  },
  {
   "cell_type": "code",
   "execution_count": 116,
   "metadata": {
    "id": "CVWgRFOZ29Hs"
   },
   "outputs": [],
   "source": [
    "chromedriver_path = r\"C:\\Users\\parin\\Downloads\\chromedriver_win32\\chromedriver.exe\"\n",
    "webdrivers = webdriver.Chrome(executable_path=chromedriver_path)\n",
    "webdrivers = webdriver.Chrome(executable_path=chromedriver_path)\n",
    "sleep(2)\n",
    "webdrivers.get(\"https://www.amazon.in/\")"
   ]
  },
  {
   "cell_type": "code",
   "execution_count": 117,
   "metadata": {
    "id": "_c1Q7t_629K1"
   },
   "outputs": [],
   "source": [
    "search=webdrivers.find_element_by_id(\"twotabsearchtextbox\")\n",
    "search.clear()\n",
    "search.send_keys(\"Laptops\")\n",
    "search_click=webdrivers.find_element_by_xpath(\"//span[@id='nav-search-submit-text']\")\n",
    "search_click.click()"
   ]
  },
  {
   "cell_type": "code",
   "execution_count": 123,
   "metadata": {
    "id": "G77tQbZQ3E5n"
   },
   "outputs": [
    {
     "name": "stdout",
     "output_type": "stream",
     "text": [
      "Intel Core i7\n"
     ]
    }
   ],
   "source": [
    "# Applying filter \n",
    "\n",
    "#i7\n",
    "\n",
    "filter_1=webdrivers.find_elements_by_xpath(\"//a[@class='a-link-normal s-navigation-item']/span\")\n",
    "for i in filter_1:\n",
    "    if i.text == 'Intel Core i7':\n",
    "        print(i.text)\n",
    "        i.click()\n",
    "        break"
   ]
  },
  {
   "cell_type": "code",
   "execution_count": 124,
   "metadata": {
    "id": "o_gvn0fv3E8e"
   },
   "outputs": [
    {
     "name": "stdout",
     "output_type": "stream",
     "text": [
      "Intel Core i9\n"
     ]
    }
   ],
   "source": [
    "# Applying filter \n",
    "\n",
    "#i9\n",
    "\n",
    "filter_2=webdrivers.find_elements_by_xpath(\"//a[@class='a-link-normal s-navigation-item']/span\")\n",
    "for i in filter_2:\n",
    "    if i.text==\"Intel Core i9\":\n",
    "        print(i.text)\n",
    "        i.click()\n",
    "        break"
   ]
  },
  {
   "cell_type": "code",
   "execution_count": 126,
   "metadata": {
    "id": "PIt2MqsK9Z4s"
   },
   "outputs": [],
   "source": [
    "Title=[]\n",
    "title=webdrivers.find_elements_by_xpath(\"//span[@class='a-size-medium a-color-base a-text-normal']\")\n",
    "for i in title[:10]:\n",
    "    Title.append(i.text)\n",
    "    \n",
    "Price=[]\n",
    "prices=webdrivers.find_elements_by_xpath(\"//span[@class='a-price-whole']\")\n",
    "for i in prices[:10]:\n",
    "    Price.append(i.text)\n",
    "    \n",
    "ratings=[]\n",
    "pages=webdrivers.find_elements_by_xpath(\"//a[@class='a-link-normal a-text-normal']\")\n",
    "\n",
    "PG=[]\n",
    "for i in pages[:10]:\n",
    "    PG.append(i.get_attribute('href'))\n",
    "for j in PG:\n",
    "    webdrivers.get(j)\n",
    "    try:\n",
    "        star=webdrivers.find_element_by_xpath(\"//span[@id='acrCustomerReviewText']\")\n",
    "        star.click()\n",
    "        rating=webdrivers.find_element_by_xpath(\"//span[@class='a-size-medium a-color-base']\")\n",
    "        ratings.append(rating.text)\n",
    "    except NoSuchElementException as e:\n",
    "        ratings.append(\"No ratings found\")"
   ]
  },
  {
   "cell_type": "code",
   "execution_count": 127,
   "metadata": {
    "id": "OLXXD9yt1C3y"
   },
   "outputs": [
    {
     "name": "stdout",
     "output_type": "stream",
     "text": [
      "                                               Title   Price       Ratings\n",
      "0  Mi Notebook Horizon Edition 14 Intel Core i7-1...  59,999  4.4 out of 5\n",
      "1  HP Pavilion (2021) Thin & Light 11th Gen Core ...  84,990  4.5 out of 5\n",
      "2  HP Pavilion x360 (2021) 14\" (35.56cms) FHD Tou...  78,910    4 out of 5\n",
      "3  Mi Notebook Horizon Edition 14 Intel Core i7-1...  59,999  4.4 out of 5\n",
      "4  Dell 14 (2021) i7-1165G7 2in1 Touch Screen Lap...  93,071  4.7 out of 5\n",
      "5  Lenovo Legion Y540 Intel Core i7 9th Gen 15.6”...  69,990  4.3 out of 5\n",
      "6  MSI GF65 Thin, Intel i7-10750H, 15.6\" FHD (39....  94,089  3.8 out of 5\n",
      "7  Lenovo Ideapad 5 Intel i7 11th Gen 15.6\" Thin ...  84,990  4.3 out of 5\n",
      "8  Lenovo IdeaPad Flex 5 11th Gen Intel Core i7 1...  83,990    4 out of 5\n",
      "9  ASUS VivoBook S S14 Intel Core i7-1165G7 11th ...  76,990  4.3 out of 5\n"
     ]
    }
   ],
   "source": [
    "records=pd.DataFrame({'Title':Title,\n",
    "                 'Price':Price,\n",
    "                 'Ratings':ratings})\n",
    "print(records)"
   ]
  },
  {
   "cell_type": "code",
   "execution_count": null,
   "metadata": {
    "id": "SxRydIY69Z47"
   },
   "outputs": [],
   "source": []
  }
 ],
 "metadata": {
  "colab": {
   "collapsed_sections": [],
   "name": "webscrapping2.ipynb",
   "provenance": [],
   "toc_visible": true
  },
  "kernelspec": {
   "display_name": "Python 3",
   "language": "python",
   "name": "python3"
  },
  "language_info": {
   "codemirror_mode": {
    "name": "ipython",
    "version": 3
   },
   "file_extension": ".py",
   "mimetype": "text/x-python",
   "name": "python",
   "nbconvert_exporter": "python",
   "pygments_lexer": "ipython3",
   "version": "3.8.5"
  }
 },
 "nbformat": 4,
 "nbformat_minor": 1
}
