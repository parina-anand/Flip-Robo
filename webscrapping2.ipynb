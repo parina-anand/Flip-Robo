{
  "nbformat": 4,
  "nbformat_minor": 0,
  "metadata": {
    "kernelspec": {
      "display_name": "Python 3",
      "language": "python",
      "name": "python3"
    },
    "language_info": {
      "codemirror_mode": {
        "name": "ipython",
        "version": 3
      },
      "file_extension": ".py",
      "mimetype": "text/x-python",
      "name": "python",
      "nbconvert_exporter": "python",
      "pygments_lexer": "ipython3",
      "version": "3.8.5"
    },
    "colab": {
      "name": "webscrapping2.ipynb",
      "provenance": [],
      "collapsed_sections": [],
      "toc_visible": true
    }
  },
  "cells": [
    {
      "cell_type": "code",
      "metadata": {
        "id": "-mNSqmJp9Z4Q"
      },
      "source": [
        "from bs4 import BeautifulSoup\n",
        "import requests\n",
        "from selenium import webdriver\n",
        "from selenium.webdriver.common.keys import Keys\n",
        "from time import sleep\n",
        "import pandas as pd"
      ],
      "execution_count": null,
      "outputs": []
    },
    {
      "cell_type": "markdown",
      "metadata": {
        "id": "TumWikUs9Z4a"
      },
      "source": [
        "__Task 1__"
      ]
    },
    {
      "cell_type": "code",
      "metadata": {
        "id": "WyfyO-lp9Z4c"
      },
      "source": [
        "# lets connect to the web driver\n",
        "driver = webdriver.Chrome(r\"C:\\Users\\parin\\Downloads\\chromedriver_win32\\chromedriver.exe\")\n",
        "url = 'https://www.naukri.com/'\n",
        "driver.get(url)"
      ],
      "execution_count": null,
      "outputs": []
    },
    {
      "cell_type": "code",
      "metadata": {
        "id": "rqgLwTSy9Z4e"
      },
      "source": [
        "skill=driver.find_element_by_css_selector(\"#qsb-keyword-sugg\")\n",
        "skill.send_keys(\"Data Analyst\")\n",
        "location=driver.find_element_by_css_selector(\"#qsb-location-sugg\")\n",
        "location.send_keys(\"Bangalore\")\n",
        "search=driver.find_element_by_css_selector(\"#root > div.naukriHomePageContainer > div.topSection > section > div > form > div.search-btn > button\")\n",
        "search.click()"
      ],
      "execution_count": null,
      "outputs": []
    },
    {
      "cell_type": "code",
      "metadata": {
        "id": "Jdz6HzME9Z4f"
      },
      "source": [
        "job_title=[]\n",
        "job_location=[]\n",
        "company_name=[]\n",
        "exp_req=[]\n",
        "\n",
        "job_tags=driver.find_elements_by_xpath(\"//a[@class='title fw500 ellipsis']\")\n",
        "job_tags[0:10]\n",
        "company_tags=driver.find_elements_by_xpath(\"//a[@class='subTitle ellipsis fleft']\")\n",
        "company_tags[0:10]\n",
        "location_tags=driver.find_elements_by_xpath(\"//li[@class='fleft grey-text br2 placeHolderLi location']\")\n",
        "location_tags[0:10]\n",
        "exp_tags=driver.find_elements_by_xpath(\"//li[@class='fleft grey-text br2 placeHolderLi experience']\")\n",
        "exp_tags[0:10]"
      ],
      "execution_count": null,
      "outputs": []
    },
    {
      "cell_type": "code",
      "metadata": {
        "id": "n-jlEZdt9Z4i"
      },
      "source": [
        "for i in range(0,10):\n",
        "    job_tag=job_tags[i].text\n",
        "    job_title.append(job_tag)\n",
        "    company_tag=company_tags[i].text\n",
        "    company_name.append(company_tag)\n",
        "    location_tag=location_tags[i].text\n",
        "    job_location.append(location_tag)\n",
        "    exp_tag=exp_tags[i].text\n",
        "    exp_req.append(exp_tag)"
      ],
      "execution_count": null,
      "outputs": []
    },
    {
      "cell_type": "code",
      "metadata": {
        "id": "F8dnh7qZ9Z4j"
      },
      "source": [
        "Job_details=pd.DataFrame({})\n",
        "Job_details[\"Job Title\"]=job_title\n",
        "Job_details[\"Company Name\"]=company_name\n",
        "Job_details[\"Job Location\"]=job_location\n",
        "Job_details[\"Experience Required\"]=exp_req"
      ],
      "execution_count": null,
      "outputs": []
    },
    {
      "cell_type": "code",
      "metadata": {
        "id": "QOLGXAKx9Z4k"
      },
      "source": [
        "Job_details"
      ],
      "execution_count": null,
      "outputs": []
    },
    {
      "cell_type": "markdown",
      "metadata": {
        "id": "KvXD11oT9Z4l"
      },
      "source": [
        "__Task 2__"
      ]
    },
    {
      "cell_type": "code",
      "metadata": {
        "id": "-mX4-v759Z4m"
      },
      "source": [
        "driver.get(\"https://www.naukri.com/\")\n",
        "\n",
        "\n",
        "skill=driver.find_element_by_css_selector(\"#qsb-keyword-sugg\")\n",
        "skill.send_keys(\"Data Scientist\")\n",
        "location=driver.find_element_by_css_selector(\"#qsb-location-sugg\")\n",
        "location.send_keys(\"Bangalore\")\n",
        "search=driver.find_element_by_css_selector(\"#root > div.naukriHomePageContainer > div.topSection > section > div > form > div.search-btn > button\")\n",
        "search.click()"
      ],
      "execution_count": null,
      "outputs": []
    },
    {
      "cell_type": "code",
      "metadata": {
        "id": "ibgke6Kx9Z4n"
      },
      "source": [
        "job_title=[]\n",
        "job_location=[]\n",
        "company_name=[]\n",
        "exp_req=[]\n",
        "\n",
        "job_tags=driver.find_elements_by_xpath(\"//a[@class='title fw500 ellipsis']\")\n",
        "job_tags[0:10]\n",
        "company_tags=driver.find_elements_by_xpath(\"//a[@class='subTitle ellipsis fleft']\")\n",
        "company_tags[0:10]\n",
        "location_tags=driver.find_elements_by_xpath(\"//li[@class='fleft grey-text br2 placeHolderLi location']\")\n",
        "location_tags[0:10]\n",
        "exp_tags=driver.find_elements_by_xpath(\"//li[@class='fleft grey-text br2 placeHolderLi experience']\")\n",
        "exp_tags[0:10]"
      ],
      "execution_count": null,
      "outputs": []
    },
    {
      "cell_type": "code",
      "metadata": {
        "id": "jAWBw3pS9Z4o"
      },
      "source": [
        "for i in range(0,10):\n",
        "    \n",
        "    job_tag=job_tags[i].text\n",
        "    job_title.append(job_tag)\n",
        "    company_tag=company_tags[i].text\n",
        "    company_name.append(company_tag)\n",
        "    location_tag=location_tags[i].text\n",
        "    job_location.append(location_tag)\n",
        "    exp_tag=exp_tags[i].text\n",
        "    exp_req.append(exp_tag)"
      ],
      "execution_count": null,
      "outputs": []
    },
    {
      "cell_type": "code",
      "metadata": {
        "id": "ABlcXru99Z4o"
      },
      "source": [
        "Job_details=pd.DataFrame({})\n",
        "Job_details[\"Job Title\"]=job_title\n",
        "Job_details[\"Company Name\"]=company_name\n",
        "Job_details[\"Job Location\"]=job_location\n",
        "Job_details[\"Experience Required\"]=exp_req"
      ],
      "execution_count": null,
      "outputs": []
    },
    {
      "cell_type": "code",
      "metadata": {
        "id": "InguqkY19Z4p"
      },
      "source": [
        "Job_details"
      ],
      "execution_count": null,
      "outputs": []
    },
    {
      "cell_type": "code",
      "metadata": {
        "id": "QjvJWlAp9Z4p"
      },
      "source": [
        "## Clicking on the Job to get discription\n",
        "\n",
        "to_click=driver.find_element_by_xpath(\"//a[@class='title fw500 ellipsis']\")\n",
        "to_click.click()\n",
        "\n"
      ],
      "execution_count": null,
      "outputs": []
    },
    {
      "cell_type": "code",
      "metadata": {
        "id": "o-LubJve9Z4q"
      },
      "source": [
        "data4=driver.find_element_by_xpath(\"/html/body/div[1]/main/div[2]/div[2]/section[2]\")\n",
        "data5=driver.find_element_by_xpath(\"//section[@class='job-desc']\")\n",
        "data5=driver.find_elements_by_class_name(\"job-desc\")\n"
      ],
      "execution_count": null,
      "outputs": []
    },
    {
      "cell_type": "code",
      "metadata": {
        "id": "_Z3TkfGz9Z4r"
      },
      "source": [
        "__Task 3__"
      ],
      "execution_count": null,
      "outputs": []
    },
    {
      "cell_type": "code",
      "metadata": {
        "id": "cK1StwBr9Z4r"
      },
      "source": [
        "chromedriver_path = r\"C:\\Users\\91987\\Desktop\\New Web diver/chromedriver.exe\"\n",
        "webdrivers = webdriver.Chrome(executable_path=chromedriver_path)\n",
        "sleep(2)\n",
        "webdrivers.get(\"https://www.naukri.com/\")"
      ],
      "execution_count": null,
      "outputs": []
    },
    {
      "cell_type": "code",
      "metadata": {
        "id": "_WZbG_1F9Z4r"
      },
      "source": [
        "skill=webdrivers.find_element_by_css_selector(\"#qsb-keyword-sugg\")\n",
        "skill.send_keys(\"Data Scientist\")\n",
        "#location=webdrivers.find_element_by_css_selector(\"#qsb-location-sugg\")\n",
        "#location.send_keys(\"Bangalore\")\n",
        "search=webdrivers.find_element_by_css_selector(\"#root > div.naukriHomePageContainer > div.topSection > section > div > form > div.search-btn > button\")\n",
        "search.click()\n",
        "sleep(3)"
      ],
      "execution_count": null,
      "outputs": []
    },
    {
      "cell_type": "code",
      "metadata": {
        "id": "oC0yoBIg9Z4s"
      },
      "source": [
        "# selecting filter for location\n",
        "loc_filter=webdrivers.find_elements_by_xpath(\"//span[@class='ellipsis fleft']\")\n",
        "for i in loc_filter:\n",
        "    if i.text==\"Delhi / NCR\":\n",
        "        i.click()\n",
        "        break\n",
        "sleep(3)\n",
        "In [ ]:\n",
        "# Salary filter \n",
        "\n",
        "sal_filter=webdrivers.find_elements_by_xpath(\"//span[@class='ellipsis fleft']\")\n",
        "for i in sal_filter:\n",
        "    if i.text==\"3-6 Lakhs\":\n",
        "        i.click()\n",
        "        break"
      ],
      "execution_count": null,
      "outputs": []
    },
    {
      "cell_type": "code",
      "metadata": {
        "id": "SmP5SvRe9Z4s"
      },
      "source": [
        "# Scraping data for the first 10 jobs.\n",
        "\n",
        "job_title=[]\n",
        "job_location=[]\n",
        "company_name=[]\n",
        "exp_req=[]\n",
        "\n",
        "job_tags=webdrivers.find_elements_by_xpath(\"//a[@class='title fw500 ellipsis']\")\n",
        "job_tags[0:10]\n",
        "company_tags=webdrivers.find_elements_by_xpath(\"//a[@class='subTitle ellipsis fleft']\")\n",
        "company_tags[0:10]\n",
        "location_tags=webdrivers.find_elements_by_xpath(\"//li[@class='fleft grey-text br2 placeHolderLi location']\")\n",
        "location_tags[0:10]\n",
        "exp_tags=webdrivers.find_elements_by_xpath(\"//li[@class='fleft grey-text br2 placeHolderLi experience']\")\n",
        "exp_tags[0:10]"
      ],
      "execution_count": null,
      "outputs": []
    },
    {
      "cell_type": "code",
      "metadata": {
        "id": "d9Pndiar1Oj9"
      },
      "source": [
        "for i in range(0,10):\n",
        "    \n",
        "    job_tag=job_tags[i].text\n",
        "    job_title.append(job_tag)\n",
        "    company_tag=company_tags[i].text\n",
        "    company_name.append(company_tag)\n",
        "    location_tag=location_tags[i].text\n",
        "    job_location.append(location_tag)\n",
        "    exp_tag=exp_tags[i].text\n",
        "    exp_req.append(exp_tag)"
      ],
      "execution_count": null,
      "outputs": []
    },
    {
      "cell_type": "code",
      "metadata": {
        "id": "yDLiSOlG1Ou3"
      },
      "source": [
        "Job_details=pd.DataFrame({})\n",
        "Job_details[\"Job Title\"]=job_title\n",
        "Job_details[\"Company Name\"]=company_name\n",
        "Job_details[\"Job Location\"]=job_location\n",
        "Job_details[\"Experience Required\"]=exp_req"
      ],
      "execution_count": null,
      "outputs": []
    },
    {
      "cell_type": "code",
      "metadata": {
        "id": "fgX3gzqN1OyX"
      },
      "source": [
        "Job_details"
      ],
      "execution_count": null,
      "outputs": []
    },
    {
      "cell_type": "code",
      "metadata": {
        "id": "madQjmZo1O1I"
      },
      "source": [
        "__Task 4__\n",
        "chromedriver_path = r\"C:\\Users\\91987\\Desktop\\New Web diver/chromedriver.exe\"\n",
        "webdrivers = webdriver.Chrome(executable_path=chromedriver_path)\n",
        "sleep(2)\n",
        "webdrivers.get(\"https://www.glassdoor.co.in/index.htm\")"
      ],
      "execution_count": null,
      "outputs": []
    },
    {
      "cell_type": "code",
      "metadata": {
        "id": "Zd1_9-hB1O4W"
      },
      "source": [
        "go_sign_in=webdrivers.find_element_by_class_name(\"locked-home-sign-in\")\n",
        "go_sign_in.click()\n",
        "sleep(5)"
      ],
      "execution_count": null,
      "outputs": []
    },
    {
      "cell_type": "code",
      "metadata": {
        "id": "ov_g8DJM1O6-"
      },
      "source": [
        "# Signing in to Glassdoor\n",
        "\n",
        "email=webdrivers.find_element_by_xpath(\"/html/body/div[8]/div/div/div[2]/div[2]/div[2]/div/div/div/div[3]/form/div[1]/div/div/input\")\n",
        "email.send_keys(\"kaushikbhugarv@gmail.com\")\n",
        "\n",
        "password=webdrivers.find_element_by_xpath(\"/html/body/div[8]/div/div/div[2]/div[2]/div[2]/div/div/div/div[3]/form/div[2]/div/div/input\")\n",
        "password.send_keys(\"BK9873194546kb!!@@\")\n",
        "\n",
        "sign_in=webdrivers.find_element_by_xpath(\"/html/body/div[8]/div/div/div[2]/div[2]/div[2]/div/div/div/div[3]/form/div[3]/div[1]/button\")\n",
        "sign_in.click()\n",
        "\n",
        "sleep(3)"
      ],
      "execution_count": null,
      "outputs": []
    },
    {
      "cell_type": "code",
      "metadata": {
        "id": "yQxhIX1I1O9r"
      },
      "source": [
        "# Entering job as Data Scientist and location as Noida\n",
        "\n",
        "job=webdrivers.find_element_by_xpath(\"/html/body/header/nav[1]/div/div/div/div[4]/div[3]/form/div/div[1]/div/div/input\")\n",
        "job.send_keys(\"Data Scientist\")\n",
        "\n",
        "location=webdrivers.find_element_by_xpath(\"/html/body/header/nav[1]/div/div/div/div[4]/div[3]/form/div/div[3]/div/input\")\n",
        "location.send_keys(\"Noida\")\n",
        "\n",
        "search=webdrivers.find_element_by_xpath(\"/html/body/header/nav[1]/div/div/div/div[4]/div[3]/form/div/button\")\n",
        "search.click()\n",
        "sleep(3)"
      ],
      "execution_count": null,
      "outputs": []
    },
    {
      "cell_type": "code",
      "metadata": {
        "id": "FKnZ880r1PAX"
      },
      "source": [
        "# Scraping Data required.\n",
        "company_name = []\n",
        "no_of_day=[]\n",
        "rating_given=[]\n",
        "\n",
        "company=webdrivers.find_elements_by_xpath(\"//div[@class='d-flex justify-content-between align-items-start']\")\n",
        "a_rat=webdrivers.find_elements_by_xpath(\"//div[@class='d-flex flex-column css-x75kgh e1rrn5ka3']\")\n",
        "no_days=webdrivers.find_elements_by_xpath(\"//div[@class='d-flex align-items-end pl-std css-mi55ob']\")\n",
        "\n",
        "\n",
        "for i in range(0,15):\n",
        "    c=company[i].text\n",
        "    company_name.append(c)\n",
        "    r=a_rat[i].text\n",
        "    rating_given.append(r)\n",
        "    d=no_days[i].text\n",
        "    no_of_day.append(d)"
      ],
      "execution_count": null,
      "outputs": []
    },
    {
      "cell_type": "code",
      "metadata": {
        "id": "OPjxNt6T1kYQ"
      },
      "source": [
        "res = [str(k or \"No Rating found\") for k in rating_given]"
      ],
      "execution_count": null,
      "outputs": []
    },
    {
      "cell_type": "code",
      "metadata": {
        "id": "aqeHU6iQ1kba"
      },
      "source": [
        "Job_details=pd.DataFrame({})\n",
        "Job_details[\"Company Name\"]=company_name\n",
        "Job_details[\"No. of days since job posted\"]=no_of_day\n",
        "Job_details[\"Rating\"]=res"
      ],
      "execution_count": null,
      "outputs": []
    },
    {
      "cell_type": "code",
      "metadata": {
        "id": "M0DWOybH1kfG"
      },
      "source": [
        "__Task 5___"
      ],
      "execution_count": null,
      "outputs": []
    },
    {
      "cell_type": "code",
      "metadata": {
        "id": "OHV7TecL1xLR"
      },
      "source": [
        "chromedriver_path = r\"C:\\Users\\91987\\Desktop\\New Web diver/chromedriver.exe\"\n",
        "webdrivers = webdriver.Chrome(executable_path=chromedriver_path)\n",
        "sleep(2)\n",
        "webdrivers.get(\"https://www.glassdoor.co.in/index.htm\")\n",
        "sleep(5)"
      ],
      "execution_count": null,
      "outputs": []
    },
    {
      "cell_type": "code",
      "metadata": {
        "id": "9j-YeVD21xTE"
      },
      "source": [
        "go_sign_in=webdrivers.find_element_by_class_name(\"locked-home-sign-in\")\n",
        "go_sign_in.click()\n",
        "sleep(3)"
      ],
      "execution_count": null,
      "outputs": []
    },
    {
      "cell_type": "code",
      "metadata": {
        "id": "7N9Gx-RY1xWH"
      },
      "source": [
        "# Signing in to Glassdoor\n",
        "\n",
        "email=webdrivers.find_element_by_xpath(\"/html/body/div[8]/div/div/div[2]/div[2]/div[2]/div/div/div/div[3]/form/div[1]/div/div/input\")\n",
        "email.send_keys(\"kaushikbhugarv@gmail.com\")\n",
        "\n",
        "password=webdrivers.find_element_by_xpath(\"/html/body/div[8]/div/div/div[2]/div[2]/div[2]/div/div/div/div[3]/form/div[2]/div/div/input\")\n",
        "password.send_keys(\"BK9873194546kb!!@@\")\n",
        "\n",
        "sign_in=webdrivers.find_element_by_xpath(\"/html/body/div[8]/div/div/div[2]/div[2]/div[2]/div/div/div/div[3]/form/div[3]/div[1]/button\")\n",
        "sign_in.click()\n",
        "\n",
        "sleep(3)"
      ],
      "execution_count": null,
      "outputs": []
    },
    {
      "cell_type": "code",
      "metadata": {
        "id": "I4nNdM7r1xaY"
      },
      "source": [
        "job=webdrivers.find_element_by_xpath(\"/html/body/header/nav[1]/div/div/div/div[4]/div[3]/form/div/div[1]/div/div/input\")\n",
        "job.send_keys(\"Data Scientist\")\n",
        "\n",
        "location=webdrivers.find_element_by_xpath(\"/html/body/header/nav[1]/div/div/div/div[4]/div[3]/form/div/div[3]/div/input\")\n",
        "location.send_keys(\"Noida\")\n",
        "\n",
        "search=webdrivers.find_element_by_xpath(\"/html/body/header/nav[1]/div/div/div/div[4]/div[3]/form/div/button\")\n",
        "search.click()\n",
        "sleep(3)"
      ],
      "execution_count": null,
      "outputs": []
    },
    {
      "cell_type": "code",
      "metadata": {
        "id": "Av6wxBOB18B2"
      },
      "source": [
        "from selenium.common.exceptions import NoSuchElementException"
      ],
      "execution_count": null,
      "outputs": []
    },
    {
      "cell_type": "code",
      "metadata": {
        "id": "dSfsGPa_18Er"
      },
      "source": [
        "# Scraping Data required.\n",
        "company_name = []\n",
        "rating_given=[]\n",
        "salary=[]\n",
        "\n",
        "\n",
        "company=webdrivers.find_elements_by_xpath(\"//div[@class='d-flex justify-content-between align-items-start']\")\n",
        "a_rat=webdrivers.find_elements_by_xpath(\"//div[@class='d-flex flex-column css-x75kgh e1rrn5ka3']\")\n",
        "\n",
        "for i in range(0,10):\n",
        "    try:\n",
        "        sal=webdrivers.find_elements_by_xpath(\"//span[@class='css-1imh2hq e1wijj242']\")\n",
        "        s=sal[i].text\n",
        "        salary.append(s)\n",
        "        \n",
        "    except NoSuchElementException as e:\n",
        "        salary.append(\"No Salary found\")\n",
        "        \n",
        "        \n",
        "\n",
        "for i in range(0,15):\n",
        "    c=company[i].text\n",
        "    company_name.append(c)\n",
        "    r=a_rat[i].text\n",
        "    rating_given.append(r)\n",
        "    #s=sal[i].text\n",
        "    #salary.append(s)"
      ],
      "execution_count": null,
      "outputs": []
    },
    {
      "cell_type": "code",
      "metadata": {
        "id": "nkcdQ5bX18IS"
      },
      "source": [
        "salary"
      ],
      "execution_count": null,
      "outputs": []
    },
    {
      "cell_type": "code",
      "metadata": {
        "id": "_X7KcJ0K18KT"
      },
      "source": [
        "# Treating missing ratings if any.\n",
        "res = [str(k or \"No Rating found\") for k in rating_given]"
      ],
      "execution_count": null,
      "outputs": []
    },
    {
      "cell_type": "code",
      "metadata": {
        "id": "0UGq7hC-18Mv"
      },
      "source": [
        "# Extracting Minimum and Maximum salary from combined text\n",
        "\n",
        "min_=[]\n",
        "max_=[]\n",
        "\n",
        "for m in salary:\n",
        "    min_.append(m.split(' ')[0])\n",
        "    max_.append(m.split(' ')[2])"
      ],
      "execution_count": null,
      "outputs": []
    },
    {
      "cell_type": "code",
      "metadata": {
        "id": "UFquo8XS18Pf"
      },
      "source": [
        "# Removing special characters from the extracted salaries.\n",
        "\n",
        "max_salary=[]\n",
        "min_salary=[]\n",
        "\n",
        "for (i,j) in zip(max_,min_):\n",
        "    for char in \"₹K,\":\n",
        "        i=i.replace(char,\"\")\n",
        "        j=j.replace(char,\"\")\n",
        "    max_salary.append(i)\n",
        "    min_salary.append(j)"
      ],
      "execution_count": null,
      "outputs": []
    },
    {
      "cell_type": "code",
      "metadata": {
        "id": "_iXIEG4-2J8p"
      },
      "source": [
        "# Calculating Average Salaries.\n",
        "\n",
        "avg_salary=[]\n",
        "for (i,j) in zip(min_salary,max_salary):\n",
        "    avg=((float(i)+float(j))/2)\n",
        "    avg_salary.append(avg)"
      ],
      "execution_count": null,
      "outputs": []
    },
    {
      "cell_type": "code",
      "metadata": {
        "id": "HsHbWkeL2J_u"
      },
      "source": [
        "# Creating Dataframe.\n",
        "In [20]:\n",
        "Job_details=pd.DataFrame({})\n",
        "Job_details[\"Company Name\"]=company_name\n",
        "Job_details[\"Rating\"]=res\n",
        "Job_details[\"Maximum Salary\"]=max_salary\n",
        "Job_details[\"Minimum Salary\"]=min_salary\n",
        "Job_details[\"Average Salary\"]=avg_salary"
      ],
      "execution_count": null,
      "outputs": []
    },
    {
      "cell_type": "code",
      "metadata": {
        "id": "Cr6kMNTU2KEp"
      },
      "source": [
        "__Task 6__"
      ],
      "execution_count": null,
      "outputs": []
    },
    {
      "cell_type": "code",
      "metadata": {
        "id": "pVU3m46u2TgE"
      },
      "source": [
        "chromedriver_path=r\"C:\\Users\\91987\\Desktop\\New Web diver/chromedriver.exe\"\n",
        "webdrivers= webdriver.Chrome(executable_path=chromedriver_path)\n",
        "sleep(2)\n",
        "webdrivers.get(\"https://www.flipkart.com/\")"
      ],
      "execution_count": null,
      "outputs": []
    },
    {
      "cell_type": "code",
      "metadata": {
        "id": "3-celNcU2TlE"
      },
      "source": [
        "search_field=webdrivers.find_element_by_xpath(\"/html/body/div[1]/div/div[1]/div[1]/div[2]/div[2]/form/div/div/input\")\n",
        "search_field.send_keys(\"sunglasses\")\n",
        "\n",
        "search_btn=webdrivers.find_element_by_xpath(\"//button[@class='L0Z3Pu']\")\n",
        "search_btn.click()"
      ],
      "execution_count": null,
      "outputs": []
    },
    {
      "cell_type": "code",
      "metadata": {
        "id": "szB5ibDb2TpE"
      },
      "source": [
        "brand=webdrivers.find_elements_by_xpath(\"//div[@class='_2WkVRV']\")\n"
      ],
      "execution_count": null,
      "outputs": []
    },
    {
      "cell_type": "code",
      "metadata": {
        "id": "sipFIuVI2TrM"
      },
      "source": [
        "for i in range(len(brand)):\n",
        "    print(brand[i].text)\n",
        "description=webdrivers.find_elements_by_xpath(\"//a[@class='IRpwTa']\")"
      ],
      "execution_count": null,
      "outputs": []
    },
    {
      "cell_type": "code",
      "metadata": {
        "id": "q5iIgRy32TuK"
      },
      "source": [
        "for i in range(len(description)):\n",
        "    print(description[i].text)\n",
        "price=webdrivers.find_elements_by_xpath(\"//div[@class='_30jeq3']\")"
      ],
      "execution_count": null,
      "outputs": []
    },
    {
      "cell_type": "code",
      "metadata": {
        "id": "eOtoISwP2lwK"
      },
      "source": [
        "for i in range(len(price)):\n",
        "    print(price[i].text)"
      ],
      "execution_count": null,
      "outputs": []
    },
    {
      "cell_type": "code",
      "metadata": {
        "id": "wMEfDBcU2lzD"
      },
      "source": [
        "discount=webdrivers.find_elements_by_xpath(\"//div[@class='_3Ay6Sb']\")"
      ],
      "execution_count": null,
      "outputs": []
    },
    {
      "cell_type": "code",
      "metadata": {
        "id": "PDnI_1rm2l1h"
      },
      "source": [
        "for i in range(len(discount)):\n",
        "    print(discount[i].text)"
      ],
      "execution_count": null,
      "outputs": []
    },
    {
      "cell_type": "code",
      "metadata": {
        "id": "_k9MSdx32l4v"
      },
      "source": [
        "next_page=webdrivers.find_element_by_xpath(\"//a[@class='_1LKTO3']\")\n",
        "#n_p=next_page.get_attribute('href')\n",
        "for i in range(1,5):\n",
        "    N_p='https://www.flipkart.com/search?q=sunglassessunglasses&otracker=search&otracker1=search&marketplace=FLIPKART&as-show=on&as=off&page='+str(i)\n",
        "    sleep(2)\n",
        "    webdrivers.get(N_p)"
      ],
      "execution_count": null,
      "outputs": []
    },
    {
      "cell_type": "code",
      "metadata": {
        "id": "M1wW36EV2rdU"
      },
      "source": [
        "next_page=webdrivers.find_element_by_xpath(\"//a[@class='_1LKTO3']\")\n",
        "n_p=next_page.get_attribute('href')\n",
        "#webdrivers.get(n_p)\n",
        "n_p"
      ],
      "execution_count": null,
      "outputs": []
    },
    {
      "cell_type": "code",
      "metadata": {
        "id": "LRxW3eBW2rgb"
      },
      "source": [
        "N_p='https://www.flipkart.com/search?q=sunglassessunglasses&otracker=search&otracker1=search&marketplace=FLIPKART&as-show=on&as=off&page='+'5'\n"
      ],
      "execution_count": null,
      "outputs": []
    },
    {
      "cell_type": "code",
      "metadata": {
        "id": "yJOo4iH32rjx"
      },
      "source": [
        "webdrivers.get(N_p)"
      ],
      "execution_count": null,
      "outputs": []
    },
    {
      "cell_type": "code",
      "metadata": {
        "id": "tBFf5CNp2y7l"
      },
      "source": [
        "brand_name=[]\n",
        "\n",
        "for i in range(len(brand)):\n",
        "    brand_name.append(brand)\n",
        "    if len(brand_name)<100:\n",
        "        next_page.click()"
      ],
      "execution_count": null,
      "outputs": []
    },
    {
      "cell_type": "code",
      "metadata": {
        "id": "vOjNebH62y_N"
      },
      "source": [
        "len(brand_name)"
      ],
      "execution_count": null,
      "outputs": []
    },
    {
      "cell_type": "code",
      "metadata": {
        "id": "M2Qd80CV2zCV"
      },
      "source": [
        "def flipkart(url):\n",
        "    name=[]\n",
        "    chromedriver_path=r\"C:\\Users\\91987\\Desktop\\New Web diver/chromedriver.exe\"\n",
        "    webdrivers= webdriver.Chrome(executable_path=chromedriver_path)\n",
        "    sleep(2)\n",
        "    webdrivers.get(url)\n",
        "    sleep(2)\n",
        "    \n",
        "    search_field=webdrivers.find_element_by_xpath(\"/html/body/div[1]/div/div[1]/div[1]/div[2]/div[2]/form/div/div/input\")\n",
        "    search_field.send_keys(\"sunglasses\")\n",
        "    \n",
        "    search_btn=webdrivers.find_element_by_xpath(\"//button[@class='L0Z3Pu']\")\n",
        "    search_btn.click()\n",
        "    \n",
        "    #next_page=webdrivers.find_element_by_xpath(\"//a[@class='_1LKTO3']\")\n",
        "    #n_p=next_page.get_attribute('href')\n",
        "    brand=webdrivers.find_elements_by_xpath(\"//div[@class='_2WkVRV']\")\n",
        "    for j in range(len(brand)):\n",
        "        name.append(brand[j].text)\n",
        "        \n",
        "    next_p(\"https://www.flipkart.com/search?q=sunglassessunglasses&otracker=search&otracker1=search&marketplace=FLIPKART&as-show=on&as=off&page=\")"
      ],
      "execution_count": null,
      "outputs": []
    },
    {
      "cell_type": "code",
      "metadata": {
        "id": "Tpl4f_bs2zFq"
      },
      "source": [
        "def next_p(link):\n",
        "    for k in range(2,5):\n",
        "        N_p=link+str(i)\n",
        "        webdrivers.get(N_p)\n",
        "        if len(name)<100:\n",
        "            for m in range(len(brand)):\n",
        "                name.append(brand)"
      ],
      "execution_count": null,
      "outputs": []
    },
    {
      "cell_type": "code",
      "metadata": {
        "id": "NPVJlKLq2rmR"
      },
      "source": [
        "__Task 10__"
      ],
      "execution_count": null,
      "outputs": []
    },
    {
      "cell_type": "code",
      "metadata": {
        "id": "xtW1P8Bd29Eq"
      },
      "source": [
        "from selenium.common.exceptions import NoSuchElementException"
      ],
      "execution_count": null,
      "outputs": []
    },
    {
      "cell_type": "code",
      "metadata": {
        "id": "CVWgRFOZ29Hs"
      },
      "source": [
        "chromedriver_path = r\"C:\\Users\\91987\\Desktop\\New Web diver/chromedriver.exe\"\n",
        "webdrivers = webdriver.Chrome(executable_path=chromedriver_path)\n",
        "webdrivers = webdriver.Chrome(executable_path=chromedriver_path)\n",
        "sleep(2)\n",
        "webdrivers.get(\"https://www.amazon.in/\")"
      ],
      "execution_count": null,
      "outputs": []
    },
    {
      "cell_type": "code",
      "metadata": {
        "id": "_c1Q7t_629K1"
      },
      "source": [
        "search=webdrivers.find_element_by_id(\"twotabsearchtextbox\")\n",
        "search.clear()\n",
        "search.send_keys(\"Laptops\")\n",
        "search_click=webdrivers.find_element_by_xpath(\"//span[@id='nav-search-submit-text']\")\n",
        "search_click.click()"
      ],
      "execution_count": null,
      "outputs": []
    },
    {
      "cell_type": "code",
      "metadata": {
        "id": "G77tQbZQ3E5n"
      },
      "source": [
        "# Applying filter \n",
        "\n",
        "#i7\n",
        "\n",
        "filter_1=webdrivers.find_elements_by_xpath(\"//a[@class='a-link-normal s-navigation-item']/span\")\n",
        "for i in filter_1:\n",
        "    if i.text==\"Intel Core i7\":\n",
        "        print(i.text)\n",
        "        i.click()\n",
        "        break\n",
        "Intel Core i7"
      ],
      "execution_count": null,
      "outputs": []
    },
    {
      "cell_type": "code",
      "metadata": {
        "id": "o_gvn0fv3E8e"
      },
      "source": [
        "# Applying filter \n",
        "\n",
        "#i9\n",
        "\n",
        "filter_2=webdrivers.find_elements_by_xpath(\"//a[@class='a-link-normal s-navigation-item']/span\")\n",
        "for i in filter_2:\n",
        "    if i.text==\"Intel Core i9\":\n",
        "        print(i.text)\n",
        "        i.click()\n",
        "        break\n",
        "Intel Core i9"
      ],
      "execution_count": null,
      "outputs": []
    },
    {
      "cell_type": "code",
      "metadata": {
        "id": "BMdC3uyG3FBN"
      },
      "source": [
        ""
      ],
      "execution_count": null,
      "outputs": []
    },
    {
      "cell_type": "code",
      "metadata": {
        "id": "PIt2MqsK9Z4s"
      },
      "source": [
        "Title=[]\n",
        "title=webdrivers.find_elements_by_xpath(\"//span[@class='a-size-medium a-color-base a-text-normal']\")\n",
        "for i in title[:10]:\n",
        "    Title.append(i.text)\n",
        "In [9]:\n",
        "Price=[]\n",
        "\n",
        "prices=webdrivers.find_elements_by_xpath(\"//span[@class='a-price-whole']\")\n",
        "for i in prices[:10]:\n",
        "    Price.append(i.text)\n",
        "In [10]:\n",
        "ratings=[]\n",
        "\n",
        "pages=webdrivers.find_elements_by_xpath(\"//a[@class='a-link-normal a-text-normal']\")\n",
        "PG=[]\n",
        "for i in pages[:10]:\n",
        "    PG.append(i.get_attribute('href'))\n",
        "for j in PG:\n",
        "    webdrivers.get(j)\n",
        "    try:\n",
        "        star=webdrivers.find_element_by_xpath(\"//span[@id='acrCustomerReviewText']\")\n",
        "        star.click()\n",
        "        rating=webdrivers.find_element_by_xpath(\"//span[@class='a-size-medium a-color-base']\")\n",
        "        ratings.append(rating.text)\n",
        "    except NoSuchElementException as e:\n",
        "        ratings.append(\"No ratings found\")\n"
      ],
      "execution_count": null,
      "outputs": []
    },
    {
      "cell_type": "code",
      "metadata": {
        "id": "OLXXD9yt1C3y"
      },
      "source": [
        "records=pd.DataFrame({'Title':Title,\n",
        "                 'Price':Price,\n",
        "                 'Ratings':ratings})\n",
        "print(records)"
      ],
      "execution_count": null,
      "outputs": []
    },
    {
      "cell_type": "code",
      "metadata": {
        "id": "SxRydIY69Z47"
      },
      "source": [
        ""
      ],
      "execution_count": null,
      "outputs": []
    }
  ]
}