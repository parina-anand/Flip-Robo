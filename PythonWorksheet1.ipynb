{
 "cells": [
  {
   "cell_type": "markdown",
   "metadata": {},
   "source": [
    "## Python Worksheet -1 (Q11- Q15)"
   ]
  },
  {
   "cell_type": "markdown",
   "metadata": {},
   "source": [
    "#### Q-11 Program to find the Factorial of a given number"
   ]
  },
  {
   "cell_type": "code",
   "execution_count": 13,
   "metadata": {},
   "outputs": [
    {
     "name": "stdout",
     "output_type": "stream",
     "text": [
      "Enter a number: -2\n",
      "Factorial doesn't exist of negative number\n"
     ]
    }
   ],
   "source": [
    "# creating recursive function\n",
    "def factorial(n):\n",
    "    return 1 if (n==1 or n==0) else n * factorial(n - 1)\n",
    "\n",
    "num = int(input(\"Enter a number: \"))\n",
    "if num<0:\n",
    "    print(\"Factorial doesn't exist of a negative number\")\n",
    "else:\n",
    "    print(\"Factorial of\",num,\"is\",factorial(num))"
   ]
  },
  {
   "cell_type": "markdown",
   "metadata": {},
   "source": [
    "#### Q-12 Write a python program to find whether a number is prime or composite. "
   ]
  },
  {
   "cell_type": "code",
   "execution_count": 17,
   "metadata": {},
   "outputs": [
    {
     "name": "stdout",
     "output_type": "stream",
     "text": [
      "Enter a number : 0\n",
      "0 is a non-positive number, it's neither prime nor composite\n"
     ]
    }
   ],
   "source": [
    "num = int(input(\"Enter a number : \"))\n",
    "\n",
    "# prime numbers are always greater than 1\n",
    "if num > 1:\n",
    "    # checking factors\n",
    "    for i in range(2,num):\n",
    "        if (num % i) == 0:\n",
    "            print(num,\"is a composite number\")\n",
    "            break\n",
    "    else:\n",
    "        print(num,\"is a prime number\")\n",
    "       \n",
    "# if input number is less than or equal to 1, it is not prime\n",
    "elif(num == 1):\n",
    "    print(\"1 is neither prime nor composite\")\n",
    "else:\n",
    "    print(num,\"is a non-positive number, it's neither prime nor composite\")"
   ]
  },
  {
   "cell_type": "markdown",
   "metadata": {},
   "source": [
    "#### Q-13 Write a python program to check whether a given string is palindrome or not. "
   ]
  },
  {
   "cell_type": "code",
   "execution_count": 23,
   "metadata": {},
   "outputs": [
    {
     "name": "stdout",
     "output_type": "stream",
     "text": [
      "Enter a string to check if it's palindrome : abcba\n",
      "abcba is a Palindrome\n"
     ]
    }
   ],
   "source": [
    "# defining a method to check if the string is palindrome\n",
    "def isPalindrome(str):\n",
    " \n",
    "    # Run loop from 0 to len/2\n",
    "    for i in range(0, int(len(str)/2)):\n",
    "        if str[i] != str[len(str)-i-1]:\n",
    "            return False\n",
    "    return True\n",
    " \n",
    "# main function\n",
    "str = input(\"Enter a string to check if it's palindrome : \")\n",
    " \n",
    "if (isPalindrome(str)):\n",
    "    print(str,\"is a Palindrome\")\n",
    "else:\n",
    "    print(str,\"is not a Palindrome\")"
   ]
  },
  {
   "cell_type": "markdown",
   "metadata": {},
   "source": [
    "#### Q-14 Write a Python program to get the third side of right-angled triangle from two given sides. "
   ]
  },
  {
   "cell_type": "code",
   "execution_count": null,
   "metadata": {},
   "outputs": [],
   "source": [
    "import math as m\n",
    "# defining a function to calculate third side\n",
    "def calc(side1,side2, side1is, side2is):\n",
    "\n",
    "# H^2 = B^2 + P^2\n",
    "    if(side1is == 'B'):\n",
    "        if(side2is == 'P'):\n",
    "            side3 = m.sqrt(pow(side1,2) + pow(side2,2))\n",
    "        else:\n",
    "            side3 = m.sqrt(pow(side2,2) - pow(side1,2))\n",
    "    elif(side1is == 'P'):\n",
    "        if(side2is == 'B'):\n",
    "            side3 = m.sqrt(pow(side1,2) + pow(side2,2))\n",
    "        else:\n",
    "            side3 = m.sqrt(pow(side2,2) - pow(side1,2))\n",
    "    else:\n",
    "        side3 = m.sqrt(pow(side1,2) - pow(side2,2))\n",
    "    return side3\n",
    "        \n",
    "# checking the first side as H/B/P\n",
    "side1 = int(input(\"Enter first side : \"))\n",
    "side1is = (input(\"Is it hypotenuse(H), Base(B) or Perpendicular(P)? \")[0]).upper()\n",
    "\n",
    "# checking the second side as H/B/P\n",
    "side2 = int(input(\"Enter second side : \"))\n",
    "side2is = (input(\"Is it hypotenuse(H), Base(B) or Perpendicular(P)? \" )[0]).upper()\n",
    "\n",
    "side3 = calc(side1,side2,side1is,side2is)\n",
    "print(\"Third side is \",side3)"
   ]
  },
  {
   "cell_type": "markdown",
   "metadata": {},
   "source": [
    "#### Q-15 Write a python program to print the frequency of each of the characters present in a given string. \n",
    "\n"
   ]
  },
  {
   "cell_type": "code",
   "execution_count": 9,
   "metadata": {},
   "outputs": [
    {
     "name": "stdout",
     "output_type": "stream",
     "text": [
      "Enter the string : banbg\n",
      "Per char frequency in banbg is :\n",
      " {'b': 2, 'a': 1, 'n': 1, 'g': 1}\n"
     ]
    }
   ],
   "source": [
    "# Using a dictionary to store the frequencies of chars in string\n",
    "\n",
    "input_string = input(\"Enter the string : \")\n",
    "freq = {} \n",
    "  \n",
    "for char in input_string:\n",
    "    if char in freq:\n",
    "        freq[char] += 1\n",
    "    else:\n",
    "        freq[char] = 1\n",
    "\n",
    "# Output\n",
    "print (\"Per char frequency in\" , input_string , \"is :\\n {}\".format(str(freq)))"
   ]
  }
 ],
 "metadata": {
  "kernelspec": {
   "display_name": "Python 3",
   "language": "python",
   "name": "python3"
  },
  "language_info": {
   "codemirror_mode": {
    "name": "ipython",
    "version": 3
   },
   "file_extension": ".py",
   "mimetype": "text/x-python",
   "name": "python",
   "nbconvert_exporter": "python",
   "pygments_lexer": "ipython3",
   "version": "3.8.5"
  }
 },
 "nbformat": 4,
 "nbformat_minor": 4
}
